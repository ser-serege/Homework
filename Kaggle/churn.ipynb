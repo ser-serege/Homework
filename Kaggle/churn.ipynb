{
 "cells": [
  {
   "cell_type": "markdown",
   "metadata": {},
   "source": [
    "## Импорт всех библиотек"
   ]
  },
  {
   "cell_type": "code",
   "execution_count": 1,
   "metadata": {},
   "outputs": [
    {
     "name": "stderr",
     "output_type": "stream",
     "text": [
      "/opt/anaconda3/lib/python3.5/site-packages/sklearn/cross_validation.py:44: DeprecationWarning: This module was deprecated in version 0.18 in favor of the model_selection module into which all the refactored classes and functions are moved. Also note that the interface of the new CV iterators are different from that of this module. This module will be removed in 0.20.\n",
      "  \"This module will be removed in 0.20.\", DeprecationWarning)\n",
      "/opt/anaconda3/lib/python3.5/site-packages/sklearn/grid_search.py:43: DeprecationWarning: This module was deprecated in version 0.18 in favor of the model_selection module into which all the refactored classes and functions are moved. This module will be removed in 0.20.\n",
      "  DeprecationWarning)\n"
     ]
    }
   ],
   "source": [
    "import pandas as pd\n",
    "import sklearn\n",
    "import xgboost as xgb\n",
    "from sklearn.grid_search import GridSearchCV\n",
    "from sklearn import svm\n",
    "from sklearn.ensemble import RandomForestClassifier\n",
    "import gc\n",
    "from sklearn import linear_model\n",
    "%matplotlib inline\n",
    "import numpy as np\n",
    "import warnings \n",
    "from scipy import stats, integrate\n",
    "from sklearn.ensemble import RandomForestClassifier\n",
    "from sklearn.metrics import (accuracy_score, f1_score, roc_auc_score, auc, precision_recall_curve, roc_curve, \n",
    "    precision_score, recall_score)\n",
    "from xgboost import XGBClassifier\n",
    "import warnings\n",
    "from sklearn import preprocessing\n",
    "warnings.simplefilter(\"ignore\")\n",
    "from sklearn import metrics\n"
   ]
  },
  {
   "cell_type": "markdown",
   "metadata": {},
   "source": [
    "### Чтение Файла"
   ]
  },
  {
   "cell_type": "code",
   "execution_count": 2,
   "metadata": {
    "collapsed": true
   },
   "outputs": [],
   "source": [
    "data = pd.read_csv('churn_df.df')"
   ]
  },
  {
   "cell_type": "markdown",
   "metadata": {},
   "source": [
    "### Переиминовывание колонок"
   ]
  },
  {
   "cell_type": "code",
   "execution_count": 3,
   "metadata": {
    "collapsed": true
   },
   "outputs": [],
   "source": [
    "data = data.rename(columns = {\n",
    "    'success_mobile_login':'success_login',\n",
    "    'confirmed_mobile_eoperations':'confirmed_eoperations',\n",
    "    'rejected_mobile_eoperations':'rejected_eoperations',\n",
    "    'sum_mobile_epay_rur':'sum_epay_rur',\n",
    "    'count_mobile_epay_rur':'count_epay_rur',\n",
    "    'sum_mobile_epay_fee':'sum_epay_fee',\n",
    "    'count_mobile_epay_fee':'count_epay_fee'})\n"
   ]
  },
  {
   "cell_type": "markdown",
   "metadata": {},
   "source": [
    "### Чистка данных"
   ]
  },
  {
   "cell_type": "code",
   "execution_count": 4,
   "metadata": {},
   "outputs": [
    {
     "name": "stdout",
     "output_type": "stream",
     "text": [
      "CPU times: user 11min 8s, sys: 31 s, total: 11min 39s\n",
      "Wall time: 11min 29s\n"
     ]
    }
   ],
   "source": [
    "\n",
    "%%time\n",
    "data['week_start'] = pd.to_datetime(data['week_start'])\n",
    "data = data.loc[data['week_start'] > '2016-01-01']\n",
    "\n",
    "list_to_0 = ['count_debit','count_credit','sum_card_trans_rur','count_card_trans','num_cardtype','success_login','client_life_span',\n",
    "            'sum_epay_rur','count_epay_rur','sum_epay_fee','count_epay_fee','confirmed_eoperations','rejected_eoperations']\n",
    "\n",
    "for column in list_to_0:\n",
    "    data[column]=data[column].fillna(0)\n",
    "\n",
    "data['gender_uk']=data.groupby('client_pin')['gender_uk'].transform(lambda x: x.bfill().ffill())\n",
    "\n",
    "data['gender_uk'] = data['gender_uk'].fillna(data['gender_uk'].median())\n",
    "data['country_uk'] = data['country_uk'].fillna(data['country_uk'].median())\n",
    "\n",
    "def fill_age(x):\n",
    "    delta_day = 7/365.2425\n",
    "    age_add_range = pd.Series(range(len(x)), index=x.index)*delta_day\n",
    "    first_not_null_idx = x.first_valid_index() - x.index[0]\n",
    "    to_fill = age_add_range + (x[x.first_valid_index()] - first_not_null_idx*delta_day)\n",
    "    return x.fillna(to_fill)"
   ]
  },
  {
   "cell_type": "code",
   "execution_count": 5,
   "metadata": {},
   "outputs": [
    {
     "name": "stdout",
     "output_type": "stream",
     "text": [
      "CPU times: user 37min 10s, sys: 32.4 s, total: 37min 43s\n",
      "Wall time: 37min 40s\n"
     ]
    }
   ],
   "source": [
    "%%time\n",
    "#filling age\n",
    "q = data.groupby('client_pin')['age'].apply(lambda x: x.sum() != 0)\n",
    "pins_null = q[~q].index\n",
    "q1 = data[data.client_pin.isin(pins_null)]\n",
    "med = data.age.median()\n",
    "q2 = q1.groupby('client_pin')['age'].apply(lambda x: fill_age(x.fillna(med, limit=1)))\n",
    "\n",
    "data.loc[data.client_pin.isin(pins_null),'age'] = q2\n",
    "\n",
    "data['age'] = data.groupby('client_pin')['age'].apply(lambda x: fill_age(x) if x.notnull().sum() != 0 else x.fillna(0))"
   ]
  },
  {
   "cell_type": "markdown",
   "metadata": {
    "collapsed": true
   },
   "source": [
    "#### Сохранение предобработанной таблицы"
   ]
  },
  {
   "cell_type": "code",
   "execution_count": 6,
   "metadata": {},
   "outputs": [
    {
     "name": "stdout",
     "output_type": "stream",
     "text": [
      "CPU times: user 14.9 s, sys: 39.5 s, total: 54.4 s\n",
      "Wall time: 4min 9s\n"
     ]
    }
   ],
   "source": [
    "%%time\n",
    "data.to_hdf(path+'/all_clean_fin.h5', 'df', mode='w')"
   ]
  },
  {
   "cell_type": "code",
   "execution_count": null,
   "metadata": {
    "collapsed": true
   },
   "outputs": [],
   "source": [
    "#data= pd.read_hdf(path+'/all_clean_fin.h5', 'df')"
   ]
  },
  {
   "cell_type": "markdown",
   "metadata": {},
   "source": [
    "### Создание аггрегатов переменных"
   ]
  },
  {
   "cell_type": "code",
   "execution_count": 7,
   "metadata": {},
   "outputs": [
    {
     "name": "stdout",
     "output_type": "stream",
     "text": [
      "CPU times: user 3.47 s, sys: 4.83 s, total: 8.3 s\n",
      "Wall time: 8.23 s\n"
     ]
    }
   ],
   "source": [
    "%%time\n",
    "data = data.drop('rejected_eoperations',axis=1)\n",
    "list_rol = [\n",
    " 'sum_card_trans_rur',\n",
    " 'count_card_trans',\n",
    " 'success_login',\n",
    " 'sum_epay_rur',\n",
    " 'count_epay_rur',\n",
    " 'sum_epay_fee',\n",
    " 'count_epay_fee',\n",
    " 'confirmed_eoperations']"
   ]
  },
  {
   "cell_type": "code",
   "execution_count": null,
   "metadata": {},
   "outputs": [
    {
     "name": "stdout",
     "output_type": "stream",
     "text": [
      "CPU times: user 4h 12min 17s, sys: 15min 20s, total: 4h 27min 37s\n",
      "Wall time: 4h 30min 36s\n"
     ]
    }
   ],
   "source": [
    "%%time\n",
    "for column in list_rol:\n",
    "    data['rol_4_'+column]=pd.DataFrame(pd.rolling_sum(data.groupby('client_pin')[column], window=4, min_periods=4)).reset_index(drop=True)\n",
    "\n",
    "for column in list_rol:\n",
    "    data['rol_12_'+column]=pd.DataFrame(pd.rolling_sum(data.groupby('client_pin')[column], window=12, min_periods=12)).reset_index(drop=True)\n",
    "data=data.fillna(0)"
   ]
  },
  {
   "cell_type": "markdown",
   "metadata": {},
   "source": [
    "### Сохранение таблицы готовой к моделированию"
   ]
  },
  {
   "cell_type": "code",
   "execution_count": null,
   "metadata": {},
   "outputs": [],
   "source": [
    "%%time\n",
    "data.to_hdf(path+'/all_feat_fin.h5', 'df', mode='w')"
   ]
  },
  {
   "cell_type": "code",
   "execution_count": 81,
   "metadata": {
    "collapsed": true
   },
   "outputs": [],
   "source": [
    "import pandas as pd\n",
    "\n",
    "am_active = pd.read_csv('/home/alfadata/data/churn/active_clients/am_active_201702.csv',sep=';',header=None)\n",
    "am_active1 = pd.read_csv('/home/alfadata/data/churn/active_clients/am_active_201703.csv',sep=';',header=None)\n",
    "\n",
    "bank_active = pd.read_csv('/home/alfadata/data/churn/active_clients/active_client_201702.csv',sep=';')\n",
    "\n",
    "pins_notA_mobile = am_active[am_active[1]==0][0]\n",
    "pins_notA_mobile1 = am_active1[am_active1[1]==0][0]\n",
    "pins_notA_mobile = pd.concat([pins_notA_mobile1,pins_notA_mobile],axis=0)\n",
    "pins_notA_mobile=pins_notA_mobile.drop_duplicates()\n",
    "\n",
    "pins_notA_bank = bank_active[bank_active['act_new2015']==0]['pin_eq']\n",
    "\n",
    "all_Nactive_pins = pd.concat([pins_notA_bank,pins_notA_mobile])\n",
    "\n",
    "all_Nactive_pins = all_Nactive_pins.drop_duplicates()\n",
    "\n",
    "data = pd.read_hdf('/home/alfadata/data/churn/cleaned_df/all_feat_fin.h5', 'df')\n",
    "\n",
    "\n",
    "intersection = set(data['client_pin'].unique()).intersection(all_Nactive_pins)\n",
    "\n",
    "list(intersection)#все неактивные в data\n",
    "\n",
    "data=data[~data['client_pin'].isin(intersection)]\n",
    "\n",
    "\n",
    "#убираение строк где клиент еще не существовал\n",
    "# data = data[data['client_life_span']>=7]\n",
    "\n",
    "#убераем те пины которые входили только один раз за все время\n",
    "q = data.groupby('client_pin')['success_login'].sum()>1\n",
    "q=q[q]\n",
    "q = pd.DataFrame(q)\n",
    "data = data[data['client_pin'].isin(q.index)]"
   ]
  },
  {
   "cell_type": "markdown",
   "metadata": {},
   "source": [
    "### Разбиение данных на трейн и тест. Создание таргетовой переменной"
   ]
  },
  {
   "cell_type": "code",
   "execution_count": 82,
   "metadata": {
    "scrolled": true
   },
   "outputs": [
    {
     "name": "stdout",
     "output_type": "stream",
     "text": [
      "CPU times: user 26.4 s, sys: 10.2 s, total: 36.6 s\n",
      "Wall time: 36.6 s\n"
     ]
    }
   ],
   "source": [
    "%%time\n",
    "\n",
    "week_to_pred = list(range(data.week_start.nunique()))[-1]\n",
    "num_weeks_analyze = 12\n",
    "\n",
    "list_weeks = list(range(data.week_start.nunique()-3))\n",
    "list_weeks_analyze = list_weeks[-num_weeks_analyze:]\n",
    "df_analyze = data.groupby('client_pin').nth(list_weeks_analyze).reset_index()\n",
    "\n",
    "\n",
    "pin_analyze = df_analyze.groupby('client_pin')['target'].sum()\n",
    "pins_not_use = pin_analyze[pin_analyze == 0].index\n",
    "data = data[~data.client_pin.isin(list(pins_not_use))]\n",
    "\n",
    "\n",
    "\n",
    "pins_to_pred = data.groupby('client_pin')['age'].sum().index\n",
    "\n",
    "\n",
    "#энкодинг сегмента\n",
    "#cols_to_drop = ['crm_category','income_segment','productgroup']\n",
    "#data = data.drop(cols_to_drop, axis = 1)\n",
    "\n",
    "#Препроцессинг всех фичей\n",
    "#data.iloc[:,3:] = data.iloc[:,3:].apply(\n",
    " #                          lambda x: preprocessing.StandardScaler().fit_transform(x))\n"
   ]
  },
  {
   "cell_type": "code",
   "execution_count": 83,
   "metadata": {},
   "outputs": [],
   "source": [
    "\n",
    "#Разделение на трейн и тест на to_pred не происходит обучения. \n",
    "#Последняя неделя без учета еще 3х последних(они вообще не участвуют в обучении и предсказании)\n",
    "to_pred = data.groupby('client_pin').nth(week_to_pred).reset_index()\n",
    "\n",
    "data['target']=data.groupby('client_pin')['target'].shift(-3).rolling(window=4,min_periods=1).sum().clip_upper(1)#.reset_index()['target']\n",
    "#test_dec = data.groupby('client_pin').nth([50,51,52,53]).reset_index()\n",
    "\n",
    "# list_weeks = \n",
    "data = data.groupby('client_pin').nth(list_weeks).reset_index()\n",
    "data = data[data['client_life_span']>=7]\n"
   ]
  },
  {
   "cell_type": "code",
   "execution_count": 80,
   "metadata": {},
   "outputs": [
    {
     "data": {
      "text/plain": [
       "1.0    28393156\n",
       "0.0     7089717\n",
       "Name: target, dtype: int64"
      ]
     },
     "execution_count": 80,
     "metadata": {},
     "output_type": "execute_result"
    }
   ],
   "source": [
    "data['target'].value_counts()"
   ]
  },
  {
   "cell_type": "markdown",
   "metadata": {},
   "source": [
    "### Моделирование"
   ]
  },
  {
   "cell_type": "code",
   "execution_count": 84,
   "metadata": {},
   "outputs": [],
   "source": [
    "metrics_list = []\n",
    "list_weeks = list(range(data.week_start.nunique()))\n",
    "list_weeks_analyze_train = list_weeks[0:-1]\n",
    "list_weeks_analyze_test = list_weeks[-1]\n",
    "train = data.groupby('client_pin').nth(list_weeks_analyze_train).reset_index()\n",
    "test = data.groupby('client_pin').nth(list_weeks_analyze_test).reset_index()\n",
    "cols_to_drop = ['target', 'client_pin', 'week_start']"
   ]
  },
  {
   "cell_type": "code",
   "execution_count": 87,
   "metadata": {
    "scrolled": true
   },
   "outputs": [
    {
     "name": "stdout",
     "output_type": "stream",
     "text": [
      "[0]\ttrain-auc:0.900725\teval-auc:0.831629\n",
      "Multiple eval metrics have been passed: 'eval-auc' will be used for early stopping.\n",
      "\n",
      "Will train until eval-auc hasn't improved in 100 rounds.\n",
      "[10]\ttrain-auc:0.902711\teval-auc:0.835757\n",
      "[20]\ttrain-auc:0.904355\teval-auc:0.839431\n",
      "[30]\ttrain-auc:0.905324\teval-auc:0.839924\n",
      "[40]\ttrain-auc:0.905878\teval-auc:0.840027\n",
      "[50]\ttrain-auc:0.906285\teval-auc:0.840503\n",
      "[60]\ttrain-auc:0.906749\teval-auc:0.840974\n",
      "[70]\ttrain-auc:0.907169\teval-auc:0.840841\n",
      "[80]\ttrain-auc:0.907451\teval-auc:0.840824\n",
      "[90]\ttrain-auc:0.907703\teval-auc:0.840894\n",
      "[100]\ttrain-auc:0.907885\teval-auc:0.84061\n",
      "[110]\ttrain-auc:0.908018\teval-auc:0.840603\n",
      "[120]\ttrain-auc:0.908126\teval-auc:0.840465\n",
      "[130]\ttrain-auc:0.908244\teval-auc:0.840543\n",
      "[140]\ttrain-auc:0.908311\teval-auc:0.840519\n",
      "[150]\ttrain-auc:0.908373\teval-auc:0.84038\n",
      "[160]\ttrain-auc:0.908438\teval-auc:0.840488\n",
      "Stopping. Best iteration:\n",
      "[67]\ttrain-auc:0.907008\teval-auc:0.841208\n",
      "\n",
      "CPU times: user 8h 59min 23s, sys: 28min 43s, total: 9h 28min 7s\n",
      "Wall time: 30min 54s\n"
     ]
    }
   ],
   "source": [
    "%%time\n",
    "y_train_Fold = train['target']\n",
    "X_train_Fold = train.drop(cols_to_drop, axis=1)\n",
    "X_test_Fold = test.drop(cols_to_drop, axis=1)\n",
    "y_test_Fold = test['target']\n",
    "d_train =xgb.DMatrix(X_train_Fold, label=y_train_Fold)\n",
    "d_valid = xgb.DMatrix(X_test_Fold, label=y_test_Fold)\n",
    "params = {\n",
    "    'seed': 0,\n",
    "    'colsample_bytree': 0.8,\n",
    "    'silent': 1,\n",
    "    'subsample': 0.8,\n",
    "    'learning_rate': 0.1,\n",
    "    'objective': 'binary:logistic',\n",
    "    'max_depth': 4,\n",
    "    'nthread':35,\n",
    "    'booster': 'gbtree',\n",
    "    'eval_metric':'auc'}\n",
    "\n",
    "watchlist = [(d_train, 'train'), (d_valid, 'eval')]\n",
    "# if i == 5:\n",
    "#     verbose_eval = True\n",
    "# else:\n",
    "#     verbose_eval = False\n",
    "clf = xgb.train(params,\n",
    "                d_train,\n",
    "                100000,\n",
    "                watchlist,\n",
    "                early_stopping_rounds=100,verbose_eval=10\n",
    "                )\n",
    "\n",
    "pred = clf.predict(d_valid, ntree_limit=clf.best_ntree_limit)\n",
    "#pred_prob = clf.predict_proba(X_test_Fold)[:, 0]\n",
    "pred1 = np.round(pred)\n",
    "auc = metrics.roc_auc_score(y_test_Fold,pred)\n",
    "recall = metrics.recall_score(pred1,y_test_Fold)\n",
    "precision = metrics.precision_score(pred1,y_test_Fold)\n",
    "# metrics_list.append(i)\n",
    "#     metrics_list.append('recall on fold ' + str(i) + ': ', recall)\n",
    "#     metrics_list.append('precision on fold ' + str(i) + ': ', precision)\n",
    "#     metrics_list.append ('AUC on fold ' + str(i) + ': ', auc)\n",
    "# metrics_list.append(recall)\n",
    "# metrics_list.append(precision)\n",
    "# metrics_list.append (auc)"
   ]
  },
  {
   "cell_type": "code",
   "execution_count": 99,
   "metadata": {},
   "outputs": [
    {
     "data": {
      "text/plain": [
       "0.84120844643129533"
      ]
     },
     "execution_count": 99,
     "metadata": {},
     "output_type": "execute_result"
    }
   ],
   "source": [
    "auc"
   ]
  },
  {
   "cell_type": "code",
   "execution_count": 100,
   "metadata": {},
   "outputs": [
    {
     "data": {
      "text/plain": [
       "0.88733216459122455"
      ]
     },
     "execution_count": 100,
     "metadata": {},
     "output_type": "execute_result"
    }
   ],
   "source": [
    "recall"
   ]
  },
  {
   "cell_type": "code",
   "execution_count": 101,
   "metadata": {},
   "outputs": [
    {
     "data": {
      "text/plain": [
       "0.99391554976449514"
      ]
     },
     "execution_count": 101,
     "metadata": {},
     "output_type": "execute_result"
    }
   ],
   "source": [
    "precision"
   ]
  },
  {
   "cell_type": "markdown",
   "metadata": {},
   "source": [
    "### Предсказание модели"
   ]
  },
  {
   "cell_type": "code",
   "execution_count": 90,
   "metadata": {},
   "outputs": [],
   "source": [
    "to_pred = to_pred.drop(cols_to_drop, axis=1)\n",
    "to_pred = xgb.DMatrix(to_pred)\n",
    "\n",
    "pred_prob = clf.predict(to_pred)\n",
    "\n",
    "pred_prob = pd.DataFrame(pred_prob)\n",
    "\n",
    "pins_to_pred = pd.DataFrame(pins_to_pred)\n",
    "frames = [pins_to_pred,pred_prob]\n",
    "\n",
    "df = pd.concat(frames,axis=1)\n",
    "df = df.rename(columns= {0:'proba'})\n",
    "df['proba']=df['proba'].apply(lambda x: abs(x-1))\n",
    "df = df.sort('proba',ascending=False)"
   ]
  },
  {
   "cell_type": "code",
   "execution_count": 98,
   "metadata": {},
   "outputs": [
    {
     "data": {
      "text/html": [
       "<div>\n",
       "<table border=\"1\" class=\"dataframe\">\n",
       "  <thead>\n",
       "    <tr style=\"text-align: right;\">\n",
       "      <th></th>\n",
       "      <th>client_pin</th>\n",
       "      <th>proba</th>\n",
       "    </tr>\n",
       "  </thead>\n",
       "  <tbody>\n",
       "    <tr>\n",
       "      <th>68289</th>\n",
       "      <td>ABFYPG</td>\n",
       "      <td>0.916823</td>\n",
       "    </tr>\n",
       "    <tr>\n",
       "      <th>65976</th>\n",
       "      <td>ABE97K</td>\n",
       "      <td>0.914768</td>\n",
       "    </tr>\n",
       "    <tr>\n",
       "      <th>81775</th>\n",
       "      <td>ABREB3</td>\n",
       "      <td>0.914624</td>\n",
       "    </tr>\n",
       "    <tr>\n",
       "      <th>70964</th>\n",
       "      <td>ABI120</td>\n",
       "      <td>0.913454</td>\n",
       "    </tr>\n",
       "    <tr>\n",
       "      <th>83783</th>\n",
       "      <td>ABTGCJ</td>\n",
       "      <td>0.909915</td>\n",
       "    </tr>\n",
       "    <tr>\n",
       "      <th>87554</th>\n",
       "      <td>ABWIHW</td>\n",
       "      <td>0.906604</td>\n",
       "    </tr>\n",
       "    <tr>\n",
       "      <th>85194</th>\n",
       "      <td>ABUND1</td>\n",
       "      <td>0.906251</td>\n",
       "    </tr>\n",
       "    <tr>\n",
       "      <th>73658</th>\n",
       "      <td>ABK6F5</td>\n",
       "      <td>0.905632</td>\n",
       "    </tr>\n",
       "    <tr>\n",
       "      <th>78839</th>\n",
       "      <td>ABOQF2</td>\n",
       "      <td>0.903318</td>\n",
       "    </tr>\n",
       "    <tr>\n",
       "      <th>65626</th>\n",
       "      <td>ABE1IU</td>\n",
       "      <td>0.902597</td>\n",
       "    </tr>\n",
       "    <tr>\n",
       "      <th>64490</th>\n",
       "      <td>ABD55L</td>\n",
       "      <td>0.901127</td>\n",
       "    </tr>\n",
       "    <tr>\n",
       "      <th>78001</th>\n",
       "      <td>ABNYPG</td>\n",
       "      <td>0.897319</td>\n",
       "    </tr>\n",
       "    <tr>\n",
       "      <th>75225</th>\n",
       "      <td>ABLGFR</td>\n",
       "      <td>0.897084</td>\n",
       "    </tr>\n",
       "    <tr>\n",
       "      <th>75331</th>\n",
       "      <td>ABLK71</td>\n",
       "      <td>0.895883</td>\n",
       "    </tr>\n",
       "    <tr>\n",
       "      <th>81130</th>\n",
       "      <td>ABQOMY</td>\n",
       "      <td>0.895846</td>\n",
       "    </tr>\n",
       "    <tr>\n",
       "      <th>82202</th>\n",
       "      <td>ABS1LZ</td>\n",
       "      <td>0.895120</td>\n",
       "    </tr>\n",
       "    <tr>\n",
       "      <th>417070</th>\n",
       "      <td>AKV48V</td>\n",
       "      <td>0.894760</td>\n",
       "    </tr>\n",
       "    <tr>\n",
       "      <th>256696</th>\n",
       "      <td>AH1Z85</td>\n",
       "      <td>0.894409</td>\n",
       "    </tr>\n",
       "    <tr>\n",
       "      <th>310530</th>\n",
       "      <td>AIGHWA</td>\n",
       "      <td>0.894409</td>\n",
       "    </tr>\n",
       "    <tr>\n",
       "      <th>46467</th>\n",
       "      <td>AAWBYK</td>\n",
       "      <td>0.894240</td>\n",
       "    </tr>\n",
       "    <tr>\n",
       "      <th>60542</th>\n",
       "      <td>ABA09W</td>\n",
       "      <td>0.894217</td>\n",
       "    </tr>\n",
       "    <tr>\n",
       "      <th>69909</th>\n",
       "      <td>ABH9KS</td>\n",
       "      <td>0.894217</td>\n",
       "    </tr>\n",
       "    <tr>\n",
       "      <th>387073</th>\n",
       "      <td>AK8OJH</td>\n",
       "      <td>0.893944</td>\n",
       "    </tr>\n",
       "    <tr>\n",
       "      <th>410824</th>\n",
       "      <td>AKR12U</td>\n",
       "      <td>0.893727</td>\n",
       "    </tr>\n",
       "    <tr>\n",
       "      <th>81204</th>\n",
       "      <td>ABQRZ5</td>\n",
       "      <td>0.893673</td>\n",
       "    </tr>\n",
       "    <tr>\n",
       "      <th>77295</th>\n",
       "      <td>ABNEB5</td>\n",
       "      <td>0.893257</td>\n",
       "    </tr>\n",
       "    <tr>\n",
       "      <th>355000</th>\n",
       "      <td>AJM77V</td>\n",
       "      <td>0.893214</td>\n",
       "    </tr>\n",
       "    <tr>\n",
       "      <th>47686</th>\n",
       "      <td>AAXJZF</td>\n",
       "      <td>0.893144</td>\n",
       "    </tr>\n",
       "    <tr>\n",
       "      <th>393067</th>\n",
       "      <td>AKCNU2</td>\n",
       "      <td>0.893067</td>\n",
       "    </tr>\n",
       "    <tr>\n",
       "      <th>245879</th>\n",
       "      <td>AGQU5R</td>\n",
       "      <td>0.892207</td>\n",
       "    </tr>\n",
       "    <tr>\n",
       "      <th>...</th>\n",
       "      <td>...</td>\n",
       "      <td>...</td>\n",
       "    </tr>\n",
       "    <tr>\n",
       "      <th>10507</th>\n",
       "      <td>AA5RDV</td>\n",
       "      <td>0.000161</td>\n",
       "    </tr>\n",
       "    <tr>\n",
       "      <th>685251</th>\n",
       "      <td>F76343</td>\n",
       "      <td>0.000160</td>\n",
       "    </tr>\n",
       "    <tr>\n",
       "      <th>11367</th>\n",
       "      <td>AA69DX</td>\n",
       "      <td>0.000160</td>\n",
       "    </tr>\n",
       "    <tr>\n",
       "      <th>19431</th>\n",
       "      <td>AAB906</td>\n",
       "      <td>0.000159</td>\n",
       "    </tr>\n",
       "    <tr>\n",
       "      <th>8987</th>\n",
       "      <td>AA4X75</td>\n",
       "      <td>0.000159</td>\n",
       "    </tr>\n",
       "    <tr>\n",
       "      <th>13986</th>\n",
       "      <td>AA7UEC</td>\n",
       "      <td>0.000158</td>\n",
       "    </tr>\n",
       "    <tr>\n",
       "      <th>16944</th>\n",
       "      <td>AA9IAR</td>\n",
       "      <td>0.000157</td>\n",
       "    </tr>\n",
       "    <tr>\n",
       "      <th>29518</th>\n",
       "      <td>AAIPGR</td>\n",
       "      <td>0.000157</td>\n",
       "    </tr>\n",
       "    <tr>\n",
       "      <th>983</th>\n",
       "      <td>A83695</td>\n",
       "      <td>0.000156</td>\n",
       "    </tr>\n",
       "    <tr>\n",
       "      <th>3138</th>\n",
       "      <td>AA0SKS</td>\n",
       "      <td>0.000155</td>\n",
       "    </tr>\n",
       "    <tr>\n",
       "      <th>10664</th>\n",
       "      <td>AA5UQV</td>\n",
       "      <td>0.000153</td>\n",
       "    </tr>\n",
       "    <tr>\n",
       "      <th>1211</th>\n",
       "      <td>A87740</td>\n",
       "      <td>0.000151</td>\n",
       "    </tr>\n",
       "    <tr>\n",
       "      <th>20135</th>\n",
       "      <td>AABTDS</td>\n",
       "      <td>0.000148</td>\n",
       "    </tr>\n",
       "    <tr>\n",
       "      <th>14733</th>\n",
       "      <td>AA89DB</td>\n",
       "      <td>0.000145</td>\n",
       "    </tr>\n",
       "    <tr>\n",
       "      <th>1566</th>\n",
       "      <td>A92904</td>\n",
       "      <td>0.000144</td>\n",
       "    </tr>\n",
       "    <tr>\n",
       "      <th>11942</th>\n",
       "      <td>AA6LQK</td>\n",
       "      <td>0.000143</td>\n",
       "    </tr>\n",
       "    <tr>\n",
       "      <th>20103</th>\n",
       "      <td>AABSNX</td>\n",
       "      <td>0.000143</td>\n",
       "    </tr>\n",
       "    <tr>\n",
       "      <th>25779</th>\n",
       "      <td>AAG7FJ</td>\n",
       "      <td>0.000142</td>\n",
       "    </tr>\n",
       "    <tr>\n",
       "      <th>10732</th>\n",
       "      <td>AA5W37</td>\n",
       "      <td>0.000142</td>\n",
       "    </tr>\n",
       "    <tr>\n",
       "      <th>12163</th>\n",
       "      <td>AA6Q8D</td>\n",
       "      <td>0.000140</td>\n",
       "    </tr>\n",
       "    <tr>\n",
       "      <th>29913</th>\n",
       "      <td>AAJ12V</td>\n",
       "      <td>0.000140</td>\n",
       "    </tr>\n",
       "    <tr>\n",
       "      <th>26620</th>\n",
       "      <td>AAGRCH</td>\n",
       "      <td>0.000139</td>\n",
       "    </tr>\n",
       "    <tr>\n",
       "      <th>29902</th>\n",
       "      <td>AAJ0VV</td>\n",
       "      <td>0.000138</td>\n",
       "    </tr>\n",
       "    <tr>\n",
       "      <th>9273</th>\n",
       "      <td>AA51U1</td>\n",
       "      <td>0.000137</td>\n",
       "    </tr>\n",
       "    <tr>\n",
       "      <th>3975</th>\n",
       "      <td>AA1E91</td>\n",
       "      <td>0.000135</td>\n",
       "    </tr>\n",
       "    <tr>\n",
       "      <th>1914</th>\n",
       "      <td>A97022</td>\n",
       "      <td>0.000135</td>\n",
       "    </tr>\n",
       "    <tr>\n",
       "      <th>29423</th>\n",
       "      <td>AAIMBS</td>\n",
       "      <td>0.000131</td>\n",
       "    </tr>\n",
       "    <tr>\n",
       "      <th>19579</th>\n",
       "      <td>AABCKY</td>\n",
       "      <td>0.000130</td>\n",
       "    </tr>\n",
       "    <tr>\n",
       "      <th>24290</th>\n",
       "      <td>AAF41D</td>\n",
       "      <td>0.000128</td>\n",
       "    </tr>\n",
       "    <tr>\n",
       "      <th>1443</th>\n",
       "      <td>A91532</td>\n",
       "      <td>0.000116</td>\n",
       "    </tr>\n",
       "  </tbody>\n",
       "</table>\n",
       "<p>713342 rows × 2 columns</p>\n",
       "</div>"
      ],
      "text/plain": [
       "       client_pin     proba\n",
       "68289      ABFYPG  0.916823\n",
       "65976      ABE97K  0.914768\n",
       "81775      ABREB3  0.914624\n",
       "70964      ABI120  0.913454\n",
       "83783      ABTGCJ  0.909915\n",
       "87554      ABWIHW  0.906604\n",
       "85194      ABUND1  0.906251\n",
       "73658      ABK6F5  0.905632\n",
       "78839      ABOQF2  0.903318\n",
       "65626      ABE1IU  0.902597\n",
       "64490      ABD55L  0.901127\n",
       "78001      ABNYPG  0.897319\n",
       "75225      ABLGFR  0.897084\n",
       "75331      ABLK71  0.895883\n",
       "81130      ABQOMY  0.895846\n",
       "82202      ABS1LZ  0.895120\n",
       "417070     AKV48V  0.894760\n",
       "256696     AH1Z85  0.894409\n",
       "310530     AIGHWA  0.894409\n",
       "46467      AAWBYK  0.894240\n",
       "60542      ABA09W  0.894217\n",
       "69909      ABH9KS  0.894217\n",
       "387073     AK8OJH  0.893944\n",
       "410824     AKR12U  0.893727\n",
       "81204      ABQRZ5  0.893673\n",
       "77295      ABNEB5  0.893257\n",
       "355000     AJM77V  0.893214\n",
       "47686      AAXJZF  0.893144\n",
       "393067     AKCNU2  0.893067\n",
       "245879     AGQU5R  0.892207\n",
       "...           ...       ...\n",
       "10507      AA5RDV  0.000161\n",
       "685251     F76343  0.000160\n",
       "11367      AA69DX  0.000160\n",
       "19431      AAB906  0.000159\n",
       "8987       AA4X75  0.000159\n",
       "13986      AA7UEC  0.000158\n",
       "16944      AA9IAR  0.000157\n",
       "29518      AAIPGR  0.000157\n",
       "983        A83695  0.000156\n",
       "3138       AA0SKS  0.000155\n",
       "10664      AA5UQV  0.000153\n",
       "1211       A87740  0.000151\n",
       "20135      AABTDS  0.000148\n",
       "14733      AA89DB  0.000145\n",
       "1566       A92904  0.000144\n",
       "11942      AA6LQK  0.000143\n",
       "20103      AABSNX  0.000143\n",
       "25779      AAG7FJ  0.000142\n",
       "10732      AA5W37  0.000142\n",
       "12163      AA6Q8D  0.000140\n",
       "29913      AAJ12V  0.000140\n",
       "26620      AAGRCH  0.000139\n",
       "29902      AAJ0VV  0.000138\n",
       "9273       AA51U1  0.000137\n",
       "3975       AA1E91  0.000135\n",
       "1914       A97022  0.000135\n",
       "29423      AAIMBS  0.000131\n",
       "19579      AABCKY  0.000130\n",
       "24290      AAF41D  0.000128\n",
       "1443       A91532  0.000116\n",
       "\n",
       "[713342 rows x 2 columns]"
      ]
     },
     "execution_count": 98,
     "metadata": {},
     "output_type": "execute_result"
    }
   ],
   "source": [
    "df"
   ]
  },
  {
   "cell_type": "markdown",
   "metadata": {},
   "source": [
    "### Сохранение итоговых данных"
   ]
  },
  {
   "cell_type": "code",
   "execution_count": 93,
   "metadata": {
    "collapsed": true
   },
   "outputs": [],
   "source": [
    "df.to_csv(path+'/predictions_all.csv',index=False)"
   ]
  }
 ],
 "metadata": {
  "anaconda-cloud": {},
  "kernelspec": {
   "display_name": "Python 3",
   "language": "python",
   "name": "python3"
  },
  "language_info": {
   "codemirror_mode": {
    "name": "ipython",
    "version": 3
   },
   "file_extension": ".py",
   "mimetype": "text/x-python",
   "name": "python",
   "nbconvert_exporter": "python",
   "pygments_lexer": "ipython3",
   "version": "3.6.4"
  }
 },
 "nbformat": 4,
 "nbformat_minor": 2
}

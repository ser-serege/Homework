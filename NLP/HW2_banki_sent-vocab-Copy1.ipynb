{
 "cells": [
  {
   "cell_type": "code",
   "execution_count": 3,
   "metadata": {},
   "outputs": [],
   "source": [
    "import json\n",
    "\n",
    "import bz2\n",
    "import regex\n",
    "from tqdm import tqdm\n",
    "from scipy import sparse"
   ]
  },
  {
   "cell_type": "code",
   "execution_count": 4,
   "metadata": {},
   "outputs": [
    {
     "name": "stdout",
     "output_type": "stream",
     "text": [
      "Populating the interactive namespace from numpy and matplotlib\n"
     ]
    }
   ],
   "source": [
    "import pandas as pd\n",
    "import numpy as np\n",
    "import nltk\n",
    "import matplotlib.pyplot as plt\n",
    "import seaborn as sns\n",
    "%matplotlib inline\n",
    "%pylab inline"
   ]
  },
  {
   "cell_type": "markdown",
   "metadata": {
    "collapsed": true
   },
   "source": [
    "responses = []\n",
    "with bz2.BZ2File('banki_responses.json.bz2', 'r') as thefile:\n",
    "    for row in tqdm(thefile):\n",
    "        resp = json.loads(row)\n",
    "        if not resp['rating_not_checked'] and (len(resp['text'].split()) > 0):\n",
    "            responses.append(resp)"
   ]
  },
  {
   "cell_type": "code",
   "execution_count": 69,
   "metadata": {},
   "outputs": [],
   "source": [
    "# считываем лемматизированный датафрэйм"
   ]
  },
  {
   "cell_type": "code",
   "execution_count": 5,
   "metadata": {},
   "outputs": [],
   "source": [
    "df = pd.read_csv('df3.csv')"
   ]
  },
  {
   "cell_type": "code",
   "execution_count": 6,
   "metadata": {},
   "outputs": [
    {
     "data": {
      "text/plain": [
       "'добрый дня! являться держатель зарплатный карта , выдать сбербанк россии. в 2008 год сменить фамилию, предоставить в банк документ (копия новое паспорта, свидетельство о браке), я перевыпустить карта на фамилия муж токарев мария александр (девичий - секлетина). возникнуть необходимость подключить услуга сбербанк онлайн, не получиться (на главный страница на отображаться мой карты). связаться с технический специалист отделение сбербанк в который обслуживалась. он пояснил, что в база банка, я весь ещё под девичий фамилия секлетина. предложить выслать скан необходимый документов. выслала, оставить контакты, звонок так и не дождалась. ч/з некоторый время звонить сама, объяснять ситуацию, я пробивать по база - опять числиться секлетина (хотеть карта уже перевыпустить ещё раз на фамилия токарев в связь с истечение срок обслуживания). высылать документ (копия паспорт и свидетельство о браке). результат - 0 (ноль). просить помочь разобраться в этот ситуации. с уважение токарев мария александр'"
      ]
     },
     "execution_count": 6,
     "metadata": {},
     "output_type": "execute_result"
    }
   ],
   "source": [
    "df.text[1]"
   ]
  },
  {
   "cell_type": "code",
   "execution_count": 71,
   "metadata": {},
   "outputs": [],
   "source": [
    "# раскладываем на слова"
   ]
  },
  {
   "cell_type": "code",
   "execution_count": 7,
   "metadata": {},
   "outputs": [],
   "source": [
    "texts = [df.text.iloc[i].split() for i in range(len(df))]"
   ]
  },
  {
   "cell_type": "code",
   "execution_count": 70,
   "metadata": {},
   "outputs": [
    {
     "data": {
      "text/plain": [
       "['добрый',\n",
       " 'дня!',\n",
       " 'являться',\n",
       " 'держатель',\n",
       " 'зарплатный',\n",
       " 'карта',\n",
       " ',',\n",
       " 'выдать',\n",
       " 'сбербанк',\n",
       " 'россии.',\n",
       " 'в',\n",
       " '2008',\n",
       " 'год',\n",
       " 'сменить',\n",
       " 'фамилию,',\n",
       " 'предоставить',\n",
       " 'в',\n",
       " 'банк',\n",
       " 'документ',\n",
       " '(копия',\n",
       " 'новое',\n",
       " 'паспорта,',\n",
       " 'свидетельство',\n",
       " 'о',\n",
       " 'браке),',\n",
       " 'я',\n",
       " 'перевыпустить',\n",
       " 'карта',\n",
       " 'на',\n",
       " 'фамилия',\n",
       " 'муж',\n",
       " 'токарев',\n",
       " 'мария',\n",
       " 'александр',\n",
       " '(девичий',\n",
       " '-',\n",
       " 'секлетина).',\n",
       " 'возникнуть',\n",
       " 'необходимость',\n",
       " 'подключить',\n",
       " 'услуга',\n",
       " 'сбербанк',\n",
       " 'онлайн,',\n",
       " 'не',\n",
       " 'получиться',\n",
       " '(на',\n",
       " 'главный',\n",
       " 'страница',\n",
       " 'на',\n",
       " 'отображаться',\n",
       " 'мой',\n",
       " 'карты).',\n",
       " 'связаться',\n",
       
       " 'мария',\n",
       " 'александр']"
      ]
     },
     "execution_count": 70,
     "metadata": {},
     "output_type": "execute_result"
    }
   ],
   "source": [
    "texts[1]"
   ]
  },
  {
   "cell_type": "code",
   "execution_count": 72,
   "metadata": {},
   "outputs": [],
   "source": [
    "# строим модель word2vec"
   ]
  },
  {
   "cell_type": "code",
   "execution_count": 8,
   "metadata": {},
   "outputs": [
    {
     "name": "stdout",
     "output_type": "stream",
     "text": [
      "CPU times: user 8min 48s, sys: 6.48 s, total: 8min 55s\n",
      "Wall time: 3min 3s\n"
     ]
    }
   ],
   "source": [
    "%%time\n",
    "from gensim.models import Word2Vec\n",
    "model = Word2Vec(texts, size=100, window=5, min_count=5, workers=4)\n",
    "model.save(\"sent_w2v.model\")"
   ]
  },
  {
   "cell_type": "code",
   "execution_count": 73,
   "metadata": {},
   "outputs": [],
   "source": [
    "# проверяем как работает"
   ]
  },
  {
   "cell_type": "code",
   "execution_count": 9,
   "metadata": {},
   "outputs": [
    {
     "name": "stderr",
     "output_type": "stream",
     "text": [
      "/anaconda3/lib/python3.6/site-packages/ipykernel_launcher.py:1: DeprecationWarning: Call to deprecated `most_similar` (Method will be removed in 4.0.0, use self.wv.most_similar() instead).\n",
      "  \"\"\"Entry point for launching an IPython kernel.\n"
     ]
    },
    {
     "data": {
      "text/plain": [
       "[('ужасный', 0.7262051105499268),\n",
       " ('хороший', 0.7065809965133667),\n",
       " ('отвратительный', 0.6994283199310303),\n",
       " ('испортиться', 0.6391125917434692),\n",
       " ('негативный', 0.6343697309494019),\n",
       " ('плохое,', 0.6139699220657349),\n",
       " ('идеальный', 0.6015410423278809),\n",
       " ('кошмарный', 0.6007797718048096),\n",
       " ('портиться', 0.5953694581985474),\n",
       " ('медленный', 0.5899024605751038)]"
      ]
     },
     "execution_count": 9,
     "metadata": {},
     "output_type": "execute_result"
    }
   ],
   "source": [
    "model.most_similar(\"плохой\")"
   ]
  },
  {
   "cell_type": "code",
   "execution_count": 10,
   "metadata": {},
   "outputs": [
    {
     "name": "stderr",
     "output_type": "stream",
     "text": [
      "/anaconda3/lib/python3.6/site-packages/ipykernel_launcher.py:1: DeprecationWarning: Call to deprecated `most_similar` (Method will be removed in 4.0.0, use self.wv.most_similar() instead).\n",
      "  \"\"\"Entry point for launching an IPython kernel.\n"
     ]
    },
    {
     "data": {
      "text/plain": [
       "[('совок,', 0.7808626890182495),\n",
       " ('совковый', 0.7098261713981628),\n",
       " ('колхоз', 0.6887838840484619),\n",
       " ('классно', 0.6752192378044128),\n",
       " ('кругом', 0.6737895011901855),\n",
       " ('муха', 0.670728862285614),\n",
       " ('погода', 0.6676647067070007),\n",
       " ('совок.', 0.6671453714370728),\n",
       " ('враг', 0.6658894419670105),\n",
       " ('маразм', 0.6629449129104614)]"
      ]
     },
     "execution_count": 10,
     "metadata": {},
     "output_type": "execute_result"
    }
   ],
   "source": [
    "model.most_similar(\"совка\")"
   ]
  },
  {
   "cell_type": "code",
   "execution_count": 11,
   "metadata": {},
   "outputs": [
    {
     "name": "stderr",
     "output_type": "stream",
     "text": [
      "/anaconda3/lib/python3.6/site-packages/ipykernel_launcher.py:1: DeprecationWarning: Call to deprecated `most_similar` (Method will be removed in 4.0.0, use self.wv.most_similar() instead).\n",
      "  \"\"\"Entry point for launching an IPython kernel.\n"
     ]
    },
    {
     "data": {
      "text/plain": [
       "[('быстро,', 0.8831470608711243),\n",
       " ('быстро.', 0.8314512372016907),\n",
       " ('оперативно,', 0.8243264555931091),\n",
       " ('оперативно', 0.8050283789634705),\n",
       " ('оперативно.', 0.7735873460769653),\n",
       " ('быстро:', 0.770875096321106),\n",
       " ('грамотно,', 0.7397366166114807),\n",
       " ('доброжелательно', 0.7274019718170166),\n",
       " ('профессионально', 0.7190403342247009),\n",
       " ('быстро!', 0.7182038426399231)]"
      ]
     },
     "execution_count": 11,
     "metadata": {},
     "output_type": "execute_result"
    }
   ],
   "source": [
    "model.most_similar(\"быстро\")"
   ]
  },
  {
   "cell_type": "code",
   "execution_count": 74,
   "metadata": {},
   "outputs": [],
   "source": [
    "# перед построением облака слов, убираем все ненужное"
   ]
  },
  {
   "cell_type": "code",
   "execution_count": 12,
   "metadata": {},
   "outputs": [
    {
     "name": "stdout",
     "output_type": "stream",
     "text": [
      "['и', 'в', 'во', 'не', 'что', 'он', 'на', 'я', 'с', 'со', 'как', 'а', 'то', 'все', 'она', 'так', 'его', 'но', 'да', 'ты', 'к', 'у', 'же', 'вы', 'за', 'бы', 'по', 'только', 'ее', 'мне', 'было', 'вот', 'от', 'меня', 'еще', 'нет', 'о', 'из', 'ему', 'теперь', 'когда', 'даже', 'ну', 'вдруг', 'ли', 'если', 'уже', 'или', 'ни', 'быть', 'был', 'него', 'до', 'вас', 'нибудь', 'опять', 'уж', 'вам', 'ведь', 'там', 'потом', 'себя', 'ничего', 'ей', 'может', 'они', 'тут', 'где', 'есть', 'надо', 'ней', 'для', 'мы', 'тебя', 'их', 'чем', 'была', 'сам', 'чтоб', 'без', 'будто', 'чего', 'раз', 'тоже', 'себе', 'под', 'будет', 'ж', 'тогда', 'кто', 'этот', 'того', 'потому', 'этого', 'какой', 'совсем', 'ним', 'здесь', 'этом', 'один', 'почти', 'мой', 'тем', 'чтобы', 'нее', 'сейчас', 'были', 'куда', 'зачем', 'всех', 'никогда', 'можно', 'при', 'наконец', 'два', 'об', 'другой', 'хоть', 'после', 'над', 'больше', 'тот', 'через', 'эти', 'нас', 'про', 'всего', 'них', 'какая', 'много', 'разве', 'три', 'эту', 'моя', 'впрочем', 'хорошо', 'свою', 'этой', 'перед', 'иногда', 'лучше', 'чуть', 'том', 'нельзя', 'такой', 'им', 'более', 'всегда', 'конечно', 'всю', 'между']\n"
     ]
    }
   ],
   "source": [
    "# импорт стоп слов \n",
    "from nltk.corpus import stopwords\n",
    "print(stopwords.words('russian'))"
   ]
  },
  {
   "cell_type": "code",
   "execution_count": 13,
   "metadata": {},
   "outputs": [],
   "source": [
    "# добавление дополнительных стоп слов\n",
    "mystopwords = stopwords.words('russian') + ['это', 'наш' , 'тыс', 'млн', 'млрд', 'также',  'т', 'д', 'сч', 'ещ']\n",
    "def  remove_stopwords(text, mystopwords = mystopwords):\n",
    "    try:\n",
    "        return \" \".join([token for token in text.split() if not token in mystopwords])\n",
    "    except:\n",
    "        return \"\""
   ]
  },
  {
   "cell_type": "code",
   "execution_count": 14,
   "metadata": {},
   "outputs": [
    {
     "name": "stdout",
     "output_type": "stream",
     "text": [
      "['в', 'я', 'и', 'не', 'на', 'что', 'с', 'быть', 'по', 'это', '-', 'весь', 'банка', 'мой', 'карта', 'а', 'но', 'как', 'о', 'за', 'у', 'банк', 'который', 'к', 'так', 'деньга', 'они', 'вы', 'от', 'она', 'свой', 'для', 'он', 'этот', 'отделение', 'сотрудник', 'мочь', 'же', 'уже', 'через', 'один', 'ещё', 'до', 'такой', 'счёт', 'кредит', 'из', 'день', 'при', 'только', 'сумма', 'мы', 'клиент', 'кредитный', 'дать', 'если', 'заявление', 'раз', 'после', 'получить', 'то', 'ваш', 'время', 'когда', 'тот', 'год', 'бы', 'другой', 'очень', 'чтобы', 'ни', 'номер', 'или', 'звонить', 'два', 'позвонить', 'без', 'вопрос', 'написать', 'офис', 'какой', 'банка,', 'ответ', 'платёж', 'телефон', 'договор', 'банкомат', 'вклад', 'решить', 'должный', 'есть', 'хотеть', 'звонок', 'там', 'вот', 'где', 'можно', 'средство', 'работа', 'просто', 'работать', 'даже', 'обратиться', 'большой', 'почему', 'ли', 'сбербанк', 'месяц', 'срок', 'проблема', '2', 'просить', 'ничто', 'нет', 'сделать', 'никакой', 'информация', 'операция', 'том,', 'банка.', 'г.', 'данный', 'сказать', 'самый', 'сегодня', 'заявка', 'документ', 'несколько', 'услуга', 'являться', 'сам', 'т.к.', 'более', 'стать', 'оформить', 'течение', 'чем', 'нужно', 'сайт', 'обслуживание', 'банк,', 'девушка', 'надо', 'иметь', 'человек', 'также', 'тут', 'теперь', 'следующий', 'взять', 'ждать', 'смс', 'никто', 'минута', 'потом', 'ситуация', 'писать', 'рубль', '–', 'прийти', 'оператор', 'хотя', 'денежный', 'претензия', 'пользоваться', 'того,', 'новый', 'сказали,', 'служба', 'сразу', 'процент', 'перевод', 'момент', 'руб.', '3', 'имя', 'себя', '10', 'очередь', 'наш', 'опять', 'вообще', 'какой-то', 'три', 'каждый', 'приходить', 'выдать', 'пока', 'ну', 'условие', 'пришлый', 'прийтись', 'комиссия', 'тоже', 'кто', 'решение', '000', 'неделя', 'предложить', 'то,', '5', 'сейчас', 'необходимый', 'принять', 'добрый', 'попросить', 'оплата', 'случай', 'получение', 'обращение', 'снять', 'идти', 'смочь', 'последний', 'нет.', 'система', 'рабочий', 'открыть', 'банковский', 'делать', 'про', 'оплатить', 'отношение', 'находиться', 'задолженность', 'брать', 'получать', 'дело', 'нет,', 'внести', 'всегда', 'просьба', 'специалист', 'нужный', 'хороший', 'отзыв', 'отправить', 'итог', 'да', 'снова', 'карту,', 'погашение', 'менеджер', 'адрес', 'вернуть', 'возможность', 'именно', 'связь', 'пытаться', 'предоставить', '1', 'знать', 'дата', 'сказала,', '30', 'сотрудница', 'полный', 'оформление', 'поэтому', 'платить', 'конец', 'указанный', 'сообщить', 'хотеться', 'письмо', 'обращаться', 'горячий', 'закрыть', 'карты,', 'деньги,', 'лимит', 'ответить', 'под', 'начать', 'из-за', 'банк.', 'друг', 'узнать', 'остаться', 'что-то', 'указать', 'приехать', 'оставить', 'причина', 'говорить', 'всего', 'тем', 'касса', 'около', 'поддержка', 'действие', 'погасить', 'тогда', 'рассмотрение', 'закрытие', 'слово', 'карту.', 'перед', 'справка', 'прошлый', 'размер', 'давать', 'история', 'перевести', 'выписка', 'рублей.', '15', 'карты.', 'результат', 'дебетовый', 'снятие', 'место', 'час', 'оказаться', 'мобильный', 'ведь', 'подать', 'очередной', 'никогда', 'пора', '20', 'интернет', 'наличный', 'найти', 'сей', 'списание', '4', 'списать', 'ул.', 'либо', 'сколько', 'линия', 'открытие', 'дней.', 'ставка', 'я,', 'отдел', 'право', 'карточка', 'любой', 'дополнительный', 'мне,', 'потому', 'ошибка', 'число', 'покупка', 'личный', 'т.е.', 'назад', 'электронный', 'декабрь', 'разобраться', 'копия', 'объяснить', 'помочь', 'возврат', 'кредит,', 'начало', '1.', 'пройти', 'филиал', '№', 'общем,', '2.', 'много', 'долг', 'её', 'оформлять', 'пара', 'и,', 'выдача', 'положить', 'произойти', 'операционист', 'терминал', 'зарплатный', 'лицо', 'обещать', 'представитель', 'провести', 'заблокировать', 'куда', 'досрочный', 'зайти', 'банке,', 'уважаемый', 'день,', 'отказ', 'причём', 'видеть', 'общий', 'сторона', 'сказал,', 'паспорт', 'зачем', 'почти', 'требовать', 'некоторый', 'страховка', 'спасибо', 'стоить', 'москва', 'прислать', 'сообщение', 'остаток', 'поступить', 'сначала', 'пойти', 'разговор', 'предложение', 'предлагать', 'день.', 'отвечать', 'разный', 'деньги.', 'однако', 'город', 'жалоба', 'программа', 'отказаться', 'долго', 'просрочка', 'повод', 'попытка', '(в', 'тысяча', 'работник', 'дней,', 'кроме', 'перезвонить', 'рублей,', 'уточнить', '2013', 'день!', '2014', 'банке.', 'ближний', 'заполнить', 'март', 'принимать', 'технический', 'далее', 'забрать', 'качество', 'оплачивать', 'запрос', 'подобный', 'понимаю,', 'да,', 'снимать', 'уйти', 'отделение,', 'январь', 'вопрос,', 'было.', 'связаться', 'быстро', 'возникнуть', 'хоть', 'всё-таки', 'здесь', 'кредит.', 'почта', 'конечно,', 'меня,', 'первое', 'требование', 'тариф', 'оказалось,', 'положительный', 'проверить', 'тем,', 'готовый', 'что,', 'общение', 'открытый', 'составить', 'подключить', 'считать', 'заплатить', '8', 'заявление,', 'ежемесячный', 'апрель', 'пожалуйста,', 'подойти', 'курс', 'примерно', 'начаться', 'часы', 'поскольку', 'года.', 'думаю,', 'уж', 'часть', 'сидеть', 'рука', 'май', 'говорят,', 'спросить']\n"
     ]
    }
   ],
   "source": [
    "from nltk import FreqDist\n",
    "top_words = []\n",
    "fd = FreqDist()\n",
    "for text in texts:\n",
    "    fd.update(text)\n",
    "for i in fd.most_common(500):\n",
    "    top_words.append(i[0])\n",
    "print(top_words)"
   ]
  },
  {
   "cell_type": "code",
   "execution_count": 15,
   "metadata": {},
   "outputs": [
    {
     "name": "stderr",
     "output_type": "stream",
     "text": [
      "/anaconda3/lib/python3.6/site-packages/ipykernel_launcher.py:1: DeprecationWarning: Call to deprecated `__getitem__` (Method will be removed in 4.0.0, use self.wv.__getitem__() instead).\n",
      "  \"\"\"Entry point for launching an IPython kernel.\n"
     ]
    }
   ],
   "source": [
    "top_words_vec = model[top_words]"
   ]
  },
  {
   "cell_type": "code",
   "execution_count": 16,
   "metadata": {},
   "outputs": [],
   "source": [
    "from sklearn.manifold import TSNE\n",
    "tsne = TSNE(n_components=2, random_state=0)\n",
    "top_words_tsne = tsne.fit_transform(top_words_vec)"
   ]
  },
  {
   "cell_type": "code",
   "execution_count": 76,
   "metadata": {},
   "outputs": [],
   "source": [
    "# строим облако"
   ]
  },
  {
   "cell_type": "code",
   "execution_count": 75,
   "metadata": {},
   "outputs": [
    {
     "data": {
      "text/html": [
       "\n",
       "    <div class=\"bk-root\">\n",
       "        <a href=\"https://bokeh.pydata.org\" target=\"_blank\" class=\"bk-logo bk-logo-small bk-logo-notebook\"></a>\n",
       "        <span id=\"e19b0a3e-d4d6-4a0c-aab7-12ca079884f4\">Loading BokehJS ...</span>\n",
       "    </div>"
      ]
     },
     "metadata": {},
     "output_type": "display_data"
    },
    {
     "data": {
      "application/javascript": [
       "\n",
       "(function(root) {\n",
       "  function now() {\n",
       "    return new Date();\n",
       "  }\n",
       "\n",
       "  var force = true;\n",
       "\n",
       "  if (typeof (root._bokeh_onload_callbacks) === \"undefined\" || force === true) {\n",
       "    root._bokeh_onload_callbacks = [];\n",
       "    root._bokeh_is_loading = undefined;\n",
       "  }\n",
       "\n",
       "  var JS_MIME_TYPE = 'application/javascript';\n",
       "  var HTML_MIME_TYPE = 'text/html';\n",
       "  var EXEC_MIME_TYPE = 'application/vnd.bokehjs_exec.v0+json';\n",
       "  var CLASS_NAME = 'output_bokeh rendered_html';\n",
       "\n",
       "  /**\n",
       "   * Render data to the DOM node\n",
       "   */\n",
       "  function render(props, node) {\n",
       "    var script = document.createElement(\"script\");\n",
       "    node.appendChild(script);\n",
       "  }\n",
       "\n",
       "  /**\n",
       "   * Handle when an output is cleared or removed\n",
       "   */\n",
       "  function handleClearOutput(event, handle) {\n",
       "    var cell = handle.cell;\n",
       "\n",
       "    var id = cell.output_area._bokeh_element_id;\n",
       "    var server_id = cell.output_area._bokeh_server_id;\n",
       "    // Clean up Bokeh references\n",
       "    if (id !== undefined) {\n",
       "      Bokeh.index[id].model.document.clear();\n",
       "      delete Bokeh.index[id];\n",
       "    }\n",
       "\n",
       "    if (server_id !== undefined) {\n",
       "      // Clean up Bokeh references\n",
       "      var cmd = \"from bokeh.io.state import curstate; print(curstate().uuid_to_server['\" + server_id + \"'].get_sessions()[0].document.roots[0]._id)\";\n",
       "      cell.notebook.kernel.execute(cmd, {\n",
       "        iopub: {\n",
       "          output: function(msg) {\n",
       "            var element_id = msg.content.text.trim();\n",
       "            Bokeh.index[element_id].model.document.clear();\n",
       "            delete Bokeh.index[element_id];\n",
       "          }\n",
       "        }\n",
       "      });\n",
       "      // Destroy server and session\n",
       "      var cmd = \"import bokeh.io.notebook as ion; ion.destroy_server('\" + server_id + \"')\";\n",
       "      cell.notebook.kernel.execute(cmd);\n",
       "    }\n",
       "  }\n",
       "\n",
       "  /**\n",
       "   * Handle when a new output is added\n",
       "   */\n",
       "  function handleAddOutput(event, handle) {\n",
       "    var output_area = handle.output_area;\n",
       "    var output = handle.output;\n",
       "\n",
       "    // limit handleAddOutput to display_data with EXEC_MIME_TYPE content only\n",
       "    if ((output.output_type != \"display_data\") || (!output.data.hasOwnProperty(EXEC_MIME_TYPE))) {\n",
       "      return\n",
       "    }\n",
       "\n",
       "    var toinsert = output_area.element.find(\".\" + CLASS_NAME.split(' ')[0]);\n",
       "\n",
       "    if (output.metadata[EXEC_MIME_TYPE][\"id\"] !== undefined) {\n",
       "      toinsert[0].firstChild.textContent = output.data[JS_MIME_TYPE];\n",
       "      // store reference to embed id on output_area\n",
       "      output_area._bokeh_element_id = output.metadata[EXEC_MIME_TYPE][\"id\"];\n",
       "    }\n",
       "    if (output.metadata[EXEC_MIME_TYPE][\"server_id\"] !== undefined) {\n",
       "      var bk_div = document.createElement(\"div\");\n",
       "      bk_div.innerHTML = output.data[HTML_MIME_TYPE];\n",
       "      var script_attrs = bk_div.children[0].attributes;\n",
       "      for (var i = 0; i < script_attrs.length; i++) {\n",
       "        toinsert[0].firstChild.setAttribute(script_attrs[i].name, script_attrs[i].value);\n",
       "      }\n",
       "      // store reference to server id on output_area\n",
       "      output_area._bokeh_server_id = output.metadata[EXEC_MIME_TYPE][\"server_id\"];\n",
       "    }\n",
       "  }\n",
       "\n",
       "  function register_renderer(events, OutputArea) {\n",
       "\n",
       "    function append_mime(data, metadata, element) {\n",
       "      // create a DOM node to render to\n",
       "      var toinsert = this.create_output_subarea(\n",
       "        metadata,\n",
       "        CLASS_NAME,\n",
       "        EXEC_MIME_TYPE\n",
       "      );\n",
       "      this.keyboard_manager.register_events(toinsert);\n",
       "      // Render to node\n",
       "      var props = {data: data, metadata: metadata[EXEC_MIME_TYPE]};\n",
       "      render(props, toinsert[0]);\n",
       "      element.append(toinsert);\n",
       "      return toinsert\n",
       "    }\n",
       "\n",
       "    /* Handle when an output is cleared or removed */\n",
       "    events.on('clear_output.CodeCell', handleClearOutput);\n",
       "    events.on('delete.Cell', handleClearOutput);\n",
       "\n",
       "    /* Handle when a new output is added */\n",
       "    events.on('output_added.OutputArea', handleAddOutput);\n",
       "\n",
       "    /**\n",
       "     * Register the mime type and append_mime function with output_area\n",
       "     */\n",
       "    OutputArea.prototype.register_mime_type(EXEC_MIME_TYPE, append_mime, {\n",
       "      /* Is output safe? */\n",
       "      safe: true,\n",
       "      /* Index of renderer in `output_area.display_order` */\n",
       "      index: 0\n",
       "    });\n",
       "  }\n",
       "\n",
       "  // register the mime type if in Jupyter Notebook environment and previously unregistered\n",
       "  if (root.Jupyter !== undefined) {\n",
       "    var events = require('base/js/events');\n",
       "    var OutputArea = require('notebook/js/outputarea').OutputArea;\n",
       "\n",
       "    if (OutputArea.prototype.mime_types().indexOf(EXEC_MIME_TYPE) == -1) {\n",
       "      register_renderer(events, OutputArea);\n",
       "    }\n",
       "  }\n",
       "\n",
       "  \n",
       "  if (typeof (root._bokeh_timeout) === \"undefined\" || force === true) {\n",
       "    root._bokeh_timeout = Date.now() + 5000;\n",
       "    root._bokeh_failed_load = false;\n",
       "  }\n",
       "\n",
       "  var NB_LOAD_WARNING = {'data': {'text/html':\n",
       "     \"<div style='background-color: #fdd'>\\n\"+\n",
       "     \"<p>\\n\"+\n",
       "     \"BokehJS does not appear to have successfully loaded. If loading BokehJS from CDN, this \\n\"+\n",
       "     \"may be due to a slow or bad network connection. Possible fixes:\\n\"+\n",
       "     \"</p>\\n\"+\n",
       "     \"<ul>\\n\"+\n",
       "     \"<li>re-rerun `output_notebook()` to attempt to load from CDN again, or</li>\\n\"+\n",
       "     \"<li>use INLINE resources instead, as so:</li>\\n\"+\n",
       "     \"</ul>\\n\"+\n",
       "     \"<code>\\n\"+\n",
       "     \"from bokeh.resources import INLINE\\n\"+\n",
       "     \"output_notebook(resources=INLINE)\\n\"+\n",
       "     \"</code>\\n\"+\n",
       "     \"</div>\"}};\n",
       "\n",
       "  function display_loaded() {\n",
       "    var el = document.getElementById(\"e19b0a3e-d4d6-4a0c-aab7-12ca079884f4\");\n",
       "    if (el != null) {\n",
       "      el.textContent = \"BokehJS is loading...\";\n",
       "    }\n",
       "    if (root.Bokeh !== undefined) {\n",
       "      if (el != null) {\n",
       "        el.textContent = \"BokehJS \" + root.Bokeh.version + \" successfully loaded.\";\n",
       "      }\n",
       "    } else if (Date.now() < root._bokeh_timeout) {\n",
       "      setTimeout(display_loaded, 100)\n",
       "    }\n",
       "  }\n",
       "\n",
       "\n",
       "  function run_callbacks() {\n",
       "    try {\n",
       "      root._bokeh_onload_callbacks.forEach(function(callback) { callback() });\n",
       "    }\n",
       "    finally {\n",
       "      delete root._bokeh_onload_callbacks\n",
       "    }\n",
       "    console.info(\"Bokeh: all callbacks have finished\");\n",
       "  }\n",
       "\n",
       "  function load_libs(js_urls, callback) {\n",
       "    root._bokeh_onload_callbacks.push(callback);\n",
       "    if (root._bokeh_is_loading > 0) {\n",
       "      console.log(\"Bokeh: BokehJS is being loaded, scheduling callback at\", now());\n",
       "      return null;\n",
       "    }\n",
       "    if (js_urls == null || js_urls.length === 0) {\n",
       "      run_callbacks();\n",
       "      return null;\n",
       "    }\n",
       "    console.log(\"Bokeh: BokehJS not loaded, scheduling load and callback at\", now());\n",
       "    root._bokeh_is_loading = js_urls.length;\n",
       "    for (var i = 0; i < js_urls.length; i++) {\n",
       "      var url = js_urls[i];\n",
       "      var s = document.createElement('script');\n",
       "      s.src = url;\n",
       "      s.async = false;\n",
       "      s.onreadystatechange = s.onload = function() {\n",
       "        root._bokeh_is_loading--;\n",
       "        if (root._bokeh_is_loading === 0) {\n",
       "          console.log(\"Bokeh: all BokehJS libraries loaded\");\n",
       "          run_callbacks()\n",
       "        }\n",
       "      };\n",
       "      s.onerror = function() {\n",
       "        console.warn(\"failed to load library \" + url);\n",
       "      };\n",
       "      console.log(\"Bokeh: injecting script tag for BokehJS library: \", url);\n",
       "      document.getElementsByTagName(\"head\")[0].appendChild(s);\n",
       "    }\n",
       "  };var element = document.getElementById(\"e19b0a3e-d4d6-4a0c-aab7-12ca079884f4\");\n",
       "  if (element == null) {\n",
       "    console.log(\"Bokeh: ERROR: autoload.js configured with elementid 'e19b0a3e-d4d6-4a0c-aab7-12ca079884f4' but no matching script tag was found. \")\n",
       "    return false;\n",
       "  }\n",
       "\n",
       "  var js_urls = [\"https://cdn.pydata.org/bokeh/release/bokeh-0.12.13.min.js\", \"https://cdn.pydata.org/bokeh/release/bokeh-widgets-0.12.13.min.js\", \"https://cdn.pydata.org/bokeh/release/bokeh-tables-0.12.13.min.js\", \"https://cdn.pydata.org/bokeh/release/bokeh-gl-0.12.13.min.js\"];\n",
       "\n",
       "  var inline_js = [\n",
       "    function(Bokeh) {\n",
       "      Bokeh.set_log_level(\"info\");\n",
       "    },\n",
       "    \n",
       "    function(Bokeh) {\n",
       "      \n",
       "    },\n",
       "    function(Bokeh) {\n",
       "      console.log(\"Bokeh: injecting CSS: https://cdn.pydata.org/bokeh/release/bokeh-0.12.13.min.css\");\n",
       "      Bokeh.embed.inject_css(\"https://cdn.pydata.org/bokeh/release/bokeh-0.12.13.min.css\");\n",
       "      console.log(\"Bokeh: injecting CSS: https://cdn.pydata.org/bokeh/release/bokeh-widgets-0.12.13.min.css\");\n",
       "      Bokeh.embed.inject_css(\"https://cdn.pydata.org/bokeh/release/bokeh-widgets-0.12.13.min.css\");\n",
       "      console.log(\"Bokeh: injecting CSS: https://cdn.pydata.org/bokeh/release/bokeh-tables-0.12.13.min.css\");\n",
       "      Bokeh.embed.inject_css(\"https://cdn.pydata.org/bokeh/release/bokeh-tables-0.12.13.min.css\");\n",
       "    }\n",
       "  ];\n",
       "\n",
       "  function run_inline_js() {\n",
       "    \n",
       "    if ((root.Bokeh !== undefined) || (force === true)) {\n",
       "      for (var i = 0; i < inline_js.length; i++) {\n",
       "        inline_js[i].call(root, root.Bokeh);\n",
       "      }if (force === true) {\n",
       "        display_loaded();\n",
       "      }} else if (Date.now() < root._bokeh_timeout) {\n",
       "      setTimeout(run_inline_js, 100);\n",
       "    } else if (!root._bokeh_failed_load) {\n",
       "      console.log(\"Bokeh: BokehJS failed to load within specified timeout.\");\n",
       "      root._bokeh_failed_load = true;\n",
       "    } else if (force !== true) {\n",
       "      var cell = $(document.getElementById(\"e19b0a3e-d4d6-4a0c-aab7-12ca079884f4\")).parents('.cell').data().cell;\n",
       "      cell.output_area.append_execute_result(NB_LOAD_WARNING)\n",
       "    }\n",
       "\n",
       "  }\n",
       "\n",
       "  if (root._bokeh_is_loading === 0) {\n",
       "    console.log(\"Bokeh: BokehJS loaded, going straight to plotting\");\n",
       "    run_inline_js();\n",
       "  } else {\n",
       "    load_libs(js_urls, function() {\n",
       "      console.log(\"Bokeh: BokehJS plotting callback run at\", now());\n",
       "      run_inline_js();\n",
       "    });\n",
       "  }\n",
       "}(window));"
      ],
      "application/vnd.bokehjs_load.v0+json": "\n(function(root) {\n  function now() {\n    return new Date();\n  }\n\n  var force = true;\n\n  if (typeof (root._bokeh_onload_callbacks) === \"undefined\" || force === true) {\n    root._bokeh_onload_callbacks = [];\n    root._bokeh_is_loading = undefined;\n  }\n\n  \n\n  \n  if (typeof (root._bokeh_timeout) === \"undefined\" || force === true) {\n    root._bokeh_timeout = Date.now() + 5000;\n    root._bokeh_failed_load = false;\n  }\n\n  var NB_LOAD_WARNING = {'data': {'text/html':\n     \"<div style='background-color: #fdd'>\\n\"+\n     \"<p>\\n\"+\n     \"BokehJS does not appear to have successfully loaded. If loading BokehJS from CDN, this \\n\"+\n     \"may be due to a slow or bad network connection. Possible fixes:\\n\"+\n     \"</p>\\n\"+\n     \"<ul>\\n\"+\n     \"<li>re-rerun `output_notebook()` to attempt to load from CDN again, or</li>\\n\"+\n     \"<li>use INLINE resources instead, as so:</li>\\n\"+\n     \"</ul>\\n\"+\n     \"<code>\\n\"+\n     \"from bokeh.resources import INLINE\\n\"+\n     \"output_notebook(resources=INLINE)\\n\"+\n     \"</code>\\n\"+\n     \"</div>\"}};\n\n  function display_loaded() {\n    var el = document.getElementById(\"e19b0a3e-d4d6-4a0c-aab7-12ca079884f4\");\n    if (el != null) {\n      el.textContent = \"BokehJS is loading...\";\n    }\n    if (root.Bokeh !== undefined) {\n      if (el != null) {\n        el.textContent = \"BokehJS \" + root.Bokeh.version + \" successfully loaded.\";\n      }\n    } else if (Date.now() < root._bokeh_timeout) {\n      setTimeout(display_loaded, 100)\n    }\n  }\n\n\n  function run_callbacks() {\n    try {\n      root._bokeh_onload_callbacks.forEach(function(callback) { callback() });\n    }\n    finally {\n      delete root._bokeh_onload_callbacks\n    }\n    console.info(\"Bokeh: all callbacks have finished\");\n  }\n\n  function load_libs(js_urls, callback) {\n    root._bokeh_onload_callbacks.push(callback);\n    if (root._bokeh_is_loading > 0) {\n      console.log(\"Bokeh: BokehJS is being loaded, scheduling callback at\", now());\n      return null;\n    }\n    if (js_urls == null || js_urls.length === 0) {\n      run_callbacks();\n      return null;\n    }\n    console.log(\"Bokeh: BokehJS not loaded, scheduling load and callback at\", now());\n    root._bokeh_is_loading = js_urls.length;\n    for (var i = 0; i < js_urls.length; i++) {\n      var url = js_urls[i];\n      var s = document.createElement('script');\n      s.src = url;\n      s.async = false;\n      s.onreadystatechange = s.onload = function() {\n        root._bokeh_is_loading--;\n        if (root._bokeh_is_loading === 0) {\n          console.log(\"Bokeh: all BokehJS libraries loaded\");\n          run_callbacks()\n        }\n      };\n      s.onerror = function() {\n        console.warn(\"failed to load library \" + url);\n      };\n      console.log(\"Bokeh: injecting script tag for BokehJS library: \", url);\n      document.getElementsByTagName(\"head\")[0].appendChild(s);\n    }\n  };var element = document.getElementById(\"e19b0a3e-d4d6-4a0c-aab7-12ca079884f4\");\n  if (element == null) {\n    console.log(\"Bokeh: ERROR: autoload.js configured with elementid 'e19b0a3e-d4d6-4a0c-aab7-12ca079884f4' but no matching script tag was found. \")\n    return false;\n  }\n\n  var js_urls = [\"https://cdn.pydata.org/bokeh/release/bokeh-0.12.13.min.js\", \"https://cdn.pydata.org/bokeh/release/bokeh-widgets-0.12.13.min.js\", \"https://cdn.pydata.org/bokeh/release/bokeh-tables-0.12.13.min.js\", \"https://cdn.pydata.org/bokeh/release/bokeh-gl-0.12.13.min.js\"];\n\n  var inline_js = [\n    function(Bokeh) {\n      Bokeh.set_log_level(\"info\");\n    },\n    \n    function(Bokeh) {\n      \n    },\n    function(Bokeh) {\n      console.log(\"Bokeh: injecting CSS: https://cdn.pydata.org/bokeh/release/bokeh-0.12.13.min.css\");\n      Bokeh.embed.inject_css(\"https://cdn.pydata.org/bokeh/release/bokeh-0.12.13.min.css\");\n      console.log(\"Bokeh: injecting CSS: https://cdn.pydata.org/bokeh/release/bokeh-widgets-0.12.13.min.css\");\n      Bokeh.embed.inject_css(\"https://cdn.pydata.org/bokeh/release/bokeh-widgets-0.12.13.min.css\");\n      console.log(\"Bokeh: injecting CSS: https://cdn.pydata.org/bokeh/release/bokeh-tables-0.12.13.min.css\");\n      Bokeh.embed.inject_css(\"https://cdn.pydata.org/bokeh/release/bokeh-tables-0.12.13.min.css\");\n    }\n  ];\n\n  function run_inline_js() {\n    \n    if ((root.Bokeh !== undefined) || (force === true)) {\n      for (var i = 0; i < inline_js.length; i++) {\n        inline_js[i].call(root, root.Bokeh);\n      }if (force === true) {\n        display_loaded();\n      }} else if (Date.now() < root._bokeh_timeout) {\n      setTimeout(run_inline_js, 100);\n    } else if (!root._bokeh_failed_load) {\n      console.log(\"Bokeh: BokehJS failed to load within specified timeout.\");\n      root._bokeh_failed_load = true;\n    } else if (force !== true) {\n      var cell = $(document.getElementById(\"e19b0a3e-d4d6-4a0c-aab7-12ca079884f4\")).parents('.cell').data().cell;\n      cell.output_area.append_execute_result(NB_LOAD_WARNING)\n    }\n\n  }\n\n  if (root._bokeh_is_loading === 0) {\n    console.log(\"Bokeh: BokehJS loaded, going straight to plotting\");\n    run_inline_js();\n  } else {\n    load_libs(js_urls, function() {\n      console.log(\"Bokeh: BokehJS plotting callback run at\", now());\n      run_inline_js();\n    });\n  }\n}(window));"
     },
     "metadata": {},
     "output_type": "display_data"
    },
    {
     "data": {
      "text/html": [
       "\n",
       "<div class=\"bk-root\">\n",
       "    <div class=\"bk-plotdiv\" id=\"22ce813d-0a24-402f-aebf-0839ec9ad29f\"></div>\n",
       "</div>"
      ]
     },
     "metadata": {},
     "output_type": "display_data"
    },
    {
     "data": {
      "application/javascript": [
       "(function(root) {\n",
       "  function embed_document(root) {\n",
       "    \n",
       "  var docs_json = {\"4e58c057-0457-451d-8228-09b58e6ce263\":{\"roots\":{\"references\":[{\"attributes\":{\"formatter\":{\"id\":\"070fa0e2-5f0b-4e84-aa2a-5c77aa12f046\",\"type\":\"BasicTickFormatter\"},\"plot\":{\"id\":\"23243a24-c0b3-420f-8779-81241492cbd7\",\"subtype\":\"Figure\",\"type\":\"Plot\"},\"ticker\":{\"id\":\"93cf5154-dbd1-4ab7-8931-577b957cdbf0\",\"type\":\"BasicTicker\"}},\"id\":\"5578e02e-4672-45e8-b859-e0171e13758b\",\"type\":\"LinearAxis\"},{\"attributes\":{},\"id\":\"93cf5154-dbd1-4ab7-8931-577b957cdbf0\",\"type\":\"BasicTicker\"},{\"attributes\":{\"formatter\":{\"id\":\"f892ded8-e1c4-4178-963b-c7d17d50762c\",\"type\":\"BasicTickFormatter\"},\"plot\":{\"id\":\"23243a24-c0b3-420f-8779-81241492cbd7\",\"subtype\":\"Figure\",\"type\":\"Plot\"},\"ticker\":{\"id\":\"a6e3d74c-c67d-46b8-8184-7b41ac8b8a1d\",\"type\":\"BasicTicker\"}},\"id\":\"da8f5e44-2079-472a-b801-e033168513c5\",\"type\":\"LinearAxis\"},{\"attributes\":{},\"id\":\"a6e3d74c-c67d-46b8-8184-7b41ac8b8a1d\",\"type\":\"BasicTicker\"},{\"attributes\":{\"dimension\":1,\"plot\":{\"id\":\"23243a24-c0b3-420f-8779-81241492cbd7\",\"subtype\":\"Figure\",\"type\":\"Plot\"},\"ticker\":{\"id\":\"a6e3d74c-c67d-46b8-8184-7b41ac8b8a1d\",\"type\":\"BasicTicker\"}},\"id\":\"6f9149c2-0a8f-449c-ac42-7d0dff330252\",\"type\":\"Grid\"},{\"attributes\":{},\"id\":\"fceaa65d-3c53-424f-95e6-861b4d18b3a1\",\"type\":\"PanTool\"},{\"attributes\":{\"callback\":null,\"column_names\":[\"x1\",\"x2\",\"names\"],\"data\":{\"names\":[\"\\u0432\",\"\\u044f\",\"\\u0438\",\"\\u043d\\u0435\",\"\\u043d\\u0430\",\"\\u0447\\u0442\\u043e\",\"\\u0441\",\"\\u0431\\u044b\\u0442\\u044c\",\"\\u043f\\u043e\",\"\\u044d\\u0442\\u043e\",\"-\",\"\\u0432\\u0435\\u0441\\u044c\",\"\\u0431\\u0430\\u043d\\u043a\\u0430\",\"\\u043c\\u043e\\u0439\",\"\\u043a\\u0430\\u0440\\u0442\\u0430\",\"\\u0430\",\"\\u043d\\u043e\",\"\\u043a\\u0430\\u043a\",\"\\u043e\",\"\\u0437\\u0430\",\"\\u0443\",\"\\u0431\\u0430\\u043d\\u043a\",\"\\u043a\\u043e\\u0442\\u043e\\u0440\\u044b\\u0439\",\"\\u043a\",\"\\u0442\\u0430\\u043a\",\"\\u0434\\u0435\\u043d\\u044c\\u0433\\u0430\",\"\\u043e\\u043d\\u0438\",\"\\u0432\\u044b\",\"\\u043e\\u0442\",\"\\u043e\\u043d\\u0430\",\"\\u0441\\u0432\\u043e\\u0439\",\"\\u0434\\u043b\\u044f\",\"\\u043e\\u043d\",\"\\u044d\\u0442\\u043e\\u0442\",\"\\u043e\\u0442\\u0434\\u0435\\u043b\\u0435\\u043d\\u0438\\u0435\",\"\\u0441\\u043e\\u0442\\u0440\\u0443\\u0434\\u043d\\u0438\\u043a\",\"\\u043c\\u043e\\u0447\\u044c\",\"\\u0436\\u0435\",\"\\u0443\\u0436\\u0435\",\"\\u0447\\u0435\\u0440\\u0435\\u0437\",\"\\u043e\\u0434\\u0438\\u043d\",\"\\u0435\\u0449\\u0451\",\"\\u0434\\u043e\",\"\\u0442\\u0430\\u043a\\u043e\\u0439\",\"\\u0441\\u0447\\u0451\\u0442\",\"\\u043a\\u0440\\u0435\\u0434\\u0438\\u0442\",\"\\u0438\\u0437\",\"\\u0434\\u0435\\u043d\\u044c\",\"\\u043f\\u0440\\u0438\",\"\\u0442\\u043e\\u043b\\u044c\\u043a\\u043e\",\"\\u0441\\u0443\\u043c\\u043c\\u0430\",\"\\u043c\\u044b\",\"\\u043a\\u043b\\u0438\\u0435\\u043d\\u0442\",\"\\u043a\\u0440\\u0435\\u0434\\u0438\\u0442\\u043d\\u044b\\u0439\",\"\\u0434\\u0430\\u0442\\u044c\",\"\\u0435\\u0441\\u043b\\u0438\",\"\\u0437\\u0430\\u044f\\u0432\\u043b\\u0435\\u043d\\u0438\\u0435\",\"\\u0440\\u0430\\u0437\",\"\\u043f\\u043e\\u0441\\u043b\\u0435\",\"\\u043f\\u043e\\u043b\\u0443\\u0447\\u0438\\u0442\\u044c\",\"\\u0442\\u043e\",\"\\u0432\\u0430\\u0448\",\"\\u0432\\u0440\\u0435\\u043c\\u044f\",\"\\u043a\\u043e\\u0433\\u0434\\u0430\",\"\\u0442\\u043e\\u0442\",\"\\u0433\\u043e\\u0434\",\"\\u0431\\u044b\",\"\\u0434\\u0440\\u0443\\u0433\\u043e\\u0439\",\"\\u043e\\u0447\\u0435\\u043d\\u044c\",\"\\u0447\\u0442\\u043e\\u0431\\u044b\",\"\\u043d\\u0438\",\"\\u043d\\u043e\\u043c\\u0435\\u0440\",\"\\u0438\\u043b\\u0438\",\"\\u0437\\u0432\\u043e\\u043d\\u0438\\u0442\\u044c\",\"\\u0434\\u0432\\u0430\",\"\\u043f\\u043e\\u0437\\u0432\\u043e\\u043d\\u0438\\u0442\\u044c\",\"\\u0431\\u0435\\u0437\",\"\\u0432\\u043e\\u043f\\u0440\\u043e\\u0441\",\"\\u043d\\u0430\\u043f\\u0438\\u0441\\u0430\\u0442\\u044c\",\"\\u043e\\u0444\\u0438\\u0441\",\"\\u043a\\u0430\\u043a\\u043e\\u0439\",\"\\u0431\\u0430\\u043d\\u043a\\u0430,\",\"\\u043e\\u0442\\u0432\\u0435\\u0442\",\"\\u043f\\u043b\\u0430\\u0442\\u0451\\u0436\",\"\\u0442\\u0435\\u043b\\u0435\\u0444\\u043e\\u043d\",\"\\u0434\\u043e\\u0433\\u043e\\u0432\\u043e\\u0440\",\"\\u0431\\u0430\\u043d\\u043a\\u043e\\u043c\\u0430\\u0442\",\"\\u0432\\u043a\\u043b\\u0430\\u0434\",\"\\u0440\\u0435\\u0448\\u0438\\u0442\\u044c\",\"\\u0434\\u043e\\u043b\\u0436\\u043d\\u044b\\u0439\",\"\\u0435\\u0441\\u0442\\u044c\",\"\\u0445\\u043e\\u0442\\u0435\\u0442\\u044c\",\"\\u0437\\u0432\\u043e\\u043d\\u043e\\u043a\",\"\\u0442\\u0430\\u043c\",\"\\u0432\\u043e\\u0442\",\"\\u0433\\u0434\\u0435\",\"\\u043c\\u043e\\u0436\\u043d\\u043e\",\"\\u0441\\u0440\\u0435\\u0434\\u0441\\u0442\\u0432\\u043e\",\"\\u0440\\u0430\\u0431\\u043e\\u0442\\u0430\",\"\\u043f\\u0440\\u043e\\u0441\\u0442\\u043e\",\"\\u0440\\u0430\\u0431\\u043e\\u0442\\u0430\\u0442\\u044c\",\"\\u0434\\u0430\\u0436\\u0435\",\"\\u043e\\u0431\\u0440\\u0430\\u0442\\u0438\\u0442\\u044c\\u0441\\u044f\",\"\\u0431\\u043e\\u043b\\u044c\\u0448\\u043e\\u0439\",\"\\u043f\\u043e\\u0447\\u0435\\u043c\\u0443\",\"\\u043b\\u0438\",\"\\u0441\\u0431\\u0435\\u0440\\u0431\\u0430\\u043d\\u043a\",\"\\u043c\\u0435\\u0441\\u044f\\u0446\",\"\\u0441\\u0440\\u043e\\u043a\",\"\\u043f\\u0440\\u043e\\u0431\\u043b\\u0435\\u043c\\u0430\",\"2\",\"\\u043f\\u0440\\u043e\\u0441\\u0438\\u0442\\u044c\",\"\\u043d\\u0438\\u0447\\u0442\\u043e\",\"\\u043d\\u0435\\u0442\",\"\\u0441\\u0434\\u0435\\u043b\\u0430\\u0442\\u044c\",\"\\u043d\\u0438\\u043a\\u0430\\u043a\\u043e\\u0439\",\"\\u0438\\u043d\\u0444\\u043e\\u0440\\u043c\\u0430\\u0446\\u0438\\u044f\",\"\\u043e\\u043f\\u0435\\u0440\\u0430\\u0446\\u0438\\u044f\",\"\\u0442\\u043e\\u043c,\",\"\\u0431\\u0430\\u043d\\u043a\\u0430.\",\"\\u0433.\",\"\\u0434\\u0430\\u043d\\u043d\\u044b\\u0439\",\"\\u0441\\u043a\\u0430\\u0437\\u0430\\u0442\\u044c\",\"\\u0441\\u0430\\u043c\\u044b\\u0439\",\"\\u0441\\u0435\\u0433\\u043e\\u0434\\u043d\\u044f\",\"\\u0437\\u0430\\u044f\\u0432\\u043a\\u0430\",\"\\u0434\\u043e\\u043a\\u0443\\u043c\\u0435\\u043d\\u0442\",\"\\u043d\\u0435\\u0441\\u043a\\u043e\\u043b\\u044c\\u043a\\u043e\",\"\\u0443\\u0441\\u043b\\u0443\\u0433\\u0430\",\"\\u044f\\u0432\\u043b\\u044f\\u0442\\u044c\\u0441\\u044f\",\"\\u0441\\u0430\\u043c\",\"\\u0442.\\u043a.\",\"\\u0431\\u043e\\u043b\\u0435\\u0435\",\"\\u0441\\u0442\\u0430\\u0442\\u044c\",\"\\u043e\\u0444\\u043e\\u0440\\u043c\\u0438\\u0442\\u044c\",\"\\u0442\\u0435\\u0447\\u0435\\u043d\\u0438\\u0435\",\"\\u0447\\u0435\\u043c\",\"\\u043d\\u0443\\u0436\\u043d\\u043e\",\"\\u0441\\u0430\\u0439\\u0442\",\"\\u043e\\u0431\\u0441\\u043b\\u0443\\u0436\\u0438\\u0432\\u0430\\u043d\\u0438\\u0435\",\"\\u0431\\u0430\\u043d\\u043a,\",\"\\u0434\\u0435\\u0432\\u0443\\u0448\\u043a\\u0430\",\"\\u043d\\u0430\\u0434\\u043e\",\"\\u0438\\u043c\\u0435\\u0442\\u044c\",\"\\u0447\\u0435\\u043b\\u043e\\u0432\\u0435\\u043a\",\"\\u0442\\u0430\\u043a\\u0436\\u0435\",\"\\u0442\\u0443\\u0442\",\"\\u0442\\u0435\\u043f\\u0435\\u0440\\u044c\",\"\\u0441\\u043b\\u0435\\u0434\\u0443\\u044e\\u0449\\u0438\\u0439\",\"\\u0432\\u0437\\u044f\\u0442\\u044c\",\"\\u0436\\u0434\\u0430\\u0442\\u044c\",\"\\u0441\\u043c\\u0441\",\"\\u043d\\u0438\\u043a\\u0442\\u043e\",\"\\u043c\\u0438\\u043d\\u0443\\u0442\\u0430\",\"\\u043f\\u043e\\u0442\\u043e\\u043c\",\"\\u0441\\u0438\\u0442\\u0443\\u0430\\u0446\\u0438\\u044f\",\"\\u043f\\u0438\\u0441\\u0430\\u0442\\u044c\",\"\\u0440\\u0443\\u0431\\u043b\\u044c\",\"\\u2013\",\"\\u043f\\u0440\\u0438\\u0439\\u0442\\u0438\",\"\\u043e\\u043f\\u0435\\u0440\\u0430\\u0442\\u043e\\u0440\",\"\\u0445\\u043e\\u0442\\u044f\",\"\\u0434\\u0435\\u043d\\u0435\\u0436\\u043d\\u044b\\u0439\",\"\\u043f\\u0440\\u0435\\u0442\\u0435\\u043d\\u0437\\u0438\\u044f\",\"\\u043f\\u043e\\u043b\\u044c\\u0437\\u043e\\u0432\\u0430\\u0442\\u044c\\u0441\\u044f\",\"\\u0442\\u043e\\u0433\\u043e,\",\"\\u043d\\u043e\\u0432\\u044b\\u0439\",\"\\u0441\\u043a\\u0430\\u0437\\u0430\\u043b\\u0438,\",\"\\u0441\\u043b\\u0443\\u0436\\u0431\\u0430\",\"\\u0441\\u0440\\u0430\\u0437\\u0443\",\"\\u043f\\u0440\\u043e\\u0446\\u0435\\u043d\\u0442\",\"\\u043f\\u0435\\u0440\\u0435\\u0432\\u043e\\u0434\",\"\\u043c\\u043e\\u043c\\u0435\\u043d\\u0442\",\"\\u0440\\u0443\\u0431.\",\"3\",\"\\u0438\\u043c\\u044f\",\"\\u0441\\u0435\\u0431\\u044f\",\"10\",\"\\u043e\\u0447\\u0435\\u0440\\u0435\\u0434\\u044c\",\"\\u043d\\u0430\\u0448\",\"\\u043e\\u043f\\u044f\\u0442\\u044c\",\"\\u0432\\u043e\\u043e\\u0431\\u0449\\u0435\",\"\\u043a\\u0430\\u043a\\u043e\\u0439-\\u0442\\u043e\",\"\\u0442\\u0440\\u0438\",\"\\u043a\\u0430\\u0436\\u0434\\u044b\\u0439\",\"\\u043f\\u0440\\u0438\\u0445\\u043e\\u0434\\u0438\\u0442\\u044c\",\"\\u0432\\u044b\\u0434\\u0430\\u0442\\u044c\",\"\\u043f\\u043e\\u043a\\u0430\",\"\\u043d\\u0443\",\"\\u0443\\u0441\\u043b\\u043e\\u0432\\u0438\\u0435\",\"\\u043f\\u0440\\u0438\\u0448\\u043b\\u044b\\u0439\",\"\\u043f\\u0440\\u0438\\u0439\\u0442\\u0438\\u0441\\u044c\",\"\\u043a\\u043e\\u043c\\u0438\\u0441\\u0441\\u0438\\u044f\",\"\\u0442\\u043e\\u0436\\u0435\",\"\\u043a\\u0442\\u043e\",\"\\u0440\\u0435\\u0448\\u0435\\u043d\\u0438\\u0435\",\"000\",\"\\u043d\\u0435\\u0434\\u0435\\u043b\\u044f\",\"\\u043f\\u0440\\u0435\\u0434\\u043b\\u043e\\u0436\\u0438\\u0442\\u044c\",\"\\u0442\\u043e,\",\"5\",\"\\u0441\\u0435\\u0439\\u0447\\u0430\\u0441\",\"\\u043d\\u0435\\u043e\\u0431\\u0445\\u043e\\u0434\\u0438\\u043c\\u044b\\u0439\",\"\\u043f\\u0440\\u0438\\u043d\\u044f\\u0442\\u044c\",\"\\u0434\\u043e\\u0431\\u0440\\u044b\\u0439\",\"\\u043f\\u043e\\u043f\\u0440\\u043e\\u0441\\u0438\\u0442\\u044c\",\"\\u043e\\u043f\\u043b\\u0430\\u0442\\u0430\",\"\\u0441\\u043b\\u0443\\u0447\\u0430\\u0439\",\"\\u043f\\u043e\\u043b\\u0443\\u0447\\u0435\\u043d\\u0438\\u0435\",\"\\u043e\\u0431\\u0440\\u0430\\u0449\\u0435\\u043d\\u0438\\u0435\",\"\\u0441\\u043d\\u044f\\u0442\\u044c\",\"\\u0438\\u0434\\u0442\\u0438\",\"\\u0441\\u043c\\u043e\\u0447\\u044c\",\"\\u043f\\u043e\\u0441\\u043b\\u0435\\u0434\\u043d\\u0438\\u0439\",\"\\u043d\\u0435\\u0442.\",\"\\u0441\\u0438\\u0441\\u0442\\u0435\\u043c\\u0430\",\"\\u0440\\u0430\\u0431\\u043e\\u0447\\u0438\\u0439\",\"\\u043e\\u0442\\u043a\\u0440\\u044b\\u0442\\u044c\",\"\\u0431\\u0430\\u043d\\u043a\\u043e\\u0432\\u0441\\u043a\\u0438\\u0439\",\"\\u0434\\u0435\\u043b\\u0430\\u0442\\u044c\",\"\\u043f\\u0440\\u043e\",\"\\u043e\\u043f\\u043b\\u0430\\u0442\\u0438\\u0442\\u044c\",\"\\u043e\\u0442\\u043d\\u043e\\u0448\\u0435\\u043d\\u0438\\u0435\",\"\\u043d\\u0430\\u0445\\u043e\\u0434\\u0438\\u0442\\u044c\\u0441\\u044f\",\"\\u0437\\u0430\\u0434\\u043e\\u043b\\u0436\\u0435\\u043d\\u043d\\u043e\\u0441\\u0442\\u044c\",\"\\u0431\\u0440\\u0430\\u0442\\u044c\",\"\\u043f\\u043e\\u043b\\u0443\\u0447\\u0430\\u0442\\u044c\",\"\\u0434\\u0435\\u043b\\u043e\",\"\\u043d\\u0435\\u0442,\",\"\\u0432\\u043d\\u0435\\u0441\\u0442\\u0438\",\"\\u0432\\u0441\\u0435\\u0433\\u0434\\u0430\",\"\\u043f\\u0440\\u043e\\u0441\\u044c\\u0431\\u0430\",\"\\u0441\\u043f\\u0435\\u0446\\u0438\\u0430\\u043b\\u0438\\u0441\\u0442\",\"\\u043d\\u0443\\u0436\\u043d\\u044b\\u0439\",\"\\u0445\\u043e\\u0440\\u043e\\u0448\\u0438\\u0439\",\"\\u043e\\u0442\\u0437\\u044b\\u0432\",\"\\u043e\\u0442\\u043f\\u0440\\u0430\\u0432\\u0438\\u0442\\u044c\",\"\\u0438\\u0442\\u043e\\u0433\",\"\\u0434\\u0430\",\"\\u0441\\u043d\\u043e\\u0432\\u0430\",\"\\u043a\\u0430\\u0440\\u0442\\u0443,\",\"\\u043f\\u043e\\u0433\\u0430\\u0448\\u0435\\u043d\\u0438\\u0435\",\"\\u043c\\u0435\\u043d\\u0435\\u0434\\u0436\\u0435\\u0440\",\"\\u0430\\u0434\\u0440\\u0435\\u0441\",\"\\u0432\\u0435\\u0440\\u043d\\u0443\\u0442\\u044c\",\"\\u0432\\u043e\\u0437\\u043c\\u043e\\u0436\\u043d\\u043e\\u0441\\u0442\\u044c\",\"\\u0438\\u043c\\u0435\\u043d\\u043d\\u043e\",\"\\u0441\\u0432\\u044f\\u0437\\u044c\",\"\\u043f\\u044b\\u0442\\u0430\\u0442\\u044c\\u0441\\u044f\",\"\\u043f\\u0440\\u0435\\u0434\\u043e\\u0441\\u0442\\u0430\\u0432\\u0438\\u0442\\u044c\",\"1\",\"\\u0437\\u043d\\u0430\\u0442\\u044c\",\"\\u0434\\u0430\\u0442\\u0430\",\"\\u0441\\u043a\\u0430\\u0437\\u0430\\u043b\\u0430,\",\"30\",\"\\u0441\\u043e\\u0442\\u0440\\u0443\\u0434\\u043d\\u0438\\u0446\\u0430\",\"\\u043f\\u043e\\u043b\\u043d\\u044b\\u0439\",\"\\u043e\\u0444\\u043e\\u0440\\u043c\\u043b\\u0435\\u043d\\u0438\\u0435\",\"\\u043f\\u043e\\u044d\\u0442\\u043e\\u043c\\u0443\",\"\\u043f\\u043b\\u0430\\u0442\\u0438\\u0442\\u044c\",\"\\u043a\\u043e\\u043d\\u0435\\u0446\",\"\\u0443\\u043a\\u0430\\u0437\\u0430\\u043d\\u043d\\u044b\\u0439\",\"\\u0441\\u043e\\u043e\\u0431\\u0449\\u0438\\u0442\\u044c\",\"\\u0445\\u043e\\u0442\\u0435\\u0442\\u044c\\u0441\\u044f\",\"\\u043f\\u0438\\u0441\\u044c\\u043c\\u043e\",\"\\u043e\\u0431\\u0440\\u0430\\u0449\\u0430\\u0442\\u044c\\u0441\\u044f\",\"\\u0433\\u043e\\u0440\\u044f\\u0447\\u0438\\u0439\",\"\\u0437\\u0430\\u043a\\u0440\\u044b\\u0442\\u044c\",\"\\u043a\\u0430\\u0440\\u0442\\u044b,\",\"\\u0434\\u0435\\u043d\\u044c\\u0433\\u0438,\",\"\\u043b\\u0438\\u043c\\u0438\\u0442\",\"\\u043e\\u0442\\u0432\\u0435\\u0442\\u0438\\u0442\\u044c\",\"\\u043f\\u043e\\u0434\",\"\\u043d\\u0430\\u0447\\u0430\\u0442\\u044c\",\"\\u0438\\u0437-\\u0437\\u0430\",\"\\u0431\\u0430\\u043d\\u043a.\",\"\\u0434\\u0440\\u0443\\u0433\",\"\\u0443\\u0437\\u043d\\u0430\\u0442\\u044c\",\"\\u043e\\u0441\\u0442\\u0430\\u0442\\u044c\\u0441\\u044f\",\"\\u0447\\u0442\\u043e-\\u0442\\u043e\",\"\\u0443\\u043a\\u0430\\u0437\\u0430\\u0442\\u044c\",\"\\u043f\\u0440\\u0438\\u0435\\u0445\\u0430\\u0442\\u044c\",\"\\u043e\\u0441\\u0442\\u0430\\u0432\\u0438\\u0442\\u044c\",\"\\u043f\\u0440\\u0438\\u0447\\u0438\\u043d\\u0430\",\"\\u0433\\u043e\\u0432\\u043e\\u0440\\u0438\\u0442\\u044c\",\"\\u0432\\u0441\\u0435\\u0433\\u043e\",\"\\u0442\\u0435\\u043c\",\"\\u043a\\u0430\\u0441\\u0441\\u0430\",\"\\u043e\\u043a\\u043e\\u043b\\u043e\",\"\\u043f\\u043e\\u0434\\u0434\\u0435\\u0440\\u0436\\u043a\\u0430\",\"\\u0434\\u0435\\u0439\\u0441\\u0442\\u0432\\u0438\\u0435\",\"\\u043f\\u043e\\u0433\\u0430\\u0441\\u0438\\u0442\\u044c\",\"\\u0442\\u043e\\u0433\\u0434\\u0430\",\"\\u0440\\u0430\\u0441\\u0441\\u043c\\u043e\\u0442\\u0440\\u0435\\u043d\\u0438\\u0435\",\"\\u0437\\u0430\\u043a\\u0440\\u044b\\u0442\\u0438\\u0435\",\"\\u0441\\u043b\\u043e\\u0432\\u043e\",\"\\u043a\\u0430\\u0440\\u0442\\u0443.\",\"\\u043f\\u0435\\u0440\\u0435\\u0434\",\"\\u0441\\u043f\\u0440\\u0430\\u0432\\u043a\\u0430\",\"\\u043f\\u0440\\u043e\\u0448\\u043b\\u044b\\u0439\",\"\\u0440\\u0430\\u0437\\u043c\\u0435\\u0440\",\"\\u0434\\u0430\\u0432\\u0430\\u0442\\u044c\",\"\\u0438\\u0441\\u0442\\u043e\\u0440\\u0438\\u044f\",\"\\u043f\\u0435\\u0440\\u0435\\u0432\\u0435\\u0441\\u0442\\u0438\",\"\\u0432\\u044b\\u043f\\u0438\\u0441\\u043a\\u0430\",\"\\u0440\\u0443\\u0431\\u043b\\u0435\\u0439.\",\"15\",\"\\u043a\\u0430\\u0440\\u0442\\u044b.\",\"\\u0440\\u0435\\u0437\\u0443\\u043b\\u044c\\u0442\\u0430\\u0442\",\"\\u0434\\u0435\\u0431\\u0435\\u0442\\u043e\\u0432\\u044b\\u0439\",\"\\u0441\\u043d\\u044f\\u0442\\u0438\\u0435\",\"\\u043c\\u0435\\u0441\\u0442\\u043e\",\"\\u0447\\u0430\\u0441\",\"\\u043e\\u043a\\u0430\\u0437\\u0430\\u0442\\u044c\\u0441\\u044f\",\"\\u043c\\u043e\\u0431\\u0438\\u043b\\u044c\\u043d\\u044b\\u0439\",\"\\u0432\\u0435\\u0434\\u044c\",\"\\u043f\\u043e\\u0434\\u0430\\u0442\\u044c\",\"\\u043e\\u0447\\u0435\\u0440\\u0435\\u0434\\u043d\\u043e\\u0439\",\"\\u043d\\u0438\\u043a\\u043e\\u0433\\u0434\\u0430\",\"\\u043f\\u043e\\u0440\\u0430\",\"20\",\"\\u0438\\u043d\\u0442\\u0435\\u0440\\u043d\\u0435\\u0442\",\"\\u043d\\u0430\\u043b\\u0438\\u0447\\u043d\\u044b\\u0439\",\"\\u043d\\u0430\\u0439\\u0442\\u0438\",\"\\u0441\\u0435\\u0439\",\"\\u0441\\u043f\\u0438\\u0441\\u0430\\u043d\\u0438\\u0435\",\"4\",\"\\u0441\\u043f\\u0438\\u0441\\u0430\\u0442\\u044c\",\"\\u0443\\u043b.\",\"\\u043b\\u0438\\u0431\\u043e\",\"\\u0441\\u043a\\u043e\\u043b\\u044c\\u043a\\u043e\",\"\\u043b\\u0438\\u043d\\u0438\\u044f\",\"\\u043e\\u0442\\u043a\\u0440\\u044b\\u0442\\u0438\\u0435\",\"\\u0434\\u043d\\u0435\\u0439.\",\"\\u0441\\u0442\\u0430\\u0432\\u043a\\u0430\",\"\\u044f,\",\"\\u043e\\u0442\\u0434\\u0435\\u043b\",\"\\u043f\\u0440\\u0430\\u0432\\u043e\",\"\\u043a\\u0430\\u0440\\u0442\\u043e\\u0447\\u043a\\u0430\",\"\\u043b\\u044e\\u0431\\u043e\\u0439\",\"\\u0434\\u043e\\u043f\\u043e\\u043b\\u043d\\u0438\\u0442\\u0435\\u043b\\u044c\\u043d\\u044b\\u0439\",\"\\u043c\\u043d\\u0435,\",\"\\u043f\\u043e\\u0442\\u043e\\u043c\\u0443\",\"\\u043e\\u0448\\u0438\\u0431\\u043a\\u0430\",\"\\u0447\\u0438\\u0441\\u043b\\u043e\",\"\\u043f\\u043e\\u043a\\u0443\\u043f\\u043a\\u0430\",\"\\u043b\\u0438\\u0447\\u043d\\u044b\\u0439\",\"\\u0442.\\u0435.\",\"\\u043d\\u0430\\u0437\\u0430\\u0434\",\"\\u044d\\u043b\\u0435\\u043a\\u0442\\u0440\\u043e\\u043d\\u043d\\u044b\\u0439\",\"\\u0434\\u0435\\u043a\\u0430\\u0431\\u0440\\u044c\",\"\\u0440\\u0430\\u0437\\u043e\\u0431\\u0440\\u0430\\u0442\\u044c\\u0441\\u044f\",\"\\u043a\\u043e\\u043f\\u0438\\u044f\",\"\\u043e\\u0431\\u044a\\u044f\\u0441\\u043d\\u0438\\u0442\\u044c\",\"\\u043f\\u043e\\u043c\\u043e\\u0447\\u044c\",\"\\u0432\\u043e\\u0437\\u0432\\u0440\\u0430\\u0442\",\"\\u043a\\u0440\\u0435\\u0434\\u0438\\u0442,\",\"\\u043d\\u0430\\u0447\\u0430\\u043b\\u043e\",\"1.\",\"\\u043f\\u0440\\u043e\\u0439\\u0442\\u0438\",\"\\u0444\\u0438\\u043b\\u0438\\u0430\\u043b\",\"\\u2116\",\"\\u043e\\u0431\\u0449\\u0435\\u043c,\",\"2.\",\"\\u043c\\u043d\\u043e\\u0433\\u043e\",\"\\u0434\\u043e\\u043b\\u0433\",\"\\u0435\\u0451\",\"\\u043e\\u0444\\u043e\\u0440\\u043c\\u043b\\u044f\\u0442\\u044c\",\"\\u043f\\u0430\\u0440\\u0430\",\"\\u0438,\",\"\\u0432\\u044b\\u0434\\u0430\\u0447\\u0430\",\"\\u043f\\u043e\\u043b\\u043e\\u0436\\u0438\\u0442\\u044c\",\"\\u043f\\u0440\\u043e\\u0438\\u0437\\u043e\\u0439\\u0442\\u0438\",\"\\u043e\\u043f\\u0435\\u0440\\u0430\\u0446\\u0438\\u043e\\u043d\\u0438\\u0441\\u0442\",\"\\u0442\\u0435\\u0440\\u043c\\u0438\\u043d\\u0430\\u043b\",\"\\u0437\\u0430\\u0440\\u043f\\u043b\\u0430\\u0442\\u043d\\u044b\\u0439\",\"\\u043b\\u0438\\u0446\\u043e\",\"\\u043e\\u0431\\u0435\\u0449\\u0430\\u0442\\u044c\",\"\\u043f\\u0440\\u0435\\u0434\\u0441\\u0442\\u0430\\u0432\\u0438\\u0442\\u0435\\u043b\\u044c\",\"\\u043f\\u0440\\u043e\\u0432\\u0435\\u0441\\u0442\\u0438\",\"\\u0437\\u0430\\u0431\\u043b\\u043e\\u043a\\u0438\\u0440\\u043e\\u0432\\u0430\\u0442\\u044c\",\"\\u043a\\u0443\\u0434\\u0430\",\"\\u0434\\u043e\\u0441\\u0440\\u043e\\u0447\\u043d\\u044b\\u0439\",\"\\u0437\\u0430\\u0439\\u0442\\u0438\",\"\\u0431\\u0430\\u043d\\u043a\\u0435,\",\"\\u0443\\u0432\\u0430\\u0436\\u0430\\u0435\\u043c\\u044b\\u0439\",\"\\u0434\\u0435\\u043d\\u044c,\",\"\\u043e\\u0442\\u043a\\u0430\\u0437\",\"\\u043f\\u0440\\u0438\\u0447\\u0451\\u043c\",\"\\u0432\\u0438\\u0434\\u0435\\u0442\\u044c\",\"\\u043e\\u0431\\u0449\\u0438\\u0439\",\"\\u0441\\u0442\\u043e\\u0440\\u043e\\u043d\\u0430\",\"\\u0441\\u043a\\u0430\\u0437\\u0430\\u043b,\",\"\\u043f\\u0430\\u0441\\u043f\\u043e\\u0440\\u0442\",\"\\u0437\\u0430\\u0447\\u0435\\u043c\",\"\\u043f\\u043e\\u0447\\u0442\\u0438\",\"\\u0442\\u0440\\u0435\\u0431\\u043e\\u0432\\u0430\\u0442\\u044c\",\"\\u043d\\u0435\\u043a\\u043e\\u0442\\u043e\\u0440\\u044b\\u0439\",\"\\u0441\\u0442\\u0440\\u0430\\u0445\\u043e\\u0432\\u043a\\u0430\",\"\\u0441\\u043f\\u0430\\u0441\\u0438\\u0431\\u043e\",\"\\u0441\\u0442\\u043e\\u0438\\u0442\\u044c\",\"\\u043c\\u043e\\u0441\\u043a\\u0432\\u0430\",\"\\u043f\\u0440\\u0438\\u0441\\u043b\\u0430\\u0442\\u044c\",\"\\u0441\\u043e\\u043e\\u0431\\u0449\\u0435\\u043d\\u0438\\u0435\",\"\\u043e\\u0441\\u0442\\u0430\\u0442\\u043e\\u043a\",\"\\u043f\\u043e\\u0441\\u0442\\u0443\\u043f\\u0438\\u0442\\u044c\",\"\\u0441\\u043d\\u0430\\u0447\\u0430\\u043b\\u0430\",\"\\u043f\\u043e\\u0439\\u0442\\u0438\",\"\\u0440\\u0430\\u0437\\u0433\\u043e\\u0432\\u043e\\u0440\",\"\\u043f\\u0440\\u0435\\u0434\\u043b\\u043e\\u0436\\u0435\\u043d\\u0438\\u0435\",\"\\u043f\\u0440\\u0435\\u0434\\u043b\\u0430\\u0433\\u0430\\u0442\\u044c\",\"\\u0434\\u0435\\u043d\\u044c.\",\"\\u043e\\u0442\\u0432\\u0435\\u0447\\u0430\\u0442\\u044c\",\"\\u0440\\u0430\\u0437\\u043d\\u044b\\u0439\",\"\\u0434\\u0435\\u043d\\u044c\\u0433\\u0438.\",\"\\u043e\\u0434\\u043d\\u0430\\u043a\\u043e\",\"\\u0433\\u043e\\u0440\\u043e\\u0434\",\"\\u0436\\u0430\\u043b\\u043e\\u0431\\u0430\",\"\\u043f\\u0440\\u043e\\u0433\\u0440\\u0430\\u043c\\u043c\\u0430\",\"\\u043e\\u0442\\u043a\\u0430\\u0437\\u0430\\u0442\\u044c\\u0441\\u044f\",\"\\u0434\\u043e\\u043b\\u0433\\u043e\",\"\\u043f\\u0440\\u043e\\u0441\\u0440\\u043e\\u0447\\u043a\\u0430\",\"\\u043f\\u043e\\u0432\\u043e\\u0434\",\"\\u043f\\u043e\\u043f\\u044b\\u0442\\u043a\\u0430\",\"(\\u0432\",\"\\u0442\\u044b\\u0441\\u044f\\u0447\\u0430\",\"\\u0440\\u0430\\u0431\\u043e\\u0442\\u043d\\u0438\\u043a\",\"\\u0434\\u043d\\u0435\\u0439,\",\"\\u043a\\u0440\\u043e\\u043c\\u0435\",\"\\u043f\\u0435\\u0440\\u0435\\u0437\\u0432\\u043e\\u043d\\u0438\\u0442\\u044c\",\"\\u0440\\u0443\\u0431\\u043b\\u0435\\u0439,\",\"\\u0443\\u0442\\u043e\\u0447\\u043d\\u0438\\u0442\\u044c\",\"2013\",\"\\u0434\\u0435\\u043d\\u044c!\",\"2014\",\"\\u0431\\u0430\\u043d\\u043a\\u0435.\",\"\\u0431\\u043b\\u0438\\u0436\\u043d\\u0438\\u0439\",\"\\u0437\\u0430\\u043f\\u043e\\u043b\\u043d\\u0438\\u0442\\u044c\",\"\\u043c\\u0430\\u0440\\u0442\",\"\\u043f\\u0440\\u0438\\u043d\\u0438\\u043c\\u0430\\u0442\\u044c\",\"\\u0442\\u0435\\u0445\\u043d\\u0438\\u0447\\u0435\\u0441\\u043a\\u0438\\u0439\",\"\\u0434\\u0430\\u043b\\u0435\\u0435\",\"\\u0437\\u0430\\u0431\\u0440\\u0430\\u0442\\u044c\",\"\\u043a\\u0430\\u0447\\u0435\\u0441\\u0442\\u0432\\u043e\",\"\\u043e\\u043f\\u043b\\u0430\\u0447\\u0438\\u0432\\u0430\\u0442\\u044c\",\"\\u0437\\u0430\\u043f\\u0440\\u043e\\u0441\",\"\\u043f\\u043e\\u0434\\u043e\\u0431\\u043d\\u044b\\u0439\",\"\\u043f\\u043e\\u043d\\u0438\\u043c\\u0430\\u044e,\",\"\\u0434\\u0430,\",\"\\u0441\\u043d\\u0438\\u043c\\u0430\\u0442\\u044c\",\"\\u0443\\u0439\\u0442\\u0438\",\"\\u043e\\u0442\\u0434\\u0435\\u043b\\u0435\\u043d\\u0438\\u0435,\",\"\\u044f\\u043d\\u0432\\u0430\\u0440\\u044c\",\"\\u0432\\u043e\\u043f\\u0440\\u043e\\u0441,\",\"\\u0431\\u044b\\u043b\\u043e.\",\"\\u0441\\u0432\\u044f\\u0437\\u0430\\u0442\\u044c\\u0441\\u044f\",\"\\u0431\\u044b\\u0441\\u0442\\u0440\\u043e\",\"\\u0432\\u043e\\u0437\\u043d\\u0438\\u043a\\u043d\\u0443\\u0442\\u044c\",\"\\u0445\\u043e\\u0442\\u044c\",\"\\u0432\\u0441\\u0451-\\u0442\\u0430\\u043a\\u0438\",\"\\u0437\\u0434\\u0435\\u0441\\u044c\",\"\\u043a\\u0440\\u0435\\u0434\\u0438\\u0442.\",\"\\u043f\\u043e\\u0447\\u0442\\u0430\",\"\\u043a\\u043e\\u043d\\u0435\\u0447\\u043d\\u043e,\",\"\\u043c\\u0435\\u043d\\u044f,\",\"\\u043f\\u0435\\u0440\\u0432\\u043e\\u0435\",\"\\u0442\\u0440\\u0435\\u0431\\u043e\\u0432\\u0430\\u043d\\u0438\\u0435\",\"\\u0442\\u0430\\u0440\\u0438\\u0444\",\"\\u043e\\u043a\\u0430\\u0437\\u0430\\u043b\\u043e\\u0441\\u044c,\",\"\\u043f\\u043e\\u043b\\u043e\\u0436\\u0438\\u0442\\u0435\\u043b\\u044c\\u043d\\u044b\\u0439\",\"\\u043f\\u0440\\u043e\\u0432\\u0435\\u0440\\u0438\\u0442\\u044c\",\"\\u0442\\u0435\\u043c,\",\"\\u0433\\u043e\\u0442\\u043e\\u0432\\u044b\\u0439\",\"\\u0447\\u0442\\u043e,\",\"\\u043e\\u0431\\u0449\\u0435\\u043d\\u0438\\u0435\",\"\\u043e\\u0442\\u043a\\u0440\\u044b\\u0442\\u044b\\u0439\",\"\\u0441\\u043e\\u0441\\u0442\\u0430\\u0432\\u0438\\u0442\\u044c\",\"\\u043f\\u043e\\u0434\\u043a\\u043b\\u044e\\u0447\\u0438\\u0442\\u044c\",\"\\u0441\\u0447\\u0438\\u0442\\u0430\\u0442\\u044c\",\"\\u0437\\u0430\\u043f\\u043b\\u0430\\u0442\\u0438\\u0442\\u044c\",\"8\",\"\\u0437\\u0430\\u044f\\u0432\\u043b\\u0435\\u043d\\u0438\\u0435,\",\"\\u0435\\u0436\\u0435\\u043c\\u0435\\u0441\\u044f\\u0447\\u043d\\u044b\\u0439\",\"\\u0430\\u043f\\u0440\\u0435\\u043b\\u044c\",\"\\u043f\\u043e\\u0436\\u0430\\u043b\\u0443\\u0439\\u0441\\u0442\\u0430,\",\"\\u043f\\u043e\\u0434\\u043e\\u0439\\u0442\\u0438\",\"\\u043a\\u0443\\u0440\\u0441\",\"\\u043f\\u0440\\u0438\\u043c\\u0435\\u0440\\u043d\\u043e\",\"\\u043d\\u0430\\u0447\\u0430\\u0442\\u044c\\u0441\\u044f\",\"\\u0447\\u0430\\u0441\\u044b\",\"\\u043f\\u043e\\u0441\\u043a\\u043e\\u043b\\u044c\\u043a\\u0443\",\"\\u0433\\u043e\\u0434\\u0430.\",\"\\u0434\\u0443\\u043c\\u0430\\u044e,\",\"\\u0443\\u0436\",\"\\u0447\\u0430\\u0441\\u0442\\u044c\",\"\\u0441\\u0438\\u0434\\u0435\\u0442\\u044c\",\"\\u0440\\u0443\\u043a\\u0430\",\"\\u043c\\u0430\\u0439\",\"\\u0433\\u043e\\u0432\\u043e\\u0440\\u044f\\u0442,\",\"\\u0441\\u043f\\u0440\\u043e\\u0441\\u0438\\u0442\\u044c\"],\"x1\":{\"__ndarray__\":\"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\",\"dtype\":\"float32\",\"shape\":[500]},\"x2\":{\"__ndarray__\":\"jKooQfVHKEETsuZAq2FJQUlSEUE0zf5AW+wEQcHz7MAThsxAmL7Yv292JUC+qdZAn33UQbYHP0HFtdtBWu+TQDOfgkCMCc5A4wqqQdB/qkG1qAZB3c2/QXEWpkA3O+hAp10gvgxSAUI8MztBp3shQXj2ykA0BFJBkZg4QX2m9kCtkUhBrux+wFzLnUHmFm7BSPalwQ/7uUBTc+zA9AzOwTTp8sAc1rLA3JcUwTR+0cBBj81B8frMQditu0A96WFBAogiQfT9Z7+9R6BB9IsoQWq2VcFt3EpBa0H3Pt0GOECeTa3Bw2q4QBU6GkHBND7B0GpWQLGaf0CuxCHAfroeQO40GsD/+oVBfoa/wJJ6+sDuShnAB7VeQED3LEHj/YJB2Hm3P1r4rsH9k/XAXyWxwSBNUUE5oA9B8HNAwO9nnkEwnptAxjbbQdo9e0AkVmNBZbaHQegcgkGQhoNBiYXHQVi2s8H0lJDBDgptwHjwocHJcKrBp9KhP7tcp7/qaYlAzZuewQmNAEIvSRjB89QrP7R9E8GqyC6/B0NBwcDAIMGn1VhASysgQNfazUFrhIBBT9lmQWuXAkHM/+zAZ3vVwVBce0FdM8fAL4ygwaTjPEE/AZhBlC5UQVVMBMAep91BQi9zQVbah8CPWh0/r2mvP/uwmMAYhLbBgFOVQSygJcHuCG9B3qSrwCmZvz8XEZdAHvIrweZwXsDY39HA/o/AwXB7xsF6Z4rBHo5AwYGADcFC17tBIHliwaH/isHHuxbAwfJLQfoigkDjgt+/CgSAPgc4lMCGKorBtKy6wcQ0hsHeSWFBQopyQdTDUMCTkABBxrgcwBls40FtITNAGkxvwWnkbsHAfKhAznF6QTulrMGSx3/ByGkNv2aJGUE3HZzBqaP5QSHmz78815dBOvc9QeAhBUGhzN5Bfh4Dwbh6XkFiiStBdrEhwaJ3IcFvVoBAwk1qwJLG7j7xVJRBas4BwXJ0tcCkyW3B5EQ0wU+4I0AKRz7ANYRHwecVdcHbU4zBODmVQSxyqj7OEtBAVMCpwVORsUHTaH5BcjnGwZ3qS7+LGBfB5EKJP1O5hMHSXt6/iSBOwEjUy8FeB2hB5eNGwNAYFEFlqabBdVZtwTQqZsHYDazBtAK3wPXEqcC9J/s/sekfwb+OG8GDnS9BaHmgwS8UqEGnMGLBgV46wfGfBMGWSbdBqUOLwUZGQcEw1IzAhLmqwJf4VsGMb86/RLzdwWu7Y8GBLHnBfvHFwJvPuMEDWlXBM/KXv+GqEcA4C5HAmyzhQbaOYkHq+VrBbNeBQTRfWMHi6EdAev9NQOcXm8AqmbfBvKwdwc0B9cDfBdm/SYR1QRa4ncEt2CnBxKZywYP5zD8h/QhBvppyQGRMdsF/36G/tgyvwI1gBr/ZmKHBd5KTwR2CPcGlszU/sD8qwVh26EHoCwJCfl6rQTcqPEBXxRdBIC1NwL6vAEEoSL5BxH4IwXdmGMAsRBTBEo6GQTcTr8Dcj3HBethxwEhC2EGjxnM/aKDvwMesP7+lznJBHPkNwSz/U79RrZNA6hZSwT684D42kKjB6dn9QDAtZMHDz+NBEkf0QCA2m0GUCLTBsQ2mQUuUVr70IqA/KR9YwXONoUFNT9xBnfEdwdcv60FxXrm/KYRGQQpPMEGnjmBBgpODQdOgA8HTODDBRnG8PAe2jMDmUazAK9olQX9KzkC3shXBAkIywUg6eUF4m7LAj806wDfSNkEThPTAqF55wZA2iEEuwFU/wT+IQLGnk0HugfxAIu1TQWaeV8EpsRJB5mj5QSkzakAAVthBCJwYwTXFvkCC7jhBZm/qvrEd9UC+n+BAKwN2QSH2l0Axm5RAzA3PwcsJ1EBYQehAIxPTwDGVjkF0mLU+S2HBwBI1I0Eddc9BcNwEwB6WREGiTK/BLSuYQQuzZkEeUlW/xAqwQPGANMEsirZBgqxPQZ7C3MCuqibBb58DQWztGUEE/lDBvJ7DwKt4VMHK8YFBcTE8QUw5Y0ElqsnBxON7wfT9psHfUHrB0kKLQPcRiUHdGWHBH6/ZQTaVL0CPy0lBczPhwUWWgkA2YzLAIOIaP89PzsB7GJzBc4mPQboyXkDDRAnBJ7/cwauMl0FdLWdBPrfFP/O0dMGJRXNBKXBgwbs7isG6IKFBdMxpwRqs8z82oGbBRjs+wT9vycFMfMbB2khFQdW9SEC2beTAjTYCQvrkhUBwbnRByMCuwXm6/D/3geHBtcCZPyLxr0HpMdhBRKq9wdAmK0GhRrNB6AFowTaJV0G1LRBBQwuBwYLU4UHefTXAY878P2EMQEHu//w/IwDaQZuaHsGooq7ADVj7QAR/17/Att9Agmc7QAEPRcG6skFA/jFvwTHdnsFk7NDAOiaIwAVZf79uTnXBCOM4wVnOr0FzMt9Aa8IQQQsf90B70nbBBsObPKiKuMAzQozAFSqgP2+iOb92JNBBivSRwbfcHsD5QjdB41nGwM+c4sETl0DBYWCQwXcU5cBHcpTAUB0Pv7bqj8EgpvtAITI5weI+EsGNDYvADgsZwcVbmsDJU2rBOnMBwS91rMGrVIlBoS/XQLn3X0DvY4DB4QcuwVBABsHbP4vANXSDQUsbjED1hYdB/MlmwGSugsBdbghBPp0TwSwHe0EjJvdAXgadwfi8CMA=\",\"dtype\":\"float32\",\"shape\":[500]}}},\"id\":\"2df38016-77ac-498f-960b-a19bba29fcbe\",\"type\":\"ColumnDataSource\"},{\"attributes\":{\"plot\":null,\"text\":\"word2vec T-SNE for most common words\"},\"id\":\"52d48690-1f7f-4c3c-855b-88c41136cf6b\",\"type\":\"Title\"},{\"attributes\":{\"fill_color\":{\"value\":\"#1f77b4\"},\"line_color\":{\"value\":\"#1f77b4\"},\"size\":{\"units\":\"screen\",\"value\":8},\"x\":{\"field\":\"x1\"},\"y\":{\"field\":\"x2\"}},\"id\":\"0a2c93bc-df2d-45cb-9c4b-10fe57d1e133\",\"type\":\"Circle\"},{\"attributes\":{\"source\":{\"id\":\"2df38016-77ac-498f-960b-a19bba29fcbe\",\"type\":\"ColumnDataSource\"}},\"id\":\"c2d06018-b384-4a4b-8839-64835d012308\",\"type\":\"CDSView\"},{\"attributes\":{},\"id\":\"070fa0e2-5f0b-4e84-aa2a-5c77aa12f046\",\"type\":\"BasicTickFormatter\"},{\"attributes\":{\"plot\":{\"id\":\"23243a24-c0b3-420f-8779-81241492cbd7\",\"subtype\":\"Figure\",\"type\":\"Plot\"},\"source\":{\"id\":\"2df38016-77ac-498f-960b-a19bba29fcbe\",\"type\":\"ColumnDataSource\"},\"text\":{\"field\":\"names\"},\"text_align\":\"center\",\"text_color\":{\"value\":\"#555555\"},\"text_font_size\":{\"value\":\"8pt\"},\"x\":{\"field\":\"x1\"},\"y\":{\"field\":\"x2\"},\"y_offset\":{\"value\":6}},\"id\":\"7bab3f65-52b2-4379-8086-d693864c8ee5\",\"type\":\"LabelSet\"},{\"attributes\":{},\"id\":\"aab53305-d48e-4959-b929-b66b58af6021\",\"type\":\"WheelZoomTool\"},{\"attributes\":{},\"id\":\"89ff7143-b72f-4e35-a540-b7ceb583def8\",\"type\":\"ResetTool\"},{\"attributes\":{},\"id\":\"18bf922b-2da8-4130-83e7-c22bc9cc7780\",\"type\":\"LinearScale\"},{\"attributes\":{},\"id\":\"b9012d06-abe5-4315-b785-35dcbe6c4d4d\",\"type\":\"SaveTool\"},{\"attributes\":{\"callback\":null},\"id\":\"f612fe2c-e97e-4aa0-922b-e94c2bf1619a\",\"type\":\"DataRange1d\"},{\"attributes\":{\"data_source\":{\"id\":\"2df38016-77ac-498f-960b-a19bba29fcbe\",\"type\":\"ColumnDataSource\"},\"glyph\":{\"id\":\"0a2c93bc-df2d-45cb-9c4b-10fe57d1e133\",\"type\":\"Circle\"},\"hover_glyph\":null,\"muted_glyph\":null,\"nonselection_glyph\":{\"id\":\"b03c11c1-7352-452d-99e0-36592cd4be1d\",\"type\":\"Circle\"},\"selection_glyph\":null,\"view\":{\"id\":\"c2d06018-b384-4a4b-8839-64835d012308\",\"type\":\"CDSView\"}},\"id\":\"1a3ef8be-8ae5-4ea5-afe1-1ed7813c4f2a\",\"type\":\"GlyphRenderer\"},{\"attributes\":{\"plot\":{\"id\":\"23243a24-c0b3-420f-8779-81241492cbd7\",\"subtype\":\"Figure\",\"type\":\"Plot\"},\"ticker\":{\"id\":\"93cf5154-dbd1-4ab7-8931-577b957cdbf0\",\"type\":\"BasicTicker\"}},\"id\":\"ad76ec94-5fba-4558-a42e-fe8eb5198d18\",\"type\":\"Grid\"},{\"attributes\":{\"below\":[{\"id\":\"5578e02e-4672-45e8-b859-e0171e13758b\",\"type\":\"LinearAxis\"}],\"left\":[{\"id\":\"da8f5e44-2079-472a-b801-e033168513c5\",\"type\":\"LinearAxis\"}],\"renderers\":[{\"id\":\"5578e02e-4672-45e8-b859-e0171e13758b\",\"type\":\"LinearAxis\"},{\"id\":\"ad76ec94-5fba-4558-a42e-fe8eb5198d18\",\"type\":\"Grid\"},{\"id\":\"da8f5e44-2079-472a-b801-e033168513c5\",\"type\":\"LinearAxis\"},{\"id\":\"6f9149c2-0a8f-449c-ac42-7d0dff330252\",\"type\":\"Grid\"},{\"id\":\"1a3ef8be-8ae5-4ea5-afe1-1ed7813c4f2a\",\"type\":\"GlyphRenderer\"},{\"id\":\"7bab3f65-52b2-4379-8086-d693864c8ee5\",\"type\":\"LabelSet\"}],\"title\":{\"id\":\"52d48690-1f7f-4c3c-855b-88c41136cf6b\",\"type\":\"Title\"},\"toolbar\":{\"id\":\"ad2a0ddc-2ae7-40b1-9bff-27063f96a402\",\"type\":\"Toolbar\"},\"toolbar_location\":\"above\",\"x_range\":{\"id\":\"5cfe855a-dd72-4895-b070-ad82eb809006\",\"type\":\"DataRange1d\"},\"x_scale\":{\"id\":\"18bf922b-2da8-4130-83e7-c22bc9cc7780\",\"type\":\"LinearScale\"},\"y_range\":{\"id\":\"f612fe2c-e97e-4aa0-922b-e94c2bf1619a\",\"type\":\"DataRange1d\"},\"y_scale\":{\"id\":\"d63c68b9-f583-4148-a678-62821f648f10\",\"type\":\"LinearScale\"}},\"id\":\"23243a24-c0b3-420f-8779-81241492cbd7\",\"subtype\":\"Figure\",\"type\":\"Plot\"},{\"attributes\":{\"active_drag\":\"auto\",\"active_inspect\":\"auto\",\"active_scroll\":\"auto\",\"active_tap\":\"auto\",\"tools\":[{\"id\":\"fceaa65d-3c53-424f-95e6-861b4d18b3a1\",\"type\":\"PanTool\"},{\"id\":\"aab53305-d48e-4959-b929-b66b58af6021\",\"type\":\"WheelZoomTool\"},{\"id\":\"89ff7143-b72f-4e35-a540-b7ceb583def8\",\"type\":\"ResetTool\"},{\"id\":\"b9012d06-abe5-4315-b785-35dcbe6c4d4d\",\"type\":\"SaveTool\"}]},\"id\":\"ad2a0ddc-2ae7-40b1-9bff-27063f96a402\",\"type\":\"Toolbar\"},{\"attributes\":{\"fill_alpha\":{\"value\":0.1},\"fill_color\":{\"value\":\"#1f77b4\"},\"line_alpha\":{\"value\":0.1},\"line_color\":{\"value\":\"#1f77b4\"},\"size\":{\"units\":\"screen\",\"value\":8},\"x\":{\"field\":\"x1\"},\"y\":{\"field\":\"x2\"}},\"id\":\"b03c11c1-7352-452d-99e0-36592cd4be1d\",\"type\":\"Circle\"},{\"attributes\":{},\"id\":\"f892ded8-e1c4-4178-963b-c7d17d50762c\",\"type\":\"BasicTickFormatter\"},{\"attributes\":{\"callback\":null},\"id\":\"5cfe855a-dd72-4895-b070-ad82eb809006\",\"type\":\"DataRange1d\"},{\"attributes\":{},\"id\":\"d63c68b9-f583-4148-a678-62821f648f10\",\"type\":\"LinearScale\"}],\"root_ids\":[\"23243a24-c0b3-420f-8779-81241492cbd7\"]},\"title\":\"Bokeh Application\",\"version\":\"0.12.13\"}};\n",
       "  var render_items = [{\"docid\":\"4e58c057-0457-451d-8228-09b58e6ce263\",\"elementid\":\"22ce813d-0a24-402f-aebf-0839ec9ad29f\",\"modelid\":\"23243a24-c0b3-420f-8779-81241492cbd7\"}];\n",
       "  root.Bokeh.embed.embed_items_notebook(docs_json, render_items);\n",
       "\n",
       "  }\n",
       "  if (root.Bokeh !== undefined) {\n",
       "    embed_document(root);\n",
       "  } else {\n",
       "    var attempts = 0;\n",
       "    var timer = setInterval(function(root) {\n",
       "      if (root.Bokeh !== undefined) {\n",
       "        embed_document(root);\n",
       "        clearInterval(timer);\n",
       "      }\n",
       "      attempts++;\n",
       "      if (attempts > 100) {\n",
       "        console.log(\"Bokeh: ERROR: Unable to run BokehJS code because BokehJS library is missing\")\n",
       "        clearInterval(timer);\n",
       "      }\n",
       "    }, 10, root)\n",
       "  }\n",
       "})(window);"
      ],
      "application/vnd.bokehjs_exec.v0+json": ""
     },
     "metadata": {
      "application/vnd.bokehjs_exec.v0+json": {
       "id": "23243a24-c0b3-420f-8779-81241492cbd7"
      }
     },
     "output_type": "display_data"
    }
   ],
   "source": [
    "from bokeh.models import ColumnDataSource, LabelSet\n",
    "from bokeh.plotting import figure, show, output_file\n",
    "from bokeh.io import output_notebook\n",
    "output_notebook()\n",
    "\n",
    "p = figure(tools=\"pan,wheel_zoom,reset,save\",\n",
    "           toolbar_location=\"above\",\n",
    "           title=\"word2vec T-SNE for most common words\")\n",
    "\n",
    "source = ColumnDataSource(data=dict(x1=top_words_tsne[:,0],\n",
    "                                    x2=top_words_tsne[:,1],\n",
    "                                    names=top_words))\n",
    "\n",
    "p.scatter(x=\"x1\", y=\"x2\", size=8, source=source)\n",
    "\n",
    "labels = LabelSet(x=\"x1\", y=\"x2\", text=\"names\", y_offset=6,\n",
    "                  text_font_size=\"8pt\", text_color=\"#555555\",\n",
    "                  source=source, text_align='center')\n",
    "p.add_layout(labels)\n",
    "\n",
    "show(p)"
   ]
  },
  {
   "cell_type": "code",
   "execution_count": 77,
   "metadata": {},
   "outputs": [],
   "source": [
    "# действительно получились четкие классы:\n",
    "# слева (-30 ; 14 ) покупка, оплата платеж, снятие списание возврат\n",
    "# -30 ;4 писать написать оформить заполнить\n",
    "# еще ниже: забрать выдать, получить, внести\n"
   ]
  },
  {
   "cell_type": "code",
   "execution_count": null,
   "metadata": {},
   "outputs": [],
   "source": []
  },
  {
   "cell_type": "code",
   "execution_count": 78,
   "metadata": {},
   "outputs": [],
   "source": [
    "##берем векторы слов хороших и плохих и вычитаем"
   ]
  },
  {
   "cell_type": "code",
   "execution_count": 17,
   "metadata": {},
   "outputs": [
    {
     "name": "stderr",
     "output_type": "stream",
     "text": [
      "/anaconda3/lib/python3.6/site-packages/ipykernel_launcher.py:1: DeprecationWarning: Call to deprecated `__getitem__` (Method will be removed in 4.0.0, use self.wv.__getitem__() instead).\n",
      "  \"\"\"Entry point for launching an IPython kernel.\n",
      "/anaconda3/lib/python3.6/site-packages/ipykernel_launcher.py:2: DeprecationWarning: Call to deprecated `__getitem__` (Method will be removed in 4.0.0, use self.wv.__getitem__() instead).\n",
      "  \n",
      "/anaconda3/lib/python3.6/site-packages/ipykernel_launcher.py:3: DeprecationWarning: Call to deprecated `__getitem__` (Method will be removed in 4.0.0, use self.wv.__getitem__() instead).\n",
      "  This is separate from the ipykernel package so we can avoid doing imports until\n",
      "/anaconda3/lib/python3.6/site-packages/ipykernel_launcher.py:4: DeprecationWarning: Call to deprecated `__getitem__` (Method will be removed in 4.0.0, use self.wv.__getitem__() instead).\n",
      "  after removing the cwd from sys.path.\n"
     ]
    }
   ],
   "source": [
    "good=model['хорошо']\n",
    "bad=model['плохо']\n",
    "slow=model['медленно']\n",
    "fast=model['быстро']\n",
    "\n",
    "\n",
    "x = good - bad\n",
    "y = fast - slow"
   ]
  },
  {
   "cell_type": "code",
   "execution_count": null,
   "metadata": {},
   "outputs": [],
   "source": []
  },
  {
   "cell_type": "code",
   "execution_count": 19,
   "metadata": {},
   "outputs": [
    {
     "name": "stderr",
     "output_type": "stream",
     "text": [
      "/anaconda3/lib/python3.6/site-packages/ipykernel_launcher.py:1: DeprecationWarning: Call to deprecated `most_similar` (Method will be removed in 4.0.0, use self.wv.most_similar() instead).\n",
      "  \"\"\"Entry point for launching an IPython kernel.\n"
     ]
    },
    {
     "data": {
      "text/plain": [
       "[('отп', 0.8736619353294373),\n",
       " ('райффайзный', 0.7821168899536133),\n",
       " ('юникредит', 0.7700337171554565),\n",
       " ('сетель', 0.7653316259384155),\n",
       " ('связной', 0.7581559419631958),\n",
       " ('мдм', 0.7521827816963196),\n",
       " ('номос', 0.7519956827163696),\n",
       " ('океан', 0.737085223197937),\n",
       " ('хкф', 0.7277295589447021),\n",
       " ('русфинанс', 0.7087728381156921)]"
      ]
     },
     "execution_count": 19,
     "metadata": {},
     "output_type": "execute_result"
    }
   ],
   "source": [
    "model.most_similar(\"альфа\")"
   ]
  },
  {
   "cell_type": "code",
   "execution_count": 21,
   "metadata": {},
   "outputs": [
    {
     "name": "stderr",
     "output_type": "stream",
     "text": [
      "/anaconda3/lib/python3.6/site-packages/ipykernel_launcher.py:1: DeprecationWarning: Call to deprecated `most_similar` (Method will be removed in 4.0.0, use self.wv.most_similar() instead).\n",
      "  \"\"\"Entry point for launching an IPython kernel.\n"
     ]
    }
   ],
   "source": [
    "list1=model.most_similar(\"сбербанк\")"
   ]
  },
  {
   "cell_type": "code",
   "execution_count": 22,
   "metadata": {},
   "outputs": [
    {
     "data": {
      "text/plain": [
       "[('ситибанк', 0.7994114756584167),\n",
       " ('альфа-банк', 0.7692263126373291),\n",
       " ('сбербанка,', 0.7369735836982727),\n",
       " ('сбер', 0.7229760885238647),\n",
       " ('мкб', 0.7064220905303955),\n",
       " ('банка', 0.6896098256111145),\n",
       " ('росбанк', 0.6837205290794373),\n",
       " ('сб', 0.6800389885902405),\n",
       " ('сбербанка.', 0.6779881715774536),\n",
       " ('промсвязьбанк', 0.6757773160934448)]"
      ]
     },
     "execution_count": 22,
     "metadata": {},
     "output_type": "execute_result"
    }
   ],
   "source": [
    "list1"
   ]
  },
  {
   "cell_type": "code",
   "execution_count": null,
   "metadata": {},
   "outputs": [],
   "source": []
  },
  {
   "cell_type": "code",
   "execution_count": 79,
   "metadata": {},
   "outputs": [],
   "source": [
    "# проверяем позитив и негатив"
   ]
  },
  {
   "cell_type": "code",
   "execution_count": 23,
   "metadata": {},
   "outputs": [
    {
     "name": "stderr",
     "output_type": "stream",
     "text": [
      "/anaconda3/lib/python3.6/site-packages/ipykernel_launcher.py:1: DeprecationWarning: Call to deprecated `most_similar` (Method will be removed in 4.0.0, use self.wv.most_similar() instead).\n",
      "  \"\"\"Entry point for launching an IPython kernel.\n"
     ]
    },
    {
     "data": {
      "text/plain": [
       "[('плохо', 0.6931405663490295),\n",
       " ('здорово', 0.6390696167945862),\n",
       " ('печально', 0.633860170841217),\n",
       " ('грустно', 0.6297463774681091),\n",
       " ('плохо.', 0.6086457967758179),\n",
       " ('круто', 0.6032573580741882),\n",
       " ('печально.', 0.5903197526931763),\n",
       " ('жаль.', 0.5841788053512573),\n",
       " ('классно', 0.5813751220703125),\n",
       " ('слабо', 0.5786608457565308)]"
      ]
     },
     "execution_count": 23,
     "metadata": {},
     "output_type": "execute_result"
    }
   ],
   "source": [
    "model.most_similar(positive=[\"хорошо\",\"плохой\"], negative=[\"кредит\"])"
   ]
  },
  {
   "cell_type": "code",
   "execution_count": 24,
   "metadata": {},
   "outputs": [
    {
     "name": "stderr",
     "output_type": "stream",
     "text": [
      "/anaconda3/lib/python3.6/site-packages/ipykernel_launcher.py:1: DeprecationWarning: Call to deprecated `most_similar` (Method will be removed in 4.0.0, use self.wv.most_similar() instead).\n",
      "  \"\"\"Entry point for launching an IPython kernel.\n"
     ]
    },
    {
     "data": {
      "text/plain": [
       "[('банк,', 0.5507051348686218),\n",
       " ('банк!', 0.5484244227409363),\n",
       " ('\"банк\"', 0.5020362138748169),\n",
       " ('банком,', 0.49850139021873474),\n",
       " ('банку,', 0.4925374984741211),\n",
       " ('банк.', 0.49099043011665344),\n",
       " ('банк...', 0.4854814112186432),\n",
       " ('мтс-банк', 0.48288553953170776),\n",
       " ('отп-банк', 0.47726452350616455),\n",
       " ('альфабанк', 0.4752666652202606)]"
      ]
     },
     "execution_count": 24,
     "metadata": {},
     "output_type": "execute_result"
    }
   ],
   "source": [
    "model.most_similar(positive=[\"зло\",\"банк\"], negative=[\"хорошо\"])"
   ]
  },
  {
   "cell_type": "code",
   "execution_count": null,
   "metadata": {},
   "outputs": [],
   "source": []
  },
  {
   "cell_type": "code",
   "execution_count": 25,
   "metadata": {},
   "outputs": [
    {
     "name": "stderr",
     "output_type": "stream",
     "text": [
      "/anaconda3/lib/python3.6/site-packages/ipykernel_launcher.py:1: DeprecationWarning: Call to deprecated `most_similar` (Method will be removed in 4.0.0, use self.wv.most_similar() instead).\n",
      "  \"\"\"Entry point for launching an IPython kernel.\n"
     ]
    },
    {
     "data": {
      "text/plain": [
       "[('рс', 0.8113128542900085),\n",
       " ('альф', 0.8081720471382141),\n",
       " ('авангард', 0.8005663156509399),\n",
       " ('райф', 0.7791274189949036),\n",
       " ('втб24', 0.7560303211212158),\n",
       " ('брс', 0.7543235421180725),\n",
       " ('ткс', 0.7418873906135559),\n",
       " ('сити,', 0.7105757594108582),\n",
       " ('псб', 0.70804762840271),\n",
       " ('уралсиб', 0.7032263278961182)]"
      ]
     },
     "execution_count": 25,
     "metadata": {},
     "output_type": "execute_result"
    }
   ],
   "source": [
    "model.most_similar(\"сити\")"
   ]
  },
  {
   "cell_type": "code",
   "execution_count": null,
   "metadata": {},
   "outputs": [],
   "source": []
  },
  {
   "cell_type": "markdown",
   "metadata": {},
   "source": [
    "#  Домашнее задание по NLP # 2 [100 баллов] \n",
    "## Составление словарей для классификации по тональности\n",
    "При классификации текстов или предложений по тональности необходимо использовать оценочные словари для предметной области, то есть, такие словари, в которых содержатся отрицательные и позитивные слова для какой-то предметной области. Идея подобных словарей основана на следующих наблюдениях: во-первых, для разных товаров используются разные оценочные слова (например бывает “захватывающая книга”, но не бывает “захватывающих лыж”), во-вторых, в контексте разных товаров одни и те же слова могут иметь разную окраску (слово “тормоз” в отзыве на велосипед имеет нейтральную окраску, в отзыве на компьютер – резко негативную, “пыль” в контексте пылесосов – нейтральную, в контексте кофемолок – положительную (“мелкий помол в пыль”)). Еще один пример: \"теплое пиво\" – это плохо, а \"теплый свитер\" – это хорошо.  \n",
    "\n",
    "Составление таких словарей в ручную – трудоемкий процесс, но, к счастью, его не сложно автоматизировать, если собрать достаточно большие корпуса отзывов. В этом домашнем задании вам предстоит попробовать реализовать один их подходов к составлению оценочных словарей, основанный на статье Inducing Domain-Specific Sentiment Lexicons from Unlabeled Corpora (https://nlp.stanford.edu/pubs/hamilton2016inducing.pdf).\n",
    "\n",
    "\n",
    "Данные для задания – уже знакомые вам отзывы на банки, собранные с нескольких сайтов Рунета. Отзывы могут быть как положительными (оценка 5), так и отрицательными (оценка 1)."
   ]
  },
  {
   "cell_type": "code",
   "execution_count": 26,
   "metadata": {},
   "outputs": [
    {
     "ename": "NameError",
     "evalue": "name 'responses' is not defined",
     "output_type": "error",
     "traceback": [
      "\u001b[0;31m---------------------------------------------------------------------------\u001b[0m",
      "\u001b[0;31mNameError\u001b[0m                                 Traceback (most recent call last)",
      "\u001b[0;32m<ipython-input-26-c755c47a9de5>\u001b[0m in \u001b[0;36m<module>\u001b[0;34m()\u001b[0m\n\u001b[0;32m----> 1\u001b[0;31m \u001b[0mresponses\u001b[0m\u001b[0;34m[\u001b[0m\u001b[0;36m99\u001b[0m\u001b[0;34m]\u001b[0m\u001b[0;34m\u001b[0m\u001b[0m\n\u001b[0m",
      "\u001b[0;31mNameError\u001b[0m: name 'responses' is not defined"
     ]
    }
   ],
   "source": [
    "responses[99]"
   ]
  },
  {
   "cell_type": "markdown",
   "metadata": {},
   "source": [
    "## Часть 1. Обучение модели word2vec [50 баллов]\n",
    "\n",
    "1. Разбейте всю коллекцию отзывов на предложения. Лемматизируйте все слова. \n",
    "2. Обучите по коллекции предложений word2vec\n",
    "3. Приведите несколько удачных и неудачных примеров решения стандартных текстов для word2vec:\n",
    "    * тест на определение ближайших слов\n",
    "    * тест на аналогии (мужчина – король : женщина – королева)\n",
    "    * тест на определение лишнего слова.\n",
    "    \n",
    "4. Постройте несколько визуализаций:\n",
    "    * TSNE для топ-100 (или топ-500) слов и найдите осмысленные кластеры слов\n",
    "    * задайте координаты для нового пространства следующим образом: одна  ось описывает отношение \"плохо – хорошо\", вторая – \"медленно – быстро\" и найдите координаты названий банков в этих координатах.  Более формально:\n",
    "    берем вектор слова \"хорошо\", вычитаем из него вектор слова \"плохо\", получаем новый вектор, который описывает разницу между хорошими и плохими словами. Берем вектор слова \"сбербанк\" и умножаем его на этот новый вектор – получаем координату по первой оси. Аналогично – для второй оси. Две координаты уже можно нарисовать на плоскости.  \n",
    " \n",
    "\n",
    "\n",
    "Ссылка на примеры визуализаций: https://towardsdatascience.com/game-of-thrones-word-embeddings-does-r-l-j-part-2-30290b1c0b4b"
   ]
  },
  {
   "cell_type": "markdown",
   "metadata": {},
   "source": [
    "## Часть 2. Распространение метки [50 баллов]\n",
    "\n",
    "Определите 5-8 позитивных слов (например, “быстрый”, “удобный”) и 5-8  негативных слов (например,“очередь”, “медленно”). Эти слова будут основной будущего оценочного словаря. Пусть позитивному классу соответствует метка 1, негативному – -1. Пометьте выбранные слова в лексическом графе соответствующими метками. Запустите любой известный вам метод распространения метки (Label Propogation) в лексическом графе. На выходе метода распространения ошибки должны быть новые слова, помеченные метками 1 и -1 – это и есть искомые оценочные слова.\n",
    "\n",
    "Алгоритмы распространения метки устроены примерно так: пусть мы находимся в выршине, помеченном +1. С какой-то вероятностью мы переносим эту метку на соседние узлы. С меньшей вероятностью переносим ее на вершины на расстоянии два. В конце распространения метки, часть вершин оказывается помечена меткой +1, часть – -1, большая часть остается без метки.\n",
    "\n",
    "Рекомендуемые алгоритмы распространения метки:\n",
    "1. ```graphlab.label_propagation``` (```graphlab``` доступен бесплатно по образовательной лицензии)\n",
    "2. ```sklearn.semi_supervised.LabelPropagation``` \n",
    "3. ```sklearn.semi_supervised.LabelSpreading```"
   ]
  },
  {
   "cell_type": "code",
   "execution_count": null,
   "metadata": {},
   "outputs": [],
   "source": [
    "v = list(model.wv.vocab.keys())"
   ]
  },
  {
   "cell_type": "code",
   "execution_count": 80,
   "metadata": {},
   "outputs": [
    {
     "data": {
      "text/plain": [
       "['добрый',\n",
       " 'день!',\n",
       " 'я',\n",
       " 'не',\n",
       " 'являться',\n",
       " 'клиент',\n",
       " 'банка',\n",
       " 'и',\n",
       " 'поручитель',\n",
       " 'по',\n",
       " 'кредитный',\n",
       " 'договору,',\n",
       " 'а',\n",
  
       " 'сообщить',\n",
       " 'ощущение,',\n",
       " 'вас,',\n",
       " ...]"
      ]
     },
     "execution_count": 80,
     "metadata": {},
     "output_type": "execute_result"
    }
   ],
   "source": [
    "v"
   ]
  },
  {
   "cell_type": "code",
   "execution_count": 27,
   "metadata": {},
   "outputs": [],
   "source": [
    "from gensim.models.doc2vec import *"
   ]
  },
  {
   "cell_type": "code",
   "execution_count": 28,
   "metadata": {},
   "outputs": [],
   "source": [
    "X_train = df.text[:1500].tolist()"
   ]
  },
  {
   "cell_type": "code",
   "execution_count": 29,
   "metadata": {},
   "outputs": [],
   "source": [
    "X_test = df.text[1501:].tolist()"
   ]
  },
  {
   "cell_type": "code",
   "execution_count": 30,
   "metadata": {},
   "outputs": [],
   "source": [
    "y = ['быстрый','удобный', 'хороший', 'доступный', 'приятная', \n",
    "     'комфортно', 'отлично', 'плохо' ,'супер' 'долго', 'ужасно', 'наглой', 'эмоционально', 'крик', 'хам', 'не очень']"
   ]
  },
  {
   "cell_type": "code",
   "execution_count": 45,
   "metadata": {},
   "outputs": [],
   "source": [
    "from sklearn.feature_extraction.text import *\n",
    "from sklearn.model_selection import train_test_split\n",
    "from collections import Counter, defaultdict"
   ]
  },
  {
   "cell_type": "code",
   "execution_count": 31,
   "metadata": {},
   "outputs": [],
   "source": [
    "X_test, X_train, y = np.array(X_test), np.array(X_train), np.array(y)"
   ]
  },
  {
   "cell_type": "code",
   "execution_count": null,
   "metadata": {},
   "outputs": [],
   "source": [
    "\n",
    "X_train, X_test, y_train, y_test = train_test_split(X,X, test_size=0.9)"
   ]
  },
  {
   "cell_type": "code",
   "execution_count": 42,
   "metadata": {},
   "outputs": [
    {
     "data": {
      "text/plain": [
       "(14,)"
      ]
     },
     "execution_count": 42,
     "metadata": {},
     "output_type": "execute_result"
    }
   ],
   "source": [
    "y.shape"
   ]
  },
  {
   "cell_type": "code",
   "execution_count": 32,
   "metadata": {},
   "outputs": [],
   "source": [
    "class MeanEmbeddingVectorizer(object):\n",
    "    def __init__(self, word2vec):\n",
    "        self.word2vec = word2vec\n",
    "        # if a text is empty we should return a vector of zeros\n",
    "        # with the same dimensionality as all the other vectors\n",
    "        self.dim = len(w2v.popitem()[1])\n",
    "\n",
    "    def fit(self, X, y):\n",
    "        return self\n",
    "\n",
    "    def transform(self, X):\n",
    "        return np.array([\n",
    "            np.mean([self.word2vec[w] for w in words if w in self.word2vec]\n",
    "                    or [np.zeros(self.dim)], axis=0)\n",
    "            for words in X\n",
    "        ])"
   ]
  },
  {
   "cell_type": "code",
   "execution_count": 33,
   "metadata": {},
   "outputs": [],
   "source": [
    "class TfidfEmbeddingVectorizer(object):\n",
    "    def __init__(self, word2vec):\n",
    "        self.word2vec = word2vec\n",
    "        self.word2weight = None\n",
    "        self.dim = len(w2v.popitem()[1])\n",
    "\n",
    "    def fit(self, X, y):\n",
    "        tfidf = TfidfVectorizer(analyzer=lambda x: x)\n",
    "        tfidf.fit(X)\n",
    "        max_idf = max(tfidf.idf_)\n",
    "        self.word2weight = defaultdict(\n",
    "            lambda: max_idf,\n",
    "            [(w, tfidf.idf_[i]) for w, i in tfidf.vocabulary_.items()])\n",
    "\n",
    "        return self\n",
    "\n",
    "    def transform(self, X):\n",
    "        return np.array([\n",
    "                np.mean([self.word2vec[w] * self.word2weight[w]\n",
    "                         for w in words if w in self.word2vec] or\n",
    "                        [np.zeros(self.dim)], axis=0)\n",
    "                for words in X\n",
    "            ])"
   ]
  },
  {
   "cell_type": "code",
   "execution_count": 34,
   "metadata": {},
   "outputs": [
    {
     "name": "stderr",
     "output_type": "stream",
     "text": [
      "/anaconda3/lib/python3.6/site-packages/ipykernel_launcher.py:1: DeprecationWarning: Call to deprecated `syn0` (Attribute will be removed in 4.0.0, use self.wv.vectors instead).\n",
      "  \"\"\"Entry point for launching an IPython kernel.\n"
     ]
    }
   ],
   "source": [
    "w2v = dict(zip(model.wv.index2word, model.wv.syn0))"
   ]
  },
  {
   "cell_type": "code",
   "execution_count": 35,
   "metadata": {},
   "outputs": [],
   "source": [
    "from sklearn.pipeline import Pipeline\n",
    "from sklearn.ensemble import RandomForestClassifier\n",
    "\n",
    "rfc_w2v = Pipeline([\n",
    "    (\"word2vec vectorizer\", MeanEmbeddingVectorizer(w2v)),\n",
    "    (\"extra trees\", RandomForestClassifier(n_estimators=20))])\n",
    "rfc_w2v_tfidf = Pipeline([\n",
    "    (\"word2vec vectorizer\", TfidfEmbeddingVectorizer(w2v)),\n",
    "    (\"extra trees\", RandomForestClassifier(n_estimators=20))])"
   ]
  },
  {
   "cell_type": "code",
   "execution_count": 39,
   "metadata": {},
   "outputs": [
    {
     "data": {
      "text/plain": [
       "array(['добрый день! я не являться клиент банка и поручитель по кредитный договору, а также не являться какой-либо другой лицом, письменно оформить отношение с банк по повод урегулирование чей-либо задолженности. начинать с март 2015 год начать приходить бесконечный письмо из ооо \"прить коллект\"ный мой адрес: город москва, уваровский переулок, дом 10, квартира 111, с угроза о возбуждение уголовный дело в отношение гражданин филиппов эдуард владимировича, который уклоняться от уплата взять имя кредитов: договор № 81014 от 20.10.2013 год и договор № 2464946 от 09.10.2014 года. с весь ответственность хотеть вы заверить, что вышеуказанный гражданин, который вы разыскиваете, я не знак и никогда в мыть адрес не быть зарегистрирован. какой образ вы не удостовериться в подлинность он документ оформить на он имя кредитный договор, я по меньший мера не понятно, и почему по ваш милость я должный переживать и бояться за себя и свой имущество. письмо доставлять я серьёзный неудобства, нарушать мой гражданский права, а также нарушать закон о защита персональный данных. убедительно просить прекратить посылать на мой адрес письмо с угроза по вопросам, к который я не иметь отношения. в случай отклонение мой претензия быть вынудить обратиться с жалоба в другой органы: росспотребнадзор, центральный банк, служба финансовый омбудсмена. кроме это быть подать заявление в полиция и заявление в суд возмещение причинить я моральный вреда. надеяться на скорый решение мой вопроса.',\n",
       "       'добрый дня! являться держатель зарплатный карта , выдать сбербанк россии. в 2008 год сменить фамилию, предоставить в банк документ (копия новое паспорта, свидетельство о браке), я перевыпустить карта на фамилия муж токарев мария александр (девичий - секлетина). возникнуть необходимость подключить услуга сбербанк онлайн, не получиться (на главный страница на отображаться мой карты). связаться с технический специалист отделение сбербанк в который обслуживалась. он пояснил, что в база банка, я весь ещё под девичий фамилия секлетина. предложить выслать скан необходимый документов. выслала, оставить контакты, звонок так и не дождалась. ч/з некоторый время звонить сама, объяснять ситуацию, я пробивать по база - опять числиться секлетина (хотеть карта уже перевыпустить ещё раз на фамилия токарев в связь с истечение срок обслуживания). высылать документ (копия паспорт и свидетельство о браке). результат - 0 (ноль). просить помочь разобраться в этот ситуации. с уважение токарев мария александр',\n",
       "       'здравствуйте! дублировать свой заявление от 03.06.2015 в до \"можайский\". 02.06.2015 мною, по мой дебетовый карта быть совершить покупка в интернет-магазин на сумма 3028 руб., но с карта произойти двойной списание (два раз по 3028 руб.) то есть 6056 руб. (о чем иметься смс сообщение от банка). интернет-магазин подтвердить только один платёж 3028 руб. , товар быть получить 05.06.2015. просить разобраться в ситуация и вернуть я на счёт ошибочно списать сумма в размер 3028 руб.! с уважением, давний клиент ваш банка владимир. номер карта указанный в мыть заявление в до \"можайский\".',\n",
       "       'добрый день!! я открыть расчётный счёт в сбербанке, как юр. лицо.. весь быть бы хорошо если бы не один но..... по договор не браться комиссия за перевод денежный средство с счёт юр. лицо на счёт физ.лица, этот условие сохраняться 4 месяца. какой же быть мой удивление когда при проведение очередной операция перевод деньга с счёт списать комиссия в 1 % !!!! я понимать что банк вправе изменить процентный ставка и размер комиссии, но не предупредив,н известить я о это это как? что за отношение к клиентам? получается, я потерять не малый сумма денег, только по тот что банк не удосужиться я известить!!! а завтра ещё какой нибыть условие измениться и я ещё и должный останусь!!! за обслуживание счёт каждый месяц для что плачу?',\n",
       "       '04.03.2015 г. взять кредит в ваш банке, заявить я сумма быть 200 т. рубль и на 1 год. менеджер же сделать срок кредитование 2 года, ссылаться на то, что ответ получить сразу и положительный. потом выдать я куча документация по страховке, я отказаться весь подписывать на что она я ответила, что кредит без страховка я не дадут. в результат весь действие с документами... я получить на рука п.п. на сумма около 180 т.р., менеджер уверила, что страховка при досрочный погашение кредит я вернуть в течение 40 рабочий дней. когда я пришлый в касса получать денежный средства, с я ещё взять 9000,00 рубль ещё за один страховку. в итог получить я сумма оказаться 173 т.р. с копейками, вместо заявить 200 т.р. 14.03.2015 г. я досрочно погасить кредит и заплатить % за пользование денежный средствами, выйти у я 203 т.р. с копейками. написать 18.03.2015 г. заявление на возврат страховка и отправиться ждать поступление денежный средство на счет. по истечение 40 рабочий дней, т.е. 14 май я пришлый в отделение банка на что я ответили, что деньга нет, на мой вопрос почему? менеджер ответила, что ещё не перевести страховой компания сумма положить мне. 22 май принести письменный претензия на это безобразие, менеджер у я принять и зарегистрировать ее. спросить опять про денежный средства, на что она я ответить у вы на счёт 9000,00 есть.... я спрашивать почему молчать и не говорить про них, менеджер ответить что она думать когда весь деньга придут, тогда она позвонить мне. сегодня уже 5 июня, опять позвонить менеджеру... на что ответ один ничто нет... претензия по регламент у вы рассматриваться в течение 30 день + 15 день если какой то сложности. просить вы вернуть я уплатить денежный средство за страховку, который не я ни вы не пользовались. если уж вы ничто не смочь сделать, быть обращаться в суд. уже отправить сообщение на сайт роспотребнадзора.',\n",
       "       'я, как и многие вкладчик открыть на 1000 руб. с счастливый мысль пополнить в последствии... как говориться не тут-то было. 8% за внесение и никакой нарушение договор (сразу вспоминается: \"ловкость рука ...\". совершенно непонятно куда в такой ситуация смотреть цб! ну и абстрактно предлагать представить следующее: взять кредит в это место (банк здесь слово неуместное) в январе, процент под 40, вы приходить сегодня вносить очередной платёж и просить добавить вы к ваш сумма процент эдак 20, ну действительно, почему нет, ситуация-то изменилась...',\n",
       "       'здравствуйте! подать заявление на получение уэк в отделение сбербанк 25.05.2015. переодически, на сайт ueconline.ru мониторить состояние мой карты. вчера увидел, что статус измениться на готовый к выдача . позвонить на горячий линия уос (8442 301414), сказать звонить в банк (993575). позвонил, никто не брать трубку. пойти в банк. операционистка сообщила, что карта ещё нет. да, она исказать в \"пакете\" мой карту, но не нашла. мочь действительно карта там не было, мочь она сделать вид, что карта нет, не знаю. срок предполагать дата выдача уэк ещё не подошел. разберитесь!',\n",
       "       'быть крайне удивлённый новость от 27/28 май - о унификация . \"удивлён\" - это, пожалуй, плохо подходит, так как отражать положительный эмоцию. я же был, скорее, ошарашить и удручён. считать данный унификация неправомерный и незаконной. незаконность постараться доказывать и отстаивать свой право (как один из сторона акцептовать договора). допускаю, что дело быть проиграно. но и роль терпилы, молча принимать такой разворот событий, я претит. если весь же дать действие банка быть счесть правомерными, то постараться с свой сторона применять в отношение банка тоже вполне законные, но, скажем так, некрасивый действия. кстати, для справки, невозврат взять кредита, тоже признаваться законный при некоторый оговорках.',\n",
       "       'сотрудник банка восточный систематически сообщать мой персональный дать по телефон мой близким. звонить не представляться и в грубый форма сообщать весь персональный информацию, что являться нарушение закон №98-фз о коммерческий тайне. так же это мочь очень негативно сказаться на состояние здоровье мой близкий человека. с банк я поддерживать постоянный связь, быть проблема с оплата очередной платежей, по причина ухудшение материальный положения, но я всегда сообщать о размер и дата взноса, добросовестно. общаться с сотрудник из г. пермь, который обещать отменить начислить штраф после погашение просрочить задолженности, но не сделать этого. звонок поступать не известно откуда.',\n",
       "       'добрый день! являться заёмщик в банка втб 24. более год назад взять кредит на 1 млн. руб, платить исправно до май месяц 2015 года.ть связь с ухудшение материальный положения-я поменять работа и сейчас мой заработный плат составлять 15 000 руб, а ежемесячный платёж по кредиту-32 000 руб. о ухудшение материальный положение уведомлять банк за 2 месяца, есть письмо с отметка банка о получении. я не отказываться платить, более того, есть шанс, что в ближний 2-3 год мой материальный положение значительно улучшиться и у я быть возможность гасить кредит в полный мере. но на данный момент ситуация такая, какой есть. обратиться в банк за помощью, предложить просрочить платеж, так как заранее , до появление просрочки, банк не рассматривать возможность реструктуризации. не так давно у я измениться контакты, так же уведомить о это банк. скрываться не собираться и платить не отказываюсь. но ситуация у я патовая-платить нечего и банк пока не идти на встречу. я просить помочь я в дать ситуации. просить согласовать посильный для я сумма ежемесячный платежа. просить помочь с решение дать ситуации. я в отчаянии, ситуация безвыходная. оббивать порог банка по несколько раз в месяц. готовый к диалогу, готовый искать решения. просить банк помочь я в решение дать проблемы.',\n",
       "       'вот даже и засомневалась, какой ставить оценку... в итог писать без неё. являться клиент альфа-банк с 2012 года. взять тогда кредит наличными. погашать его, в т.ч. частично-досрочный суммами. потом я выпустить кредитный карту, на весьма выгодный условиях. она я тоже пользоваться и вносить платежи. и вот на день звонить я девушка и говорит, что у я просрочка. я, оставаться с она на связи, лезть в яндекс.деньга и проверяю: карта и кредит оплачены. и тут она я выдаёт: \"у вы в наш банка 3(!) кредитный продукта! в апрель 2014 вы брать потребительский кредит на продукт\". я в шоке, т.к. никакой кредит в альф я большой не брала. я говорят, что нужно прийти в отделение и написать претензию. класть трубку. вспоминаю: в апрель прошлое год я подавать заявка на кредит в мотосалон, ну как заявку, мини-анкетка через сайт, с 20% первоначальный взноса. поздний я перезвонить и сказали, что она одобрена. но к тот момент я найти другой вариант, у знакомых, и договориться о рассрочке. из салон звонить дважды. дважды я подтверждать свой отказ. я туда даже не ездила! и уж тем более ничто не подписывала. так что оставаться спокойна, но приятный весь равно мало. вчера пришлый в банк. написать претензия №1506041400. сегодня пришлый смс-ка, что по претензия принять отрицательный решение. вот и что я теперь делать? тратить свой время, идти в суд? т.к. я ничто не подписывать и не брала, тут я спокойна. но вот этот весь \"развлечения\", внезапно свалиться на голова не радуют. я в шоке. до сей пора быть крайне довольный альфа-банком.',\n",
       "       'добрый день! ещё 19 апрель 2015 год я пытаться сделать платёж через система \"бинбанк24\", в результат что с карта быть списать сумма перевода+50р.+1% от суммы, но платёж быть забракован. сталкиваться с подобный не в один раз, я смиренно ожидать двое суток, пока мой деньга не вернуться обратно. деньга действительно пришли, все, кроме 1%. возмутить тем, что за, по сути, не оказать услуга комиссия не быть возвратить в полный объём (чего ранний никогда не было), я обратиться в онлайн-поддержку, где оператор я сообщил, что действительно комиссия должный быть вернуться полностью, и он не понимает, почему это не произошло. вообще, отвлекаться от темы, хотеться высказать свой возмущение абсолютный некомпетентность работа онлайн-операторов. во-первых, я кажется, что мы с они с весь скоро быть дружить семьями, ибо за мой бесчисленный обращение в онлайн-поддержка я попадаться один и тот же 2-3 оператора, которые, судить по ответ в 10-15 минута (один раз я даже выкинуть из чат за просрочка ожидания) либо, прийти на работу, успевать выспаться между ответ клиенту, либо, наоборот, свой малочисленный состав обслуживать сразу весь россию, в что тоже для меня, как для клиента, мало приятного, т.к. человек я занятой, и не всегда есть время для подобный «задушевный бесед». во-вторых, когда с они беседуешь, складываться впечатление, что не они - работник банка, а я, потому что это я, а не они, имя объясняю, как и что должный быть на самый дело вместо того, что существовать сейчас. абсолютный незнание закон и правило работа в дать сфере. вы они там, пожалуйста, подтянуть по мат. части, так сказать, потому что каждый раз после обращение в онлайн-поддержка хотеться разорвать с данные банк весь отношения, хотя я являться ваш клиент уже более 3 лет, ещё с время «приватбанка», в свой время, прийти именно на (на тот момент) один из хороший система онлайн-банкинг (на мой взгляд, опять же). оператор в офисный центр (жить я в г. воронеже) я большой нравятся. за мой многочисленный визит в различный отделение город (быть может, я просто повезло) у я возникать всего пара нареканий. дать бог, чтобы хоть в это ничто не изменилось. так вот, возвращаться к мой вопросу, после двухчасовой беседа с оператором, я весь же быть оформить заявка на возврат комиссия и заявлено, что она быть рассмотреть в течение 3 дней. но, по истечение это срока, ни смс, ни звонка, ни какой-либо иной уведомление о результат рассмотрения, который я быть обещаны, я не получила. тогда я снова обратиться к онлайн-оператору, который, опять же, после долгий беседа повторно отправить заявка на возврат денег, на сеять раз, сказав, чтобы я подождать на всякий случай 7 день для рассмотрения. но, ни после 7, ни после 10 день проблема так и не быть решена. тогда я уже пошлый в сам офис, где я повторно оформить заявка на возврат, но с тот пора история весь никак не мочь закончиться. никакой уведомлений, ни, тем более, денег, я не видеть вот уже полтора месяца. в связь с это у я есть вопрос: когда уже я вернуть комиссия за забраковать платёж? на ваш почта binbank@binbank.ru с свой почта ya.margo212121@yandex.ru с пометка «возвращение комиссия по забраковать платежу» высылать вы деталь тот злополучный перевод в надежда на скорый решение проблемы. и ещё один момент, на который я хотеть обратить внимание специалист банка. в последний пара месяц я стать замечать странный события. после списание кредитный средство с кредитный карта (переть оплата в магазине, например), на счёт оставаться непонятный я суммы, не сопоставимый с размер мой оплаты, как ни странно, в мой пользу. например, доступный средство должный остаться 5000 рублей, а оставаться 5500 рублей, иногда даже с какой-то копейками, который там и в помин быть не должно. т.е. каждый раз приписывать по 500-700 рублей, о что приходить соответствующий уведомление (т.е. при оплата услуга приходить смс с неправильный остатком), и в система «бинбанк24» сумма также отображаться некорректно. так дать некорректный сумма (всегда с плюс в мой пользу) мочь «провисеть» 7-10 дней, а потом заново пересчитаться уже правильно. я довольно щепетильный к деньга человек, и весь чек с покупка и оплата я собираю, т.о. иметь возможность проследить, в какой момент сумма быть начислить неправильно в избежание просрочка задолженности. в принципе, кредитный карта я пользоваться только в качество карта предоплаты, для того, чтобы не носить с себя много наличный средств, и всегда пополнять её практически сразу (в течение несколько дней). а вот тем людям, который привыкнуть ориентироваться на смс или на запись и чек в система «бинбанк24» (которое тоже обновляться через раз), и оплачивать свой кредит прямо перед днём завершение период беспроцентный кредитования, стоить быть осторожными. ведь, не подсчитать заранее сумма задолженность по бумажный выписка из магазинов, они легко мочь стать невольный должниками, т.к. сумма имя сначала припишут, а потом незаметно также и отнимут, человек быть думать, что он весь оплатил, и, как результат, - лишний проблема и у клиента, и у банка. не хотеться думать о том, что т.о. вы искусственно повышать количество должник и процентный прибыль банка. в общем, проконтролировать это. заранее благодарить за, надеюсь, позитивный решение мой вопроса!',\n",
       "       'разбавить негативный отзыв ложка меда. благодарный банка за постоянно работать единственный в город круглосуточный банкомат с функция cash-in, входящий в орс. несмотря на отсутствие филиала/кко в городе. пожелания: придумать какой-нибудь козырек/навес для тени, потому что в солнечный погоду, а тем более летом, экран засвечивается. приходиться стоять вплотную, что затруднять поиск нужный кнопки.',\n",
       "       'без оценки, т.к. несколько год отличный работа и три компания в альф и ни раз небыть проблем, но весь когдато заканчивается. сделать оплата транспортный компания в республика беларусь 1000рубль за мелкий доставка (договор, отправить в банк, претензия не вызвать и банк оплата провел). сделка быть единственный и случайная, где перевозчик оказаться белорусским, а оплата за услуга сделать быть нужно. далее банк инициировать включение наш компания в реестр компаний, работать на внешний рынке. несколько раз звонить менеджер, который несколько раз сказали, что это сделка единственный и мы не работать с зарубежный компания и не собираемся. далее звонить из служба безопасности, они хотеть посетить наш офис, чтобы посмотреть какиеть бумаги, тут мы сдаться и пригласить они (видимо это быть ошибка и нужно быть продолжать настаивать, что мы работать только на территория рф). звонок от сб большой небыло. через некоторый время происходить блокировка банк-клиента. спустя несколько день удаться выяснить, что сб заблокировать с комментарий \"нуть признак внешнеэкономический деятельность и наш компания портить репутация альфа-банка\" (какий тут мочь быть комментарии, кроме \"а мы не говорить (и не один раз) разве, что внешнеэкономический деятельность не заниматься и сделка быть разовая? и как мы испортить этот репутацию?\"). спустя 3 неделя попытка выйти на сб и както повлиять на решение ничто не увенчалось. конечно мы открыть новый счёт в друг банка и быть весь компания уводить из альфы, что очень обидно, не ожидать за столько год сотрудничество с такой столкнуться.',\n",
       "       'также как и многие давний клиент банка, быть довольный в высокий степени. сколько друг и знакомый привести - даже не сосчитать. большинство сотрудник мой компания переслать на зарплатный проект в тинькофф. практически весь друг завести себя карта и вклады. но то, что твориться в последний время просто шокировать меня: 1) \"унификация\" вкладов. в страшный сон не мочь присниться, что мочь снизить процент на пополнение вклад (с 18 до 13%). ответ по это пункт читал. мочь бы тогда разрешить беспроцентный закрыть вклады, который быть открытый хотя бы в апрель перед сильный снижением. в декабрь поверить банка и не стать открывать в другой банка под более выгодный процент (совкомбанк, к примеру, не менее надёжный банк, давать 25%, то есть 22,637 с учёт налога).. 2) заметил, что из отзыв удалять \"неугодные\" комментарии, касаться понижение ставка и ответ представитель банка полугодовой давность о недопустимость снижение ставка на пополнение (с портал вопрос-ответ информация также быть стёрта). и отключать дистанционный обслуживание. 3) сегодня подать заявка на выпуск карта all airlines. сообщили, что выпустить в самый ближний время(крайния срок - понедельник). и закрыть текущий карту. через час с я связаться сотрудник и сообщил, что по технический причина выпустить карта в ближний время не представляться возможным. на что я попросить разблокировать текущий кредитный карта так как на выходной планировать покупать билет на летний отдых. сказали, что разблокировка не возможна. супер... хотеть конечно поставить 1, однако воспоминание о хороший прошлое не позволяют. но и более 2-ка тоже не могу, так как уж очень расстроили.'],\n",
       "      dtype='<U12601')"
      ]
     },
     "execution_count": 39,
     "metadata": {},
     "output_type": "execute_result"
    }
   ],
   "source": [
    "X_train[:15]"
   ]
  },
  {
   "cell_type": "code",
   "execution_count": 40,
   "metadata": {},
   "outputs": [
    {
     "data": {
      "text/plain": [
       "Pipeline(memory=None,\n",
       "     steps=[('word2vec vectorizer', <__main__.MeanEmbeddingVectorizer object at 0x1dd7beac8>), ('extra trees', RandomForestClassifier(bootstrap=True, class_weight=None, criterion='gini',\n",
       "            max_depth=None, max_features='auto', max_leaf_nodes=None,\n",
       "            min_impurity_decrease=0.0, min_impur...n_jobs=1,\n",
       "            oob_score=False, random_state=None, verbose=0,\n",
       "            warm_start=False))])"
      ]
     },
     "execution_count": 40,
     "metadata": {},
     "output_type": "execute_result"
    }
   ],
   "source": [
    "rfc_w2v.fit(X_train[:15],y)\n",
    "#pred = rfc_w2v.predict(X_test)"
   ]
  },
  {
   "cell_type": "code",
   "execution_count": 41,
   "metadata": {
    "scrolled": true
   },
   "outputs": [
    {
     "ename": "KeyboardInterrupt",
     "evalue": "",
     "output_type": "error",
     "traceback": [
      "\u001b[0;31m---------------------------------------------------------------------------\u001b[0m",
      "\u001b[0;31mKeyboardInterrupt\u001b[0m                         Traceback (most recent call last)",
      "\u001b[0;32m<ipython-input-41-c768a15468a9>\u001b[0m in \u001b[0;36m<module>\u001b[0;34m()\u001b[0m\n\u001b[0;32m----> 1\u001b[0;31m \u001b[0mpred\u001b[0m \u001b[0;34m=\u001b[0m \u001b[0mrfc_w2v\u001b[0m\u001b[0;34m.\u001b[0m\u001b[0mpredict\u001b[0m\u001b[0;34m(\u001b[0m\u001b[0mX_test\u001b[0m\u001b[0;34m)\u001b[0m\u001b[0;34m\u001b[0m\u001b[0m\n\u001b[0m",
      "\u001b[0;32m/anaconda3/lib/python3.6/site-packages/sklearn/utils/metaestimators.py\u001b[0m in \u001b[0;36m<lambda>\u001b[0;34m(*args, **kwargs)\u001b[0m\n\u001b[1;32m    113\u001b[0m \u001b[0;34m\u001b[0m\u001b[0m\n\u001b[1;32m    114\u001b[0m         \u001b[0;31m# lambda, but not partial, allows help() to work with update_wrapper\u001b[0m\u001b[0;34m\u001b[0m\u001b[0;34m\u001b[0m\u001b[0m\n\u001b[0;32m--> 115\u001b[0;31m         \u001b[0mout\u001b[0m \u001b[0;34m=\u001b[0m \u001b[0;32mlambda\u001b[0m \u001b[0;34m*\u001b[0m\u001b[0margs\u001b[0m\u001b[0;34m,\u001b[0m \u001b[0;34m**\u001b[0m\u001b[0mkwargs\u001b[0m\u001b[0;34m:\u001b[0m \u001b[0mself\u001b[0m\u001b[0;34m.\u001b[0m\u001b[0mfn\u001b[0m\u001b[0;34m(\u001b[0m\u001b[0mobj\u001b[0m\u001b[0;34m,\u001b[0m \u001b[0;34m*\u001b[0m\u001b[0margs\u001b[0m\u001b[0;34m,\u001b[0m \u001b[0;34m**\u001b[0m\u001b[0mkwargs\u001b[0m\u001b[0;34m)\u001b[0m\u001b[0;34m\u001b[0m\u001b[0m\n\u001b[0m\u001b[1;32m    116\u001b[0m         \u001b[0;31m# update the docstring of the returned function\u001b[0m\u001b[0;34m\u001b[0m\u001b[0;34m\u001b[0m\u001b[0m\n\u001b[1;32m    117\u001b[0m         \u001b[0mupdate_wrapper\u001b[0m\u001b[0;34m(\u001b[0m\u001b[0mout\u001b[0m\u001b[0;34m,\u001b[0m \u001b[0mself\u001b[0m\u001b[0;34m.\u001b[0m\u001b[0mfn\u001b[0m\u001b[0;34m)\u001b[0m\u001b[0;34m\u001b[0m\u001b[0m\n",
      "\u001b[0;32m/anaconda3/lib/python3.6/site-packages/sklearn/pipeline.py\u001b[0m in \u001b[0;36mpredict\u001b[0;34m(self, X)\u001b[0m\n\u001b[1;32m    304\u001b[0m         \u001b[0;32mfor\u001b[0m \u001b[0mname\u001b[0m\u001b[0;34m,\u001b[0m \u001b[0mtransform\u001b[0m \u001b[0;32min\u001b[0m \u001b[0mself\u001b[0m\u001b[0;34m.\u001b[0m\u001b[0msteps\u001b[0m\u001b[0;34m[\u001b[0m\u001b[0;34m:\u001b[0m\u001b[0;34m-\u001b[0m\u001b[0;36m1\u001b[0m\u001b[0;34m]\u001b[0m\u001b[0;34m:\u001b[0m\u001b[0;34m\u001b[0m\u001b[0m\n\u001b[1;32m    305\u001b[0m             \u001b[0;32mif\u001b[0m \u001b[0mtransform\u001b[0m \u001b[0;32mis\u001b[0m \u001b[0;32mnot\u001b[0m \u001b[0;32mNone\u001b[0m\u001b[0;34m:\u001b[0m\u001b[0;34m\u001b[0m\u001b[0m\n\u001b[0;32m--> 306\u001b[0;31m                 \u001b[0mXt\u001b[0m \u001b[0;34m=\u001b[0m \u001b[0mtransform\u001b[0m\u001b[0;34m.\u001b[0m\u001b[0mtransform\u001b[0m\u001b[0;34m(\u001b[0m\u001b[0mXt\u001b[0m\u001b[0;34m)\u001b[0m\u001b[0;34m\u001b[0m\u001b[0m\n\u001b[0m\u001b[1;32m    307\u001b[0m         \u001b[0;32mreturn\u001b[0m \u001b[0mself\u001b[0m\u001b[0;34m.\u001b[0m\u001b[0msteps\u001b[0m\u001b[0;34m[\u001b[0m\u001b[0;34m-\u001b[0m\u001b[0;36m1\u001b[0m\u001b[0;34m]\u001b[0m\u001b[0;34m[\u001b[0m\u001b[0;34m-\u001b[0m\u001b[0;36m1\u001b[0m\u001b[0;34m]\u001b[0m\u001b[0;34m.\u001b[0m\u001b[0mpredict\u001b[0m\u001b[0;34m(\u001b[0m\u001b[0mXt\u001b[0m\u001b[0;34m)\u001b[0m\u001b[0;34m\u001b[0m\u001b[0m\n\u001b[1;32m    308\u001b[0m \u001b[0;34m\u001b[0m\u001b[0m\n",
      "\u001b[0;32m<ipython-input-32-f0b39d594107>\u001b[0m in \u001b[0;36mtransform\u001b[0;34m(self, X)\u001b[0m\n\u001b[1;32m     13\u001b[0m             np.mean([self.word2vec[w] for w in words if w in self.word2vec]\n\u001b[1;32m     14\u001b[0m                     or [np.zeros(self.dim)], axis=0)\n\u001b[0;32m---> 15\u001b[0;31m             \u001b[0;32mfor\u001b[0m \u001b[0mwords\u001b[0m \u001b[0;32min\u001b[0m \u001b[0mX\u001b[0m\u001b[0;34m\u001b[0m\u001b[0m\n\u001b[0m\u001b[1;32m     16\u001b[0m         ])\n",
      "\u001b[0;32m<ipython-input-32-f0b39d594107>\u001b[0m in \u001b[0;36m<listcomp>\u001b[0;34m(.0)\u001b[0m\n\u001b[1;32m     13\u001b[0m             np.mean([self.word2vec[w] for w in words if w in self.word2vec]\n\u001b[1;32m     14\u001b[0m                     or [np.zeros(self.dim)], axis=0)\n\u001b[0;32m---> 15\u001b[0;31m             \u001b[0;32mfor\u001b[0m \u001b[0mwords\u001b[0m \u001b[0;32min\u001b[0m \u001b[0mX\u001b[0m\u001b[0;34m\u001b[0m\u001b[0m\n\u001b[0m\u001b[1;32m     16\u001b[0m         ])\n",
      "\u001b[0;32m<ipython-input-32-f0b39d594107>\u001b[0m in \u001b[0;36m<listcomp>\u001b[0;34m(.0)\u001b[0m\n\u001b[1;32m     11\u001b[0m     \u001b[0;32mdef\u001b[0m \u001b[0mtransform\u001b[0m\u001b[0;34m(\u001b[0m\u001b[0mself\u001b[0m\u001b[0;34m,\u001b[0m \u001b[0mX\u001b[0m\u001b[0;34m)\u001b[0m\u001b[0;34m:\u001b[0m\u001b[0;34m\u001b[0m\u001b[0m\n\u001b[1;32m     12\u001b[0m         return np.array([\n\u001b[0;32m---> 13\u001b[0;31m             np.mean([self.word2vec[w] for w in words if w in self.word2vec]\n\u001b[0m\u001b[1;32m     14\u001b[0m                     or [np.zeros(self.dim)], axis=0)\n\u001b[1;32m     15\u001b[0m             \u001b[0;32mfor\u001b[0m \u001b[0mwords\u001b[0m \u001b[0;32min\u001b[0m \u001b[0mX\u001b[0m\u001b[0;34m\u001b[0m\u001b[0m\n",
      "\u001b[0;31mKeyboardInterrupt\u001b[0m: "
     ]
    }
   ],
   "source": [
    "pred = rfc_w2v.predict(X_test)"
   ]
  },
  {
   "cell_type": "code",
   "execution_count": 43,
   "metadata": {},
   "outputs": [],
   "source": [
    "X = X_train"
   ]
  },
  {
   "cell_type": "code",
   "execution_count": 44,
   "metadata": {},
   "outputs": [
    {
     "name": "stderr",
     "output_type": "stream",
     "text": [
      "/anaconda3/lib/python3.6/site-packages/gensim/models/doc2vec.py:366: UserWarning: The parameter `size` is deprecated, will be removed in 4.0.0, use `vector_size` instead.\n",
      "  warnings.warn(\"The parameter `size` is deprecated, will be removed in 4.0.0, use `vector_size` instead.\")\n"
     ]
    }
   ],
   "source": [
    "splitted_texts = [text.split() for text in X]\n",
    "idx = [str(i) for i in range(len(X))]\n",
    "\n",
    "docs = []\n",
    "for i in range(len(X)):\n",
    "    docs.append(TaggedDocument(splitted_texts[i], [idx[i]]))\n",
    "\n",
    "\n",
    "model = Doc2Vec(size=300, window=5, min_count=5, workers=8, alpha=0.025, min_alpha=0.01, dm=0)\n",
    "model.build_vocab(docs)\n",
    "\n",
    "# docvec1 = model.docvecs[0]\n",
    "# docvecsyn1 = model.docvecs.doctag_syn0[0]\n",
    "# docsim1 = model.docvecs.most_similar(id1)\n",
    "\n",
    "model.train(docs, total_examples=len(docs), epochs=20)"
   ]
  },
  {
   "cell_type": "code",
   "execution_count": 48,
   "metadata": {},
   "outputs": [],
   "source": [
    "class Doc2VecVectorizer(object):\n",
    "    def __init__(self, d2v_model):\n",
    "        self.d2v_model = d2v_model\n",
    "\n",
    "\n",
    "    def fit(self, X, y):\n",
    "        return self\n",
    "\n",
    "    def transform(self, X):\n",
    "        return np.array([self.d2v_model.infer_vector(text.split()) for text in X])\n",
    "\n",
    "\n",
    "rfc_d2v = Pipeline([\n",
    "    (\"word2vec vectorizer\", Doc2VecVectorizer(model)),\n",
    "    (\"extra trees\", RandomForestClassifier(n_estimators=20))])\n",
    "\n",
    "rfc_d2v.fit(X_train[:15],y)\n",
    "pred = rfc_d2v.predict(X_test[100])"
   ]
  },
  {
   "cell_type": "code",
   "execution_count": 50,
   "metadata": {},
   "outputs": [],
   "source": [
    "from sklearn.metrics import *"
   ]
  },
  {
   "cell_type": "code",
   "execution_count": 54,
   "metadata": {},
   "outputs": [
    {
     "name": "stderr",
     "output_type": "stream",
     "text": [
      "/anaconda3/lib/python3.6/site-packages/sklearn/metrics/classification.py:1135: UndefinedMetricWarning: Precision is ill-defined and being set to 0.0 in labels with no predicted samples.\n",
      "  'precision', 'predicted', average, warn_for)\n",
      "/anaconda3/lib/python3.6/site-packages/sklearn/metrics/classification.py:1135: UndefinedMetricWarning: F-score is ill-defined and being set to 0.0 in labels with no predicted samples.\n",
      "  'precision', 'predicted', average, warn_for)\n",
      "/anaconda3/lib/python3.6/site-packages/sklearn/metrics/classification.py:1135: UndefinedMetricWarning: Precision and F-score are ill-defined and being set to 0.0 in labels with no predicted samples.\n",
      "  'precision', 'predicted', average, warn_for)\n"
     ]
    },
    {
     "name": "stdout",
     "output_type": "stream",
     "text": [
      "Precision:   0.00\n",
      "Recall:   0.07\n",
      "F1-measure:   0.01\n",
      "Accuracy:   0.07\n",
      "              precision    recall  f1-score   support\n",
      "\n",
      "     быстрый       0.00      0.00      0.00         1\n",
      "   доступный       0.00      0.00      0.00         1\n",
      "   комфортно       0.00      0.00      0.00         1\n",
      "        крик       0.00      0.00      0.00         1\n",
      "      наглой       0.00      0.00      0.00         1\n",
      "    не очень       0.00      0.00      0.00         1\n",
      "     отлично       0.07      1.00      0.12         1\n",
      "       плохо       0.00      0.00      0.00         1\n",
      "    приятная       0.00      0.00      0.00         1\n",
      "  супердолго       0.00      0.00      0.00         1\n",
      "     удобный       0.00      0.00      0.00         1\n",
      "      ужасно       0.00      0.00      0.00         1\n",
      "         хам       0.00      0.00      0.00         1\n",
      "     хороший       0.00      0.00      0.00         1\n",
      "эмоционально       0.00      0.00      0.00         1\n",
      "\n",
      " avg / total       0.00      0.07      0.01        15\n",
      "\n"
     ]
    },
    {
     "data": {
      "image/png": "[encoded data removed]",
      "text/plain": [
       "<matplotlib.figure.Figure at 0x1dec020b8>"
      ]
     },
     "metadata": {},
     "output_type": "display_data"
    }
   ],
   "source": [
    "print(\"Precision: {0:6.2f}\".format(precision_score(y, pred[:15], average='macro')))\n",
    "print(\"Recall: {0:6.2f}\".format(recall_score(y, pred[:15], average='macro')))\n",
    "print(\"F1-measure: {0:6.2f}\".format(f1_score(y, pred[:15], average='macro')))\n",
    "print(\"Accuracy: {0:6.2f}\".format(accuracy_score(y, pred[:15])))\n",
    "print(classification_report(y, pred[:15]))\n",
    "labels = rfc_w2v.classes_\n",
    "\n",
    "\n",
    "sns.heatmap(data=confusion_matrix(y, pred[:15]), annot=True, fmt=\"d\", cbar=False, xticklabels=labels, yticklabels=labels)\n",
    "plt.title(\"Confusion matrix\")\n",
    "plt.show()"
   ]
  },
  {
   "cell_type": "code",
   "execution_count": 55,
   "metadata": {},
   "outputs": [],
   "source": [
    "from sklearn.semi_supervised import LabelPropagation\n",
    "\n",
    "label_prop_model = LabelPropagation()"
   ]
  },
  {
   "cell_type": "code",
   "execution_count": 59,
   "metadata": {},
   "outputs": [
    {
     "name": "stderr",
     "output_type": "stream",
     "text": [
      "/anaconda3/lib/python3.6/site-packages/ipykernel_launcher.py:2: DeprecationWarning: Call to deprecated `wv` (Attribute will be removed in 4.0.0, use self instead).\n",
      "  \n",
      "/anaconda3/lib/python3.6/site-packages/ipykernel_launcher.py:2: DeprecationWarning: Call to deprecated `syn0` (Attribute will be removed in 4.0.0, use self.wv.vectors instead).\n",
      "  \n"
     ]
    },
    {
     "data": {
      "text/plain": [
       "LabelPropagation(alpha=None, gamma=20, kernel='rbf', max_iter=1000, n_jobs=1,\n",
       "         n_neighbors=7, tol=0.001)"
      ]
     },
     "execution_count": 59,
     "metadata": {},
     "output_type": "execute_result"
    }
   ],
   "source": [
    "labels = [1, 1, 1, 0, 0, 0, 1, 0, 1, 0, 1, 0, 0, 1, 1]\n",
    "label_prop_model.fit(model.wv.wv.syn0[:15], labels)"
   ]
  },
  {
   "cell_type": "code",
   "execution_count": 60,
   "metadata": {},
   "outputs": [
    {
     "data": {
      "text/plain": [
       "<bound method WordEmbeddingsKeyedVectors.similarity of <gensim.models.keyedvectors.Word2VecKeyedVectors object at 0x1e00ea588>>"
      ]
     },
     "execution_count": 60,
     "metadata": {},
     "output_type": "execute_result"
    }
   ],
   "source": [
    "model.wv.similarity"
   ]
  },
  {
   "cell_type": "code",
   "execution_count": 63,
   "metadata": {},
   "outputs": [
    {
     "name": "stderr",
     "output_type": "stream",
     "text": [
      "/anaconda3/lib/python3.6/site-packages/ipykernel_launcher.py:3: DeprecationWarning: Call to deprecated `most_similar` (Method will be removed in 4.0.0, use self.wv.most_similar() instead).\n",
      "  This is separate from the ipykernel package so we can avoid doing imports until\n"
     ]
    },
    {
     "data": {
      "text/plain": [
       "[[(0, 1964),\n",
       "  (0, 1687),\n",
       "  (0, 496),\n",
       "  (0, 4565),\n",
       "  (0, 67),\n",
       "  (0, 2904),\n",
       "  (0, 305),\n",
       "  (0, 801),\n",
       "  (0, 3776),\n",
       "  (0, 2228)],\n",
      
       " [(999, 27),\n",
       "  (999, 1778),\n",
       "  (999, 419),\n",
       "  (999, 4675),\n",
       "  (999, 1523),\n",
       "  (999, 4310),\n",
       "  (999, 4255),\n",
       "  (999, 985),\n",
       "  (999, 2404),\n",
       "  (999, 122)],\n",
       " ...]"
      ]
     },
     "execution_count": 63,
     "metadata": {},
     "output_type": "execute_result"
    }
   ],
   "source": [
    "edges = []\n",
    "for i in range(len(v)):\n",
    "    sims = [(i, v.index(word[0])) for  word in  model.most_similar(v[i])]\n",
    "    edges.append(sims)\n",
    "edges"
   ]
  },
  {
   "cell_type": "code",
   "execution_count": 62,
   "metadata": {},
   "outputs": [],
   "source": [
    "v = list(model.wv.vocab.keys())"
   ]
  },
  {
   "cell_type": "code",
   "execution_count": 67,
   "metadata": {},
   "outputs": [
    {
     "name": "stdout",
     "output_type": "stream",
     "text": [
      "Populating the interactive namespace from numpy and matplotlib\n",
      "Populating the interactive namespace from numpy and matplotlib\n"
     ]
    }
   ],
   "source": [
    "import pandas as pd\n",
    "import numpy as np\n",
    "import nltk\n",
    "import matplotlib.pyplot as plt\n",
    "import seaborn as sns\n",
    "%matplotlib inline\n",
    "%pylab inline\n",
    "import seaborn as sns\n",
    "%matplotlib inline\n",
    "%pylab inline"
   ]
  },
  {
   "cell_type": "code",
   "execution_count": 68,
   "metadata": {},
   "outputs": [
    {
     "name": "stderr",
     "output_type": "stream",
     "text": [
      "/anaconda3/lib/python3.6/site-packages/ipykernel_launcher.py:10: DeprecationWarning: Call to deprecated `most_similar` (Method will be removed in 4.0.0, use self.wv.most_similar() instead).\n",
      "  # Remove the CWD from sys.path while we load stuff.\n"
     ]
    }
   ],
   "source": [
    "import igraph as ig\n",
    "g = ig.Graph(directed=True)\n",
    "for word in model.wv.vocab.keys():\n",
    "    g.add_vertex(word)\n",
    "    \n",
    "    \n",
    "    \n",
    "for word in model.wv.vocab.keys() :\n",
    "    node = g.vs.select(name = word).indices[0]\n",
    "    similar_words = model.most_similar(word, topn=5)\n",
    "    for sim in similar_words:\n",
    "        word1 = sim[0]\n",
    "        val  = sim[1]\n",
    "        new_node = g.vs.select(name = word1).indices[0]\n",
    "        g.add_edge(node, new_node, weight = val)"
   ]
  },
  {
   "cell_type": "code",
   "execution_count": null,
   "metadata": {},
   "outputs": [],
   "source": []
  }
 ],
 "metadata": {
  "kernelspec": {
   "display_name": "Python 3",
   "language": "python",
   "name": "python3"
  },
  "language_info": {
   "codemirror_mode": {
    "name": "ipython",
    "version": 3
   },
   "file_extension": ".py",
   "mimetype": "text/x-python",
   "name": "python",
   "nbconvert_exporter": "python",
   "pygments_lexer": "ipython3",
   "version": "3.6.4"
  }
 },
 "nbformat": 4,
 "nbformat_minor": 2
}

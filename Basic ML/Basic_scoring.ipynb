{
 "cells": [
  {
   "cell_type": "markdown",
   "metadata": {},
   "source": [
    "# Тестовое задание 1 "
   ]
  },
  {
   "cell_type": "markdown",
   "metadata": {},
   "source": [
    "Имеется информация по клиентам (список полей во вложении). Необходимо любым способом\n",
    "(на выбор кандидата) с наибольшей точностью с помощью этой информации спрогнозировать\n",
    "целевой признак Тarget (бинарный признак 1 – дефолт/0 – не дефолт).\n",
    "(1) Сформировать целевой портрет хорошего клиента (Тarget = 0).\n",
    "Например, хороший клиент это:\n",
    "-- женщины с высшим образованием\n",
    "-- клиенты со стажем на последнем месте от 3-х лет и имеющие при этом доход семьи от\n",
    "15 000 руб.\n",
    "-- клиенты, имеющие в собственности более 1-го ТС (транспортного средства) и при этом\n",
    "имеющие загранпаспорт.\n",
    "(2) Выбор метода моделирования и итоговой модели обосновать. Обоснование необходимо\n",
    "сделать по максимально возможному количеству критериев.\n",
    "(3) Является ли Ваш прогноз стабильным? Не переобучили ли вы Вашу модель? (обосновать)"
   ]
  },
  {
   "cell_type": "code",
   "execution_count": 66,
   "metadata": {},
   "outputs": [],
   "source": [
    "#Импортируем библиотеки\n",
    "\n",
    "import pandas as pd\n",
    "import seaborn as sns\n",
    "sns.set(style=\"whitegrid\")\n",
    "from sklearn.tree import DecisionTreeClassifier\n",
    "from sklearn.model_selection import cross_val_score\n",
    "from sklearn.model_selection import train_test_split\n",
    "from sklearn.preprocessing import StandardScaler\n",
    "from sklearn.metrics import auc, roc_curve, roc_auc_score\n",
    "import matplotlib.pyplot as plt\n",
    "from sklearn.linear_model import LogisticRegression\n",
    "from sklearn.model_selection import GridSearchCV"
   ]
  },
  {
   "cell_type": "code",
   "execution_count": 45,
   "metadata": {},
   "outputs": [],
   "source": [
    "# прочитаем данные\n",
    "df = pd.read_excel('Data_set.xlsm')"
   ]
  },
  {
   "cell_type": "code",
   "execution_count": 46,
   "metadata": {},
   "outputs": [
    {
     "data": {
      "text/html": [
       "<div>\n",
       "<style scoped>\n",
       "    .dataframe tbody tr th:only-of-type {\n",
       "        vertical-align: middle;\n",
       "    }\n",
       "\n",
       "    .dataframe tbody tr th {\n",
       "        vertical-align: top;\n",
       "    }\n",
       "\n",
       "    .dataframe thead th {\n",
       "        text-align: right;\n",
       "    }\n",
       "</style>\n",
       "<table border=\"1\" class=\"dataframe\">\n",
       "  <thead>\n",
       "    <tr style=\"text-align: right;\">\n",
       "      <th></th>\n",
       "      <th>CLIENT_ID</th>\n",
       "      <th>SEX</th>\n",
       "      <th>CHILD_FLAG</th>\n",
       "      <th>REALTY_FLAG</th>\n",
       "      <th>ACCOUNTS_SBRF_FLAG</th>\n",
       "      <th>E_MAIL_FLAG</th>\n",
       "      <th>DCI</th>\n",
       "      <th>PROFIT_FAMILY</th>\n",
       "      <th>UCI</th>\n",
       "      <th>FOREIGN_PASSPORT_FLAG</th>\n",
       "      <th>STANDING_IN_MONTHS_LAST</th>\n",
       "      <th>EDUCATION</th>\n",
       "      <th>TRANSPORT_AMOUNT</th>\n",
       "      <th>target</th>\n",
       "    </tr>\n",
       "  </thead>\n",
       "  <tbody>\n",
       "    <tr>\n",
       "      <th>0</th>\n",
       "      <td>1</td>\n",
       "      <td>1</td>\n",
       "      <td>0</td>\n",
       "      <td>1</td>\n",
       "      <td>0</td>\n",
       "      <td>1</td>\n",
       "      <td>14370.2002</td>\n",
       "      <td>14370.2002</td>\n",
       "      <td>0.0</td>\n",
       "      <td>0</td>\n",
       "      <td>26</td>\n",
       "      <td>3</td>\n",
       "      <td>1</td>\n",
       "      <td>1</td>\n",
       "    </tr>\n",
       "    <tr>\n",
       "      <th>1</th>\n",
       "      <td>2</td>\n",
       "      <td>1</td>\n",
       "      <td>1</td>\n",
       "      <td>1</td>\n",
       "      <td>0</td>\n",
       "      <td>0</td>\n",
       "      <td>28312.8594</td>\n",
       "      <td>33312.8594</td>\n",
       "      <td>0.0</td>\n",
       "      <td>1</td>\n",
       "      <td>19</td>\n",
       "      <td>3</td>\n",
       "      <td>2</td>\n",
       "      <td>1</td>\n",
       "    </tr>\n",
       "    <tr>\n",
       "      <th>2</th>\n",
       "      <td>3</td>\n",
       "      <td>1</td>\n",
       "      <td>0</td>\n",
       "      <td>0</td>\n",
       "      <td>0</td>\n",
       "      <td>1</td>\n",
       "      <td>34729.5117</td>\n",
       "      <td>34729.5117</td>\n",
       "      <td>0.0</td>\n",
       "      <td>0</td>\n",
       "      <td>66</td>\n",
       "      <td>3</td>\n",
       "      <td>0</td>\n",
       "      <td>1</td>\n",
       "    </tr>\n",
       "    <tr>\n",
       "      <th>3</th>\n",
       "      <td>4</td>\n",
       "      <td>0</td>\n",
       "      <td>0</td>\n",
       "      <td>0</td>\n",
       "      <td>0</td>\n",
       "      <td>0</td>\n",
       "      <td>28738.4707</td>\n",
       "      <td>28738.4707</td>\n",
       "      <td>0.0</td>\n",
       "      <td>0</td>\n",
       "      <td>20</td>\n",
       "      <td>3</td>\n",
       "      <td>0</td>\n",
       "      <td>1</td>\n",
       "    </tr>\n",
       "    <tr>\n",
       "      <th>4</th>\n",
       "      <td>5</td>\n",
       "      <td>0</td>\n",
       "      <td>1</td>\n",
       "      <td>0</td>\n",
       "      <td>0</td>\n",
       "      <td>0</td>\n",
       "      <td>73310.0000</td>\n",
       "      <td>73310.0000</td>\n",
       "      <td>0.0</td>\n",
       "      <td>0</td>\n",
       "      <td>25</td>\n",
       "      <td>3</td>\n",
       "      <td>0</td>\n",
       "      <td>1</td>\n",
       "    </tr>\n",
       "  </tbody>\n",
       "</table>\n",
       "</div>"
      ],
      "text/plain": [
       "   CLIENT_ID  SEX  CHILD_FLAG  REALTY_FLAG  ACCOUNTS_SBRF_FLAG  E_MAIL_FLAG  \\\n",
       "0          1    1           0            1                   0            1   \n",
       "1          2    1           1            1                   0            0   \n",
       "2          3    1           0            0                   0            1   \n",
       "3          4    0           0            0                   0            0   \n",
       "4          5    0           1            0                   0            0   \n",
       "\n",
       "          DCI  PROFIT_FAMILY  UCI  FOREIGN_PASSPORT_FLAG  \\\n",
       "0  14370.2002     14370.2002  0.0                      0   \n",
       "1  28312.8594     33312.8594  0.0                      1   \n",
       "2  34729.5117     34729.5117  0.0                      0   \n",
       "3  28738.4707     28738.4707  0.0                      0   \n",
       "4  73310.0000     73310.0000  0.0                      0   \n",
       "\n",
       "   STANDING_IN_MONTHS_LAST  EDUCATION  TRANSPORT_AMOUNT  target  \n",
       "0                       26          3                 1       1  \n",
       "1                       19          3                 2       1  \n",
       "2                       66          3                 0       1  \n",
       "3                       20          3                 0       1  \n",
       "4                       25          3                 0       1  "
      ]
     },
     "execution_count": 46,
     "metadata": {},
     "output_type": "execute_result"
    }
   ],
   "source": [
    "df.head()"
   ]
  },
  {
   "cell_type": "code",
   "execution_count": 47,
   "metadata": {},
   "outputs": [
    {
     "name": "stdout",
     "output_type": "stream",
     "text": [
      "<class 'pandas.core.frame.DataFrame'>\n",
      "RangeIndex: 2163 entries, 0 to 2162\n",
      "Data columns (total 14 columns):\n",
      "CLIENT_ID                  2163 non-null int64\n",
      "SEX                        2163 non-null int64\n",
      "CHILD_FLAG                 2163 non-null int64\n",
      "REALTY_FLAG                2163 non-null int64\n",
      "ACCOUNTS_SBRF_FLAG         2163 non-null int64\n",
      "E_MAIL_FLAG                2163 non-null int64\n",
      "DCI                        2163 non-null float64\n",
      "PROFIT_FAMILY              2163 non-null float64\n",
      "UCI                        2163 non-null float64\n",
      "FOREIGN_PASSPORT_FLAG      2163 non-null int64\n",
      "STANDING_IN_MONTHS_LAST    2163 non-null int64\n",
      "EDUCATION                  2163 non-null int64\n",
      "TRANSPORT_AMOUNT           2163 non-null int64\n",
      "target                     2163 non-null int64\n",
      "dtypes: float64(3), int64(11)\n",
      "memory usage: 236.7 KB\n"
     ]
    }
   ],
   "source": [
    "df.info()"
   ]
  },
  {
   "cell_type": "markdown",
   "metadata": {},
   "source": [
    "### Стоит заметить, что выборка слишком маленькая, для построения моделей. Никаких значимых выводов на выборке \n",
    "### 2163 значения не сделать. Поэтому, сразу ответ на 3 вопрос Является ли Ваш прогноз стабильным? \n",
    "### Нет, прогноз не будет стабильным, тк недостаточно данных для построения выводов "
   ]
  },
  {
   "cell_type": "code",
   "execution_count": 48,
   "metadata": {},
   "outputs": [
    {
     "data": {
      "text/html": [
       "<div>\n",
       "<style scoped>\n",
       "    .dataframe tbody tr th:only-of-type {\n",
       "        vertical-align: middle;\n",
       "    }\n",
       "\n",
       "    .dataframe tbody tr th {\n",
       "        vertical-align: top;\n",
       "    }\n",
       "\n",
       "    .dataframe thead th {\n",
       "        text-align: right;\n",
       "    }\n",
       "</style>\n",
       "<table border=\"1\" class=\"dataframe\">\n",
       "  <thead>\n",
       "    <tr style=\"text-align: right;\">\n",
       "      <th></th>\n",
       "      <th>CLIENT_ID</th>\n",
       "      <th>SEX</th>\n",
       "      <th>CHILD_FLAG</th>\n",
       "      <th>REALTY_FLAG</th>\n",
       "      <th>ACCOUNTS_SBRF_FLAG</th>\n",
       "      <th>E_MAIL_FLAG</th>\n",
       "      <th>DCI</th>\n",
       "      <th>PROFIT_FAMILY</th>\n",
       "      <th>UCI</th>\n",
       "      <th>FOREIGN_PASSPORT_FLAG</th>\n",
       "      <th>STANDING_IN_MONTHS_LAST</th>\n",
       "      <th>EDUCATION</th>\n",
       "      <th>TRANSPORT_AMOUNT</th>\n",
       "      <th>target</th>\n",
       "    </tr>\n",
       "  </thead>\n",
       "  <tbody>\n",
       "    <tr>\n",
       "      <th>count</th>\n",
       "      <td>2163.000000</td>\n",
       "      <td>2163.000000</td>\n",
       "      <td>2163.000000</td>\n",
       "      <td>2163.000000</td>\n",
       "      <td>2163.000000</td>\n",
       "      <td>2163.000000</td>\n",
       "      <td>2163.000000</td>\n",
       "      <td>2.163000e+03</td>\n",
       "      <td>2163.000000</td>\n",
       "      <td>2163.000000</td>\n",
       "      <td>2163.000000</td>\n",
       "      <td>2163.000000</td>\n",
       "      <td>2163.000000</td>\n",
       "      <td>2163.000000</td>\n",
       "    </tr>\n",
       "    <tr>\n",
       "      <th>mean</th>\n",
       "      <td>1081.967638</td>\n",
       "      <td>0.492372</td>\n",
       "      <td>0.516412</td>\n",
       "      <td>0.491447</td>\n",
       "      <td>0.094313</td>\n",
       "      <td>0.243181</td>\n",
       "      <td>20564.292780</td>\n",
       "      <td>3.914511e+04</td>\n",
       "      <td>4280.912470</td>\n",
       "      <td>0.152566</td>\n",
       "      <td>49.841424</td>\n",
       "      <td>4.355062</td>\n",
       "      <td>0.234859</td>\n",
       "      <td>0.500231</td>\n",
       "    </tr>\n",
       "    <tr>\n",
       "      <th>std</th>\n",
       "      <td>624.494408</td>\n",
       "      <td>0.500057</td>\n",
       "      <td>0.501693</td>\n",
       "      <td>0.500042</td>\n",
       "      <td>0.292332</td>\n",
       "      <td>0.429103</td>\n",
       "      <td>31220.805618</td>\n",
       "      <td>8.471056e+04</td>\n",
       "      <td>13969.285081</td>\n",
       "      <td>0.359652</td>\n",
       "      <td>58.111000</td>\n",
       "      <td>1.166387</td>\n",
       "      <td>0.459604</td>\n",
       "      <td>0.500116</td>\n",
       "    </tr>\n",
       "    <tr>\n",
       "      <th>min</th>\n",
       "      <td>1.000000</td>\n",
       "      <td>0.000000</td>\n",
       "      <td>-1.000000</td>\n",
       "      <td>0.000000</td>\n",
       "      <td>0.000000</td>\n",
       "      <td>0.000000</td>\n",
       "      <td>0.000000</td>\n",
       "      <td>0.000000e+00</td>\n",
       "      <td>0.000000</td>\n",
       "      <td>0.000000</td>\n",
       "      <td>0.000000</td>\n",
       "      <td>1.000000</td>\n",
       "      <td>0.000000</td>\n",
       "      <td>0.000000</td>\n",
       "    </tr>\n",
       "    <tr>\n",
       "      <th>25%</th>\n",
       "      <td>541.500000</td>\n",
       "      <td>0.000000</td>\n",
       "      <td>0.000000</td>\n",
       "      <td>0.000000</td>\n",
       "      <td>0.000000</td>\n",
       "      <td>0.000000</td>\n",
       "      <td>7713.285150</td>\n",
       "      <td>1.615797e+04</td>\n",
       "      <td>0.000000</td>\n",
       "      <td>0.000000</td>\n",
       "      <td>13.000000</td>\n",
       "      <td>3.000000</td>\n",
       "      <td>0.000000</td>\n",
       "      <td>0.000000</td>\n",
       "    </tr>\n",
       "    <tr>\n",
       "      <th>50%</th>\n",
       "      <td>1082.000000</td>\n",
       "      <td>0.000000</td>\n",
       "      <td>1.000000</td>\n",
       "      <td>0.000000</td>\n",
       "      <td>0.000000</td>\n",
       "      <td>0.000000</td>\n",
       "      <td>13485.000000</td>\n",
       "      <td>2.685308e+04</td>\n",
       "      <td>0.000000</td>\n",
       "      <td>0.000000</td>\n",
       "      <td>31.000000</td>\n",
       "      <td>5.000000</td>\n",
       "      <td>0.000000</td>\n",
       "      <td>1.000000</td>\n",
       "    </tr>\n",
       "    <tr>\n",
       "      <th>75%</th>\n",
       "      <td>1622.500000</td>\n",
       "      <td>1.000000</td>\n",
       "      <td>1.000000</td>\n",
       "      <td>1.000000</td>\n",
       "      <td>0.000000</td>\n",
       "      <td>0.000000</td>\n",
       "      <td>23206.075200</td>\n",
       "      <td>4.199500e+04</td>\n",
       "      <td>3440.000000</td>\n",
       "      <td>0.000000</td>\n",
       "      <td>60.000000</td>\n",
       "      <td>5.000000</td>\n",
       "      <td>0.000000</td>\n",
       "      <td>1.000000</td>\n",
       "    </tr>\n",
       "    <tr>\n",
       "      <th>max</th>\n",
       "      <td>2162.000000</td>\n",
       "      <td>1.000000</td>\n",
       "      <td>1.000000</td>\n",
       "      <td>1.000000</td>\n",
       "      <td>1.000000</td>\n",
       "      <td>1.000000</td>\n",
       "      <td>707600.000000</td>\n",
       "      <td>2.699217e+06</td>\n",
       "      <td>300000.000000</td>\n",
       "      <td>1.000000</td>\n",
       "      <td>397.000000</td>\n",
       "      <td>7.000000</td>\n",
       "      <td>3.000000</td>\n",
       "      <td>1.000000</td>\n",
       "    </tr>\n",
       "  </tbody>\n",
       "</table>\n",
       "</div>"
      ],
      "text/plain": [
       "         CLIENT_ID          SEX   CHILD_FLAG  REALTY_FLAG  ACCOUNTS_SBRF_FLAG  \\\n",
       "count  2163.000000  2163.000000  2163.000000  2163.000000         2163.000000   \n",
       "mean   1081.967638     0.492372     0.516412     0.491447            0.094313   \n",
       "std     624.494408     0.500057     0.501693     0.500042            0.292332   \n",
       "min       1.000000     0.000000    -1.000000     0.000000            0.000000   \n",
       "25%     541.500000     0.000000     0.000000     0.000000            0.000000   \n",
       "50%    1082.000000     0.000000     1.000000     0.000000            0.000000   \n",
       "75%    1622.500000     1.000000     1.000000     1.000000            0.000000   \n",
       "max    2162.000000     1.000000     1.000000     1.000000            1.000000   \n",
       "\n",
       "       E_MAIL_FLAG            DCI  PROFIT_FAMILY            UCI  \\\n",
       "count  2163.000000    2163.000000   2.163000e+03    2163.000000   \n",
       "mean      0.243181   20564.292780   3.914511e+04    4280.912470   \n",
       "std       0.429103   31220.805618   8.471056e+04   13969.285081   \n",
       "min       0.000000       0.000000   0.000000e+00       0.000000   \n",
       "25%       0.000000    7713.285150   1.615797e+04       0.000000   \n",
       "50%       0.000000   13485.000000   2.685308e+04       0.000000   \n",
       "75%       0.000000   23206.075200   4.199500e+04    3440.000000   \n",
       "max       1.000000  707600.000000   2.699217e+06  300000.000000   \n",
       "\n",
       "       FOREIGN_PASSPORT_FLAG  STANDING_IN_MONTHS_LAST    EDUCATION  \\\n",
       "count            2163.000000              2163.000000  2163.000000   \n",
       "mean                0.152566                49.841424     4.355062   \n",
       "std                 0.359652                58.111000     1.166387   \n",
       "min                 0.000000                 0.000000     1.000000   \n",
       "25%                 0.000000                13.000000     3.000000   \n",
       "50%                 0.000000                31.000000     5.000000   \n",
       "75%                 0.000000                60.000000     5.000000   \n",
       "max                 1.000000               397.000000     7.000000   \n",
       "\n",
       "       TRANSPORT_AMOUNT       target  \n",
       "count       2163.000000  2163.000000  \n",
       "mean           0.234859     0.500231  \n",
       "std            0.459604     0.500116  \n",
       "min            0.000000     0.000000  \n",
       "25%            0.000000     0.000000  \n",
       "50%            0.000000     1.000000  \n",
       "75%            0.000000     1.000000  \n",
       "max            3.000000     1.000000  "
      ]
     },
     "execution_count": 48,
     "metadata": {},
     "output_type": "execute_result"
    }
   ],
   "source": [
    "df.describe()"
   ]
  },
  {
   "cell_type": "markdown",
   "metadata": {},
   "source": [
    "###  судя по всему есть выбросы, которые смещают оценки DCI (при среднем 20К максимальное 707К)  то же про Profit_family и UCI "
   ]
  },
  {
   "cell_type": "markdown",
   "metadata": {},
   "source": [
    "### Посмотрим распределение Таргета. Оно пополам."
   ]
  },
  {
   "cell_type": "code",
   "execution_count": 49,
   "metadata": {},
   "outputs": [
    {
     "data": {
      "text/plain": [
       "target\n",
       "0    1081\n",
       "1    1082\n",
       "Name: CLIENT_ID, dtype: int64"
      ]
     },
     "execution_count": 49,
     "metadata": {},
     "output_type": "execute_result"
    }
   ],
   "source": [
    "df.groupby('target').count()['CLIENT_ID']"
   ]
  },
  {
   "cell_type": "markdown",
   "metadata": {},
   "source": [
    "#### Построим боксплоты числовых переменных PROFIT_FAMILY, DCI, UCI, STANDING_IN_MONTHS_LAST с учетом удаления выбросов"
   ]
  },
  {
   "cell_type": "code",
   "execution_count": 50,
   "metadata": {},
   "outputs": [
    {
     "data": {
      "image/png": "[encoded data removed]",
      "text/plain": [
       "<Figure size 432x288 with 1 Axes>"
      ]
     },
     "metadata": {},
     "output_type": "display_data"
    }
   ],
   "source": [
    "ax = sns.boxplot(x=df[df[\"PROFIT_FAMILY\"]<500000]['PROFIT_FAMILY'])"
   ]
  },
  {
   "cell_type": "code",
   "execution_count": 51,
   "metadata": {},
   "outputs": [
    {
     "data": {
      "image/png": "[encoded data removed]",
      "text/plain": [
       "<Figure size 432x288 with 1 Axes>"
      ]
     },
     "metadata": {},
     "output_type": "display_data"
    }
   ],
   "source": [
    "ag = sns.boxplot(x=df[df[\"DCI\"]<200000]['DCI'])"
   ]
  },
  {
   "cell_type": "code",
   "execution_count": 52,
   "metadata": {},
   "outputs": [
    {
     "data": {
      "image/png": "[encoded data removed]",
      "text/plain": [
       "<Figure size 432x288 with 1 Axes>"
      ]
     },
     "metadata": {},
     "output_type": "display_data"
    }
   ],
   "source": [
    "ax = sns.boxplot(x=df[df[\"UCI\"]<50000]['UCI'])"
   ]
  },
  {
   "cell_type": "code",
   "execution_count": 53,
   "metadata": {},
   "outputs": [
    {
     "data": {
      "image/png": "[encoded data removed]",
      "text/plain": [
       "<Figure size 432x288 with 1 Axes>"
      ]
     },
     "metadata": {},
     "output_type": "display_data"
    }
   ],
   "source": [
    "ax = sns.boxplot(x=df[df[\"STANDING_IN_MONTHS_LAST\"]<300]['STANDING_IN_MONTHS_LAST'])"
   ]
  },
  {
   "cell_type": "markdown",
   "metadata": {},
   "source": [
    "#### Как видно из графиков, концентрация всех наблюдений находится слева , и мы имеем несбалансированную выборку"
   ]
  },
  {
   "cell_type": "markdown",
   "metadata": {},
   "source": [
    "#### Проверим корреяции между переменными"
   ]
  },
  {
   "cell_type": "code",
   "execution_count": 54,
   "metadata": {},
   "outputs": [
    {
     "data": {
      "text/plain": [
       "<matplotlib.axes._subplots.AxesSubplot at 0x127048080>"
      ]
     },
     "execution_count": 54,
     "metadata": {},
     "output_type": "execute_result"
    },
    {
     "data": {
      "image/png": "[encoded data removed]",
      "text/plain": [
       "<Figure size 432x288 with 2 Axes>"
      ]
     },
     "metadata": {},
     "output_type": "display_data"
    }
   ],
   "source": [
    "sns.heatmap(df.corr())"
   ]
  },
  {
   "cell_type": "markdown",
   "metadata": {},
   "source": [
    "#### Отлично, переменные не сильно кореллированы. Можно приступать к предобработке данных"
   ]
  },
  {
   "cell_type": "code",
   "execution_count": 55,
   "metadata": {},
   "outputs": [
    {
     "data": {
      "text/html": [
       "<div>\n",
       "<style scoped>\n",
       "    .dataframe tbody tr th:only-of-type {\n",
       "        vertical-align: middle;\n",
       "    }\n",
       "\n",
       "    .dataframe tbody tr th {\n",
       "        vertical-align: top;\n",
       "    }\n",
       "\n",
       "    .dataframe thead th {\n",
       "        text-align: right;\n",
       "    }\n",
       "</style>\n",
       "<table border=\"1\" class=\"dataframe\">\n",
       "  <thead>\n",
       "    <tr style=\"text-align: right;\">\n",
       "      <th></th>\n",
       "      <th>CLIENT_ID</th>\n",
       "      <th>SEX</th>\n",
       "      <th>CHILD_FLAG</th>\n",
       "      <th>REALTY_FLAG</th>\n",
       "      <th>ACCOUNTS_SBRF_FLAG</th>\n",
       "      <th>E_MAIL_FLAG</th>\n",
       "      <th>DCI</th>\n",
       "      <th>PROFIT_FAMILY</th>\n",
       "      <th>UCI</th>\n",
       "      <th>FOREIGN_PASSPORT_FLAG</th>\n",
       "      <th>STANDING_IN_MONTHS_LAST</th>\n",
       "      <th>EDUCATION</th>\n",
       "      <th>TRANSPORT_AMOUNT</th>\n",
       "      <th>target</th>\n",
       "    </tr>\n",
       "  </thead>\n",
       "  <tbody>\n",
       "    <tr>\n",
       "      <th>0</th>\n",
       "      <td>1</td>\n",
       "      <td>1</td>\n",
       "      <td>0</td>\n",
       "      <td>1</td>\n",
       "      <td>0</td>\n",
       "      <td>1</td>\n",
       "      <td>14370.2002</td>\n",
       "      <td>14370.2002</td>\n",
       "      <td>0.0</td>\n",
       "      <td>0</td>\n",
       "      <td>26</td>\n",
       "      <td>3</td>\n",
       "      <td>1</td>\n",
       "      <td>1</td>\n",
       "    </tr>\n",
       "    <tr>\n",
       "      <th>1</th>\n",
       "      <td>2</td>\n",
       "      <td>1</td>\n",
       "      <td>1</td>\n",
       "      <td>1</td>\n",
       "      <td>0</td>\n",
       "      <td>0</td>\n",
       "      <td>28312.8594</td>\n",
       "      <td>33312.8594</td>\n",
       "      <td>0.0</td>\n",
       "      <td>1</td>\n",
       "      <td>19</td>\n",
       "      <td>3</td>\n",
       "      <td>2</td>\n",
       "      <td>1</td>\n",
       "    </tr>\n",
       "    <tr>\n",
       "      <th>2</th>\n",
       "      <td>3</td>\n",
       "      <td>1</td>\n",
       "      <td>0</td>\n",
       "      <td>0</td>\n",
       "      <td>0</td>\n",
       "      <td>1</td>\n",
       "      <td>34729.5117</td>\n",
       "      <td>34729.5117</td>\n",
       "      <td>0.0</td>\n",
       "      <td>0</td>\n",
       "      <td>66</td>\n",
       "      <td>3</td>\n",
       "      <td>0</td>\n",
       "      <td>1</td>\n",
       "    </tr>\n",
       "    <tr>\n",
       "      <th>3</th>\n",
       "      <td>4</td>\n",
       "      <td>0</td>\n",
       "      <td>0</td>\n",
       "      <td>0</td>\n",
       "      <td>0</td>\n",
       "      <td>0</td>\n",
       "      <td>28738.4707</td>\n",
       "      <td>28738.4707</td>\n",
       "      <td>0.0</td>\n",
       "      <td>0</td>\n",
       "      <td>20</td>\n",
       "      <td>3</td>\n",
       "      <td>0</td>\n",
       "      <td>1</td>\n",
       "    </tr>\n",
       "    <tr>\n",
       "      <th>4</th>\n",
       "      <td>5</td>\n",
       "      <td>0</td>\n",
       "      <td>1</td>\n",
       "      <td>0</td>\n",
       "      <td>0</td>\n",
       "      <td>0</td>\n",
       "      <td>73310.0000</td>\n",
       "      <td>73310.0000</td>\n",
       "      <td>0.0</td>\n",
       "      <td>0</td>\n",
       "      <td>25</td>\n",
       "      <td>3</td>\n",
       "      <td>0</td>\n",
       "      <td>1</td>\n",
       "    </tr>\n",
       "  </tbody>\n",
       "</table>\n",
       "</div>"
      ],
      "text/plain": [
       "   CLIENT_ID  SEX  CHILD_FLAG  REALTY_FLAG  ACCOUNTS_SBRF_FLAG  E_MAIL_FLAG  \\\n",
       "0          1    1           0            1                   0            1   \n",
       "1          2    1           1            1                   0            0   \n",
       "2          3    1           0            0                   0            1   \n",
       "3          4    0           0            0                   0            0   \n",
       "4          5    0           1            0                   0            0   \n",
       "\n",
       "          DCI  PROFIT_FAMILY  UCI  FOREIGN_PASSPORT_FLAG  \\\n",
       "0  14370.2002     14370.2002  0.0                      0   \n",
       "1  28312.8594     33312.8594  0.0                      1   \n",
       "2  34729.5117     34729.5117  0.0                      0   \n",
       "3  28738.4707     28738.4707  0.0                      0   \n",
       "4  73310.0000     73310.0000  0.0                      0   \n",
       "\n",
       "   STANDING_IN_MONTHS_LAST  EDUCATION  TRANSPORT_AMOUNT  target  \n",
       "0                       26          3                 1       1  \n",
       "1                       19          3                 2       1  \n",
       "2                       66          3                 0       1  \n",
       "3                       20          3                 0       1  \n",
       "4                       25          3                 0       1  "
      ]
     },
     "execution_count": 55,
     "metadata": {},
     "output_type": "execute_result"
    }
   ],
   "source": [
    "df.head()"
   ]
  },
  {
   "cell_type": "code",
   "execution_count": 56,
   "metadata": {},
   "outputs": [],
   "source": [
    "df['dci_profit'] = df['DCI'] / df['PROFIT_FAMILY']\n",
    "df['dci_profit'] = df['dci_profit'].fillna(0)"
   ]
  },
  {
   "cell_type": "code",
   "execution_count": 57,
   "metadata": {},
   "outputs": [
    {
     "data": {
      "text/plain": [
       "<matplotlib.axes._subplots.AxesSubplot at 0x12714a320>"
      ]
     },
     "execution_count": 57,
     "metadata": {},
     "output_type": "execute_result"
    },
    {
     "data": {
      "image/png": "[encoded data removed]",
      "text/plain": [
       "<Figure size 432x288 with 2 Axes>"
      ]
     },
     "metadata": {},
     "output_type": "display_data"
    }
   ],
   "source": [
    "#Снова проверим корреляцию\n",
    "sns.heatmap(df.corr())"
   ]
  },
  {
   "cell_type": "code",
   "execution_count": 58,
   "metadata": {},
   "outputs": [],
   "source": [
    "#Таргет переменную положим в у\n",
    "y = df['target']\n",
    "df=df.drop(['target'], axis=1)"
   ]
  },
  {
   "cell_type": "markdown",
   "metadata": {},
   "source": [
    "#### Для выработки логических правил удобно использовать дерево решений. Построим его, предварительно разбив нашу выборку на тренировочную и тестовую"
   ]
  },
  {
   "cell_type": "code",
   "execution_count": 59,
   "metadata": {},
   "outputs": [],
   "source": [
    "X_train, X_test, y_train, y_test = train_test_split(df, y, test_size=0.33, random_state=42)"
   ]
  },
  {
   "cell_type": "code",
   "execution_count": 60,
   "metadata": {
    "scrolled": false
   },
   "outputs": [
    {
     "data": {
      "text/plain": [
       "{'max_depth': 3, 'max_features': 5, 'min_samples_split': 130}"
      ]
     },
     "execution_count": 60,
     "metadata": {},
     "output_type": "execute_result"
    }
   ],
   "source": [
    "#Так как у нас значений не много, запустим сразу подбор оптимальных параметров\n",
    "\n",
    "clf = DecisionTreeClassifier()\n",
    "parameters={'min_samples_split' : range(10,500,20),'max_depth': range(1,20,2), 'max_features': [3, 5, 7, 10, 12]}\n",
    "clf = GridSearchCV(clf, parameters)\n",
    "clf.fit(X_train, y_train)\n",
    "clf.best_params_"
   ]
  },
  {
   "cell_type": "code",
   "execution_count": 64,
   "metadata": {},
   "outputs": [],
   "source": [
    "def calc_auc(y, y_pred, plot_label='', prin=True):\n",
    "    fpr, tpr, _ = roc_curve(y, y_pred)\n",
    "    auc_val = auc(fpr, tpr)\n",
    "    if prin:\n",
    "        print('ROC AUC: {0:.4f}'.format(auc_val))\n",
    "    if plot_label:\n",
    "        plt.plot(fpr, tpr, label=plot_label)\n",
    "        plt.xlabel('FPR')\n",
    "        plt.ylabel('TPR')\n",
    "    return auc_val"
   ]
  },
  {
   "cell_type": "code",
   "execution_count": 70,
   "metadata": {},
   "outputs": [
    {
     "name": "stdout",
     "output_type": "stream",
     "text": [
      "cross validation train [1.         0.99792961 0.84854772]\n",
      "roc_auc_score train 0.9200198945057625\n",
      "cross validation test [1.         0.99579832 0.92016807]\n",
      "roc_auc_score test 0.8995836769961902\n"
     ]
    }
   ],
   "source": [
    "clf = DecisionTreeClassifier(max_depth=3, max_features=5, min_samples_split= 130)\n",
    "clf.fit(X_train, y_train)\n",
    "y_true = clf.predict_proba(X_train)\n",
    "y_pred = clf.predict_proba(X_test)\n",
    "print('cross validation train', cross_val_score(clf, X_train, y_train))\n",
    "print('roc_auc_score train',roc_auc_score(y_train, y_true[:, 1]))\n",
    "print('cross validation test',cross_val_score(clf, X_test, y_test))\n",
    "print('roc_auc_score test',roc_auc_score(y_test, y_pred[:, 1]))"
   ]
  },
  {
   "cell_type": "code",
   "execution_count": 71,
   "metadata": {},
   "outputs": [
    {
     "name": "stdout",
     "output_type": "stream",
     "text": [
      "Train:\n",
      "ROC AUC: 0.9200\n",
      "Test:\n",
      "ROC AUC: 0.8996\n"
     ]
    },
    {
     "data": {
      "image/png": "[encoded data removed]",
      "text/plain": [
       "<Figure size 432x288 with 1 Axes>"
      ]
     },
     "metadata": {},
     "output_type": "display_data"
    }
   ],
   "source": [
    "print('Train:')\n",
    "calc_auc(y_train, y_true[:, 1], 'train')\n",
    "print('Test:')\n",
    "calc_auc(y_test, y_pred[:, 1], 'test')\n",
    "plt.legend();"
   ]
  },
  {
   "cell_type": "markdown",
   "metadata": {},
   "source": [
    "### Явное переобучение. Похоже, какая-то переменная создана по приз Посмотрим с чем связано. визуализируем дерево."
   ]
  },
  {
   "cell_type": "code",
   "execution_count": 72,
   "metadata": {},
   "outputs": [
    {
     "data": {
      "image/svg+xml": [
       "<svg height=\"373pt\" viewBox=\"0.00 0.00 533.00 373.00\" width=\"533pt\" xmlns=\"http://www.w3.org/2000/svg\" xmlns:xlink=\"http://www.w3.org/1999/xlink\">\n",
       "<g class=\"graph\" id=\"graph0\" transform=\"scale(1 1) rotate(0) translate(4 369)\">\n",
       "<title>Tree</title>\n",
       "<polygon fill=\"#ffffff\" points=\"-4,4 -4,-369 529,-369 529,4 -4,4\" stroke=\"transparent\"/>\n",
       "<!-- 0 -->\n",
       "<g class=\"node\" id=\"node1\">\n",
       "<title>0</title>\n",
       "<polygon fill=\"none\" points=\"283,-365 123,-365 123,-297 283,-297 283,-365\" stroke=\"#000000\"/>\n",
       "<text fill=\"#000000\" font-family=\"Times,serif\" font-size=\"14.00\" text-anchor=\"middle\" x=\"203\" y=\"-349.8\">PROFIT_FAMILY &lt;= 27858.615</text>\n",
       "<text fill=\"#000000\" font-family=\"Times,serif\" font-size=\"14.00\" text-anchor=\"middle\" x=\"203\" y=\"-334.8\">gini = 0.5</text>\n",
       "<text fill=\"#000000\" font-family=\"Times,serif\" font-size=\"14.00\" text-anchor=\"middle\" x=\"203\" y=\"-319.8\">samples = 1449</text>\n",
       "<text fill=\"#000000\" font-family=\"Times,serif\" font-size=\"14.00\" text-anchor=\"middle\" x=\"203\" y=\"-304.8\">value = [736, 713]</text>\n",
       "</g>\n",
       "<!-- 1 -->\n",
       "<g class=\"node\" id=\"node2\">\n",
       "<title>1</title>\n",
       "<polygon fill=\"none\" points=\"196,-261 80,-261 80,-193 196,-193 196,-261\" stroke=\"#000000\"/>\n",
       "<text fill=\"#000000\" font-family=\"Times,serif\" font-size=\"14.00\" text-anchor=\"middle\" x=\"138\" y=\"-245.8\">CLIENT_ID &lt;= 1086.5</text>\n",
       "<text fill=\"#000000\" font-family=\"Times,serif\" font-size=\"14.00\" text-anchor=\"middle\" x=\"138\" y=\"-230.8\">gini = 0.482</text>\n",
       "<text fill=\"#000000\" font-family=\"Times,serif\" font-size=\"14.00\" text-anchor=\"middle\" x=\"138\" y=\"-215.8\">samples = 747</text>\n",
       "<text fill=\"#000000\" font-family=\"Times,serif\" font-size=\"14.00\" text-anchor=\"middle\" x=\"138\" y=\"-200.8\">value = [302, 445]</text>\n",
       "</g>\n",
       "<!-- 0&#45;&gt;1 -->\n",
       "<g class=\"edge\" id=\"edge1\">\n",
       "<title>0-&gt;1</title>\n",
       "<path d=\"M181.7166,-296.9465C176.2733,-288.2373 170.3516,-278.7626 164.675,-269.6801\" fill=\"none\" stroke=\"#000000\"/>\n",
       "<polygon fill=\"#000000\" points=\"167.5993,-267.755 159.3312,-261.13 161.6633,-271.465 167.5993,-267.755\" stroke=\"#000000\"/>\n",
       "<text fill=\"#000000\" font-family=\"Times,serif\" font-size=\"14.00\" text-anchor=\"middle\" x=\"153.7098\" y=\"-281.7898\">True</text>\n",
       "</g>\n",
       "<!-- 4 -->\n",
       "<g class=\"node\" id=\"node5\">\n",
       "<title>4</title>\n",
       "<polygon fill=\"none\" points=\"322,-261 214,-261 214,-193 322,-193 322,-261\" stroke=\"#000000\"/>\n",
       "<text fill=\"#000000\" font-family=\"Times,serif\" font-size=\"14.00\" text-anchor=\"middle\" x=\"268\" y=\"-245.8\">EDUCATION &lt;= 3.5</text>\n",
       "<text fill=\"#000000\" font-family=\"Times,serif\" font-size=\"14.00\" text-anchor=\"middle\" x=\"268\" y=\"-230.8\">gini = 0.472</text>\n",
       "<text fill=\"#000000\" font-family=\"Times,serif\" font-size=\"14.00\" text-anchor=\"middle\" x=\"268\" y=\"-215.8\">samples = 702</text>\n",
       "<text fill=\"#000000\" font-family=\"Times,serif\" font-size=\"14.00\" text-anchor=\"middle\" x=\"268\" y=\"-200.8\">value = [434, 268]</text>\n",
       "</g>\n",
       "<!-- 0&#45;&gt;4 -->\n",
       "<g class=\"edge\" id=\"edge4\">\n",
       "<title>0-&gt;4</title>\n",
       "<path d=\"M224.2834,-296.9465C229.7267,-288.2373 235.6484,-278.7626 241.325,-269.6801\" fill=\"none\" stroke=\"#000000\"/>\n",
       "<polygon fill=\"#000000\" points=\"244.3367,-271.465 246.6688,-261.13 238.4007,-267.755 244.3367,-271.465\" stroke=\"#000000\"/>\n",
       "<text fill=\"#000000\" font-family=\"Times,serif\" font-size=\"14.00\" text-anchor=\"middle\" x=\"252.2902\" y=\"-281.7898\">False</text>\n",
       "</g>\n",
       "<!-- 2 -->\n",
       "<g class=\"node\" id=\"node3\">\n",
       "<title>2</title>\n",
       "<polygon fill=\"none\" points=\"84,-149.5 0,-149.5 0,-96.5 84,-96.5 84,-149.5\" stroke=\"#000000\"/>\n",
       "<text fill=\"#000000\" font-family=\"Times,serif\" font-size=\"14.00\" text-anchor=\"middle\" x=\"42\" y=\"-134.3\">gini = 0.0</text>\n",
       "<text fill=\"#000000\" font-family=\"Times,serif\" font-size=\"14.00\" text-anchor=\"middle\" x=\"42\" y=\"-119.3\">samples = 445</text>\n",
       "<text fill=\"#000000\" font-family=\"Times,serif\" font-size=\"14.00\" text-anchor=\"middle\" x=\"42\" y=\"-104.3\">value = [0, 445]</text>\n",
       "</g>\n",
       "<!-- 1&#45;&gt;2 -->\n",
       "<g class=\"edge\" id=\"edge2\">\n",
       "<title>1-&gt;2</title>\n",
       "<path d=\"M106.566,-192.9465C95.89,-181.3809 83.9678,-168.4652 73.3022,-156.9107\" fill=\"none\" stroke=\"#000000\"/>\n",
       "<polygon fill=\"#000000\" points=\"75.8551,-154.5162 66.5005,-149.5422 70.7115,-159.2642 75.8551,-154.5162\" stroke=\"#000000\"/>\n",
       "</g>\n",
       "<!-- 3 -->\n",
       "<g class=\"node\" id=\"node4\">\n",
       "<title>3</title>\n",
       "<polygon fill=\"none\" points=\"186,-149.5 102,-149.5 102,-96.5 186,-96.5 186,-149.5\" stroke=\"#000000\"/>\n",
       "<text fill=\"#000000\" font-family=\"Times,serif\" font-size=\"14.00\" text-anchor=\"middle\" x=\"144\" y=\"-134.3\">gini = 0.0</text>\n",
       "<text fill=\"#000000\" font-family=\"Times,serif\" font-size=\"14.00\" text-anchor=\"middle\" x=\"144\" y=\"-119.3\">samples = 302</text>\n",
       "<text fill=\"#000000\" font-family=\"Times,serif\" font-size=\"14.00\" text-anchor=\"middle\" x=\"144\" y=\"-104.3\">value = [302, 0]</text>\n",
       "</g>\n",
       "<!-- 1&#45;&gt;3 -->\n",
       "<g class=\"edge\" id=\"edge3\">\n",
       "<title>1-&gt;3</title>\n",
       "<path d=\"M139.9646,-192.9465C140.581,-182.2621 141.2639,-170.4254 141.8899,-159.5742\" fill=\"none\" stroke=\"#000000\"/>\n",
       "<polygon fill=\"#000000\" points=\"145.3869,-159.7272 142.4687,-149.5422 138.3985,-159.3239 145.3869,-159.7272\" stroke=\"#000000\"/>\n",
       "</g>\n",
       "<!-- 5 -->\n",
       "<g class=\"node\" id=\"node6\">\n",
       "<title>5</title>\n",
       "<polygon fill=\"none\" points=\"312,-157 214,-157 214,-89 312,-89 312,-157\" stroke=\"#000000\"/>\n",
       "<text fill=\"#000000\" font-family=\"Times,serif\" font-size=\"14.00\" text-anchor=\"middle\" x=\"263\" y=\"-141.8\">dci_profit &lt;= 0.193</text>\n",
       "<text fill=\"#000000\" font-family=\"Times,serif\" font-size=\"14.00\" text-anchor=\"middle\" x=\"263\" y=\"-126.8\">gini = 0.389</text>\n",
       "<text fill=\"#000000\" font-family=\"Times,serif\" font-size=\"14.00\" text-anchor=\"middle\" x=\"263\" y=\"-111.8\">samples = 322</text>\n",
       "<text fill=\"#000000\" font-family=\"Times,serif\" font-size=\"14.00\" text-anchor=\"middle\" x=\"263\" y=\"-96.8\">value = [237, 85]</text>\n",
       "</g>\n",
       "<!-- 4&#45;&gt;5 -->\n",
       "<g class=\"edge\" id=\"edge5\">\n",
       "<title>4-&gt;5</title>\n",
       "<path d=\"M266.3628,-192.9465C265.97,-184.776 265.5448,-175.9318 265.1332,-167.3697\" fill=\"none\" stroke=\"#000000\"/>\n",
       "<polygon fill=\"#000000\" points=\"268.6171,-166.9504 264.6409,-157.13 261.6252,-167.2866 268.6171,-166.9504\" stroke=\"#000000\"/>\n",
       "</g>\n",
       "<!-- 8 -->\n",
       "<g class=\"node\" id=\"node9\">\n",
       "<title>8</title>\n",
       "<polygon fill=\"none\" points=\"426,-157 330,-157 330,-89 426,-89 426,-157\" stroke=\"#000000\"/>\n",
       "<text fill=\"#000000\" font-family=\"Times,serif\" font-size=\"14.00\" text-anchor=\"middle\" x=\"378\" y=\"-141.8\">DCI &lt;= 33237.852</text>\n",
       "<text fill=\"#000000\" font-family=\"Times,serif\" font-size=\"14.00\" text-anchor=\"middle\" x=\"378\" y=\"-126.8\">gini = 0.499</text>\n",
       "<text fill=\"#000000\" font-family=\"Times,serif\" font-size=\"14.00\" text-anchor=\"middle\" x=\"378\" y=\"-111.8\">samples = 380</text>\n",
       "<text fill=\"#000000\" font-family=\"Times,serif\" font-size=\"14.00\" text-anchor=\"middle\" x=\"378\" y=\"-96.8\">value = [197, 183]</text>\n",
       "</g>\n",
       "<!-- 4&#45;&gt;8 -->\n",
       "<g class=\"edge\" id=\"edge8\">\n",
       "<title>4-&gt;8</title>\n",
       "<path d=\"M304.0181,-192.9465C313.7046,-183.7884 324.2864,-173.7838 334.3397,-164.2788\" fill=\"none\" stroke=\"#000000\"/>\n",
       "<polygon fill=\"#000000\" points=\"337.039,-166.5434 341.901,-157.13 332.2299,-161.4569 337.039,-166.5434\" stroke=\"#000000\"/>\n",
       "</g>\n",
       "<!-- 6 -->\n",
       "<g class=\"node\" id=\"node7\">\n",
       "<title>6</title>\n",
       "<polygon fill=\"none\" points=\"201,-53 117,-53 117,0 201,0 201,-53\" stroke=\"#000000\"/>\n",
       "<text fill=\"#000000\" font-family=\"Times,serif\" font-size=\"14.00\" text-anchor=\"middle\" x=\"159\" y=\"-37.8\">gini = 0.475</text>\n",
       "<text fill=\"#000000\" font-family=\"Times,serif\" font-size=\"14.00\" text-anchor=\"middle\" x=\"159\" y=\"-22.8\">samples = 31</text>\n",
       "<text fill=\"#000000\" font-family=\"Times,serif\" font-size=\"14.00\" text-anchor=\"middle\" x=\"159\" y=\"-7.8\">value = [19, 12]</text>\n",
       "</g>\n",
       "<!-- 5&#45;&gt;6 -->\n",
       "<g class=\"edge\" id=\"edge6\">\n",
       "<title>5-&gt;6</title>\n",
       "<path d=\"M226.3335,-88.9777C216.2675,-79.6376 205.3596,-69.5163 195.3135,-60.1947\" fill=\"none\" stroke=\"#000000\"/>\n",
       "<polygon fill=\"#000000\" points=\"197.5385,-57.4847 187.8274,-53.2485 192.7772,-62.616 197.5385,-57.4847\" stroke=\"#000000\"/>\n",
       "</g>\n",
       "<!-- 7 -->\n",
       "<g class=\"node\" id=\"node8\">\n",
       "<title>7</title>\n",
       "<polygon fill=\"none\" points=\"308.5,-53 219.5,-53 219.5,0 308.5,0 308.5,-53\" stroke=\"#000000\"/>\n",
       "<text fill=\"#000000\" font-family=\"Times,serif\" font-size=\"14.00\" text-anchor=\"middle\" x=\"264\" y=\"-37.8\">gini = 0.376</text>\n",
       "<text fill=\"#000000\" font-family=\"Times,serif\" font-size=\"14.00\" text-anchor=\"middle\" x=\"264\" y=\"-22.8\">samples = 291</text>\n",
       "<text fill=\"#000000\" font-family=\"Times,serif\" font-size=\"14.00\" text-anchor=\"middle\" x=\"264\" y=\"-7.8\">value = [218, 73]</text>\n",
       "</g>\n",
       "<!-- 5&#45;&gt;7 -->\n",
       "<g class=\"edge\" id=\"edge7\">\n",
       "<title>5-&gt;7</title>\n",
       "<path d=\"M263.3526,-88.9777C263.438,-80.7364 263.5297,-71.887 263.6164,-63.5153\" fill=\"none\" stroke=\"#000000\"/>\n",
       "<polygon fill=\"#000000\" points=\"267.1189,-63.2842 263.7228,-53.2485 260.1193,-63.2116 267.1189,-63.2842\" stroke=\"#000000\"/>\n",
       "</g>\n",
       "<!-- 9 -->\n",
       "<g class=\"node\" id=\"node10\">\n",
       "<title>9</title>\n",
       "<polygon fill=\"none\" points=\"423,-53 329,-53 329,0 423,0 423,-53\" stroke=\"#000000\"/>\n",
       "<text fill=\"#000000\" font-family=\"Times,serif\" font-size=\"14.00\" text-anchor=\"middle\" x=\"376\" y=\"-37.8\">gini = 0.493</text>\n",
       "<text fill=\"#000000\" font-family=\"Times,serif\" font-size=\"14.00\" text-anchor=\"middle\" x=\"376\" y=\"-22.8\">samples = 305</text>\n",
       "<text fill=\"#000000\" font-family=\"Times,serif\" font-size=\"14.00\" text-anchor=\"middle\" x=\"376\" y=\"-7.8\">value = [170, 135]</text>\n",
       "</g>\n",
       "<!-- 8&#45;&gt;9 -->\n",
       "<g class=\"edge\" id=\"edge9\">\n",
       "<title>8-&gt;9</title>\n",
       "<path d=\"M377.2949,-88.9777C377.1241,-80.7364 376.9407,-71.887 376.7672,-63.5153\" fill=\"none\" stroke=\"#000000\"/>\n",
       "<polygon fill=\"#000000\" points=\"380.2609,-63.1738 376.5544,-53.2485 373.2624,-63.3189 380.2609,-63.1738\" stroke=\"#000000\"/>\n",
       "</g>\n",
       "<!-- 10 -->\n",
       "<g class=\"node\" id=\"node11\">\n",
       "<title>10</title>\n",
       "<polygon fill=\"none\" points=\"525,-53 441,-53 441,0 525,0 525,-53\" stroke=\"#000000\"/>\n",
       "<text fill=\"#000000\" font-family=\"Times,serif\" font-size=\"14.00\" text-anchor=\"middle\" x=\"483\" y=\"-37.8\">gini = 0.461</text>\n",
       "<text fill=\"#000000\" font-family=\"Times,serif\" font-size=\"14.00\" text-anchor=\"middle\" x=\"483\" y=\"-22.8\">samples = 75</text>\n",
       "<text fill=\"#000000\" font-family=\"Times,serif\" font-size=\"14.00\" text-anchor=\"middle\" x=\"483\" y=\"-7.8\">value = [27, 48]</text>\n",
       "</g>\n",
       "<!-- 8&#45;&gt;10 -->\n",
       "<g class=\"edge\" id=\"edge10\">\n",
       "<title>8-&gt;10</title>\n",
       "<path d=\"M415.0191,-88.9777C425.1819,-79.6376 436.1947,-69.5163 446.3374,-60.1947\" fill=\"none\" stroke=\"#000000\"/>\n",
       "<polygon fill=\"#000000\" points=\"448.901,-62.5923 453.8954,-53.2485 444.1642,-57.4383 448.901,-62.5923\" stroke=\"#000000\"/>\n",
       "</g>\n",
       "</g>\n",
       "</svg>"
      ],
      "text/plain": [
       "<IPython.core.display.SVG object>"
      ]
     },
     "execution_count": 72,
     "metadata": {},
     "output_type": "execute_result"
    }
   ],
   "source": [
    "from graphviz import Source\n",
    "from sklearn import tree\n",
    "from IPython.display import SVG\n",
    "graph = Source( tree.export_graphviz(clf, out_file=None, feature_names=df.columns))\n",
    "SVG(graph.pipe(format='svg'))"
   ]
  },
  {
   "cell_type": "markdown",
   "metadata": {},
   "source": [
    "#### Client_id портит картину, тк от него зависит таргет. Уберем эту переменную."
   ]
  },
  {
   "cell_type": "code",
   "execution_count": 73,
   "metadata": {},
   "outputs": [],
   "source": [
    "df=df.drop(['CLIENT_ID'], axis=1)"
   ]
  },
  {
   "cell_type": "code",
   "execution_count": 75,
   "metadata": {},
   "outputs": [],
   "source": [
    "X_train, X_test, y_train, y_test = train_test_split(df, y, test_size=0.33, random_state=42)"
   ]
  },
  {
   "cell_type": "code",
   "execution_count": 76,
   "metadata": {},
   "outputs": [
    {
     "name": "stdout",
     "output_type": "stream",
     "text": [
      "cross validation train [0.65702479 0.60869565 0.62033195]\n",
      "roc_auc_score train 0.7092943929507897\n",
      "cross validation test [0.59243697 0.62605042 0.57563025]\n",
      "roc_auc_score test 0.638867287223597\n"
     ]
    }
   ],
   "source": [
    "clf = DecisionTreeClassifier(max_depth=3, max_features=5, min_samples_split= 130)\n",
    "clf.fit(X_train, y_train)\n",
    "y_true = clf.predict_proba(X_train)\n",
    "y_pred = clf.predict_proba(X_test)\n",
    "print('cross validation train', cross_val_score(clf, X_train, y_train))\n",
    "print('roc_auc_score train',roc_auc_score(y_train, y_true[:, 1]))\n",
    "print('cross validation test',cross_val_score(clf, X_test, y_test))\n",
    "print('roc_auc_score test',roc_auc_score(y_test, y_pred[:, 1]))"
   ]
  },
  {
   "cell_type": "code",
   "execution_count": 77,
   "metadata": {},
   "outputs": [
    {
     "data": {
      "image/svg+xml": [
       "<svg height=\"373pt\" viewBox=\"0.00 0.00 710.00 373.00\" width=\"710pt\" xmlns=\"http://www.w3.org/2000/svg\" xmlns:xlink=\"http://www.w3.org/1999/xlink\">\n",
       "<g class=\"graph\" id=\"graph0\" transform=\"scale(1 1) rotate(0) translate(4 369)\">\n",
       "<title>Tree</title>\n",
       "<polygon fill=\"#ffffff\" points=\"-4,4 -4,-369 706,-369 706,4 -4,4\" stroke=\"transparent\"/>\n",
       "<!-- 0 -->\n",
       "<g class=\"node\" id=\"node1\">\n",
       "<title>0</title>\n",
       "<polygon fill=\"none\" points=\"471,-365 363,-365 363,-297 471,-297 471,-365\" stroke=\"#000000\"/>\n",
       "<text fill=\"#000000\" font-family=\"Times,serif\" font-size=\"14.00\" text-anchor=\"middle\" x=\"417\" y=\"-349.8\">EDUCATION &lt;= 3.5</text>\n",
       "<text fill=\"#000000\" font-family=\"Times,serif\" font-size=\"14.00\" text-anchor=\"middle\" x=\"417\" y=\"-334.8\">gini = 0.5</text>\n",
       "<text fill=\"#000000\" font-family=\"Times,serif\" font-size=\"14.00\" text-anchor=\"middle\" x=\"417\" y=\"-319.8\">samples = 1449</text>\n",
       "<text fill=\"#000000\" font-family=\"Times,serif\" font-size=\"14.00\" text-anchor=\"middle\" x=\"417\" y=\"-304.8\">value = [736, 713]</text>\n",
       "</g>\n",
       "<!-- 1 -->\n",
       "<g class=\"node\" id=\"node2\">\n",
       "<title>1</title>\n",
       "<polygon fill=\"none\" points=\"403,-261 221,-261 221,-193 403,-193 403,-261\" stroke=\"#000000\"/>\n",
       "<text fill=\"#000000\" font-family=\"Times,serif\" font-size=\"14.00\" text-anchor=\"middle\" x=\"312\" y=\"-245.8\">FOREIGN_PASSPORT_FLAG &lt;= 0.5</text>\n",
       "<text fill=\"#000000\" font-family=\"Times,serif\" font-size=\"14.00\" text-anchor=\"middle\" x=\"312\" y=\"-230.8\">gini = 0.42</text>\n",
       "<text fill=\"#000000\" font-family=\"Times,serif\" font-size=\"14.00\" text-anchor=\"middle\" x=\"312\" y=\"-215.8\">samples = 473</text>\n",
       "<text fill=\"#000000\" font-family=\"Times,serif\" font-size=\"14.00\" text-anchor=\"middle\" x=\"312\" y=\"-200.8\">value = [331, 142]</text>\n",
       "</g>\n",
       "<!-- 0&#45;&gt;1 -->\n",
       "<g class=\"edge\" id=\"edge1\">\n",
       "<title>0-&gt;1</title>\n",
       "<path d=\"M382.6191,-296.9465C373.3729,-287.7884 363.2721,-277.7838 353.6757,-268.2788\" fill=\"none\" stroke=\"#000000\"/>\n",
       "<polygon fill=\"#000000\" points=\"356.026,-265.6805 346.4582,-261.13 351.1,-270.6539 356.026,-265.6805\" stroke=\"#000000\"/>\n",
       "<text fill=\"#000000\" font-family=\"Times,serif\" font-size=\"14.00\" text-anchor=\"middle\" x=\"346.5778\" y=\"-282.4297\">True</text>\n",
       "</g>\n",
       "<!-- 8 -->\n",
       "<g class=\"node\" id=\"node9\">\n",
       "<title>8</title>\n",
       "<polygon fill=\"none\" points=\"624.5,-261 421.5,-261 421.5,-193 624.5,-193 624.5,-261\" stroke=\"#000000\"/>\n",
       "<text fill=\"#000000\" font-family=\"Times,serif\" font-size=\"14.00\" text-anchor=\"middle\" x=\"523\" y=\"-245.8\">STANDING_IN_MONTHS_LAST &lt;= 97.5</text>\n",
       "<text fill=\"#000000\" font-family=\"Times,serif\" font-size=\"14.00\" text-anchor=\"middle\" x=\"523\" y=\"-230.8\">gini = 0.486</text>\n",
       "<text fill=\"#000000\" font-family=\"Times,serif\" font-size=\"14.00\" text-anchor=\"middle\" x=\"523\" y=\"-215.8\">samples = 976</text>\n",
       "<text fill=\"#000000\" font-family=\"Times,serif\" font-size=\"14.00\" text-anchor=\"middle\" x=\"523\" y=\"-200.8\">value = [405, 571]</text>\n",
       "</g>\n",
       "<!-- 0&#45;&gt;8 -->\n",
       "<g class=\"edge\" id=\"edge8\">\n",
       "<title>0-&gt;8</title>\n",
       "<path d=\"M451.7084,-296.9465C461.0426,-287.7884 471.2396,-277.7838 480.9273,-268.2788\" fill=\"none\" stroke=\"#000000\"/>\n",
       "<polygon fill=\"#000000\" points=\"483.5267,-270.6318 488.2137,-261.13 478.6243,-265.6351 483.5267,-270.6318\" stroke=\"#000000\"/>\n",
       "<text fill=\"#000000\" font-family=\"Times,serif\" font-size=\"14.00\" text-anchor=\"middle\" x=\"487.9756\" y=\"-282.4289\">False</text>\n",
       "</g>\n",
       "<!-- 2 -->\n",
       "<g class=\"node\" id=\"node3\">\n",
       "<title>2</title>\n",
       "<polygon fill=\"none\" points=\"197.5,-157 86.5,-157 86.5,-89 197.5,-89 197.5,-157\" stroke=\"#000000\"/>\n",
       "<text fill=\"#000000\" font-family=\"Times,serif\" font-size=\"14.00\" text-anchor=\"middle\" x=\"142\" y=\"-141.8\">CHILD_FLAG &lt;= 0.5</text>\n",
       "<text fill=\"#000000\" font-family=\"Times,serif\" font-size=\"14.00\" text-anchor=\"middle\" x=\"142\" y=\"-126.8\">gini = 0.458</text>\n",
       "<text fill=\"#000000\" font-family=\"Times,serif\" font-size=\"14.00\" text-anchor=\"middle\" x=\"142\" y=\"-111.8\">samples = 335</text>\n",
       "<text fill=\"#000000\" font-family=\"Times,serif\" font-size=\"14.00\" text-anchor=\"middle\" x=\"142\" y=\"-96.8\">value = [216, 119]</text>\n",
       "</g>\n",
       "<!-- 1&#45;&gt;2 -->\n",
       "<g class=\"edge\" id=\"edge2\">\n",
       "<title>1-&gt;2</title>\n",
       "<path d=\"M256.3356,-192.9465C240.4851,-183.2497 223.0832,-172.6039 206.7421,-162.6069\" fill=\"none\" stroke=\"#000000\"/>\n",
       "<polygon fill=\"#000000\" points=\"208.1463,-159.363 197.7894,-157.13 204.4933,-165.3342 208.1463,-159.363\" stroke=\"#000000\"/>\n",
       "</g>\n",
       "<!-- 5 -->\n",
       "<g class=\"node\" id=\"node6\">\n",
       "<title>5</title>\n",
       "<polygon fill=\"none\" points=\"418.5,-157 215.5,-157 215.5,-89 418.5,-89 418.5,-157\" stroke=\"#000000\"/>\n",
       "<text fill=\"#000000\" font-family=\"Times,serif\" font-size=\"14.00\" text-anchor=\"middle\" x=\"317\" y=\"-141.8\">STANDING_IN_MONTHS_LAST &lt;= 14.5</text>\n",
       "<text fill=\"#000000\" font-family=\"Times,serif\" font-size=\"14.00\" text-anchor=\"middle\" x=\"317\" y=\"-126.8\">gini = 0.278</text>\n",
       "<text fill=\"#000000\" font-family=\"Times,serif\" font-size=\"14.00\" text-anchor=\"middle\" x=\"317\" y=\"-111.8\">samples = 138</text>\n",
       "<text fill=\"#000000\" font-family=\"Times,serif\" font-size=\"14.00\" text-anchor=\"middle\" x=\"317\" y=\"-96.8\">value = [115, 23]</text>\n",
       "</g>\n",
       "<!-- 1&#45;&gt;5 -->\n",
       "<g class=\"edge\" id=\"edge5\">\n",
       "<title>1-&gt;5</title>\n",
       "<path d=\"M313.6372,-192.9465C314.03,-184.776 314.4552,-175.9318 314.8668,-167.3697\" fill=\"none\" stroke=\"#000000\"/>\n",
       "<polygon fill=\"#000000\" points=\"318.3748,-167.2866 315.3591,-157.13 311.3829,-166.9504 318.3748,-167.2866\" stroke=\"#000000\"/>\n",
       "</g>\n",
       "<!-- 3 -->\n",
       "<g class=\"node\" id=\"node4\">\n",
       "<title>3</title>\n",
       "<polygon fill=\"none\" points=\"84,-53 0,-53 0,0 84,0 84,-53\" stroke=\"#000000\"/>\n",
       "<text fill=\"#000000\" font-family=\"Times,serif\" font-size=\"14.00\" text-anchor=\"middle\" x=\"42\" y=\"-37.8\">gini = 0.495</text>\n",
       "<text fill=\"#000000\" font-family=\"Times,serif\" font-size=\"14.00\" text-anchor=\"middle\" x=\"42\" y=\"-22.8\">samples = 144</text>\n",
       "<text fill=\"#000000\" font-family=\"Times,serif\" font-size=\"14.00\" text-anchor=\"middle\" x=\"42\" y=\"-7.8\">value = [79, 65]</text>\n",
       "</g>\n",
       "<!-- 2&#45;&gt;3 -->\n",
       "<g class=\"edge\" id=\"edge3\">\n",
       "<title>2-&gt;3</title>\n",
       "<path d=\"M106.7437,-88.9777C97.0649,-79.6376 86.5765,-69.5163 76.9168,-60.1947\" fill=\"none\" stroke=\"#000000\"/>\n",
       "<polygon fill=\"#000000\" points=\"79.3449,-57.674 69.7186,-53.2485 74.4841,-62.7111 79.3449,-57.674\" stroke=\"#000000\"/>\n",
       "</g>\n",
       "<!-- 4 -->\n",
       "<g class=\"node\" id=\"node5\">\n",
       "<title>4</title>\n",
       "<polygon fill=\"none\" points=\"191.5,-53 102.5,-53 102.5,0 191.5,0 191.5,-53\" stroke=\"#000000\"/>\n",
       "<text fill=\"#000000\" font-family=\"Times,serif\" font-size=\"14.00\" text-anchor=\"middle\" x=\"147\" y=\"-37.8\">gini = 0.406</text>\n",
       "<text fill=\"#000000\" font-family=\"Times,serif\" font-size=\"14.00\" text-anchor=\"middle\" x=\"147\" y=\"-22.8\">samples = 191</text>\n",
       "<text fill=\"#000000\" font-family=\"Times,serif\" font-size=\"14.00\" text-anchor=\"middle\" x=\"147\" y=\"-7.8\">value = [137, 54]</text>\n",
       "</g>\n",
       "<!-- 2&#45;&gt;4 -->\n",
       "<g class=\"edge\" id=\"edge4\">\n",
       "<title>2-&gt;4</title>\n",
       "<path d=\"M143.7628,-88.9777C144.1946,-80.6449 144.6585,-71.6903 145.0966,-63.2364\" fill=\"none\" stroke=\"#000000\"/>\n",
       "<polygon fill=\"#000000\" points=\"148.5918,-63.4162 145.6141,-53.2485 141.6012,-63.0539 148.5918,-63.4162\" stroke=\"#000000\"/>\n",
       "</g>\n",
       "<!-- 6 -->\n",
       "<g class=\"node\" id=\"node7\">\n",
       "<title>6</title>\n",
       "<polygon fill=\"none\" points=\"327,-53 243,-53 243,0 327,0 327,-53\" stroke=\"#000000\"/>\n",
       "<text fill=\"#000000\" font-family=\"Times,serif\" font-size=\"14.00\" text-anchor=\"middle\" x=\"285\" y=\"-37.8\">gini = 0.494</text>\n",
       "<text fill=\"#000000\" font-family=\"Times,serif\" font-size=\"14.00\" text-anchor=\"middle\" x=\"285\" y=\"-22.8\">samples = 27</text>\n",
       "<text fill=\"#000000\" font-family=\"Times,serif\" font-size=\"14.00\" text-anchor=\"middle\" x=\"285\" y=\"-7.8\">value = [15, 12]</text>\n",
       "</g>\n",
       "<!-- 5&#45;&gt;6 -->\n",
       "<g class=\"edge\" id=\"edge6\">\n",
       "<title>5-&gt;6</title>\n",
       "<path d=\"M305.718,-88.9777C302.9244,-80.5533 299.9201,-71.4934 297.0897,-62.9579\" fill=\"none\" stroke=\"#000000\"/>\n",
       "<polygon fill=\"#000000\" points=\"300.3397,-61.6386 293.87,-53.2485 293.6954,-63.8419 300.3397,-61.6386\" stroke=\"#000000\"/>\n",
       "</g>\n",
       "<!-- 7 -->\n",
       "<g class=\"node\" id=\"node8\">\n",
       "<title>7</title>\n",
       "<polygon fill=\"none\" points=\"434.5,-53 345.5,-53 345.5,0 434.5,0 434.5,-53\" stroke=\"#000000\"/>\n",
       "<text fill=\"#000000\" font-family=\"Times,serif\" font-size=\"14.00\" text-anchor=\"middle\" x=\"390\" y=\"-37.8\">gini = 0.179</text>\n",
       "<text fill=\"#000000\" font-family=\"Times,serif\" font-size=\"14.00\" text-anchor=\"middle\" x=\"390\" y=\"-22.8\">samples = 111</text>\n",
       "<text fill=\"#000000\" font-family=\"Times,serif\" font-size=\"14.00\" text-anchor=\"middle\" x=\"390\" y=\"-7.8\">value = [100, 11]</text>\n",
       "</g>\n",
       "<!-- 5&#45;&gt;7 -->\n",
       "<g class=\"edge\" id=\"edge7\">\n",
       "<title>5-&gt;7</title>\n",
       "<path d=\"M342.7371,-88.9777C349.5256,-80.0039 356.8596,-70.3089 363.6784,-61.295\" fill=\"none\" stroke=\"#000000\"/>\n",
       "<polygon fill=\"#000000\" points=\"366.5237,-63.3352 369.7654,-53.2485 360.941,-59.1121 366.5237,-63.3352\" stroke=\"#000000\"/>\n",
       "</g>\n",
       "<!-- 9 -->\n",
       "<g class=\"node\" id=\"node10\">\n",
       "<title>9</title>\n",
       "<polygon fill=\"none\" points=\"600,-157 440,-157 440,-89 600,-89 600,-157\" stroke=\"#000000\"/>\n",
       "<text fill=\"#000000\" font-family=\"Times,serif\" font-size=\"14.00\" text-anchor=\"middle\" x=\"520\" y=\"-141.8\">PROFIT_FAMILY &lt;= 28836.266</text>\n",
       "<text fill=\"#000000\" font-family=\"Times,serif\" font-size=\"14.00\" text-anchor=\"middle\" x=\"520\" y=\"-126.8\">gini = 0.467</text>\n",
       "<text fill=\"#000000\" font-family=\"Times,serif\" font-size=\"14.00\" text-anchor=\"middle\" x=\"520\" y=\"-111.8\">samples = 849</text>\n",
       "<text fill=\"#000000\" font-family=\"Times,serif\" font-size=\"14.00\" text-anchor=\"middle\" x=\"520\" y=\"-96.8\">value = [316, 533]</text>\n",
       "</g>\n",
       "<!-- 8&#45;&gt;9 -->\n",
       "<g class=\"edge\" id=\"edge9\">\n",
       "<title>8-&gt;9</title>\n",
       "<path d=\"M522.0177,-192.9465C521.782,-184.776 521.5269,-175.9318 521.2799,-167.3697\" fill=\"none\" stroke=\"#000000\"/>\n",
       "<polygon fill=\"#000000\" points=\"524.7715,-167.0249 520.9845,-157.13 517.7744,-167.2268 524.7715,-167.0249\" stroke=\"#000000\"/>\n",
       "</g>\n",
       "<!-- 12 -->\n",
       "<g class=\"node\" id=\"node13\">\n",
       "<title>12</title>\n",
       "<polygon fill=\"none\" points=\"702,-149.5 618,-149.5 618,-96.5 702,-96.5 702,-149.5\" stroke=\"#000000\"/>\n",
       "<text fill=\"#000000\" font-family=\"Times,serif\" font-size=\"14.00\" text-anchor=\"middle\" x=\"660\" y=\"-134.3\">gini = 0.419</text>\n",
       "<text fill=\"#000000\" font-family=\"Times,serif\" font-size=\"14.00\" text-anchor=\"middle\" x=\"660\" y=\"-119.3\">samples = 127</text>\n",
       "<text fill=\"#000000\" font-family=\"Times,serif\" font-size=\"14.00\" text-anchor=\"middle\" x=\"660\" y=\"-104.3\">value = [89, 38]</text>\n",
       "</g>\n",
       "<!-- 8&#45;&gt;12 -->\n",
       "<g class=\"edge\" id=\"edge12\">\n",
       "<title>8-&gt;12</title>\n",
       "<path d=\"M567.8589,-192.9465C583.6748,-180.9403 601.4073,-167.4791 617.0607,-155.5962\" fill=\"none\" stroke=\"#000000\"/>\n",
       "<polygon fill=\"#000000\" points=\"619.1871,-158.3764 625.0358,-149.5422 614.9545,-152.8009 619.1871,-158.3764\" stroke=\"#000000\"/>\n",
       "</g>\n",
       "<!-- 10 -->\n",
       "<g class=\"node\" id=\"node11\">\n",
       "<title>10</title>\n",
       "<polygon fill=\"none\" points=\"563,-53 469,-53 469,0 563,0 563,-53\" stroke=\"#000000\"/>\n",
       "<text fill=\"#000000\" font-family=\"Times,serif\" font-size=\"14.00\" text-anchor=\"middle\" x=\"516\" y=\"-37.8\">gini = 0.425</text>\n",
       "<text fill=\"#000000\" font-family=\"Times,serif\" font-size=\"14.00\" text-anchor=\"middle\" x=\"516\" y=\"-22.8\">samples = 544</text>\n",
       "<text fill=\"#000000\" font-family=\"Times,serif\" font-size=\"14.00\" text-anchor=\"middle\" x=\"516\" y=\"-7.8\">value = [167, 377]</text>\n",
       "</g>\n",
       "<!-- 9&#45;&gt;10 -->\n",
       "<g class=\"edge\" id=\"edge10\">\n",
       "<title>9-&gt;10</title>\n",
       "<path d=\"M518.5897,-88.9777C518.2481,-80.7364 517.8813,-71.887 517.5343,-63.5153\" fill=\"none\" stroke=\"#000000\"/>\n",
       "<polygon fill=\"#000000\" points=\"521.02,-63.0949 517.1087,-53.2485 514.026,-63.3849 521.02,-63.0949\" stroke=\"#000000\"/>\n",
       "</g>\n",
       "<!-- 11 -->\n",
       "<g class=\"node\" id=\"node12\">\n",
       "<title>11</title>\n",
       "<polygon fill=\"none\" points=\"675,-53 581,-53 581,0 675,0 675,-53\" stroke=\"#000000\"/>\n",
       "<text fill=\"#000000\" font-family=\"Times,serif\" font-size=\"14.00\" text-anchor=\"middle\" x=\"628\" y=\"-37.8\">gini = 0.5</text>\n",
       "<text fill=\"#000000\" font-family=\"Times,serif\" font-size=\"14.00\" text-anchor=\"middle\" x=\"628\" y=\"-22.8\">samples = 305</text>\n",
       "<text fill=\"#000000\" font-family=\"Times,serif\" font-size=\"14.00\" text-anchor=\"middle\" x=\"628\" y=\"-7.8\">value = [149, 156]</text>\n",
       "</g>\n",
       "<!-- 9&#45;&gt;11 -->\n",
       "<g class=\"edge\" id=\"edge11\">\n",
       "<title>9-&gt;11</title>\n",
       "<path d=\"M558.0768,-88.9777C568.6324,-79.546 580.0796,-69.3178 590.5964,-59.9208\" fill=\"none\" stroke=\"#000000\"/>\n",
       "<polygon fill=\"#000000\" points=\"592.939,-62.5213 598.0639,-53.2485 588.2749,-57.3015 592.939,-62.5213\" stroke=\"#000000\"/>\n",
       "</g>\n",
       "</g>\n",
       "</svg>"
      ],
      "text/plain": [
       "<IPython.core.display.SVG object>"
      ]
     },
     "execution_count": 77,
     "metadata": {},
     "output_type": "execute_result"
    }
   ],
   "source": [
    "graph = Source( tree.export_graphviz(clf, out_file=None, feature_names=df.columns))\n",
    "SVG(graph.pipe(format='svg'))"
   ]
  },
  {
   "cell_type": "markdown",
   "metadata": {},
   "source": [
    "#### Сложно сделать какие-то выводы о целевой аудитории."
   ]
  },
  {
   "cell_type": "code",
   "execution_count": 78,
   "metadata": {},
   "outputs": [],
   "source": [
    "# Построим логистическую регрессию.\n",
    "# Отшкалируем входящие данные.\n",
    "scaler = StandardScaler()\n",
    "df = scaler.fit_transform(df)"
   ]
  },
  {
   "cell_type": "code",
   "execution_count": 79,
   "metadata": {},
   "outputs": [
    {
     "data": {
      "text/plain": [
       "{'C': 0.1, 'max_iter': 100, 'penalty': 'l1', 'tol': 0.1}"
      ]
     },
     "execution_count": 79,
     "metadata": {},
     "output_type": "execute_result"
    }
   ],
   "source": [
    "from sklearn.linear_model import LogisticRegression\n",
    "from sklearn.model_selection import GridSearchCV\n",
    "parameters = {'penalty':('l1', 'l2'), 'C':(0.001, 10, 0.1), 'tol':(0.001,10, 0.1), 'max_iter':((1,100,10)) }\n",
    "lr=LogisticRegression(random_state=777)\n",
    "clf = GridSearchCV(lr, parameters)\n",
    "clf.fit(X_train, y_train)\n",
    "clf.best_params_"
   ]
  },
  {
   "cell_type": "code",
   "execution_count": 84,
   "metadata": {},
   "outputs": [
    {
     "name": "stdout",
     "output_type": "stream",
     "text": [
      "cross validation train [0.65909091 0.65424431 0.65975104]\n",
      "roc_auc_score train 0.7258121684249039\n",
      "cross validation test [0.63445378 0.59663866 0.66806723]\n",
      "roc_auc_score test 0.7175366246416088\n",
      "Logistic_regression_Gini = 0.43507324928321767\n"
     ]
    }
   ],
   "source": [
    "clf = LogisticRegression(C= 0.1, max_iter =100, penalty='l1', tol= 0.1)\n",
    "clf.fit(X_train, y_train)\n",
    "y_true = clf.predict_proba(X_train)\n",
    "y_pred = clf.predict_proba(X_test)\n",
    "print('cross validation train', cross_val_score(clf, X_train, y_train))\n",
    "print('roc_auc_score train',roc_auc_score(y_train, y_true[:, 1]))\n",
    "print('cross validation test',cross_val_score(clf, X_test, y_test))\n",
    "print('roc_auc_score test',roc_auc_score(y_test, y_pred[:, 1]))\n",
    "print( 'Logistic_regression_Gini =', 2*roc_auc_score(y_test, y_pred[:, 1]) -1)"
   ]
  },
  {
   "cell_type": "code",
   "execution_count": 82,
   "metadata": {},
   "outputs": [
    {
     "name": "stdout",
     "output_type": "stream",
     "text": [
      "Train:\n",
      "ROC AUC: 0.7212\n",
      "Test:\n",
      "ROC AUC: 0.7146\n"
     ]
    },
    {
     "data": {
      "image/png": "[encoded data removed]",
      "text/plain": [
       "<Figure size 432x288 with 1 Axes>"
      ]
     },
     "metadata": {},
     "output_type": "display_data"
    }
   ],
   "source": [
    "print('Train:')\n",
    "calc_auc(y_train, y_true[:, 1], 'train')\n",
    "print('Test:')\n",
    "calc_auc(y_test, y_pred[:, 1], 'test')\n",
    "plt.legend();"
   ]
  },
  {
   "cell_type": "markdown",
   "metadata": {},
   "source": [
    "#### Получили хороший результат.  Попробуем улучшить рещультат, разделив переменные на бины."
   ]
  },
  {
   "cell_type": "code",
   "execution_count": 92,
   "metadata": {},
   "outputs": [],
   "source": [
    "df = pd.read_excel('Data_set.xlsm')"
   ]
  },
  {
   "cell_type": "code",
   "execution_count": 93,
   "metadata": {},
   "outputs": [
    {
     "name": "stdout",
     "output_type": "stream",
     "text": [
      "CLIENT_ID                  2162\n",
      "SEX                           2\n",
      "CHILD_FLAG                    3\n",
      "REALTY_FLAG                   2\n",
      "ACCOUNTS_SBRF_FLAG            2\n",
      "E_MAIL_FLAG                   2\n",
      "DCI                        1822\n",
      "PROFIT_FAMILY              1294\n",
      "UCI                         124\n",
      "FOREIGN_PASSPORT_FLAG         2\n",
      "STANDING_IN_MONTHS_LAST     237\n",
      "EDUCATION                     7\n",
      "TRANSPORT_AMOUNT              4\n",
      "target                        2\n",
      "dtype: int64\n"
     ]
    }
   ],
   "source": [
    "print (df.apply(lambda x: x.nunique()))"
   ]
  },
  {
   "cell_type": "code",
   "execution_count": 87,
   "metadata": {},
   "outputs": [],
   "source": [
    "import numpy as np"
   ]
  },
  {
   "cell_type": "code",
   "execution_count": 94,
   "metadata": {
    "scrolled": true
   },
   "outputs": [
    {
     "data": {
      "text/plain": [
       "PROFIT_FAMILY\n",
       "(0, 13000]          375\n",
       "(13000, 20000]      395\n",
       "(20000, 27000]      322\n",
       "(27000, 35000]      340\n",
       "(35000, 50000]      328\n",
       "(50000, 1000000]    399\n",
       "dtype: int64"
      ]
     },
     "execution_count": 94,
     "metadata": {},
     "output_type": "execute_result"
    }
   ],
   "source": [
    "bins = pd.IntervalIndex.from_tuples([(0, 13000), (13000, 20000), (20000,27000), (27000, 35000),\n",
    "                                     (35000, 50000) , (50000,1000000)])\n",
    "df['PROFIT_FAMILY']=pd.cut(df[\"PROFIT_FAMILY\"],bins, labels=['a', 'b', 'c', 'd', 'e','f'])\n",
    "df.groupby('PROFIT_FAMILY').size()"
   ]
  },
  {
   "cell_type": "code",
   "execution_count": 95,
   "metadata": {},
   "outputs": [
    {
     "data": {
      "text/plain": [
       "DCI\n",
       "(0, 8000]           377\n",
       "(8000, 12000]       382\n",
       "(12000, 17000]      348\n",
       "(17000, 25000]      385\n",
       "(25000, 50000]      341\n",
       "(50000, 1000000]    147\n",
       "dtype: int64"
      ]
     },
     "execution_count": 95,
     "metadata": {},
     "output_type": "execute_result"
    }
   ],
   "source": [
    "bins = pd.IntervalIndex.from_tuples([(0, 8000), (8000, 12000), (12000,17000), (17000, 25000),\n",
    "                                     (25000, 50000) , (50000,1000000)])\n",
    "df['DCI']=pd.cut(df[\"DCI\"],bins)\n",
    "df.groupby('DCI').size()"
   ]
  },
  {
   "cell_type": "code",
   "execution_count": 96,
   "metadata": {},
   "outputs": [
    {
     "data": {
      "text/plain": [
       "UCI\n",
       "(0, 3000]           74\n",
       "(5000, 8000]        79\n",
       "(12000, 17000]      80\n",
       "(17000, 25000]      72\n",
       "(25000, 50000]      64\n",
       "(50000, 1000000]    12\n",
       "dtype: int64"
      ]
     },
     "execution_count": 96,
     "metadata": {},
     "output_type": "execute_result"
    }
   ],
   "source": [
    "bins = pd.IntervalIndex.from_tuples([(0, 3000), (5000, 8000), (12000,17000), (17000, 25000),\n",
    "                                     (25000, 50000) , (50000,1000000)])\n",
    "df['UCI']=pd.cut(df[\"UCI\"],bins)\n",
    "df.groupby('UCI').size()"
   ]
  },
  {
   "cell_type": "code",
   "execution_count": 97,
   "metadata": {},
   "outputs": [
    {
     "data": {
      "text/plain": [
       "STANDING_IN_MONTHS_LAST\n",
       "(0, 1]      315\n",
       "(1, 2]      441\n",
       "(2, 3]      276\n",
       "(3, 4]      203\n",
       "(5, 100]    531\n",
       "dtype: int64"
      ]
     },
     "execution_count": 97,
     "metadata": {},
     "output_type": "execute_result"
    }
   ],
   "source": [
    "bins = pd.IntervalIndex.from_tuples([(0, 1), (1, 2), (2,3), (3,4), (5, 100)])\n",
    "df['STANDING_IN_MONTHS_LAST']=pd.cut(round(df[\"STANDING_IN_MONTHS_LAST\"]/12,2),bins)\n",
    "df.groupby('STANDING_IN_MONTHS_LAST').size()"
   ]
  },
  {
   "cell_type": "code",
   "execution_count": 98,
   "metadata": {},
   "outputs": [
    {
     "name": "stdout",
     "output_type": "stream",
     "text": [
      "<class 'pandas.core.frame.DataFrame'>\n",
      "RangeIndex: 2163 entries, 0 to 2162\n",
      "Data columns (total 14 columns):\n",
      "CLIENT_ID                  2163 non-null int64\n",
      "SEX                        2163 non-null int64\n",
      "CHILD_FLAG                 2163 non-null int64\n",
      "REALTY_FLAG                2163 non-null int64\n",
      "ACCOUNTS_SBRF_FLAG         2163 non-null int64\n",
      "E_MAIL_FLAG                2163 non-null int64\n",
      "DCI                        2163 non-null object\n",
      "PROFIT_FAMILY              2163 non-null object\n",
      "UCI                        2163 non-null object\n",
      "FOREIGN_PASSPORT_FLAG      2163 non-null int64\n",
      "STANDING_IN_MONTHS_LAST    2163 non-null object\n",
      "EDUCATION                  2163 non-null object\n",
      "TRANSPORT_AMOUNT           2163 non-null int64\n",
      "target                     2163 non-null int64\n",
      "dtypes: int64(9), object(5)\n",
      "memory usage: 236.7+ KB\n"
     ]
    }
   ],
   "source": [
    "df.PROFIT_FAMILY=df.PROFIT_FAMILY.astype(str)\n",
    "df.DCI=df.DCI.astype(str)\n",
    "df.UCI=df.UCI.astype(str)\n",
    "df.STANDING_IN_MONTHS_LAST=df.STANDING_IN_MONTHS_LAST.astype(str)\n",
    "df.EDUCATION=df.EDUCATION.astype(str)\n",
    "df.info()"
   ]
  },
  {
   "cell_type": "code",
   "execution_count": 99,
   "metadata": {},
   "outputs": [
    {
     "name": "stdout",
     "output_type": "stream",
     "text": [
      "CLIENT_ID                  2162\n",
      "SEX                           2\n",
      "CHILD_FLAG                    3\n",
      "REALTY_FLAG                   2\n",
      "ACCOUNTS_SBRF_FLAG            2\n",
      "E_MAIL_FLAG                   2\n",
      "DCI                           7\n",
      "PROFIT_FAMILY                 7\n",
      "UCI                           7\n",
      "FOREIGN_PASSPORT_FLAG         2\n",
      "STANDING_IN_MONTHS_LAST       6\n",
      "EDUCATION                     7\n",
      "TRANSPORT_AMOUNT              4\n",
      "target                        2\n",
      "dtype: int64\n"
     ]
    }
   ],
   "source": [
    "print (df.apply(lambda x: x.nunique()))"
   ]
  },
  {
   "cell_type": "code",
   "execution_count": 100,
   "metadata": {},
   "outputs": [],
   "source": [
    "l= pd.get_dummies(df)"
   ]
  },
  {
   "cell_type": "code",
   "execution_count": 101,
   "metadata": {},
   "outputs": [],
   "source": [
    "del l['target']\n",
    "del l['CLIENT_ID']"
   ]
  },
  {
   "cell_type": "code",
   "execution_count": 102,
   "metadata": {},
   "outputs": [],
   "source": [
    "X_train, X_test, y_train, y_test = train_test_split(l, y, test_size=0.33, random_state=42)"
   ]
  },
  {
   "cell_type": "code",
   "execution_count": 103,
   "metadata": {},
   "outputs": [
    {
     "name": "stdout",
     "output_type": "stream",
     "text": [
      "[0.64669421 0.63561077 0.65145228]\n",
      "0.7333212009878651\n",
      "[0.57142857 0.62605042 0.6512605 ]\n",
      "0.6666941596952201\n"
     ]
    }
   ],
   "source": [
    "clf = DecisionTreeClassifier(max_depth=4, random_state=177)\n",
    "clf.fit(X_train, y_train)\n",
    "y_true = clf.predict_proba(X_train)\n",
    "y_pred = clf.predict_proba(X_test)\n",
    "print(cross_val_score(clf, X_train, y_train))\n",
    "print(roc_auc_score(y_train, y_true[:, 1]))\n",
    "print(cross_val_score(clf, X_test, y_test))\n",
    "print(roc_auc_score(y_test, y_pred[:, 1]))"
   ]
  },
  {
   "cell_type": "code",
   "execution_count": 105,
   "metadata": {
    "scrolled": true
   },
   "outputs": [
    {
     "data": {
      "text/plain": [
       "{'C': 0.1, 'max_iter': 100, 'penalty': 'l2', 'tol': 0.001}"
      ]
     },
     "execution_count": 105,
     "metadata": {},
     "output_type": "execute_result"
    }
   ],
   "source": [
    "from sklearn.linear_model import LogisticRegression\n",
    "from sklearn.model_selection import GridSearchCV\n",
    "parameters = {'penalty':('l1', 'l2'), 'C':(0.001, 10, 0.1), 'tol':(0.001,10, 0.1), 'max_iter':((1,100,10)) }\n",
    "lr=LogisticRegression(random_state=777)\n",
    "clf = GridSearchCV(lr, parameters)\n",
    "clf.fit(X_train, y_train)\n",
    "clf.best_params_"
   ]
  },
  {
   "cell_type": "code",
   "execution_count": 106,
   "metadata": {},
   "outputs": [
    {
     "name": "stdout",
     "output_type": "stream",
     "text": [
      "[0.66942149 0.66459627 0.68257261]\n",
      "0.7504278080980548\n",
      "[0.62184874 0.63865546 0.68067227]\n",
      "0.7134205255096029\n"
     ]
    }
   ],
   "source": [
    "clf = LogisticRegression(C= 0.1, max_iter =100, penalty='l2', tol= 0.001)\n",
    "clf.fit(X_train, y_train)\n",
    "y_true = clf.predict_proba(X_train)\n",
    "y_pred = clf.predict_proba(X_test)\n",
    "print(cross_val_score(clf, X_train, y_train))\n",
    "print(roc_auc_score(y_train, y_true[:, 1]))\n",
    "print(cross_val_score(clf, X_test, y_test))\n",
    "print(roc_auc_score(y_test, y_pred[:, 1]))"
   ]
  },
  {
   "cell_type": "code",
   "execution_count": 107,
   "metadata": {},
   "outputs": [
    {
     "name": "stdout",
     "output_type": "stream",
     "text": [
      "Gini_of_new_model = 0.4268410510192058\n"
     ]
    }
   ],
   "source": [
    "print('Gini_of_new_model =' , 2*roc_auc_score(y_test, y_pred[:, 1])-1)"
   ]
  },
  {
   "cell_type": "markdown",
   "metadata": {},
   "source": [
    "# Первая модель показала лучше Gini, но она менее стабильна. Здесь же за счет разбиения на группу, можно грарантировать стабильность модели."
   ]
  },
  {
   "cell_type": "code",
   "execution_count": null,
   "metadata": {},
   "outputs": [],
   "source": []
  }
 ],
 "metadata": {
  "kernelspec": {
   "display_name": "Python 3",
   "language": "python",
   "name": "python3"
  },
  "language_info": {
   "codemirror_mode": {
    "name": "ipython",
    "version": 3
   },
   "file_extension": ".py",
   "mimetype": "text/x-python",
   "name": "python",
   "nbconvert_exporter": "python",
   "pygments_lexer": "ipython3",
   "version": "3.6.4"
  }
 },
 "nbformat": 4,
 "nbformat_minor": 2
}

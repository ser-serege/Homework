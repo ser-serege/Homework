{
 "cells": [
  {
   "cell_type": "code",
   "execution_count": 1,
   "metadata": {},
   "outputs": [],
   "source": [
    "import pandas as pd\n",
    "import numpy as np\n",
    "import matplotlib.pyplot as plt\n",
    "import seaborn as sns\n",
    "import datetime\n",
    "import random\n",
    "from itertools import product\n",
    "from sklearn import metrics\n",
    "import seaborn as sns"
   ]
  },
  {
   "cell_type": "markdown",
   "metadata": {},
   "source": [
    "# We are asking you to predict total sales for every product and store in the next month"
   ]
  },
  {
   "cell_type": "raw",
   "metadata": {},
   "source": [
    "Approach to solve the task\n",
    "1) Analytics\n",
    "    - Additional info about population in cities\n",
    "    - City classification by price\n",
    "    - Shares of expensive and cheap goods in each category\n",
    "    - Price elasticity\n",
    "    - ABC analysis for every shop\n",
    "    - ABC ecosystems\n",
    "    - BCG Matrix for caterogies\n",
    "    - BCG Matrix for cities\n",
    "    - Volatility coefficient\n",
    "    - Coefficients for caterories by months (trends)\n",
    "    \n",
    "2) Preparing dataset by blocks.\n",
    "    - Creating time lags\n",
    "    - Merging Analytics features\n",
    "    - Label Encoding for categorical\n",
    "    - Train Test split\n",
    "    - Standard scaler for Linear regression\n",
    "\n",
    "2) Modeling\n",
    "    - GridsearchCV for optimal parameters\n",
    "    - Training XGBoostRegressor\n",
    "    - Feature importance \n",
    "    - Metrics\n",
    "    - Linear regression\n",
    "    - Metrics\n",
    " \n",
    "3) Test preparing\n",
    "    - make the same transforms like with train data\n",
    "    - predict by two models\n",
    "    - blending preds\n",
    "    - fin df + submit"
   ]
  },
  {
   "cell_type": "code",
   "execution_count": null,
   "metadata": {},
   "outputs": [],
   "source": []
  },
  {
   "cell_type": "code",
   "execution_count": 2,
   "metadata": {},
   "outputs": [],
   "source": [
    "df3 = pd.read_csv('sales_train.csv.gz 2.csv', parse_dates = ['date'], compression='gzip')\n",
    "\n",
    "df1 = pd.read_csv('item_categories.csv')\n",
    "df2 = pd.read_csv('items.csv')\n",
    "df4 = pd.read_csv('shops.csv')\n",
    "\n",
    "test1 = pd.read_csv('test.csv')\n",
    "test = pd.read_csv('sample_submission.csv')"
   ]
  },
  {
   "cell_type": "code",
   "execution_count": 3,
   "metadata": {},
   "outputs": [
    {
     "data": {
      "text/html": [
       "<div>\n",
       "<style scoped>\n",
       "    .dataframe tbody tr th:only-of-type {\n",
       "        vertical-align: middle;\n",
       "    }\n",
       "\n",
       "    .dataframe tbody tr th {\n",
       "        vertical-align: top;\n",
       "    }\n",
       "\n",
       "    .dataframe thead th {\n",
       "        text-align: right;\n",
       "    }\n",
       "</style>\n",
       "<table border=\"1\" class=\"dataframe\">\n",
       "  <thead>\n",
       "    <tr style=\"text-align: right;\">\n",
       "      <th></th>\n",
       "      <th>date</th>\n",
       "      <th>date_block_num</th>\n",
       "      <th>shop_id</th>\n",
       "      <th>item_id</th>\n",
       "      <th>item_price</th>\n",
       "      <th>item_cnt_day</th>\n",
       "    </tr>\n",
       "  </thead>\n",
       "  <tbody>\n",
       "    <tr>\n",
       "      <th>0</th>\n",
       "      <td>2013-02-01</td>\n",
       "      <td>0</td>\n",
       "      <td>59</td>\n",
       "      <td>22154</td>\n",
       "      <td>999.00</td>\n",
       "      <td>1.0</td>\n",
       "    </tr>\n",
       "    <tr>\n",
       "      <th>1</th>\n",
       "      <td>2013-03-01</td>\n",
       "      <td>0</td>\n",
       "      <td>25</td>\n",
       "      <td>2552</td>\n",
       "      <td>899.00</td>\n",
       "      <td>1.0</td>\n",
       "    </tr>\n",
       "    <tr>\n",
       "      <th>2</th>\n",
       "      <td>2013-05-01</td>\n",
       "      <td>0</td>\n",
       "      <td>25</td>\n",
       "      <td>2552</td>\n",
       "      <td>899.00</td>\n",
       "      <td>-1.0</td>\n",
       "    </tr>\n",
       "    <tr>\n",
       "      <th>3</th>\n",
       "      <td>2013-06-01</td>\n",
       "      <td>0</td>\n",
       "      <td>25</td>\n",
       "      <td>2554</td>\n",
       "      <td>1709.05</td>\n",
       "      <td>1.0</td>\n",
       "    </tr>\n",
       "    <tr>\n",
       "      <th>4</th>\n",
       "      <td>2013-01-15</td>\n",
       "      <td>0</td>\n",
       "      <td>25</td>\n",
       "      <td>2555</td>\n",
       "      <td>1099.00</td>\n",
       "      <td>1.0</td>\n",
       "    </tr>\n",
       "    <tr>\n",
       "      <th>...</th>\n",
       "      <td>...</td>\n",
       "      <td>...</td>\n",
       "      <td>...</td>\n",
       "      <td>...</td>\n",
       "      <td>...</td>\n",
       "      <td>...</td>\n",
       "    </tr>\n",
       "    <tr>\n",
       "      <th>2935844</th>\n",
       "      <td>2015-10-10</td>\n",
       "      <td>33</td>\n",
       "      <td>25</td>\n",
       "      <td>7409</td>\n",
       "      <td>299.00</td>\n",
       "      <td>1.0</td>\n",
       "    </tr>\n",
       "    <tr>\n",
       "      <th>2935845</th>\n",
       "      <td>2015-09-10</td>\n",
       "      <td>33</td>\n",
       "      <td>25</td>\n",
       "      <td>7460</td>\n",
       "      <td>299.00</td>\n",
       "      <td>1.0</td>\n",
       "    </tr>\n",
       "    <tr>\n",
       "      <th>2935846</th>\n",
       "      <td>2015-10-14</td>\n",
       "      <td>33</td>\n",
       "      <td>25</td>\n",
       "      <td>7459</td>\n",
       "      <td>349.00</td>\n",
       "      <td>1.0</td>\n",
       "    </tr>\n",
       "    <tr>\n",
       "      <th>2935847</th>\n",
       "      <td>2015-10-22</td>\n",
       "      <td>33</td>\n",
       "      <td>25</td>\n",
       "      <td>7440</td>\n",
       "      <td>299.00</td>\n",
       "      <td>1.0</td>\n",
       "    </tr>\n",
       "    <tr>\n",
       "      <th>2935848</th>\n",
       "      <td>2015-03-10</td>\n",
       "      <td>33</td>\n",
       "      <td>25</td>\n",
       "      <td>7460</td>\n",
       "      <td>299.00</td>\n",
       "      <td>1.0</td>\n",
       "    </tr>\n",
       "  </tbody>\n",
       "</table>\n",
       "<p>2935849 rows × 6 columns</p>\n",
       "</div>"
      ],
      "text/plain": [
       "              date  date_block_num  shop_id  item_id  item_price  item_cnt_day\n",
       "0       2013-02-01               0       59    22154      999.00           1.0\n",
       "1       2013-03-01               0       25     2552      899.00           1.0\n",
       "2       2013-05-01               0       25     2552      899.00          -1.0\n",
       "3       2013-06-01               0       25     2554     1709.05           1.0\n",
       "4       2013-01-15               0       25     2555     1099.00           1.0\n",
       "...            ...             ...      ...      ...         ...           ...\n",
       "2935844 2015-10-10              33       25     7409      299.00           1.0\n",
       "2935845 2015-09-10              33       25     7460      299.00           1.0\n",
       "2935846 2015-10-14              33       25     7459      349.00           1.0\n",
       "2935847 2015-10-22              33       25     7440      299.00           1.0\n",
       "2935848 2015-03-10              33       25     7460      299.00           1.0\n",
       "\n",
       "[2935849 rows x 6 columns]"
      ]
     },
     "execution_count": 3,
     "metadata": {},
     "output_type": "execute_result"
    }
   ],
   "source": [
    "df3"
   ]
  },
  {
   "cell_type": "code",
   "execution_count": 3,
   "metadata": {},
   "outputs": [],
   "source": [
    "items = df1.merge(df2, on='item_category_id')\n",
    "df = df3.merge(items, on='item_id').merge(df4, on='shop_id')\n",
    "\n",
    "most_popular_items = df.groupby('item_name')['item_cnt_day'].count().reset_index().sort_values(by='item_cnt_day', ascending=False)\n",
    "biggest_item = df.groupby('item_name')['item_cnt_day'].sum().reset_index().sort_values(by='item_cnt_day', ascending=False)\n",
    "biggest_sales = df.groupby('item_category_name')['item_price'].agg({'sum', 'count'}).reset_index().sort_values(by='sum', ascending=False)\n",
    "num_items = items.groupby('item_category_name')['item_id'].count().reset_index().sort_values(by='item_id', ascending=False)"
   ]
  },
  {
   "cell_type": "code",
   "execution_count": 4,
   "metadata": {},
   "outputs": [],
   "source": [
    "df['city'] = df['shop_name'].apply(lambda x: x.split(' ')[0])\n",
    "df['is_tc'] = df['shop_name'].apply(lambda x: 1 if 'ТЦ' in x else (1 if 'ТРЦ' in x else (1 if 'ТРК' in x else 0 )))\n",
    "df['is_weekday'] = df['date'].loc[:10].apply(lambda x: 1 if pd.datetime.isoweekday(x) in [6,7] else 0)\n",
    "df['year'] = df['date'].apply(lambda x: str(x)[:4])\n",
    "df['month'] = df['date'].apply(lambda x: str(x)[5:7])\n",
    "df['ym'] = df['date'].apply(lambda x: str(x)[:7])\n",
    "df['quater'] = np.where(df['month'].isin(['01', '02', '03']),'1',\n",
    "               np.where(df['month'].isin(['04', '05', '06']),'2',\n",
    "               np.where(df['month'].isin(['07', '08', '09']),'3', '4' )))\n",
    "\n",
    "df['category'] = df['item_category_name'].apply(lambda x: x.split(' ')[0])#.unique()\n",
    "df['game_ecosystem'] = df['item_category_name'].apply(lambda x: \n",
    "                                                     'ps2' if 'PS2' in x else\n",
    "                                                      ('ps3' if 'PS3' in x else\n",
    "                                                       ('ps4' if 'PS4' in x else\n",
    "                                                        ('psv' if 'PSVita' in x else\n",
    "                                                         ('PSP' if 'PSP' in x else\n",
    "                                                          ('XBOX 360' if 'XBOX 360' in x else\n",
    "                                                           ('XBOX ONE' if 'XBOX ONE' in x else\n",
    "                                                            ('PC' if 'PC' in x else 'other'))))))))\n",
    "df = df.sort_values(by=['date', 'city', 'shop_id', 'item_price'])"
   ]
  },
  {
   "cell_type": "code",
   "execution_count": 5,
   "metadata": {},
   "outputs": [],
   "source": [
    "df['revenue'] = df['item_price'] * df['item_cnt_day']"
   ]
  },
  {
   "cell_type": "code",
   "execution_count": 8,
   "metadata": {
    "scrolled": false
   },
   "outputs": [
    {
     "name": "stdout",
     "output_type": "stream",
     "text": [
      "shop_id item_cnt_day\n"
     ]
    },
    {
     "name": "stderr",
     "output_type": "stream",
     "text": [
      "/anaconda3/lib/python3.6/site-packages/scipy/stats/stats.py:1713: FutureWarning: Using a non-tuple sequence for multidimensional indexing is deprecated; use `arr[tuple(seq)]` instead of `arr[seq]`. In the future this will be interpreted as an array index, `arr[np.array(seq)]`, which will result either in an error or a different result.\n",
      "  return np.add.reduce(sorted[indexer] * weights, axis=axis) / sumval\n"
     ]
    },
    {
     "data": {
      "image/png": "[encoded data removed]",
      "text/plain": [
       "<Figure size 1584x720 with 2 Axes>"
      ]
     },
     "metadata": {},
     "output_type": "display_data"
    },
    {
     "name": "stdout",
     "output_type": "stream",
     "text": [
      "shop_id revenue\n"
     ]
    },
    {
     "data": {
      "image/png": "[encoded data removed]",
      "text/plain": [
       "<Figure size 1584x720 with 2 Axes>"
      ]
     },
     "metadata": {},
     "output_type": "display_data"
    },
    {
     "name": "stdout",
     "output_type": "stream",
     "text": [
      "item_category_id item_cnt_day\n"
     ]
    },
    {
     "data": {
      "image/png": "[encoded data removed]",
      "text/plain": [
       "<Figure size 1584x720 with 2 Axes>"
      ]
     },
     "metadata": {},
     "output_type": "display_data"
    },
    {
     "name": "stdout",
     "output_type": "stream",
     "text": [
      "item_category_id revenue\n"
     ]
    },
    {
     "data": {
      "image/png": "[encoded data removed]",
      "text/plain": [
       "<Figure size 1584x720 with 2 Axes>"
      ]
     },
     "metadata": {},
     "output_type": "display_data"
    },
    {
     "name": "stdout",
     "output_type": "stream",
     "text": [
      "city item_cnt_day\n"
     ]
    },
    {
     "data": {
      "image/png": "[encoded data removed]",
      "text/plain": [
       "<Figure size 1584x720 with 2 Axes>"
      ]
     },
     "metadata": {},
     "output_type": "display_data"
    },
    {
     "name": "stdout",
     "output_type": "stream",
     "text": [
      "city revenue\n"
     ]
    },
    {
     "data": {
      "image/png": "[encoded data removed]",
      "text/plain": [
       "<Figure size 1584x720 with 2 Axes>"
      ]
     },
     "metadata": {},
     "output_type": "display_data"
    },
    {
     "name": "stdout",
     "output_type": "stream",
     "text": [
      "category item_cnt_day\n"
     ]
    },
    {
     "data": {
      "image/png": "[encoded data removed]",
      "text/plain": [
       "<Figure size 1584x720 with 2 Axes>"
      ]
     },
     "metadata": {},
     "output_type": "display_data"
    },
    {
     "name": "stdout",
     "output_type": "stream",
     "text": [
      "category revenue\n"
     ]
    },
    {
     "data": {
      "image/png": "[encoded data removed]",
      "text/plain": [
       "<Figure size 1584x720 with 2 Axes>"
      ]
     },
     "metadata": {},
     "output_type": "display_data"
    }
   ],
   "source": [
    "for col in ['shop_id', 'item_category_id', 'city', 'category']:\n",
    "    for money in ['item_cnt_day', 'revenue']:\n",
    "        print(col, money)\n",
    "        index_cols = [col, 'date_block_num']\n",
    "        sum_ = df.groupby(index_cols, as_index=False).agg({money:'sum'})\n",
    "        mean_ = df.groupby(index_cols, as_index=False).agg({money:'mean'})\n",
    "        f, axes = plt.subplots(2, 1, figsize=(22, 10), sharex=True)\n",
    "        sns.barplot(x=col, y=money, data=mean_, ax=axes[0]).set_title(\"Mean\")\n",
    "        sns.barplot(x=col, y=money, data=sum_, ax=axes[1]).set_title(\"Sum\")\n",
    "        plt.show()"
   ]
  },
  {
   "cell_type": "code",
   "execution_count": 17,
   "metadata": {},
   "outputs": [
    {
     "data": {
      "text/plain": [
       "Text(0.5,1,'Number of items sold in each month')"
      ]
     },
     "execution_count": 17,
     "metadata": {},
     "output_type": "execute_result"
    },
    {
     "data": {
      "image/png": "[encoded data removed]",
      "text/plain": [
       "<Figure size 1080x360 with 1 Axes>"
      ]
     },
     "metadata": {},
     "output_type": "display_data"
    }
   ],
   "source": [
    "item_cnt_month = df.groupby('date_block_num')['item_cnt_day'].sum()\n",
    "\n",
    "plt.figure(figsize=(15,5))\n",
    "sns.barplot(item_cnt_month.index, item_cnt_month.values)\n",
    "plt.plot(item_cnt_month.index, item_cnt_month.values)\n",
    "plt.xlabel(\"Month number\")\n",
    "plt.ylabel(\"Count\")\n",
    "plt.title(\"Number of items sold in each month\")"
   ]
  },
  {
   "cell_type": "code",
   "execution_count": 9,
   "metadata": {},
   "outputs": [
    {
     "data": {
      "image/png": "[encoded data removed]",
      "text/plain": [
       "<Figure size 1008x360 with 1 Axes>"
      ]
     },
     "metadata": {},
     "output_type": "display_data"
    },
    {
     "data": {
      "image/png": "[encoded data removed]",
      "text/plain": [
       "<Figure size 1008x360 with 1 Axes>"
      ]
     },
     "metadata": {},
     "output_type": "display_data"
    }
   ],
   "source": [
    "df['date'] = pd.to_datetime(df['date'], format=\"%d.%m.%Y\")\n",
    "df.groupby('date').agg({'item_cnt_day': 'sum'}).plot(figsize=(14,5), title='Target time', lw=1.0)\n",
    "df.groupby('date_block_num').agg({'item_cnt_day': 'sum'}).plot(figsize=(14,5), lw=3.0)\n",
    "plt.show()"
   ]
  },
  {
   "cell_type": "markdown",
   "metadata": {},
   "source": [
    "### Additional info about population in cities "
   ]
  },
  {
   "cell_type": "markdown",
   "metadata": {},
   "source": [
    "##### Download additional info about population in russian cities"
   ]
  },
  {
   "cell_type": "code",
   "execution_count": 53,
   "metadata": {},
   "outputs": [
    {
     "data": {
      "text/html": [
       "<div>\n",
       "<style scoped>\n",
       "    .dataframe tbody tr th:only-of-type {\n",
       "        vertical-align: middle;\n",
       "    }\n",
       "\n",
       "    .dataframe tbody tr th {\n",
       "        vertical-align: top;\n",
       "    }\n",
       "\n",
       "    .dataframe thead th {\n",
       "        text-align: right;\n",
       "    }\n",
       "</style>\n",
       "<table border=\"1\" class=\"dataframe\">\n",
       "  <thead>\n",
       "    <tr style=\"text-align: right;\">\n",
       "      <th></th>\n",
       "      <th>city</th>\n",
       "      <th>2013y</th>\n",
       "      <th>2014y</th>\n",
       "      <th>2015y</th>\n",
       "    </tr>\n",
       "  </thead>\n",
       "  <tbody>\n",
       "    <tr>\n",
       "      <th>0</th>\n",
       "      <td>Адыгея</td>\n",
       "      <td>444000.0</td>\n",
       "      <td>446000.0</td>\n",
       "      <td>449000.0</td>\n",
       "    </tr>\n",
       "    <tr>\n",
       "      <th>1</th>\n",
       "      <td>Москва</td>\n",
       "      <td>11613000.0</td>\n",
       "      <td>11980000.0</td>\n",
       "      <td>12108000.0</td>\n",
       "    </tr>\n",
       "    <tr>\n",
       "      <th>2</th>\n",
       "      <td>Тюмень</td>\n",
       "      <td>610000.0</td>\n",
       "      <td>634000.0</td>\n",
       "      <td>680000.0</td>\n",
       "    </tr>\n",
       "  </tbody>\n",
       "</table>\n",
       "</div>"
      ],
      "text/plain": [
       "     city       2013y       2014y       2015y\n",
       "0  Адыгея    444000.0    446000.0    449000.0\n",
       "1  Москва  11613000.0  11980000.0  12108000.0\n",
       "2  Тюмень    610000.0    634000.0    680000.0"
      ]
     },
     "execution_count": 53,
     "metadata": {},
     "output_type": "execute_result"
    }
   ],
   "source": [
    "cities = pd.read_excel('cities.xlsx')\n",
    "cities.head(3)"
   ]
  },
  {
   "cell_type": "code",
   "execution_count": 8,
   "metadata": {},
   "outputs": [
    {
     "data": {
      "text/html": [
       "<div>\n",
       "<style scoped>\n",
       "    .dataframe tbody tr th:only-of-type {\n",
       "        vertical-align: middle;\n",
       "    }\n",
       "\n",
       "    .dataframe tbody tr th {\n",
       "        vertical-align: top;\n",
       "    }\n",
       "\n",
       "    .dataframe thead th {\n",
       "        text-align: right;\n",
       "    }\n",
       "</style>\n",
       "<table border=\"1\" class=\"dataframe\">\n",
       "  <thead>\n",
       "    <tr style=\"text-align: right;\">\n",
       "      <th></th>\n",
       "      <th>city</th>\n",
       "      <th>item_category_name</th>\n",
       "      <th>cnt13</th>\n",
       "      <th>cnt14</th>\n",
       "      <th>cnt15</th>\n",
       "      <th>2013y</th>\n",
       "      <th>2014y</th>\n",
       "      <th>2015y</th>\n",
       "      <th>share13</th>\n",
       "      <th>share14</th>\n",
       "      <th>share15</th>\n",
       "    </tr>\n",
       "  </thead>\n",
       "  <tbody>\n",
       "    <tr>\n",
       "      <th>0</th>\n",
       "      <td>!Якутск</td>\n",
       "      <td>PC - Гарнитуры/Наушники</td>\n",
       "      <td>93.0</td>\n",
       "      <td>0.0</td>\n",
       "      <td>0.0</td>\n",
       "      <td>278000.0</td>\n",
       "      <td>286000.0</td>\n",
       "      <td>294000.0</td>\n",
       "      <td>0.000335</td>\n",
       "      <td>0.0</td>\n",
       "      <td>0.0</td>\n",
       "    </tr>\n",
       "    <tr>\n",
       "      <th>1</th>\n",
       "      <td>!Якутск</td>\n",
       "      <td>Аксессуары - PS2</td>\n",
       "      <td>283.0</td>\n",
       "      <td>0.0</td>\n",
       "      <td>0.0</td>\n",
       "      <td>278000.0</td>\n",
       "      <td>286000.0</td>\n",
       "      <td>294000.0</td>\n",
       "      <td>0.001018</td>\n",
       "      <td>0.0</td>\n",
       "      <td>0.0</td>\n",
       "    </tr>\n",
       "    <tr>\n",
       "      <th>2</th>\n",
       "      <td>!Якутск</td>\n",
       "      <td>Аксессуары - PS3</td>\n",
       "      <td>276579.0</td>\n",
       "      <td>0.0</td>\n",
       "      <td>0.0</td>\n",
       "      <td>278000.0</td>\n",
       "      <td>286000.0</td>\n",
       "      <td>294000.0</td>\n",
       "      <td>0.994888</td>\n",
       "      <td>0.0</td>\n",
       "      <td>0.0</td>\n",
       "    </tr>\n",
       "    <tr>\n",
       "      <th>3</th>\n",
       "      <td>!Якутск</td>\n",
       "      <td>Аксессуары - PS4</td>\n",
       "      <td>12100.0</td>\n",
       "      <td>0.0</td>\n",
       "      <td>0.0</td>\n",
       "      <td>278000.0</td>\n",
       "      <td>286000.0</td>\n",
       "      <td>294000.0</td>\n",
       "      <td>0.043525</td>\n",
       "      <td>0.0</td>\n",
       "      <td>0.0</td>\n",
       "    </tr>\n",
       "    <tr>\n",
       "      <th>4</th>\n",
       "      <td>!Якутск</td>\n",
       "      <td>Аксессуары - PSP</td>\n",
       "      <td>36429.0</td>\n",
       "      <td>0.0</td>\n",
       "      <td>0.0</td>\n",
       "      <td>278000.0</td>\n",
       "      <td>286000.0</td>\n",
       "      <td>294000.0</td>\n",
       "      <td>0.131040</td>\n",
       "      <td>0.0</td>\n",
       "      <td>0.0</td>\n",
       "    </tr>\n",
       "    <tr>\n",
       "      <th>5</th>\n",
       "      <td>!Якутск</td>\n",
       "      <td>Аксессуары - PSVita</td>\n",
       "      <td>63956.0</td>\n",
       "      <td>0.0</td>\n",
       "      <td>0.0</td>\n",
       "      <td>278000.0</td>\n",
       "      <td>286000.0</td>\n",
       "      <td>294000.0</td>\n",
       "      <td>0.230058</td>\n",
       "      <td>0.0</td>\n",
       "      <td>0.0</td>\n",
       "    </tr>\n",
       "    <tr>\n",
       "      <th>6</th>\n",
       "      <td>!Якутск</td>\n",
       "      <td>Аксессуары - XBOX 360</td>\n",
       "      <td>282375.0</td>\n",
       "      <td>0.0</td>\n",
       "      <td>0.0</td>\n",
       "      <td>278000.0</td>\n",
       "      <td>286000.0</td>\n",
       "      <td>294000.0</td>\n",
       "      <td>1.015737</td>\n",
       "      <td>0.0</td>\n",
       "      <td>0.0</td>\n",
       "    </tr>\n",
       "    <tr>\n",
       "      <th>7</th>\n",
       "      <td>!Якутск</td>\n",
       "      <td>Игровые консоли - PS3</td>\n",
       "      <td>722742.0</td>\n",
       "      <td>0.0</td>\n",
       "      <td>0.0</td>\n",
       "      <td>278000.0</td>\n",
       "      <td>286000.0</td>\n",
       "      <td>294000.0</td>\n",
       "      <td>2.599791</td>\n",
       "      <td>0.0</td>\n",
       "      <td>0.0</td>\n",
       "    </tr>\n",
       "    <tr>\n",
       "      <th>8</th>\n",
       "      <td>!Якутск</td>\n",
       "      <td>Игровые консоли - PSP</td>\n",
       "      <td>87284.0</td>\n",
       "      <td>0.0</td>\n",
       "      <td>0.0</td>\n",
       "      <td>278000.0</td>\n",
       "      <td>286000.0</td>\n",
       "      <td>294000.0</td>\n",
       "      <td>0.313971</td>\n",
       "      <td>0.0</td>\n",
       "      <td>0.0</td>\n",
       "    </tr>\n",
       "    <tr>\n",
       "      <th>9</th>\n",
       "      <td>!Якутск</td>\n",
       "      <td>Игровые консоли - PSVita</td>\n",
       "      <td>217979.0</td>\n",
       "      <td>0.0</td>\n",
       "      <td>0.0</td>\n",
       "      <td>278000.0</td>\n",
       "      <td>286000.0</td>\n",
       "      <td>294000.0</td>\n",
       "      <td>0.784097</td>\n",
       "      <td>0.0</td>\n",
       "      <td>0.0</td>\n",
       "    </tr>\n",
       "  </tbody>\n",
       "</table>\n",
       "</div>"
      ],
      "text/plain": [
       "      city        item_category_name     cnt13  cnt14  cnt15     2013y  \\\n",
       "0  !Якутск   PC - Гарнитуры/Наушники      93.0    0.0    0.0  278000.0   \n",
       "1  !Якутск          Аксессуары - PS2     283.0    0.0    0.0  278000.0   \n",
       "2  !Якутск          Аксессуары - PS3  276579.0    0.0    0.0  278000.0   \n",
       "3  !Якутск          Аксессуары - PS4   12100.0    0.0    0.0  278000.0   \n",
       "4  !Якутск          Аксессуары - PSP   36429.0    0.0    0.0  278000.0   \n",
       "5  !Якутск       Аксессуары - PSVita   63956.0    0.0    0.0  278000.0   \n",
       "6  !Якутск     Аксессуары - XBOX 360  282375.0    0.0    0.0  278000.0   \n",
       "7  !Якутск     Игровые консоли - PS3  722742.0    0.0    0.0  278000.0   \n",
       "8  !Якутск     Игровые консоли - PSP   87284.0    0.0    0.0  278000.0   \n",
       "9  !Якутск  Игровые консоли - PSVita  217979.0    0.0    0.0  278000.0   \n",
       "\n",
       "      2014y     2015y   share13  share14  share15  \n",
       "0  286000.0  294000.0  0.000335      0.0      0.0  \n",
       "1  286000.0  294000.0  0.001018      0.0      0.0  \n",
       "2  286000.0  294000.0  0.994888      0.0      0.0  \n",
       "3  286000.0  294000.0  0.043525      0.0      0.0  \n",
       "4  286000.0  294000.0  0.131040      0.0      0.0  \n",
       "5  286000.0  294000.0  0.230058      0.0      0.0  \n",
       "6  286000.0  294000.0  1.015737      0.0      0.0  \n",
       "7  286000.0  294000.0  2.599791      0.0      0.0  \n",
       "8  286000.0  294000.0  0.313971      0.0      0.0  \n",
       "9  286000.0  294000.0  0.784097      0.0      0.0  "
      ]
     },
     "execution_count": 8,
     "metadata": {},
     "output_type": "execute_result"
    }
   ],
   "source": [
    "cnt = df.groupby(['year', 'city', 'item_category_name'])['item_price'].agg({'sum'}).reset_index()\n",
    "\n",
    "y2013 = cnt[cnt['year'] == '2013'].drop('year', axis=1)\n",
    "y2014 = cnt[cnt['year'] == '2014'].drop('year', axis=1)\n",
    "y2015 = cnt[cnt['year'] == '2015'].drop('year', axis=1)\n",
    "\n",
    "cnt = y2013.merge(y2014, on=['city', 'item_category_name'], how='outer')\\\n",
    "                .merge(y2015, on=['city', 'item_category_name'], how='outer')\n",
    "\n",
    "cnt.columns = ['city', 'item_category_name', 'cnt13', 'cnt14', 'cnt15']\n",
    "\n",
    "market_share = cnt.merge(cities, on='city', how='left')\n",
    "market_share['share13'] = market_share['cnt13'] / market_share['2013y']\n",
    "market_share['share14'] = market_share['cnt14'] / market_share['2014y']\n",
    "market_share['share15'] = market_share['cnt15'] / market_share['2015y']\n",
    "market_share = market_share.fillna(0)\n",
    "\n",
    "market_share.head(10)"
   ]
  },
  {
   "cell_type": "code",
   "execution_count": null,
   "metadata": {},
   "outputs": [],
   "source": []
  },
  {
   "cell_type": "markdown",
   "metadata": {},
   "source": [
    "### City classification by price"
   ]
  },
  {
   "cell_type": "code",
   "execution_count": 9,
   "metadata": {},
   "outputs": [
    {
     "data": {
      "text/html": [
       "<div>\n",
       "<style scoped>\n",
       "    .dataframe tbody tr th:only-of-type {\n",
       "        vertical-align: middle;\n",
       "    }\n",
       "\n",
       "    .dataframe tbody tr th {\n",
       "        vertical-align: top;\n",
       "    }\n",
       "\n",
       "    .dataframe thead th {\n",
       "        text-align: right;\n",
       "    }\n",
       "</style>\n",
       "<table border=\"1\" class=\"dataframe\">\n",
       "  <thead>\n",
       "    <tr style=\"text-align: right;\">\n",
       "      <th></th>\n",
       "      <th>city</th>\n",
       "      <th>weighted_sum</th>\n",
       "      <th>weighted_mean</th>\n",
       "    </tr>\n",
       "  </thead>\n",
       "  <tbody>\n",
       "    <tr>\n",
       "      <th>14</th>\n",
       "      <td>Москва</td>\n",
       "      <td>12.698752</td>\n",
       "      <td>71.590661</td>\n",
       "    </tr>\n",
       "    <tr>\n",
       "      <th>30</th>\n",
       "      <td>Якутск</td>\n",
       "      <td>2.272332</td>\n",
       "      <td>17.841805</td>\n",
       "    </tr>\n",
       "    <tr>\n",
       "      <th>20</th>\n",
       "      <td>СПб</td>\n",
       "      <td>2.016134</td>\n",
       "      <td>16.107162</td>\n",
       "    </tr>\n",
       "    <tr>\n",
       "      <th>27</th>\n",
       "      <td>Химки</td>\n",
       "      <td>1.841223</td>\n",
       "      <td>13.281564</td>\n",
       "    </tr>\n",
       "    <tr>\n",
       "      <th>5</th>\n",
       "      <td>Воронеж</td>\n",
       "      <td>1.773653</td>\n",
       "      <td>13.707803</td>\n",
       "    </tr>\n",
       "  </tbody>\n",
       "</table>\n",
       "</div>"
      ],
      "text/plain": [
       "       city  weighted_sum  weighted_mean\n",
       "14   Москва     12.698752      71.590661\n",
       "30   Якутск      2.272332      17.841805\n",
       "20      СПб      2.016134      16.107162\n",
       "27    Химки      1.841223      13.281564\n",
       "5   Воронеж      1.773653      13.707803"
      ]
     },
     "execution_count": 9,
     "metadata": {},
     "output_type": "execute_result"
    }
   ],
   "source": [
    "median_price = df.groupby('item_name')['item_price'].median().reset_index()\n",
    "city_median_price = df.groupby(['city', 'item_name'])['item_price'].median().reset_index()\n",
    "sold = df.groupby(['city', 'item_name'])['item_cnt_day'].sum().reset_index()\n",
    "price = city_median_price.merge(median_price, on='item_name', how='inner')\n",
    "price = price.merge(sold, on=['city', 'item_name'], how='inner')\n",
    "price.columns = 'city', 'item_name', 'median_item_price', 'city_price', 'item_cnt_day'\n",
    "price['expencity'] = price['city_price'] / price['median_item_price']\n",
    "price['weighted'] = price['expencity'] * price['item_cnt_day']\n",
    "\n",
    "price_ranking = price.groupby('city')['weighted'].agg({'sum', 'mean'}).reset_index()\n",
    "price_ranking['sum'] = price_ranking['sum'] / 100000\n",
    "price_ranking.columns = 'city', 'weighted_sum', 'weighted_mean'\n",
    "\n",
    "price_ranking.sort_values(by='weighted_sum', ascending=False).head(5)"
   ]
  },
  {
   "cell_type": "code",
   "execution_count": null,
   "metadata": {},
   "outputs": [],
   "source": []
  },
  {
   "cell_type": "markdown",
   "metadata": {},
   "source": [
    "### Shares of expensive and cheap goods in each category"
   ]
  },
  {
   "cell_type": "code",
   "execution_count": 10,
   "metadata": {
    "scrolled": true
   },
   "outputs": [
    {
     "data": {
      "text/html": [
       "<div>\n",
       "<style scoped>\n",
       "    .dataframe tbody tr th:only-of-type {\n",
       "        vertical-align: middle;\n",
       "    }\n",
       "\n",
       "    .dataframe tbody tr th {\n",
       "        vertical-align: top;\n",
       "    }\n",
       "\n",
       "    .dataframe thead th {\n",
       "        text-align: right;\n",
       "    }\n",
       "</style>\n",
       "<table border=\"1\" class=\"dataframe\">\n",
       "  <thead>\n",
       "    <tr style=\"text-align: right;\">\n",
       "      <th></th>\n",
       "      <th>city</th>\n",
       "      <th>category</th>\n",
       "      <th>price_categotry</th>\n",
       "      <th>item_cnt_day_x</th>\n",
       "      <th>tot_x</th>\n",
       "      <th>share_x</th>\n",
       "      <th>item_cnt_day_y</th>\n",
       "      <th>tot_y</th>\n",
       "      <th>share_y</th>\n",
       "      <th>item_cnt_day</th>\n",
       "      <th>tot</th>\n",
       "      <th>share</th>\n",
       "    </tr>\n",
       "  </thead>\n",
       "  <tbody>\n",
       "    <tr>\n",
       "      <th>0</th>\n",
       "      <td>!Якутск</td>\n",
       "      <td>PC</td>\n",
       "      <td>mid</td>\n",
       "      <td>1.0</td>\n",
       "      <td>1.0</td>\n",
       "      <td>1.000000</td>\n",
       "      <td>0.0</td>\n",
       "      <td>0.0</td>\n",
       "      <td>0.0</td>\n",
       "      <td>0.0</td>\n",
       "      <td>0.0</td>\n",
       "      <td>0.0</td>\n",
       "    </tr>\n",
       "    <tr>\n",
       "      <th>1</th>\n",
       "      <td>!Якутск</td>\n",
       "      <td>Аксессуары</td>\n",
       "      <td>high</td>\n",
       "      <td>51.0</td>\n",
       "      <td>605.0</td>\n",
       "      <td>0.084298</td>\n",
       "      <td>0.0</td>\n",
       "      <td>0.0</td>\n",
       "      <td>0.0</td>\n",
       "      <td>0.0</td>\n",
       "      <td>0.0</td>\n",
       "      <td>0.0</td>\n",
       "    </tr>\n",
       "    <tr>\n",
       "      <th>2</th>\n",
       "      <td>!Якутск</td>\n",
       "      <td>Аксессуары</td>\n",
       "      <td>low</td>\n",
       "      <td>245.0</td>\n",
       "      <td>605.0</td>\n",
       "      <td>0.404959</td>\n",
       "      <td>0.0</td>\n",
       "      <td>0.0</td>\n",
       "      <td>0.0</td>\n",
       "      <td>0.0</td>\n",
       "      <td>0.0</td>\n",
       "      <td>0.0</td>\n",
       "    </tr>\n",
       "    <tr>\n",
       "      <th>3</th>\n",
       "      <td>!Якутск</td>\n",
       "      <td>Аксессуары</td>\n",
       "      <td>mid</td>\n",
       "      <td>309.0</td>\n",
       "      <td>605.0</td>\n",
       "      <td>0.510744</td>\n",
       "      <td>0.0</td>\n",
       "      <td>0.0</td>\n",
       "      <td>0.0</td>\n",
       "      <td>0.0</td>\n",
       "      <td>0.0</td>\n",
       "      <td>0.0</td>\n",
       "    </tr>\n",
       "    <tr>\n",
       "      <th>4</th>\n",
       "      <td>!Якутск</td>\n",
       "      <td>Игровые</td>\n",
       "      <td>low</td>\n",
       "      <td>54.0</td>\n",
       "      <td>159.0</td>\n",
       "      <td>0.339623</td>\n",
       "      <td>0.0</td>\n",
       "      <td>0.0</td>\n",
       "      <td>0.0</td>\n",
       "      <td>0.0</td>\n",
       "      <td>0.0</td>\n",
       "      <td>0.0</td>\n",
       "    </tr>\n",
       "  </tbody>\n",
       "</table>\n",
       "</div>"
      ],
      "text/plain": [
       "      city    category price_categotry  item_cnt_day_x  tot_x   share_x  \\\n",
       "0  !Якутск          PC             mid             1.0    1.0  1.000000   \n",
       "1  !Якутск  Аксессуары            high            51.0  605.0  0.084298   \n",
       "2  !Якутск  Аксессуары             low           245.0  605.0  0.404959   \n",
       "3  !Якутск  Аксессуары             mid           309.0  605.0  0.510744   \n",
       "4  !Якутск     Игровые             low            54.0  159.0  0.339623   \n",
       "\n",
       "   item_cnt_day_y  tot_y  share_y  item_cnt_day  tot  share  \n",
       "0             0.0    0.0      0.0           0.0  0.0    0.0  \n",
       "1             0.0    0.0      0.0           0.0  0.0    0.0  \n",
       "2             0.0    0.0      0.0           0.0  0.0    0.0  \n",
       "3             0.0    0.0      0.0           0.0  0.0    0.0  \n",
       "4             0.0    0.0      0.0           0.0  0.0    0.0  "
      ]
     },
     "execution_count": 10,
     "metadata": {},
     "output_type": "execute_result"
    }
   ],
   "source": [
    "p25 = df.groupby('category')['item_price'].describe()['25%'].reset_index()\n",
    "p75 = df.groupby('category')['item_price'].describe()['75%'].reset_index()\n",
    "df = df.merge(p25.merge(p75))\n",
    "df['price_categotry'] = np.where(df['item_price'] < df['25%'], 'low',\n",
    "                        np.where(df['item_price'] > df['75%'], 'high', 'mid'))\n",
    "a = []\n",
    "for year in df['year'].unique().tolist():\n",
    "    dfyear = df[df['year'] == year]\n",
    "    price_cats = dfyear.groupby(['city' ,'category', 'price_categotry'])['item_cnt_day'].sum().reset_index()\n",
    "    tot = price_cats.groupby(['city', 'category'])['item_cnt_day'].sum().reset_index()\n",
    "    tot.columns = 'city', 'category', 'tot'\n",
    "    price_cats = price_cats.merge(tot, on=['city', 'category'])\n",
    "    price_cats['share'] = price_cats['item_cnt_day'] / price_cats['tot']\n",
    "    a.append(price_cats)\n",
    "\n",
    "ap = a[0].merge(a[1], on=['city', 'category', 'price_categotry'],\n",
    "                how='outer').merge(a[2], on=['city', 'category', 'price_categotry'], how='outer')\n",
    "ap = ap.fillna(0)\n",
    "ap.head(5)"
   ]
  },
  {
   "cell_type": "code",
   "execution_count": 11,
   "metadata": {},
   "outputs": [],
   "source": [
    "pt = ap.pivot_table(values = ['share', 'item_cnt_day_x' ], index =['city', 'category'], columns ='price_categotry')\n",
    "\n",
    "pt = pt.reset_index()\n",
    "pt.columns = ['city', 'category', 'item_cnt_day_x_h', 'item_cnt_day_x_l', \n",
    "                'item_cnt_day_x_m', 'share_h', 'share_l', 'share_m']\n",
    "\n",
    "pt.head()"
   ]
  },
  {
   "cell_type": "code",
   "execution_count": null,
   "metadata": {},
   "outputs": [],
   "source": []
  },
  {
   "cell_type": "markdown",
   "metadata": {},
   "source": [
    "### Price elasticity"
   ]
  },
  {
   "cell_type": "code",
   "execution_count": 13,
   "metadata": {},
   "outputs": [
    {
     "data": {
      "text/html": [
       "<div>\n",
       "<style scoped>\n",
       "    .dataframe tbody tr th:only-of-type {\n",
       "        vertical-align: middle;\n",
       "    }\n",
       "\n",
       "    .dataframe tbody tr th {\n",
       "        vertical-align: top;\n",
       "    }\n",
       "\n",
       "    .dataframe thead th {\n",
       "        text-align: right;\n",
       "    }\n",
       "</style>\n",
       "<table border=\"1\" class=\"dataframe\">\n",
       "  <thead>\n",
       "    <tr style=\"text-align: right;\">\n",
       "      <th></th>\n",
       "      <th>shop_name</th>\n",
       "      <th>item_name</th>\n",
       "      <th>sum</th>\n",
       "      <th>mean</th>\n",
       "    </tr>\n",
       "  </thead>\n",
       "  <tbody>\n",
       "    <tr>\n",
       "      <th>179137</th>\n",
       "      <td>Москва ТЦ \"МЕГА Белая Дача II\"</td>\n",
       "      <td>Titanfall [Xbox 360, русская версия]</td>\n",
       "      <td>-30283.123119</td>\n",
       "      <td>-3028.312312</td>\n",
       "    </tr>\n",
       "    <tr>\n",
       "      <th>122878</th>\n",
       "      <td>Москва МТРЦ \"Афи Молл\"</td>\n",
       "      <td>Battlefield 4 [PS3, русская версия]</td>\n",
       "      <td>-11855.510960</td>\n",
       "      <td>-1317.278996</td>\n",
       "    </tr>\n",
       "    <tr>\n",
       "      <th>190231</th>\n",
       "      <td>Москва ТЦ \"МЕГА Теплый Стан\" II</td>\n",
       "      <td>Titanfall [Xbox 360, русская версия]</td>\n",
       "      <td>-10388.534483</td>\n",
       "      <td>-944.412226</td>\n",
       "    </tr>\n",
       "    <tr>\n",
       "      <th>107781</th>\n",
       "      <td>Красноярск ТЦ \"Июнь\"</td>\n",
       "      <td>Змей ЯШКА антистресс 33 см.</td>\n",
       "      <td>-10198.000000</td>\n",
       "      <td>-10198.000000</td>\n",
       "    </tr>\n",
       "    <tr>\n",
       "      <th>259884</th>\n",
       "      <td>Омск ТЦ \"Мега\"</td>\n",
       "      <td>Змей МАКС антистресс 33 см.</td>\n",
       "      <td>-10198.000000</td>\n",
       "      <td>-10198.000000</td>\n",
       "    </tr>\n",
       "    <tr>\n",
       "      <th>...</th>\n",
       "      <td>...</td>\n",
       "      <td>...</td>\n",
       "      <td>...</td>\n",
       "      <td>...</td>\n",
       "    </tr>\n",
       "    <tr>\n",
       "      <th>42924</th>\n",
       "      <td>Воронеж ТРЦ \"Максимир\"</td>\n",
       "      <td>Battlefield 4 [Xbox 360, русская версия]</td>\n",
       "      <td>5504.150137</td>\n",
       "      <td>500.377285</td>\n",
       "    </tr>\n",
       "    <tr>\n",
       "      <th>355730</th>\n",
       "      <td>Уфа ТК \"Центральный\"</td>\n",
       "      <td>Titanfall [PC, русская версия]</td>\n",
       "      <td>5992.590775</td>\n",
       "      <td>460.968521</td>\n",
       "    </tr>\n",
       "    <tr>\n",
       "      <th>88922</th>\n",
       "      <td>Коломна ТЦ \"Рио\"</td>\n",
       "      <td>Battlefield 4 [Xbox 360, русская версия]</td>\n",
       "      <td>6082.046553</td>\n",
       "      <td>868.863793</td>\n",
       "    </tr>\n",
       "    <tr>\n",
       "      <th>42922</th>\n",
       "      <td>Воронеж ТРЦ \"Максимир\"</td>\n",
       "      <td>Battlefield 4 [PS3, русская версия]</td>\n",
       "      <td>6708.840575</td>\n",
       "      <td>516.064660</td>\n",
       "    </tr>\n",
       "    <tr>\n",
       "      <th>371671</th>\n",
       "      <td>Химки ТЦ \"Мега\"</td>\n",
       "      <td>NHL 14 [Xbox 360, русские субтитры]</td>\n",
       "      <td>7430.077531</td>\n",
       "      <td>530.719824</td>\n",
       "    </tr>\n",
       "  </tbody>\n",
       "</table>\n",
       "<p>424124 rows × 4 columns</p>\n",
       "</div>"
      ],
      "text/plain": [
       "                              shop_name  \\\n",
       "179137   Москва ТЦ \"МЕГА Белая Дача II\"   \n",
       "122878           Москва МТРЦ \"Афи Молл\"   \n",
       "190231  Москва ТЦ \"МЕГА Теплый Стан\" II   \n",
       "107781             Красноярск ТЦ \"Июнь\"   \n",
       "259884                   Омск ТЦ \"Мега\"   \n",
       "...                                 ...   \n",
       "42924            Воронеж ТРЦ \"Максимир\"   \n",
       "355730             Уфа ТК \"Центральный\"   \n",
       "88922                  Коломна ТЦ \"Рио\"   \n",
       "42922            Воронеж ТРЦ \"Максимир\"   \n",
       "371671                  Химки ТЦ \"Мега\"   \n",
       "\n",
       "                                       item_name           sum          mean  \n",
       "179137      Titanfall [Xbox 360, русская версия] -30283.123119  -3028.312312  \n",
       "122878       Battlefield 4 [PS3, русская версия] -11855.510960  -1317.278996  \n",
       "190231      Titanfall [Xbox 360, русская версия] -10388.534483   -944.412226  \n",
       "107781               Змей ЯШКА антистресс 33 см. -10198.000000 -10198.000000  \n",
       "259884               Змей МАКС антистресс 33 см. -10198.000000 -10198.000000  \n",
       "...                                          ...           ...           ...  \n",
       "42924   Battlefield 4 [Xbox 360, русская версия]   5504.150137    500.377285  \n",
       "355730            Titanfall [PC, русская версия]   5992.590775    460.968521  \n",
       "88922   Battlefield 4 [Xbox 360, русская версия]   6082.046553    868.863793  \n",
       "42922        Battlefield 4 [PS3, русская версия]   6708.840575    516.064660  \n",
       "371671       NHL 14 [Xbox 360, русские субтитры]   7430.077531    530.719824  \n",
       "\n",
       "[424124 rows x 4 columns]"
      ]
     },
     "execution_count": 13,
     "metadata": {},
     "output_type": "execute_result"
    }
   ],
   "source": [
    "pe = df[df['ym'] < '2015-11'].pivot_table(values='item_cnt_day', index='city',\n",
    "                                                      columns='ym', aggfunc='sum')\n",
    "\n",
    "price_volatility = df.groupby(['ym', 'shop_name', 'item_name'])['item_price'].std().reset_index()\n",
    "price_volatility\n",
    "\n",
    "price_volatility = df.groupby(['ym', 'shop_name', 'item_name'])['item_price'].std().reset_index()\n",
    "\n",
    "price_volatility_by_shop = price_volatility.fillna(0).groupby(['ym', 'shop_name'])['item_price'].std()\n",
    "\n",
    "mean_monthly_price = df.groupby(['ym', 'shop_name', 'item_name'])['item_price'].mean().reset_index()\n",
    "purch_per_month = df.groupby(['ym', 'shop_name', 'item_name'])['item_cnt_day'].sum().reset_index()\n",
    "\n",
    "price_cnt = mean_monthly_price.merge(purch_per_month)\n",
    "\n",
    "price_cnt['price-1'] = price_cnt.groupby(['shop_name', 'item_name'])['item_price'].shift(periods=1)\n",
    "price_cnt['price-3'] = price_cnt.groupby(['shop_name', 'item_name'])['item_price'].shift(periods=1)\n",
    "\n",
    "price_cnt['cnt-1'] = price_cnt.groupby(['shop_name', 'item_name'])['item_cnt_day'].shift(periods=1)\n",
    "price_cnt['cnt-3'] = price_cnt.groupby(['shop_name', 'item_name'])['item_cnt_day'].shift(periods=1)\n",
    "\n",
    "price_cnt['price_elastisity'] = ((price_cnt['item_price'] - price_cnt['price-1']) / price_cnt['price-1'] ) /\\\n",
    "                                   ( (price_cnt['item_cnt_day'] - price_cnt['cnt-1']) / price_cnt['cnt-1'])\n",
    "\n",
    "price_cnt = price_cnt.replace([np.inf, -np.inf], np.nan)\n",
    "price_cnt = price_cnt.groupby(['shop_name', 'item_name'])['price_elastisity'].agg({'sum', 'mean'}).reset_index()\n",
    "price_cnt.sort_values(by='sum')"
   ]
  },
  {
   "cell_type": "markdown",
   "metadata": {},
   "source": [
    "### ABC analysis for every shop"
   ]
  },
  {
   "cell_type": "code",
   "execution_count": 56,
   "metadata": {},
   "outputs": [],
   "source": [
    "abc = df.groupby(['year', 'shop_id', 'item_category_name'])['revenue'].sum().reset_index()\n",
    "abc = abc.pivot_table(values='revenue', index=['shop_id', 'item_category_name'] , columns='year').reset_index()\n",
    "\n",
    "names_to_del = []\n",
    "for year in ['2013', '2014', '2015']:\n",
    "    abc = abc.sort_values(by=['shop_id', year], ascending=[True, False])\n",
    "    abc['cumsum'+str(year)] = abc.groupby('shop_id')[year].cumsum()\n",
    "    sum_shop = abc.groupby('shop_id')[year].sum().reset_index()\n",
    "    sum_shop.columns = 'shop_id', 'sum'+str(year)\n",
    "    abc = abc.merge(sum_shop, on='shop_id')\n",
    "    abc['share' + str(year)] = abc['cumsum'+str(year)] / abc['sum'+str(year)]\n",
    "    abc['abc' + year] = np.where(abc['share' + str(year)] < 0.8, 'A',\n",
    "                         (np.where(abc['share' + str(year)] < 0.95, 'B', \n",
    "                            (np.where(abc['share' + str(year)].isna(), None, 'C')))))\n",
    "    \n",
    "    names_to_del.append(['share' + str(year), 'cumsum'+str(year), 'sum'+str(year) ])\n",
    "    \n",
    "a = []\n",
    "for i in range(len(names_to_del)):\n",
    "    for k in names_to_del[i]:\n",
    "        a.append(k)\n",
    "        \n",
    "abc = abc.drop(a, axis=1)"
   ]
  },
  {
   "cell_type": "code",
   "execution_count": 15,
   "metadata": {},
   "outputs": [
    {
     "data": {
      "text/html": [
       "<div>\n",
       "<style scoped>\n",
       "    .dataframe tbody tr th:only-of-type {\n",
       "        vertical-align: middle;\n",
       "    }\n",
       "\n",
       "    .dataframe tbody tr th {\n",
       "        vertical-align: top;\n",
       "    }\n",
       "\n",
       "    .dataframe thead th {\n",
       "        text-align: right;\n",
       "    }\n",
       "</style>\n",
       "<table border=\"1\" class=\"dataframe\">\n",
       "  <thead>\n",
       "    <tr style=\"text-align: right;\">\n",
       "      <th></th>\n",
       "      <th>shop_id</th>\n",
       "      <th>item_category_name</th>\n",
       "      <th>2013</th>\n",
       "      <th>2014</th>\n",
       "      <th>2015</th>\n",
       "      <th>abc2013</th>\n",
       "      <th>abc2014</th>\n",
       "      <th>abc2015</th>\n",
       "    </tr>\n",
       "  </thead>\n",
       "  <tbody>\n",
       "    <tr>\n",
       "      <th>89</th>\n",
       "      <td>2</td>\n",
       "      <td>Игры - PS4</td>\n",
       "      <td>337874.70</td>\n",
       "      <td>3858244.70</td>\n",
       "      <td>3298535.0</td>\n",
       "      <td>A</td>\n",
       "      <td>A</td>\n",
       "      <td>A</td>\n",
       "    </tr>\n",
       "    <tr>\n",
       "      <th>90</th>\n",
       "      <td>2</td>\n",
       "      <td>Игры - PS3</td>\n",
       "      <td>3087091.79</td>\n",
       "      <td>2741616.40</td>\n",
       "      <td>1242912.2</td>\n",
       "      <td>A</td>\n",
       "      <td>A</td>\n",
       "      <td>A</td>\n",
       "    </tr>\n",
       "    <tr>\n",
       "      <th>91</th>\n",
       "      <td>2</td>\n",
       "      <td>Игры PC - Стандартные издания</td>\n",
       "      <td>898146.89</td>\n",
       "      <td>975032.14</td>\n",
       "      <td>949799.5</td>\n",
       "      <td>A</td>\n",
       "      <td>A</td>\n",
       "      <td>A</td>\n",
       "    </tr>\n",
       "    <tr>\n",
       "      <th>92</th>\n",
       "      <td>2</td>\n",
       "      <td>Игры - XBOX 360</td>\n",
       "      <td>1467907.25</td>\n",
       "      <td>1861883.30</td>\n",
       "      <td>883647.6</td>\n",
       "      <td>A</td>\n",
       "      <td>A</td>\n",
       "      <td>A</td>\n",
       "    </tr>\n",
       "    <tr>\n",
       "      <th>94</th>\n",
       "      <td>2</td>\n",
       "      <td>Игры PC - Дополнительные издания</td>\n",
       "      <td>424852.16</td>\n",
       "      <td>656487.46</td>\n",
       "      <td>509732.5</td>\n",
       "      <td>A</td>\n",
       "      <td>A</td>\n",
       "      <td>A</td>\n",
       "    </tr>\n",
       "  </tbody>\n",
       "</table>\n",
       "</div>"
      ],
      "text/plain": [
       "    shop_id                item_category_name        2013        2014  \\\n",
       "89        2                        Игры - PS4   337874.70  3858244.70   \n",
       "90        2                        Игры - PS3  3087091.79  2741616.40   \n",
       "91        2     Игры PC - Стандартные издания   898146.89   975032.14   \n",
       "92        2                   Игры - XBOX 360  1467907.25  1861883.30   \n",
       "94        2  Игры PC - Дополнительные издания   424852.16   656487.46   \n",
       "\n",
       "         2015 abc2013 abc2014 abc2015  \n",
       "89  3298535.0       A       A       A  \n",
       "90  1242912.2       A       A       A  \n",
       "91   949799.5       A       A       A  \n",
       "92   883647.6       A       A       A  \n",
       "94   509732.5       A       A       A  "
      ]
     },
     "execution_count": 15,
     "metadata": {},
     "output_type": "execute_result"
    }
   ],
   "source": [
    "abc[(abc['abc2013'] == 'A') & (abc['abc2014'] == 'A') & (abc['abc2015'] == 'A')].head(5)"
   ]
  },
  {
   "cell_type": "markdown",
   "metadata": {},
   "source": [
    "####  abc ecosystems"
   ]
  },
  {
   "cell_type": "code",
   "execution_count": 16,
   "metadata": {},
   "outputs": [],
   "source": [
    "abc = df.groupby(['year', 'shop_id', 'game_ecosystem'])['revenue'].sum().reset_index()\n",
    "abc = abc.pivot_table(values='revenue', index=['shop_id', 'game_ecosystem'] , columns='year').reset_index()\n",
    "\n",
    "names_to_del = []\n",
    "for year in ['2013', '2014', '2015']:\n",
    "    abc = abc.sort_values(by=['shop_id', year], ascending=[True, False])\n",
    "    abc['cumsum'+str(year)] = abc.groupby('shop_id')[year].cumsum()\n",
    "    sum_shop = abc.groupby('shop_id')[year].sum().reset_index()\n",
    "    sum_shop.columns = 'shop_id', 'sum'+str(year)\n",
    "    abc = abc.merge(sum_shop, on='shop_id')\n",
    "    abc['share' + str(year)] = abc['cumsum'+str(year)] / abc['sum'+str(year)]\n",
    "    abc['abc' + year] = np.where(abc['share' + str(year)] < 0.8, 'A',\n",
    "                         (np.where(abc['share' + str(year)] < 0.95, 'B', \n",
    "                            (np.where(abc['share' + str(year)].isna(), None, 'C')))))\n",
    "    \n",
    "    names_to_del.append(['share' + str(year), 'cumsum'+str(year), 'sum'+str(year) ])\n",
    "    \n",
    "a = []\n",
    "for i in range(len(names_to_del)):\n",
    "    for k in names_to_del[i]:\n",
    "        a.append(k)\n",
    "        \n",
    "abc1 = abc.drop(a, axis=1)"
   ]
  },
  {
   "cell_type": "code",
   "execution_count": 17,
   "metadata": {},
   "outputs": [
    {
     "data": {
      "text/html": [
       "<div>\n",
       "<style scoped>\n",
       "    .dataframe tbody tr th:only-of-type {\n",
       "        vertical-align: middle;\n",
       "    }\n",
       "\n",
       "    .dataframe tbody tr th {\n",
       "        vertical-align: top;\n",
       "    }\n",
       "\n",
       "    .dataframe thead th {\n",
       "        text-align: right;\n",
       "    }\n",
       "</style>\n",
       "<table border=\"1\" class=\"dataframe\">\n",
       "  <thead>\n",
       "    <tr style=\"text-align: right;\">\n",
       "      <th></th>\n",
       "      <th>shop_id</th>\n",
       "      <th>game_ecosystem</th>\n",
       "      <th>2013</th>\n",
       "      <th>2014</th>\n",
       "      <th>2015</th>\n",
       "      <th>abc2013</th>\n",
       "      <th>abc2014</th>\n",
       "      <th>abc2015</th>\n",
       "    </tr>\n",
       "  </thead>\n",
       "  <tbody>\n",
       "    <tr>\n",
       "      <th>15</th>\n",
       "      <td>2</td>\n",
       "      <td>ps4</td>\n",
       "      <td>2.196047e+06</td>\n",
       "      <td>7.584787e+06</td>\n",
       "      <td>4108970.00</td>\n",
       "      <td>A</td>\n",
       "      <td>A</td>\n",
       "      <td>A</td>\n",
       "    </tr>\n",
       "    <tr>\n",
       "      <th>24</th>\n",
       "      <td>3</td>\n",
       "      <td>other</td>\n",
       "      <td>1.871569e+06</td>\n",
       "      <td>2.372460e+06</td>\n",
       "      <td>1999163.40</td>\n",
       "      <td>A</td>\n",
       "      <td>A</td>\n",
       "      <td>A</td>\n",
       "    </tr>\n",
       "    <tr>\n",
       "      <th>25</th>\n",
       "      <td>3</td>\n",
       "      <td>ps3</td>\n",
       "      <td>2.145283e+06</td>\n",
       "      <td>2.113067e+06</td>\n",
       "      <td>1143078.85</td>\n",
       "      <td>A</td>\n",
       "      <td>A</td>\n",
       "      <td>A</td>\n",
       "    </tr>\n",
       "    <tr>\n",
       "      <th>31</th>\n",
       "      <td>4</td>\n",
       "      <td>other</td>\n",
       "      <td>3.543997e+06</td>\n",
       "      <td>3.496346e+06</td>\n",
       "      <td>2647588.70</td>\n",
       "      <td>A</td>\n",
       "      <td>A</td>\n",
       "      <td>A</td>\n",
       "    </tr>\n",
       "    <tr>\n",
       "      <th>33</th>\n",
       "      <td>4</td>\n",
       "      <td>PC</td>\n",
       "      <td>3.523295e+06</td>\n",
       "      <td>2.697370e+06</td>\n",
       "      <td>1418588.60</td>\n",
       "      <td>A</td>\n",
       "      <td>A</td>\n",
       "      <td>A</td>\n",
       "    </tr>\n",
       "  </tbody>\n",
       "</table>\n",
       "</div>"
      ],
      "text/plain": [
       "    shop_id game_ecosystem          2013          2014        2015 abc2013  \\\n",
       "15        2            ps4  2.196047e+06  7.584787e+06  4108970.00       A   \n",
       "24        3          other  1.871569e+06  2.372460e+06  1999163.40       A   \n",
       "25        3            ps3  2.145283e+06  2.113067e+06  1143078.85       A   \n",
       "31        4          other  3.543997e+06  3.496346e+06  2647588.70       A   \n",
       "33        4             PC  3.523295e+06  2.697370e+06  1418588.60       A   \n",
       "\n",
       "   abc2014 abc2015  \n",
       "15       A       A  \n",
       "24       A       A  \n",
       "25       A       A  \n",
       "31       A       A  \n",
       "33       A       A  "
      ]
     },
     "execution_count": 17,
     "metadata": {},
     "output_type": "execute_result"
    }
   ],
   "source": [
    "abc1[(abc1['abc2013'] == 'A') & (abc1['abc2014'] == 'A') & (abc1['abc2015'] == 'A')].head(5)"
   ]
  },
  {
   "cell_type": "code",
   "execution_count": null,
   "metadata": {},
   "outputs": [],
   "source": []
  },
  {
   "cell_type": "markdown",
   "metadata": {},
   "source": [
    "### BCG Matrix"
   ]
  },
  {
   "cell_type": "markdown",
   "metadata": {},
   "source": [
    "#### bcg categories"
   ]
  },
  {
   "cell_type": "code",
   "execution_count": 55,
   "metadata": {},
   "outputs": [],
   "source": [
    "bcg = df[df['ym'] < '2015-11'].pivot_table(values='item_cnt_day', index='category',\n",
    "                                                      columns='ym', aggfunc='sum')\n",
    "\n",
    "bcg.drop(['2013-11', '2013-12', '2014-11', '2014-12'], axis=1, inplace=True)\n",
    "\n",
    "y2013, y2014, y2015 = [], [], []\n",
    "for i in bcg.columns:\n",
    "    if '2013' in i:\n",
    "        y2013.append(i)\n",
    "    if '2014' in i:\n",
    "        y2014.append(i)\n",
    "    if '2015' in i:\n",
    "        y2015.append(i)\n",
    "\n",
    "bcg['y2013'] = bcg[y2013].sum(axis=1)\n",
    "bcg['y2014'] = bcg[y2014].sum(axis=1)\n",
    "bcg['y2015'] = bcg[y2015].sum(axis=1)\n",
    "\n",
    "bcg['y2013'] = np.where(bcg['y2013']==0, 1, bcg['y2013'])\n",
    "\n",
    "bcg['3y cagr'] = (((bcg['y2015'] / bcg['y2013']) ** (1/5)) - 1) * 100\n",
    "bcg['2y cagr'] = (((bcg['y2015'] / bcg['y2014']) ** (1/5)) - 1) * 100\n",
    "\n",
    "bcg = bcg.sort_values(by=['2y cagr'], ascending=False)\n",
    "bcg = bcg.replace(np.inf, np.nan)\n",
    "\n",
    "total_market = bcg[y2015].sum().sum()\n",
    "\n",
    "bcg['Share 2019'] = bcg['y2015'] / total_market * 100\n",
    "bcg = bcg.sort_values(by=['Share 2019'], ascending=False)\n",
    "\n",
    "bcg = bcg.dropna(subset=['2y cagr'])\n",
    "bcg['bcg'] = np.where((bcg['Share 2019'] <= 3) & (bcg['2y cagr'] <= -4), 'dogs',\n",
    "                        np.where((bcg['Share 2019'] > 3) & (bcg['2y cagr'] > -4), 'stars',\n",
    "                        np.where((bcg['Share 2019'] <= 3) & (bcg['2y cagr'] >= -4), 'quastions',\n",
    "                        np.where((bcg['Share 2019'] > 3) & (bcg['2y cagr'] < -4), 'cows', 0))))"
   ]
  },
  {
   "cell_type": "code",
   "execution_count": 19,
   "metadata": {},
   "outputs": [
    {
     "data": {
      "text/plain": [
       "dogs         5\n",
       "quastions    4\n",
       "cows         4\n",
       "stars        1\n",
       "Name: bcg, dtype: int64"
      ]
     },
     "execution_count": 19,
     "metadata": {},
     "output_type": "execute_result"
    },
    {
     "data": {
      "image/png": "[encoded data removed]",
      "text/plain": [
       "<Figure size 504x504 with 1 Axes>"
      ]
     },
     "metadata": {},
     "output_type": "display_data"
    }
   ],
   "source": [
    "import matplotlib.pyplot as plt\n",
    "import seaborn as sns\n",
    "sns.set_style('darkgrid')\n",
    "ax = sns.relplot(x='Share 2019',  y='2y cagr', size='y2015', data=bcg, \n",
    "                 sizes=(100,10000), legend=False, hue='bcg', height=7)\n",
    "ax.set(xlim=(-2, 35))\n",
    "plt.title('BCG Matrix of categories')\n",
    "plt.xlabel('Market Share in 2015 [%]')\n",
    "plt.ylabel('2-Year CAGR from 2014 to 2015 [%]');\n",
    "bcg['bcg'].value_counts()"
   ]
  },
  {
   "cell_type": "markdown",
   "metadata": {},
   "source": [
    "### bcg cities"
   ]
  },
  {
   "cell_type": "code",
   "execution_count": 20,
   "metadata": {},
   "outputs": [
    {
     "name": "stderr",
     "output_type": "stream",
     "text": [
      "/anaconda3/lib/python3.6/site-packages/ipykernel_launcher.py:36: SettingWithCopyWarning: \n",
      "A value is trying to be set on a copy of a slice from a DataFrame.\n",
      "Try using .loc[row_indexer,col_indexer] = value instead\n",
      "\n",
      "See the caveats in the documentation: http://pandas.pydata.org/pandas-docs/stable/user_guide/indexing.html#returning-a-view-versus-a-copy\n"
     ]
    }
   ],
   "source": [
    "bcg = df[df['ym'] < '2015-11'].pivot_table(values='item_cnt_day', index='city',\n",
    "                                                      columns='ym', aggfunc='sum')\n",
    "\n",
    "bcg.drop(['2013-11', '2013-12', '2014-11', '2014-12'], axis=1, inplace=True)\n",
    "\n",
    "y2013, y2014, y2015 = [], [], []\n",
    "for i in bcg.columns:\n",
    "    if '2013' in i:\n",
    "        y2013.append(i)\n",
    "    if '2014' in i:\n",
    "        y2014.append(i)\n",
    "    if '2015' in i:\n",
    "        y2015.append(i)\n",
    "\n",
    "bcg['y2013'] = bcg[y2013].sum(axis=1)\n",
    "bcg['y2014'] = bcg[y2014].sum(axis=1)\n",
    "bcg['y2015'] = bcg[y2015].sum(axis=1)\n",
    "\n",
    "bcg['y2013'] = np.where(bcg['y2013']==0, 1, bcg['y2013'])\n",
    "\n",
    "bcg['3y cagr'] = (((bcg['y2015'] / bcg['y2013']) ** (1/5)) - 1) * 100\n",
    "bcg['2y cagr'] = (((bcg['y2015'] / bcg['y2014']) ** (1/5)) - 1) * 100\n",
    "\n",
    "bcg = bcg.sort_values(by=['2y cagr'], ascending=False)\n",
    "bcg = bcg.replace(np.inf, np.nan)\n",
    "\n",
    "total_market = bcg[y2015].sum().sum()\n",
    "\n",
    "bcg['Share 2019'] = bcg['y2015'] / total_market * 100\n",
    "bcg = bcg.sort_values(by=['Share 2019'], ascending=False)\n",
    "\n",
    "bcg2 = bcg.dropna(subset=['2y cagr'])\n",
    "bcg2['bcg'] = np.where((bcg2['Share 2019'] <= 2) & (bcg2['2y cagr'] <= -5), 'dogs',\n",
    "              np.where((bcg2['Share 2019'] > 2)  & (bcg2['2y cagr'] > -5), 'stars',\n",
    "              np.where((bcg2['Share 2019'] <= 2) & (bcg2['2y cagr'] >= -5), 'quastions',\n",
    "              np.where((bcg2['Share 2019'] > 2)  & (bcg2['2y cagr'] < -5), 'cows', 0))))"
   ]
  },
  {
   "cell_type": "code",
   "execution_count": 21,
   "metadata": {},
   "outputs": [
    {
     "data": {
      "text/plain": [
       "cows         11\n",
       "dogs         10\n",
       "quastions     6\n",
       "stars         4\n",
       "Name: bcg, dtype: int64"
      ]
     },
     "execution_count": 21,
     "metadata": {},
     "output_type": "execute_result"
    },
    {
     "data": {
      "image/png": "[encoded data removed]",
      "text/plain": [
       "<Figure size 504x504 with 1 Axes>"
      ]
     },
     "metadata": {},
     "output_type": "display_data"
    }
   ],
   "source": [
    "\n",
    "sns.set_style('darkgrid')\n",
    "ax = sns.relplot(x='Share 2019',  y='2y cagr', size='y2015', data=bcg2, \n",
    "                 sizes=(100,10000), legend=False, hue='bcg', height=7)\n",
    "ax.set(xlim=(-2, 35))\n",
    "plt.title('BCG Matrix of categories')\n",
    "plt.xlabel('Market Share in 2015 [%]')\n",
    "plt.ylabel('2-Year CAGR from 2014 to 2015 [%]');\n",
    "bcg2['bcg'].value_counts()"
   ]
  },
  {
   "cell_type": "markdown",
   "metadata": {},
   "source": [
    "### Volatility"
   ]
  },
  {
   "cell_type": "code",
   "execution_count": 25,
   "metadata": {},
   "outputs": [],
   "source": [
    "def linreg(X, Y):\n",
    "    \"\"\"\n",
    "    return a,b in solution to y = ax + b such that root mean square distance between \n",
    "    trend line and original points is minimized\n",
    "    \"\"\"\n",
    "    N = len(X)\n",
    "    Sx = Sy = Sxx = Syy = Sxy = 0.0\n",
    "    for x, y in zip(X, Y):\n",
    "        Sx = Sx + x\n",
    "        Sy = Sy + y\n",
    "        Sxx = Sxx + x*x\n",
    "        Syy = Syy + y*y\n",
    "        Sxy = Sxy + x*y\n",
    "    det = Sxx * N - Sx * Sx\n",
    "    return (Sxy * N - Sy * Sx)/det, (Sxx * Sy - Sx * Sxy)/det"
   ]
  },
  {
   "cell_type": "markdown",
   "metadata": {},
   "source": [
    "### by category"
   ]
  },
  {
   "cell_type": "code",
   "execution_count": 26,
   "metadata": {},
   "outputs": [
    {
     "data": {
      "text/html": [
       "<div>\n",
       "<style scoped>\n",
       "    .dataframe tbody tr th:only-of-type {\n",
       "        vertical-align: middle;\n",
       "    }\n",
       "\n",
       "    .dataframe tbody tr th {\n",
       "        vertical-align: top;\n",
       "    }\n",
       "\n",
       "    .dataframe thead th {\n",
       "        text-align: right;\n",
       "    }\n",
       "</style>\n",
       "<table border=\"1\" class=\"dataframe\">\n",
       "  <thead>\n",
       "    <tr style=\"text-align: right;\">\n",
       "      <th>ym</th>\n",
       "      <th>category</th>\n",
       "      <th>intercept</th>\n",
       "      <th>trend</th>\n",
       "    </tr>\n",
       "  </thead>\n",
       "  <tbody>\n",
       "    <tr>\n",
       "      <th>0</th>\n",
       "      <td>PC</td>\n",
       "      <td>-0.011765</td>\n",
       "      <td>0.282353</td>\n",
       "    </tr>\n",
       "    <tr>\n",
       "      <th>1</th>\n",
       "      <td>Аксессуары</td>\n",
       "      <td>-30.178915</td>\n",
       "      <td>2967.334454</td>\n",
       "    </tr>\n",
       "    <tr>\n",
       "      <th>2</th>\n",
       "      <td>Билеты</td>\n",
       "      <td>30.346066</td>\n",
       "      <td>-105.857143</td>\n",
       "    </tr>\n",
       "    <tr>\n",
       "      <th>3</th>\n",
       "      <td>Доставка</td>\n",
       "      <td>30.085256</td>\n",
       "      <td>29.828571</td>\n",
       "    </tr>\n",
       "    <tr>\n",
       "      <th>4</th>\n",
       "      <td>Игровые</td>\n",
       "      <td>-14.027196</td>\n",
       "      <td>1170.566387</td>\n",
       "    </tr>\n",
       "  </tbody>\n",
       "</table>\n",
       "</div>"
      ],
      "text/plain": [
       "ym    category  intercept        trend\n",
       "0           PC  -0.011765     0.282353\n",
       "1   Аксессуары -30.178915  2967.334454\n",
       "2       Билеты  30.346066  -105.857143\n",
       "3     Доставка  30.085256    29.828571\n",
       "4      Игровые -14.027196  1170.566387"
      ]
     },
     "execution_count": 26,
     "metadata": {},
     "output_type": "execute_result"
    }
   ],
   "source": [
    "volat_city_cat = df[df['ym'] < '2015-11'].pivot_table(values='item_cnt_day', index='category',\n",
    "                                                      columns='ym', aggfunc='sum')\n",
    "\n",
    "vcct = volat_city_cat.T\n",
    "intercept, trend = [], []\n",
    "for cat in vcct.columns:\n",
    "    x = vcct[cat].fillna(0).values\n",
    "    inte, tren = linreg(range(len(x)),x)\n",
    "    intercept.append(inte)\n",
    "    trend.append(tren)\n",
    "volat_city_cat['intercept'] = intercept\n",
    "volat_city_cat['trend'] = trend\n",
    "volat_city = volat_city_cat.reset_index()\n",
    "volat_cat = volat_city[['category', 'intercept', 'trend']]\n",
    "volat_cat.head()"
   ]
  },
  {
   "cell_type": "markdown",
   "metadata": {},
   "source": [
    "### by city"
   ]
  },
  {
   "cell_type": "code",
   "execution_count": 27,
   "metadata": {
    "scrolled": true
   },
   "outputs": [
    {
     "data": {
      "text/html": [
       "<div>\n",
       "<style scoped>\n",
       "    .dataframe tbody tr th:only-of-type {\n",
       "        vertical-align: middle;\n",
       "    }\n",
       "\n",
       "    .dataframe tbody tr th {\n",
       "        vertical-align: top;\n",
       "    }\n",
       "\n",
       "    .dataframe thead th {\n",
       "        text-align: right;\n",
       "    }\n",
       "</style>\n",
       "<table border=\"1\" class=\"dataframe\">\n",
       "  <thead>\n",
       "    <tr style=\"text-align: right;\">\n",
       "      <th>ym</th>\n",
       "      <th>city</th>\n",
       "      <th>intercept</th>\n",
       "      <th>trend</th>\n",
       "    </tr>\n",
       "  </thead>\n",
       "  <tbody>\n",
       "    <tr>\n",
       "      <th>0</th>\n",
       "      <td>!Якутск</td>\n",
       "      <td>-76.874561</td>\n",
       "      <td>1798.312605</td>\n",
       "    </tr>\n",
       "    <tr>\n",
       "      <th>1</th>\n",
       "      <td>Адыгея</td>\n",
       "      <td>2.813904</td>\n",
       "      <td>840.305882</td>\n",
       "    </tr>\n",
       "    <tr>\n",
       "      <th>2</th>\n",
       "      <td>Балашиха</td>\n",
       "      <td>-5.191444</td>\n",
       "      <td>906.600000</td>\n",
       "    </tr>\n",
       "    <tr>\n",
       "      <th>3</th>\n",
       "      <td>Волжский</td>\n",
       "      <td>-26.179832</td>\n",
       "      <td>1708.173109</td>\n",
       "    </tr>\n",
       "    <tr>\n",
       "      <th>4</th>\n",
       "      <td>Вологда</td>\n",
       "      <td>-1.578151</td>\n",
       "      <td>1262.598319</td>\n",
       "    </tr>\n",
       "  </tbody>\n",
       "</table>\n",
       "</div>"
      ],
      "text/plain": [
       "ym      city  intercept        trend\n",
       "0    !Якутск -76.874561  1798.312605\n",
       "1     Адыгея   2.813904   840.305882\n",
       "2   Балашиха  -5.191444   906.600000\n",
       "3   Волжский -26.179832  1708.173109\n",
       "4    Вологда  -1.578151  1262.598319"
      ]
     },
     "execution_count": 27,
     "metadata": {},
     "output_type": "execute_result"
    }
   ],
   "source": [
    "volat_city_cat = df[df['ym'] < '2015-11'].pivot_table(values='item_cnt_day', index='city',\n",
    "                                                      columns='ym', aggfunc='sum')\n",
    "\n",
    "vcct = volat_city_cat.T\n",
    "intercept, trend = [], []\n",
    "for cat in vcct.columns:\n",
    "    x = vcct[cat].fillna(0).values\n",
    "    inte, tren = linreg(range(len(x)),x)\n",
    "    intercept.append(inte)\n",
    "    trend.append(tren)\n",
    "volat_city_cat['intercept'] = intercept\n",
    "volat_city_cat['trend'] = trend\n",
    "volat_city = volat_city_cat.reset_index()\n",
    "volat_city = volat_city[['city', 'intercept', 'trend']]\n",
    "volat_city.head()"
   ]
  },
  {
   "cell_type": "code",
   "execution_count": null,
   "metadata": {},
   "outputs": [],
   "source": []
  },
  {
   "cell_type": "markdown",
   "metadata": {},
   "source": [
    "### Coefficients for caterories by months"
   ]
  },
  {
   "cell_type": "code",
   "execution_count": 42,
   "metadata": {},
   "outputs": [
    {
     "data": {
      "text/html": [
       "<div>\n",
       "<style scoped>\n",
       "    .dataframe tbody tr th:only-of-type {\n",
       "        vertical-align: middle;\n",
       "    }\n",
       "\n",
       "    .dataframe tbody tr th {\n",
       "        vertical-align: top;\n",
       "    }\n",
       "\n",
       "    .dataframe thead th {\n",
       "        text-align: right;\n",
       "    }\n",
       "</style>\n",
       "<table border=\"1\" class=\"dataframe\">\n",
       "  <thead>\n",
       "    <tr style=\"text-align: right;\">\n",
       "      <th></th>\n",
       "      <th>category</th>\n",
       "      <th>m1413_1</th>\n",
       "      <th>m1513_1</th>\n",
       "      <th>m1514_1</th>\n",
       "      <th>m1413_2</th>\n",
       "      <th>m1513_2</th>\n",
       "      <th>m1514_2</th>\n",
       "      <th>m1413_3</th>\n",
       "      <th>m1513_3</th>\n",
       "      <th>m1514_3</th>\n",
       "      <th>...</th>\n",
       "      <th>m1413_10</th>\n",
       "      <th>m1513_10</th>\n",
       "      <th>m1514_10</th>\n",
       "      <th>m1413_11</th>\n",
       "      <th>m1513_11</th>\n",
       "      <th>m1514_11</th>\n",
       "      <th>m1413_12</th>\n",
       "      <th>m1513_12</th>\n",
       "      <th>m1514_12</th>\n",
       "      <th>coef</th>\n",
       "    </tr>\n",
       "  </thead>\n",
       "  <tbody>\n",
       "    <tr>\n",
       "      <th>0</th>\n",
       "      <td>Кино</td>\n",
       "      <td>0.727644</td>\n",
       "      <td>0.445400</td>\n",
       "      <td>0.612112</td>\n",
       "      <td>0.663644</td>\n",
       "      <td>0.421585</td>\n",
       "      <td>0.635257</td>\n",
       "      <td>0.632290</td>\n",
       "      <td>0.416083</td>\n",
       "      <td>0.658057</td>\n",
       "      <td>...</td>\n",
       "      <td>0.612251</td>\n",
       "      <td>0.397895</td>\n",
       "      <td>0.649887</td>\n",
       "      <td>0.726847</td>\n",
       "      <td>0.167624</td>\n",
       "      <td>0.230619</td>\n",
       "      <td>0.723343</td>\n",
       "      <td>0.113831</td>\n",
       "      <td>0.157367</td>\n",
       "      <td>0.592802</td>\n",
       "    </tr>\n",
       "    <tr>\n",
       "      <th>1</th>\n",
       "      <td>Подарки</td>\n",
       "      <td>1.379038</td>\n",
       "      <td>1.363223</td>\n",
       "      <td>0.988532</td>\n",
       "      <td>1.335061</td>\n",
       "      <td>1.180099</td>\n",
       "      <td>0.883930</td>\n",
       "      <td>1.485549</td>\n",
       "      <td>1.105115</td>\n",
       "      <td>0.743910</td>\n",
       "      <td>...</td>\n",
       "      <td>1.003649</td>\n",
       "      <td>0.776974</td>\n",
       "      <td>0.774149</td>\n",
       "      <td>1.232885</td>\n",
       "      <td>0.310621</td>\n",
       "      <td>0.251946</td>\n",
       "      <td>1.145051</td>\n",
       "      <td>0.119039</td>\n",
       "      <td>0.103959</td>\n",
       "      <td>0.788778</td>\n",
       "    </tr>\n",
       "    <tr>\n",
       "      <th>2</th>\n",
       "      <td>Игры</td>\n",
       "      <td>0.857115</td>\n",
       "      <td>0.643825</td>\n",
       "      <td>0.751154</td>\n",
       "      <td>0.791983</td>\n",
       "      <td>0.577357</td>\n",
       "      <td>0.729002</td>\n",
       "      <td>0.746818</td>\n",
       "      <td>0.454341</td>\n",
       "      <td>0.608370</td>\n",
       "      <td>...</td>\n",
       "      <td>0.718786</td>\n",
       "      <td>0.495353</td>\n",
       "      <td>0.689151</td>\n",
       "      <td>1.131342</td>\n",
       "      <td>0.204104</td>\n",
       "      <td>0.180409</td>\n",
       "      <td>0.914679</td>\n",
       "      <td>0.107263</td>\n",
       "      <td>0.117269</td>\n",
       "      <td>0.674784</td>\n",
       "    </tr>\n",
       "    <tr>\n",
       "      <th>3</th>\n",
       "      <td>Аксессуары</td>\n",
       "      <td>1.100924</td>\n",
       "      <td>0.762327</td>\n",
       "      <td>0.692442</td>\n",
       "      <td>1.273455</td>\n",
       "      <td>0.676727</td>\n",
       "      <td>0.531411</td>\n",
       "      <td>1.036562</td>\n",
       "      <td>0.645274</td>\n",
       "      <td>0.622514</td>\n",
       "      <td>...</td>\n",
       "      <td>0.933202</td>\n",
       "      <td>0.609486</td>\n",
       "      <td>0.653113</td>\n",
       "      <td>0.928983</td>\n",
       "      <td>0.225720</td>\n",
       "      <td>0.242975</td>\n",
       "      <td>0.961829</td>\n",
       "      <td>0.078344</td>\n",
       "      <td>0.081453</td>\n",
       "      <td>0.615478</td>\n",
       "    </tr>\n",
       "    <tr>\n",
       "      <th>4</th>\n",
       "      <td>Игровые</td>\n",
       "      <td>1.316736</td>\n",
       "      <td>0.900415</td>\n",
       "      <td>0.683824</td>\n",
       "      <td>1.856749</td>\n",
       "      <td>0.611570</td>\n",
       "      <td>0.329377</td>\n",
       "      <td>1.914729</td>\n",
       "      <td>0.662016</td>\n",
       "      <td>0.345749</td>\n",
       "      <td>...</td>\n",
       "      <td>1.183673</td>\n",
       "      <td>0.423129</td>\n",
       "      <td>0.357471</td>\n",
       "      <td>0.517065</td>\n",
       "      <td>0.056741</td>\n",
       "      <td>0.109736</td>\n",
       "      <td>0.917476</td>\n",
       "      <td>0.026271</td>\n",
       "      <td>0.028634</td>\n",
       "      <td>0.333439</td>\n",
       "    </tr>\n",
       "    <tr>\n",
       "      <th>5</th>\n",
       "      <td>Музыка</td>\n",
       "      <td>0.780484</td>\n",
       "      <td>0.595142</td>\n",
       "      <td>0.762529</td>\n",
       "      <td>0.738820</td>\n",
       "      <td>0.541728</td>\n",
       "      <td>0.733235</td>\n",
       "      <td>0.768918</td>\n",
       "      <td>0.550469</td>\n",
       "      <td>0.715901</td>\n",
       "      <td>...</td>\n",
       "      <td>0.711355</td>\n",
       "      <td>0.464989</td>\n",
       "      <td>0.653666</td>\n",
       "      <td>0.904467</td>\n",
       "      <td>0.199403</td>\n",
       "      <td>0.220465</td>\n",
       "      <td>0.849058</td>\n",
       "      <td>0.122719</td>\n",
       "      <td>0.144536</td>\n",
       "      <td>0.651036</td>\n",
       "    </tr>\n",
       "    <tr>\n",
       "      <th>6</th>\n",
       "      <td>Служебные</td>\n",
       "      <td>1.659259</td>\n",
       "      <td>7.703704</td>\n",
       "      <td>4.642857</td>\n",
       "      <td>2.109091</td>\n",
       "      <td>7.745455</td>\n",
       "      <td>3.672414</td>\n",
       "      <td>0.938053</td>\n",
       "      <td>4.641593</td>\n",
       "      <td>4.948113</td>\n",
       "      <td>...</td>\n",
       "      <td>12.968254</td>\n",
       "      <td>9.952381</td>\n",
       "      <td>0.767442</td>\n",
       "      <td>20.061538</td>\n",
       "      <td>5.615385</td>\n",
       "      <td>0.279908</td>\n",
       "      <td>18.954023</td>\n",
       "      <td>3.850575</td>\n",
       "      <td>0.203153</td>\n",
       "      <td>3.000547</td>\n",
       "    </tr>\n",
       "    <tr>\n",
       "      <th>7</th>\n",
       "      <td>Программы</td>\n",
       "      <td>0.721460</td>\n",
       "      <td>0.499562</td>\n",
       "      <td>0.692432</td>\n",
       "      <td>0.639585</td>\n",
       "      <td>0.431288</td>\n",
       "      <td>0.674324</td>\n",
       "      <td>0.617130</td>\n",
       "      <td>0.424844</td>\n",
       "      <td>0.688419</td>\n",
       "      <td>...</td>\n",
       "      <td>0.685141</td>\n",
       "      <td>0.436926</td>\n",
       "      <td>0.637717</td>\n",
       "      <td>0.742297</td>\n",
       "      <td>0.169818</td>\n",
       "      <td>0.228774</td>\n",
       "      <td>0.762242</td>\n",
       "      <td>0.138589</td>\n",
       "      <td>0.181818</td>\n",
       "      <td>0.644828</td>\n",
       "    </tr>\n",
       "    <tr>\n",
       "      <th>8</th>\n",
       "      <td>Книги</td>\n",
       "      <td>0.778643</td>\n",
       "      <td>0.678161</td>\n",
       "      <td>0.870952</td>\n",
       "      <td>0.804041</td>\n",
       "      <td>0.740374</td>\n",
       "      <td>0.920816</td>\n",
       "      <td>0.757044</td>\n",
       "      <td>0.822539</td>\n",
       "      <td>1.086515</td>\n",
       "      <td>...</td>\n",
       "      <td>0.828246</td>\n",
       "      <td>1.686105</td>\n",
       "      <td>2.035754</td>\n",
       "      <td>0.826507</td>\n",
       "      <td>0.390704</td>\n",
       "      <td>0.472717</td>\n",
       "      <td>0.741532</td>\n",
       "      <td>0.223490</td>\n",
       "      <td>0.301390</td>\n",
       "      <td>1.205768</td>\n",
       "    </tr>\n",
       "    <tr>\n",
       "      <th>9</th>\n",
       "      <td>Чистые</td>\n",
       "      <td>0.071371</td>\n",
       "      <td>0.040552</td>\n",
       "      <td>0.568182</td>\n",
       "      <td>0.061154</td>\n",
       "      <td>NaN</td>\n",
       "      <td>NaN</td>\n",
       "      <td>0.084095</td>\n",
       "      <td>0.000914</td>\n",
       "      <td>0.010870</td>\n",
       "      <td>...</td>\n",
       "      <td>0.047782</td>\n",
       "      <td>NaN</td>\n",
       "      <td>NaN</td>\n",
       "      <td>0.060543</td>\n",
       "      <td>NaN</td>\n",
       "      <td>NaN</td>\n",
       "      <td>0.026608</td>\n",
       "      <td>NaN</td>\n",
       "      <td>NaN</td>\n",
       "      <td>0.289526</td>\n",
       "    </tr>\n",
       "    <tr>\n",
       "      <th>10</th>\n",
       "      <td>Элементы</td>\n",
       "      <td>0.154362</td>\n",
       "      <td>0.635906</td>\n",
       "      <td>4.119565</td>\n",
       "      <td>0.213037</td>\n",
       "      <td>0.620032</td>\n",
       "      <td>2.910448</td>\n",
       "      <td>0.131148</td>\n",
       "      <td>0.804918</td>\n",
       "      <td>6.137500</td>\n",
       "      <td>...</td>\n",
       "      <td>0.946768</td>\n",
       "      <td>1.171103</td>\n",
       "      <td>1.236948</td>\n",
       "      <td>0.923358</td>\n",
       "      <td>0.302920</td>\n",
       "      <td>0.328063</td>\n",
       "      <td>1.624691</td>\n",
       "      <td>0.217284</td>\n",
       "      <td>0.133739</td>\n",
       "      <td>2.629748</td>\n",
       "    </tr>\n",
       "    <tr>\n",
       "      <th>11</th>\n",
       "      <td>Карты</td>\n",
       "      <td>2.378082</td>\n",
       "      <td>3.198630</td>\n",
       "      <td>1.345046</td>\n",
       "      <td>2.271116</td>\n",
       "      <td>1.948905</td>\n",
       "      <td>0.858127</td>\n",
       "      <td>2.075026</td>\n",
       "      <td>1.831449</td>\n",
       "      <td>0.882615</td>\n",
       "      <td>...</td>\n",
       "      <td>1.884044</td>\n",
       "      <td>1.202180</td>\n",
       "      <td>0.638085</td>\n",
       "      <td>1.697183</td>\n",
       "      <td>0.427230</td>\n",
       "      <td>0.251729</td>\n",
       "      <td>1.456619</td>\n",
       "      <td>0.189177</td>\n",
       "      <td>0.129874</td>\n",
       "      <td>0.748095</td>\n",
       "    </tr>\n",
       "    <tr>\n",
       "      <th>12</th>\n",
       "      <td>Доставка</td>\n",
       "      <td>1.672043</td>\n",
       "      <td>2.677419</td>\n",
       "      <td>1.601286</td>\n",
       "      <td>2.333333</td>\n",
       "      <td>2.860000</td>\n",
       "      <td>1.225714</td>\n",
       "      <td>3.917874</td>\n",
       "      <td>2.777778</td>\n",
       "      <td>0.709001</td>\n",
       "      <td>...</td>\n",
       "      <td>1.398496</td>\n",
       "      <td>9.428571</td>\n",
       "      <td>6.741935</td>\n",
       "      <td>1.286579</td>\n",
       "      <td>0.118063</td>\n",
       "      <td>0.091765</td>\n",
       "      <td>2.938628</td>\n",
       "      <td>0.393502</td>\n",
       "      <td>0.133907</td>\n",
       "      <td>2.231043</td>\n",
       "    </tr>\n",
       "    <tr>\n",
       "      <th>13</th>\n",
       "      <td>PC</td>\n",
       "      <td>NaN</td>\n",
       "      <td>NaN</td>\n",
       "      <td>NaN</td>\n",
       "      <td>NaN</td>\n",
       "      <td>NaN</td>\n",
       "      <td>NaN</td>\n",
       "      <td>NaN</td>\n",
       "      <td>NaN</td>\n",
       "      <td>NaN</td>\n",
       "      <td>...</td>\n",
       "      <td>NaN</td>\n",
       "      <td>NaN</td>\n",
       "      <td>NaN</td>\n",
       "      <td>NaN</td>\n",
       "      <td>NaN</td>\n",
       "      <td>NaN</td>\n",
       "      <td>NaN</td>\n",
       "      <td>NaN</td>\n",
       "      <td>NaN</td>\n",
       "      <td>NaN</td>\n",
       "    </tr>\n",
       "    <tr>\n",
       "      <th>14</th>\n",
       "      <td>Билеты</td>\n",
       "      <td>NaN</td>\n",
       "      <td>NaN</td>\n",
       "      <td>0.100840</td>\n",
       "      <td>NaN</td>\n",
       "      <td>NaN</td>\n",
       "      <td>0.052066</td>\n",
       "      <td>NaN</td>\n",
       "      <td>NaN</td>\n",
       "      <td>1.962963</td>\n",
       "      <td>...</td>\n",
       "      <td>NaN</td>\n",
       "      <td>NaN</td>\n",
       "      <td>0.680000</td>\n",
       "      <td>NaN</td>\n",
       "      <td>NaN</td>\n",
       "      <td>0.380240</td>\n",
       "      <td>NaN</td>\n",
       "      <td>NaN</td>\n",
       "      <td>1.214876</td>\n",
       "      <td>1.497816</td>\n",
       "    </tr>\n",
       "  </tbody>\n",
       "</table>\n",
       "<p>15 rows × 38 columns</p>\n",
       "</div>"
      ],
      "text/plain": [
       "      category   m1413_1   m1513_1   m1514_1   m1413_2   m1513_2   m1514_2  \\\n",
       "0         Кино  0.727644  0.445400  0.612112  0.663644  0.421585  0.635257   \n",
       "1      Подарки  1.379038  1.363223  0.988532  1.335061  1.180099  0.883930   \n",
       "2         Игры  0.857115  0.643825  0.751154  0.791983  0.577357  0.729002   \n",
       "3   Аксессуары  1.100924  0.762327  0.692442  1.273455  0.676727  0.531411   \n",
       "4      Игровые  1.316736  0.900415  0.683824  1.856749  0.611570  0.329377   \n",
       "5       Музыка  0.780484  0.595142  0.762529  0.738820  0.541728  0.733235   \n",
       "6    Служебные  1.659259  7.703704  4.642857  2.109091  7.745455  3.672414   \n",
       "7    Программы  0.721460  0.499562  0.692432  0.639585  0.431288  0.674324   \n",
       "8        Книги  0.778643  0.678161  0.870952  0.804041  0.740374  0.920816   \n",
       "9       Чистые  0.071371  0.040552  0.568182  0.061154       NaN       NaN   \n",
       "10    Элементы  0.154362  0.635906  4.119565  0.213037  0.620032  2.910448   \n",
       "11       Карты  2.378082  3.198630  1.345046  2.271116  1.948905  0.858127   \n",
       "12    Доставка  1.672043  2.677419  1.601286  2.333333  2.860000  1.225714   \n",
       "13          PC       NaN       NaN       NaN       NaN       NaN       NaN   \n",
       "14      Билеты       NaN       NaN  0.100840       NaN       NaN  0.052066   \n",
       "\n",
       "     m1413_3   m1513_3   m1514_3  ...   m1413_10  m1513_10  m1514_10  \\\n",
       "0   0.632290  0.416083  0.658057  ...   0.612251  0.397895  0.649887   \n",
       "1   1.485549  1.105115  0.743910  ...   1.003649  0.776974  0.774149   \n",
       "2   0.746818  0.454341  0.608370  ...   0.718786  0.495353  0.689151   \n",
       "3   1.036562  0.645274  0.622514  ...   0.933202  0.609486  0.653113   \n",
       "4   1.914729  0.662016  0.345749  ...   1.183673  0.423129  0.357471   \n",
       "5   0.768918  0.550469  0.715901  ...   0.711355  0.464989  0.653666   \n",
       "6   0.938053  4.641593  4.948113  ...  12.968254  9.952381  0.767442   \n",
       "7   0.617130  0.424844  0.688419  ...   0.685141  0.436926  0.637717   \n",
       "8   0.757044  0.822539  1.086515  ...   0.828246  1.686105  2.035754   \n",
       "9   0.084095  0.000914  0.010870  ...   0.047782       NaN       NaN   \n",
       "10  0.131148  0.804918  6.137500  ...   0.946768  1.171103  1.236948   \n",
       "11  2.075026  1.831449  0.882615  ...   1.884044  1.202180  0.638085   \n",
       "12  3.917874  2.777778  0.709001  ...   1.398496  9.428571  6.741935   \n",
       "13       NaN       NaN       NaN  ...        NaN       NaN       NaN   \n",
       "14       NaN       NaN  1.962963  ...        NaN       NaN  0.680000   \n",
       "\n",
       "     m1413_11  m1513_11  m1514_11   m1413_12  m1513_12  m1514_12      coef  \n",
       "0    0.726847  0.167624  0.230619   0.723343  0.113831  0.157367  0.592802  \n",
       "1    1.232885  0.310621  0.251946   1.145051  0.119039  0.103959  0.788778  \n",
       "2    1.131342  0.204104  0.180409   0.914679  0.107263  0.117269  0.674784  \n",
       "3    0.928983  0.225720  0.242975   0.961829  0.078344  0.081453  0.615478  \n",
       "4    0.517065  0.056741  0.109736   0.917476  0.026271  0.028634  0.333439  \n",
       "5    0.904467  0.199403  0.220465   0.849058  0.122719  0.144536  0.651036  \n",
       "6   20.061538  5.615385  0.279908  18.954023  3.850575  0.203153  3.000547  \n",
       "7    0.742297  0.169818  0.228774   0.762242  0.138589  0.181818  0.644828  \n",
       "8    0.826507  0.390704  0.472717   0.741532  0.223490  0.301390  1.205768  \n",
       "9    0.060543       NaN       NaN   0.026608       NaN       NaN  0.289526  \n",
       "10   0.923358  0.302920  0.328063   1.624691  0.217284  0.133739  2.629748  \n",
       "11   1.697183  0.427230  0.251729   1.456619  0.189177  0.129874  0.748095  \n",
       "12   1.286579  0.118063  0.091765   2.938628  0.393502  0.133907  2.231043  \n",
       "13        NaN       NaN       NaN        NaN       NaN       NaN       NaN  \n",
       "14        NaN       NaN  0.380240        NaN       NaN  1.214876  1.497816  \n",
       "\n",
       "[15 rows x 38 columns]"
      ]
     },
     "execution_count": 42,
     "metadata": {},
     "output_type": "execute_result"
    }
   ],
   "source": [
    "tbm = df.pivot_table(values='item_cnt_day', index='category',\n",
    "                                                      columns='ym', aggfunc='sum')\n",
    "\n",
    "list_cols = tbm.columns.tolist()\n",
    "coef = pd.DataFrame(index=df.category.unique().tolist()).reset_index()\n",
    "coef.columns = ['category']\n",
    "\n",
    "for i in range(12):\n",
    "    month = pd.DataFrame([tbm[list_cols[i]].T, tbm[list_cols[i + 12]].T,  tbm[list_cols[i + 24]].T])\n",
    "    month['sum'] = month.fillna(0).sum(axis=1)\n",
    "    month = month.T\n",
    "    month['m1413_' + str(i + 1)] = month[list_cols[i + 12]] / month[list_cols[i]]\n",
    "    month['m1513_' + str(i + 1)] = month[list_cols[i + 24]] / month[list_cols[i]]\n",
    "    month['m1514_' + str(i + 1)] = month[list_cols[i + 24]] / month[list_cols[i + 12]]\n",
    "    month = month[['m1413_' + str(i + 1), 'm1513_' + str(i + 1), 'm1514_' + str(i + 1)]]\n",
    "    month = month.reset_index()             \n",
    "    coef = coef.merge(month, on='category')\n",
    "\n",
    "coef['coef'] = coef[['category', 'm1514_1', 'm1514_2', 'm1514_3', 'm1514_4', 'm1514_5', 'm1514_6',\n",
    "'m1514_7', 'm1514_8', 'm1514_9', 'm1514_10']].mean(axis=1)\n",
    "\n",
    "coef"
   ]
  },
  {
   "cell_type": "markdown",
   "metadata": {},
   "source": [
    "### Creating TSNE features for categories"
   ]
  },
  {
   "cell_type": "code",
   "execution_count": 47,
   "metadata": {},
   "outputs": [
    {
     "data": {
      "text/html": [
       "<div>\n",
       "<style scoped>\n",
       "    .dataframe tbody tr th:only-of-type {\n",
       "        vertical-align: middle;\n",
       "    }\n",
       "\n",
       "    .dataframe tbody tr th {\n",
       "        vertical-align: top;\n",
       "    }\n",
       "\n",
       "    .dataframe thead th {\n",
       "        text-align: right;\n",
       "    }\n",
       "</style>\n",
       "<table border=\"1\" class=\"dataframe\">\n",
       "  <thead>\n",
       "    <tr style=\"text-align: right;\">\n",
       "      <th></th>\n",
       "      <th>category</th>\n",
       "      <th>cat_tsne_1</th>\n",
       "      <th>cat_tsne_2</th>\n",
       "      <th>cat_coef</th>\n",
       "    </tr>\n",
       "  </thead>\n",
       "  <tbody>\n",
       "    <tr>\n",
       "      <th>0</th>\n",
       "      <td>Кино</td>\n",
       "      <td>-287.111359</td>\n",
       "      <td>-780.955139</td>\n",
       "      <td>0.592802</td>\n",
       "    </tr>\n",
       "    <tr>\n",
       "      <th>1</th>\n",
       "      <td>Подарки</td>\n",
       "      <td>-186.973282</td>\n",
       "      <td>-398.410675</td>\n",
       "      <td>0.788778</td>\n",
       "    </tr>\n",
       "    <tr>\n",
       "      <th>2</th>\n",
       "      <td>Игры</td>\n",
       "      <td>-374.344421</td>\n",
       "      <td>-80.017181</td>\n",
       "      <td>0.674784</td>\n",
       "    </tr>\n",
       "    <tr>\n",
       "      <th>3</th>\n",
       "      <td>Аксессуары</td>\n",
       "      <td>163.454041</td>\n",
       "      <td>-645.948792</td>\n",
       "      <td>0.615478</td>\n",
       "    </tr>\n",
       "    <tr>\n",
       "      <th>4</th>\n",
       "      <td>Игровые</td>\n",
       "      <td>451.956848</td>\n",
       "      <td>-354.274139</td>\n",
       "      <td>0.333439</td>\n",
       "    </tr>\n",
       "  </tbody>\n",
       "</table>\n",
       "</div>"
      ],
      "text/plain": [
       "     category  cat_tsne_1  cat_tsne_2  cat_coef\n",
       "0        Кино -287.111359 -780.955139  0.592802\n",
       "1     Подарки -186.973282 -398.410675  0.788778\n",
       "2        Игры -374.344421  -80.017181  0.674784\n",
       "3  Аксессуары  163.454041 -645.948792  0.615478\n",
       "4     Игровые  451.956848 -354.274139  0.333439"
      ]
     },
     "execution_count": 47,
     "metadata": {},
     "output_type": "execute_result"
    }
   ],
   "source": [
    "import numpy as np\n",
    "from sklearn.manifold import TSNE\n",
    "X_embedded = TSNE(n_components=2).fit_transform(coef[coef.columns[1:-1]].fillna(0))\n",
    "\n",
    "cat_tsne = pd.DataFrame(X_embedded, index=coef['category']).reset_index()\n",
    "cat_tsne['coef'] = coef['coef']\n",
    "cat_tsne.columns = 'category', 'cat_tsne_1', 'cat_tsne_2', 'cat_coef'\n",
    "cat_tsne.head()"
   ]
  },
  {
   "cell_type": "markdown",
   "metadata": {},
   "source": [
    "###  Coefficients for city by months"
   ]
  },
  {
   "cell_type": "code",
   "execution_count": 28,
   "metadata": {
    "scrolled": true
   },
   "outputs": [
    {
     "data": {
      "text/html": [
       "<div>\n",
       "<style scoped>\n",
       "    .dataframe tbody tr th:only-of-type {\n",
       "        vertical-align: middle;\n",
       "    }\n",
       "\n",
       "    .dataframe tbody tr th {\n",
       "        vertical-align: top;\n",
       "    }\n",
       "\n",
       "    .dataframe thead th {\n",
       "        text-align: right;\n",
       "    }\n",
       "</style>\n",
       "<table border=\"1\" class=\"dataframe\">\n",
       "  <thead>\n",
       "    <tr style=\"text-align: right;\">\n",
       "      <th></th>\n",
       "      <th>city</th>\n",
       "      <th>m1413_1</th>\n",
       "      <th>m1513_1</th>\n",
       "      <th>m1514_1</th>\n",
       "      <th>m1413_2</th>\n",
       "      <th>m1513_2</th>\n",
       "      <th>m1514_2</th>\n",
       "      <th>m1413_3</th>\n",
       "      <th>m1513_3</th>\n",
       "      <th>m1514_3</th>\n",
       "      <th>...</th>\n",
       "      <th>m1413_10</th>\n",
       "      <th>m1513_10</th>\n",
       "      <th>m1514_10</th>\n",
       "      <th>m1413_11</th>\n",
       "      <th>m1513_11</th>\n",
       "      <th>m1514_11</th>\n",
       "      <th>m1413_12</th>\n",
       "      <th>m1513_12</th>\n",
       "      <th>m1514_12</th>\n",
       "      <th>coef</th>\n",
       "    </tr>\n",
       "  </thead>\n",
       "  <tbody>\n",
       "    <tr>\n",
       "      <th>0</th>\n",
       "      <td>Адыгея</td>\n",
       "      <td>0.955882</td>\n",
       "      <td>0.994652</td>\n",
       "      <td>1.040559</td>\n",
       "      <td>1.220222</td>\n",
       "      <td>1.277008</td>\n",
       "      <td>1.046538</td>\n",
       "      <td>1.198538</td>\n",
       "      <td>0.942753</td>\n",
       "      <td>0.786585</td>\n",
       "      <td>...</td>\n",
       "      <td>1.094268</td>\n",
       "      <td>0.937580</td>\n",
       "      <td>0.856810</td>\n",
       "      <td>1.449204</td>\n",
       "      <td>0.323133</td>\n",
       "      <td>0.222973</td>\n",
       "      <td>1.433005</td>\n",
       "      <td>0.156699</td>\n",
       "      <td>0.109350</td>\n",
       "      <td>0.879063</td>\n",
       "    </tr>\n",
       "    <tr>\n",
       "      <th>1</th>\n",
       "      <td>Воронеж</td>\n",
       "      <td>0.767345</td>\n",
       "      <td>0.524756</td>\n",
       "      <td>0.683859</td>\n",
       "      <td>0.710752</td>\n",
       "      <td>0.485941</td>\n",
       "      <td>0.683700</td>\n",
       "      <td>0.636160</td>\n",
       "      <td>0.415478</td>\n",
       "      <td>0.653104</td>\n",
       "      <td>...</td>\n",
       "      <td>0.672101</td>\n",
       "      <td>0.475132</td>\n",
       "      <td>0.706935</td>\n",
       "      <td>0.931149</td>\n",
       "      <td>0.177295</td>\n",
       "      <td>0.190405</td>\n",
       "      <td>0.814871</td>\n",
       "      <td>0.099610</td>\n",
       "      <td>0.122240</td>\n",
       "      <td>0.658752</td>\n",
       "    </tr>\n",
       "    <tr>\n",
       "      <th>2</th>\n",
       "      <td>Казань</td>\n",
       "      <td>0.821853</td>\n",
       "      <td>0.351940</td>\n",
       "      <td>0.428227</td>\n",
       "      <td>0.702353</td>\n",
       "      <td>0.342994</td>\n",
       "      <td>0.488350</td>\n",
       "      <td>0.663100</td>\n",
       "      <td>0.295071</td>\n",
       "      <td>0.444988</td>\n",
       "      <td>...</td>\n",
       "      <td>0.471429</td>\n",
       "      <td>0.390873</td>\n",
       "      <td>0.829125</td>\n",
       "      <td>0.732879</td>\n",
       "      <td>0.126151</td>\n",
       "      <td>0.172131</td>\n",
       "      <td>0.580261</td>\n",
       "      <td>0.079410</td>\n",
       "      <td>0.136852</td>\n",
       "      <td>0.553148</td>\n",
       "    </tr>\n",
       "    <tr>\n",
       "      <th>3</th>\n",
       "      <td>Калуга</td>\n",
       "      <td>0.922652</td>\n",
       "      <td>0.597110</td>\n",
       "      <td>0.647167</td>\n",
       "      <td>0.798621</td>\n",
       "      <td>0.515602</td>\n",
       "      <td>0.645616</td>\n",
       "      <td>0.716830</td>\n",
       "      <td>0.501636</td>\n",
       "      <td>0.699797</td>\n",
       "      <td>...</td>\n",
       "      <td>0.649151</td>\n",
       "      <td>0.482813</td>\n",
       "      <td>0.743761</td>\n",
       "      <td>0.945500</td>\n",
       "      <td>0.171759</td>\n",
       "      <td>0.181659</td>\n",
       "      <td>0.673898</td>\n",
       "      <td>0.132280</td>\n",
       "      <td>0.196291</td>\n",
       "      <td>0.673663</td>\n",
       "    </tr>\n",
       "    <tr>\n",
       "      <th>4</th>\n",
       "      <td>Красноярск</td>\n",
       "      <td>1.082545</td>\n",
       "      <td>0.501818</td>\n",
       "      <td>0.463554</td>\n",
       "      <td>0.874931</td>\n",
       "      <td>0.388213</td>\n",
       "      <td>0.443707</td>\n",
       "      <td>0.862469</td>\n",
       "      <td>0.373654</td>\n",
       "      <td>0.433237</td>\n",
       "      <td>...</td>\n",
       "      <td>0.584818</td>\n",
       "      <td>0.332263</td>\n",
       "      <td>0.568148</td>\n",
       "      <td>0.813799</td>\n",
       "      <td>0.144630</td>\n",
       "      <td>0.177723</td>\n",
       "      <td>0.667781</td>\n",
       "      <td>0.071089</td>\n",
       "      <td>0.106456</td>\n",
       "      <td>0.476135</td>\n",
       "    </tr>\n",
       "  </tbody>\n",
       "</table>\n",
       "<p>5 rows × 38 columns</p>\n",
       "</div>"
      ],
      "text/plain": [
       "         city   m1413_1   m1513_1   m1514_1   m1413_2   m1513_2   m1514_2  \\\n",
       "0      Адыгея  0.955882  0.994652  1.040559  1.220222  1.277008  1.046538   \n",
       "1     Воронеж  0.767345  0.524756  0.683859  0.710752  0.485941  0.683700   \n",
       "2      Казань  0.821853  0.351940  0.428227  0.702353  0.342994  0.488350   \n",
       "3      Калуга  0.922652  0.597110  0.647167  0.798621  0.515602  0.645616   \n",
       "4  Красноярск  1.082545  0.501818  0.463554  0.874931  0.388213  0.443707   \n",
       "\n",
       "    m1413_3   m1513_3   m1514_3  ...  m1413_10  m1513_10  m1514_10  m1413_11  \\\n",
       "0  1.198538  0.942753  0.786585  ...  1.094268  0.937580  0.856810  1.449204   \n",
       "1  0.636160  0.415478  0.653104  ...  0.672101  0.475132  0.706935  0.931149   \n",
       "2  0.663100  0.295071  0.444988  ...  0.471429  0.390873  0.829125  0.732879   \n",
       "3  0.716830  0.501636  0.699797  ...  0.649151  0.482813  0.743761  0.945500   \n",
       "4  0.862469  0.373654  0.433237  ...  0.584818  0.332263  0.568148  0.813799   \n",
       "\n",
       "   m1513_11  m1514_11  m1413_12  m1513_12  m1514_12      coef  \n",
       "0  0.323133  0.222973  1.433005  0.156699  0.109350  0.879063  \n",
       "1  0.177295  0.190405  0.814871  0.099610  0.122240  0.658752  \n",
       "2  0.126151  0.172131  0.580261  0.079410  0.136852  0.553148  \n",
       "3  0.171759  0.181659  0.673898  0.132280  0.196291  0.673663  \n",
       "4  0.144630  0.177723  0.667781  0.071089  0.106456  0.476135  \n",
       "\n",
       "[5 rows x 38 columns]"
      ]
     },
     "execution_count": 28,
     "metadata": {},
     "output_type": "execute_result"
    }
   ],
   "source": [
    "tbm = df.pivot_table(values='item_cnt_day', index='city',\n",
    "                                                      columns='ym', aggfunc='sum')\n",
    "\n",
    "list_cols = tbm.columns.tolist()\n",
    "coef2 = pd.DataFrame(index=df.city.unique().tolist()).reset_index()\n",
    "coef2.columns = ['city']\n",
    "\n",
    "for i in range(12):\n",
    "    month = pd.DataFrame([tbm[list_cols[i]].T, tbm[list_cols[i + 12]].T,  tbm[list_cols[i + 24]].T])\n",
    "    month['sum'] = month.fillna(0).sum(axis=1)\n",
    "    month = month.T\n",
    "    month['m1413_' + str(i + 1)] = month[list_cols[i + 12]] / month[list_cols[i]]\n",
    "    month['m1513_' + str(i + 1)] = month[list_cols[i + 24]] / month[list_cols[i]]\n",
    "    month['m1514_' + str(i + 1)] = month[list_cols[i + 24]] / month[list_cols[i + 12]]\n",
    "    month = month[['m1413_' + str(i + 1), 'm1513_' + str(i + 1), 'm1514_' + str(i + 1)]]\n",
    "    month = month.reset_index()             \n",
    "    coef2 = coef2.merge(month, on='city')\n",
    "\n",
    "coef2['coef'] = coef2[['city', 'm1514_1', 'm1514_2', 'm1514_3', 'm1514_4', 'm1514_5', 'm1514_6',\n",
    "'m1514_7', 'm1514_8', 'm1514_9', 'm1514_10']].mean(axis=1)\n",
    "\n",
    "coef2.head()"
   ]
  },
  {
   "cell_type": "markdown",
   "metadata": {},
   "source": [
    "### Creating TSNE features for cities"
   ]
  },
  {
   "cell_type": "code",
   "execution_count": 48,
   "metadata": {},
   "outputs": [
    {
     "data": {
      "text/html": [
       "<div>\n",
       "<style scoped>\n",
       "    .dataframe tbody tr th:only-of-type {\n",
       "        vertical-align: middle;\n",
       "    }\n",
       "\n",
       "    .dataframe tbody tr th {\n",
       "        vertical-align: top;\n",
       "    }\n",
       "\n",
       "    .dataframe thead th {\n",
       "        text-align: right;\n",
       "    }\n",
       "</style>\n",
       "<table border=\"1\" class=\"dataframe\">\n",
       "  <thead>\n",
       "    <tr style=\"text-align: right;\">\n",
       "      <th></th>\n",
       "      <th>city</th>\n",
       "      <th>city_tsne_1</th>\n",
       "      <th>city_tsne_2</th>\n",
       "      <th>city_coef</th>\n",
       "    </tr>\n",
       "  </thead>\n",
       "  <tbody>\n",
       "    <tr>\n",
       "      <th>0</th>\n",
       "      <td>Адыгея</td>\n",
       "      <td>44.890167</td>\n",
       "      <td>0.165221</td>\n",
       "      <td>0.879063</td>\n",
       "    </tr>\n",
       "    <tr>\n",
       "      <th>1</th>\n",
       "      <td>Воронеж</td>\n",
       "      <td>-94.409492</td>\n",
       "      <td>-94.738304</td>\n",
       "      <td>0.658752</td>\n",
       "    </tr>\n",
       "    <tr>\n",
       "      <th>2</th>\n",
       "      <td>Казань</td>\n",
       "      <td>11.896095</td>\n",
       "      <td>35.510094</td>\n",
       "      <td>0.553148</td>\n",
       "    </tr>\n",
       "    <tr>\n",
       "      <th>3</th>\n",
       "      <td>Калуга</td>\n",
       "      <td>-11.180707</td>\n",
       "      <td>119.135048</td>\n",
       "      <td>0.673663</td>\n",
       "    </tr>\n",
       "    <tr>\n",
       "      <th>4</th>\n",
       "      <td>Красноярск</td>\n",
       "      <td>25.624502</td>\n",
       "      <td>83.182327</td>\n",
       "      <td>0.476135</td>\n",
       "    </tr>\n",
       "  </tbody>\n",
       "</table>\n",
       "</div>"
      ],
      "text/plain": [
       "         city  city_tsne_1  city_tsne_2  city_coef\n",
       "0      Адыгея    44.890167     0.165221   0.879063\n",
       "1     Воронеж   -94.409492   -94.738304   0.658752\n",
       "2      Казань    11.896095    35.510094   0.553148\n",
       "3      Калуга   -11.180707   119.135048   0.673663\n",
       "4  Красноярск    25.624502    83.182327   0.476135"
      ]
     },
     "execution_count": 48,
     "metadata": {},
     "output_type": "execute_result"
    }
   ],
   "source": [
    "import numpy as np\n",
    "from sklearn.manifold import TSNE\n",
    "X_embedded = TSNE(n_components=2).fit_transform(coef2[coef2.columns[1:-1]].fillna(0))\n",
    "\n",
    "citi_tsne = pd.DataFrame(X_embedded, index=coef2['city']).reset_index()\n",
    "citi_tsne['coef'] = coef2['coef']\n",
    "citi_tsne.columns = 'city', 'city_tsne_1', 'city_tsne_2', 'city_coef'\n",
    "citi_tsne.head()"
   ]
  },
  {
   "cell_type": "code",
   "execution_count": 410,
   "metadata": {},
   "outputs": [
    {
     "data": {
      "image/png": "[encoded data removed]",
      "text/plain": [
       "<Figure size 432x288 with 1 Axes>"
      ]
     },
     "metadata": {},
     "output_type": "display_data"
    }
   ],
   "source": []
  },
  {
   "cell_type": "code",
   "execution_count": 325,
   "metadata": {},
   "outputs": [],
   "source": [
    "del df2"
   ]
  },
  {
   "cell_type": "code",
   "execution_count": 326,
   "metadata": {},
   "outputs": [
    {
     "data": {
      "text/plain": [
       "0"
      ]
     },
     "execution_count": 326,
     "metadata": {},
     "output_type": "execute_result"
    }
   ],
   "source": [
    "import gc\n",
    "gc.collect()"
   ]
  },
  {
   "cell_type": "markdown",
   "metadata": {},
   "source": [
    "### Stack all dataset "
   ]
  },
  {
   "cell_type": "code",
   "execution_count": 31,
   "metadata": {},
   "outputs": [],
   "source": [
    "item_categories = pd.read_csv('item_categories.csv')\n",
    "items = pd.read_csv('items.csv')\n",
    "shops = pd.read_csv('shops.csv')"
   ]
  },
  {
   "cell_type": "code",
   "execution_count": 37,
   "metadata": {},
   "outputs": [],
   "source": [
    "item_categories['category'] = item_categories['item_category_name'].apply(lambda x: x.split(' ')[0])#.unique()\n",
    "shops['city'] = shops['shop_name'].apply(lambda x: x.split(' ')[0])"
   ]
  },
  {
   "cell_type": "code",
   "execution_count": 39,
   "metadata": {
    "scrolled": true
   },
   "outputs": [],
   "source": [
    "shops = shops.drop('shop_name', axis=1)"
   ]
  },
  {
   "cell_type": "code",
   "execution_count": 45,
   "metadata": {},
   "outputs": [],
   "source": [
    "ms = market_share.merge(item_categories)\n",
    "ms = ms.merge(shops)"
   ]
  },
  {
   "cell_type": "code",
   "execution_count": 152,
   "metadata": {},
   "outputs": [],
   "source": [
    "cities = ms.merge(pr).merge(price_ranking).merge(pt).\\\n",
    "            merge(abc, how='right').merge(bcg).merge(volat_cat).merge(cat_tsne).merge(city_tsne).\\\n",
    "            merge(volat_city, on=['city', 'shop_id'])"
   ]
  },
  {
   "cell_type": "code",
   "execution_count": 110,
   "metadata": {},
   "outputs": [
    {
     "data": {
      "text/plain": [
       "Index(['city', 'item_category_name', 'cnt13', 'cnt14', 'cnt15', '2013y',\n",
       "       '2014y', '2015y', 'share13', 'share14', 'share15', 'item_category_id',\n",
       "       'category', 'shop_id', 'weighted_sum', 'weighted_mean',\n",
       "       'item_cnt_day_x_h', 'item_cnt_day_x_l', 'item_cnt_day_x_m', 'share_h',\n",
       "       'share_l', 'share_m', '2013', '2014', '2015', 'abc2013', 'abc2014',\n",
       "       'abc2015', '2y cagr', 'Share 2019', 'bcg', 'intercept_x', 'trend_x',\n",
       "       'm1413_1', 'm1513_1', 'm1514_1', 'm1413_2', 'm1513_2', 'm1514_2',\n",
       "       'm1413_3', 'm1513_3', 'm1514_3', 'm1413_4', 'm1513_4', 'm1514_4',\n",
       "       'm1413_5', 'm1513_5', 'm1514_5', 'm1413_6', 'm1513_6', 'm1514_6',\n",
       "       'm1413_7', 'm1513_7', 'm1514_7', 'm1413_8', 'm1513_8', 'm1514_8',\n",
       "       'm1413_9', 'm1513_9', 'm1514_9', 'm1413_10', 'm1513_10', 'm1514_10',\n",
       "       'm1413_11', 'm1513_11', 'm1514_11', 'm1413_12', 'm1513_12', 'm1514_12',\n",
       "       'coef', 'intercept_y', 'trend_y'],\n",
       "      dtype='object')"
      ]
     },
     "execution_count": 110,
     "metadata": {},
     "output_type": "execute_result"
    }
   ],
   "source": [
    "cities.columns"
   ]
  },
  {
   "cell_type": "markdown",
   "metadata": {},
   "source": [
    "# Train model"
   ]
  },
  {
   "cell_type": "markdown",
   "metadata": {},
   "source": [
    "### Prepare data"
   ]
  },
  {
   "cell_type": "code",
   "execution_count": 4,
   "metadata": {},
   "outputs": [],
   "source": [
    "cities = pd.read_csv('ccc.csv')\n",
    "df = pd.read_csv('sales_train.csv.gz 2.csv', parse_dates = ['date'], compression='gzip')"
   ]
  },
  {
   "cell_type": "code",
   "execution_count": 5,
   "metadata": {},
   "outputs": [],
   "source": [
    "df = pd.merge(df, items, on='item_id', how='left')\n",
    "df = df.drop('item_name', axis=1)"
   ]
  },
  {
   "cell_type": "code",
   "execution_count": 7,
   "metadata": {},
   "outputs": [],
   "source": [
    "index_cols, pairs = ['shop_id', 'item_id', 'date_block_num', 'city', 'category'], []\n",
    "for block_num in df['date_block_num'].unique():\n",
    "    cur_shops = df.loc[df['date_block_num'] == block_num, 'shop_id'].unique()\n",
    "    cur_items = df.loc[df['date_block_num'] == block_num, 'item_id'].unique()\n",
    "    cur_city = df.loc[df['date_block_num'] == block_num, 'city'].unique()\n",
    "    cur_category = df.loc[df['date_block_num'] == block_num, 'category'].unique()\n",
    "    pairs.append(np.array([cur_shops, cur_items, cur_city, cur_category, [block_num]]))\n",
    "pairs = pd.DataFrame(pairs, columns = index_cols)"
   ]
  },
  {
   "cell_type": "code",
   "execution_count": 8,
   "metadata": {},
   "outputs": [],
   "source": [
    "block_stat = df.groupby(['date_block_num', 'shop_id', 'item_id']).agg({'item_cnt_day':'sum',\n",
    "                                                                       'item_price':np.mean}).reset_index()"
   ]
  },
  {
   "cell_type": "code",
   "execution_count": 9,
   "metadata": {},
   "outputs": [],
   "source": [
    "block_stat = pd.merge(pairs, block_stat,on=['date_block_num', \n",
    "                                                          'shop_id', 'item_id'],how='left').fillna(0)\n",
    "block_stat = pd.merge(block_stat, items, on='item_id', how='left')"
   ]
  },
  {
   "cell_type": "code",
   "execution_count": 10,
   "metadata": {},
   "outputs": [],
   "source": [
    "for col in ['item_id', 'shop_id', 'item_category_id']:\n",
    "    for column_id, aggregator, aggtype in [('item_price', np.mean, 'avg'), ('revenue', np.sum, 'sum'), \n",
    "                                           ('item_cnt_day', np.sum, 'sum'), ('item_cnt_day', np.mean, 'avg')]:\n",
    "        mean_df = df.groupby([col,'date_block_num']).agg(aggregator).reset_index()[\n",
    "                                                                [column_id, col, 'date_block_num']]\n",
    "        mean_df.columns = [col + '_' + aggtype + '_' + column_id,col, 'date_block_num']\n",
    "        block_stat = pd.merge(block_stat, mean_df, on=['date_block_num', col], how='left')"
   ]
  },
  {
   "cell_type": "markdown",
   "metadata": {},
   "source": [
    "### Creating time lags"
   ]
  },
  {
   "cell_type": "code",
   "execution_count": 11,
   "metadata": {},
   "outputs": [
    {
     "data": {
      "application/vnd.jupyter.widget-view+json": {
       "model_id": "9d05a49619d846aa80383a8203cce8c3",
       "version_major": 2,
       "version_minor": 0
      },
      "text/plain": [
       "HBox(children=(IntProgress(value=0, max=4), HTML(value='')))"
      ]
     },
     "metadata": {},
     "output_type": "display_data"
    },
    {
     "name": "stdout",
     "output_type": "stream",
     "text": [
      "\n"
     ]
    }
   ],
   "source": [
    "lag_variables  = list(block_stat.columns[7: ]) + ['item_cnt_day']\n",
    "from tqdm import tqdm_notebook\n",
    "for lag in tqdm_notebook([1, 2, 3]):\n",
    "    df_copy = df.copy()\n",
    "    df_copy.date_block_num += lag\n",
    "    df_copy = df_copy[['date_block_num', 'city', 'category', 'item_id', 'shop_id'] + lag_variables]\n",
    "    df_copy.columns = ['date_block_num', 'city', 'category', 'item_id', 'shop_id'] + [lag_feat + '_lag_' + str(lag)\n",
    "                                                                    for lag_feat in lag_variables]\n",
    "    block_stat = pd.merge(block_stat, df_copy,on=['date_block_num', 'city', 'category', \n",
    "                                                                                  'item_id', 'shop_id'], how='left')\n",
    "\n",
    "block_stat = block_stat[block_stat['date_block_num'] > 12]\n",
    "for feat in block_stat.columns:\n",
    "    if 'item_cnt' in feat:\n",
    "        block_stat[feat] = block_stat[feat].fillna(0)\n",
    "    elif 'item_price' in feat:\n",
    "        block_stat[feat] = block_stat[feat].fillna(block_stat[feat].median())\n",
    "cols_to_drop = lag_variables[:-1] + ['item_price', 'item_name']\n",
    "data = block_stat.drop(cols_to_drop, axis=1)"
   ]
  },
  {
   "cell_type": "code",
   "execution_count": 49,
   "metadata": {},
   "outputs": [
    {
     "data": {
      "text/plain": [
       "813"
      ]
     },
     "execution_count": 49,
     "metadata": {},
     "output_type": "execute_result"
    }
   ],
   "source": [
    "import gc\n",
    "gc.collect()"
   ]
  },
  {
   "cell_type": "markdown",
   "metadata": {},
   "source": [
    "#cities = pd.read_csv('ccc.csv')\n",
    "data = pd.read_csv('training.csv')\n",
    "data = data.merge(cities)\n",
    "del data['Unnamed: 0']"
   ]
  },
  {
   "cell_type": "markdown",
   "metadata": {},
   "source": [
    "#### Preprocess data"
   ]
  },
  {
   "cell_type": "markdown",
   "metadata": {},
   "source": [
    "#### Feature  label encoding"
   ]
  },
  {
   "cell_type": "code",
   "execution_count": 12,
   "metadata": {},
   "outputs": [],
   "source": [
    "from sklearn.preprocessing import LabelEncoder\n",
    "labelencoder = LabelEncoder()\n",
    "\n",
    "obj = data.dtypes[data.dtypes == object].index.tolist()\n",
    "data[obj] = data[obj].fillna('0')\n",
    "data = data.fillna(0)\n",
    "for i in obj:\n",
    "    data[i] = labelencoder.fit_transform(data[i]) "
   ]
  },
  {
   "cell_type": "markdown",
   "metadata": {},
   "source": [
    "### Train test split using  holdout"
   ]
  },
  {
   "cell_type": "code",
   "execution_count": 13,
   "metadata": {},
   "outputs": [],
   "source": [
    "X_train = data[data.date_block_num < 33].drop(['item_cnt_month'], axis=1)\n",
    "y_train = data[data.date_block_num < 33]['item_cnt_month']\n",
    "X_test = data[data.date_block_num == 33].drop(['item_cnt_month'], axis=1)\n",
    "y_test = data[data.date_block_num == 33]['item_cnt_month']"
   ]
  },
  {
   "cell_type": "code",
   "execution_count": 16,
   "metadata": {},
   "outputs": [
    {
     "data": {
      "text/plain": [
       "2641"
      ]
     },
     "execution_count": 16,
     "metadata": {},
     "output_type": "execute_result"
    }
   ],
   "source": [
    "import gc\n",
    "gc.collect()"
   ]
  },
  {
   "cell_type": "markdown",
   "metadata": {},
   "source": [
    "### Preparing data for linear regression"
   ]
  },
  {
   "cell_type": "code",
   "execution_count": 27,
   "metadata": {},
   "outputs": [],
   "source": [
    "from sklearn.preprocessing import StandardScaler\n",
    "scaler = StandardScaler()\n",
    "X_train_scaled = pd.DataFrame(scaler.fit_transform(X_train))\n",
    "X_train_scaled.columns = X_train.columns\n",
    "X_test_scaled = pd.DataFrame(scaler.transform(X_test))\n",
    "X_test_scaled.columns = X_test.columns"
   ]
  },
  {
   "cell_type": "markdown",
   "metadata": {},
   "source": [
    "# Modeling"
   ]
  },
  {
   "cell_type": "markdown",
   "metadata": {},
   "source": [
    "#### Tuning parametres"
   ]
  },
  {
   "cell_type": "code",
   "execution_count": 17,
   "metadata": {},
   "outputs": [
    {
     "name": "stdout",
     "output_type": "stream",
     "text": [
      "{'eval_metric': 'rmse', 'max_depth': 10, 'min_child_weight': 0.5, 'eta': 0.3, 'num_round': 1000, 'seed': 1}\n"
     ]
    }
   ],
   "source": [
    "# Optimiziing metric is RMSE\n",
    "\n",
    "from sklearn.model_selection import GridSearchCV\n",
    "\n",
    "param_test = {\n",
    "     'max_depth': range(3,10,2),\n",
    "     'min_child_weight': range(1,10,2),\n",
    "     'eta': [0.2, 0.3, 0.4],\n",
    "     'num_round': [500, 1000, 1500]\n",
    "     'seed': [1, 5]\n",
    "    } \n",
    " \n",
    "gsearch1 = GridSearchCV(estimator = xgb, param_grid = param_test1, scoring='rmse', n_jobs=-1, cv=3)\n",
    "gsearch1.fit(X_train.as_matrix(), y_train.as_matrix())\n",
    "print(gsearch1.best_params_)"
   ]
  },
  {
   "cell_type": "markdown",
   "metadata": {},
   "source": [
    "#### Xgboost"
   ]
  },
  {
   "cell_type": "code",
   "execution_count": 18,
   "metadata": {},
   "outputs": [],
   "source": [
    "import xgboost as xgb\n",
    "xgbtrain = xgb.DMatrix(X_train.values, y_train.values)\n",
    "\n",
    "param = {'eval_metric':'rmse', 'max_depth':10, 'min_child_weight':0.5, 'eta':0.3, 'num_round':1000, 'seed':1} \n",
    "bst = xgb.train(param, xgbtrain)"
   ]
  },
  {
   "cell_type": "code",
   "execution_count": 19,
   "metadata": {},
   "outputs": [],
   "source": [
    "fi = pd.DataFrame([bst.get_score()]).T"
   ]
  },
  {
   "cell_type": "code",
   "execution_count": 20,
   "metadata": {},
   "outputs": [
    {
     "data": {
      "image/png": "[encoded data removed]",
      "text/plain": [
       "<Figure size 432x288 with 1 Axes>"
      ]
     },
     "metadata": {},
     "output_type": "display_data"
    }
   ],
   "source": [
    "x=xgb.plot_importance(bst, max_num_features=20)"
   ]
  },
  {
   "cell_type": "code",
   "execution_count": 22,
   "metadata": {},
   "outputs": [],
   "source": [
    "xgbpredict = xgb.DMatrix(X_test.values)\n",
    "y_pred = bst.predict(xgbpredict)\n",
    "y_pred_train = bst.predict(xgbtrain)"
   ]
  },
  {
   "cell_type": "code",
   "execution_count": 23,
   "metadata": {},
   "outputs": [
    {
     "name": "stdout",
     "output_type": "stream",
     "text": [
      "Mean Absolute Error: 0.40264474093170244\n",
      "Mean Squared Error: 8.644816029180044\n",
      "Root Mean Squared Error: 2.9402068004104818\n"
     ]
    }
   ],
   "source": [
    "print('Mean Absolute Error:', metrics.mean_absolute_error(y_test, y_pred))  \n",
    "print('Mean Squared Error:', metrics.mean_squared_error(y_test, y_pred))  \n",
    "print('Root Mean Squared Error:', np.sqrt(metrics.mean_squared_error(y_test, y_pred)))"
   ]
  },
  {
   "cell_type": "code",
   "execution_count": 24,
   "metadata": {},
   "outputs": [
    {
     "name": "stdout",
     "output_type": "stream",
     "text": [
      "Mean Absolute Error: 0.38300736896338655\n",
      "Mean Squared Error: 2.3083120171192197\n",
      "Root Mean Squared Error: 1.5193130082768396\n"
     ]
    }
   ],
   "source": [
    "print('Mean Absolute Error:', metrics.mean_absolute_error(y_train, y_pred_train))  \n",
    "print('Mean Squared Error:', metrics.mean_squared_error(y_train, y_pred_train))  \n",
    "print('Root Mean Squared Error:', np.sqrt(metrics.mean_squared_error(y_train, y_pred_train)))"
   ]
  },
  {
   "cell_type": "markdown",
   "metadata": {},
   "source": [
    "#### Linear regression"
   ]
  },
  {
   "cell_type": "code",
   "execution_count": 29,
   "metadata": {},
   "outputs": [
    {
     "name": "stderr",
     "output_type": "stream",
     "text": [
      "/anaconda3/lib/python3.6/site-packages/sklearn/linear_model/base.py:509: RuntimeWarning: internal gelsd driver lwork query error, required iwork dimension not returned. This is likely the result of LAPACK bug 0038, fixed in LAPACK 3.2.2 (released July 21, 2010). Falling back to 'gelss' driver.\n",
      "  linalg.lstsq(X, y)\n"
     ]
    },
    {
     "data": {
      "text/plain": [
       "LinearRegression(copy_X=True, fit_intercept=True, n_jobs=1, normalize=False)"
      ]
     },
     "execution_count": 29,
     "metadata": {},
     "output_type": "execute_result"
    }
   ],
   "source": [
    "from sklearn.linear_model import LinearRegression\n",
    "regressor = LinearRegression()  \n",
    "regressor.fit(X_train_scaled, y_train)"
   ]
  },
  {
   "cell_type": "code",
   "execution_count": 30,
   "metadata": {},
   "outputs": [],
   "source": [
    "y_pred_train_ = regressor.predict(X_train_scaled)\n",
    "y_pred_ = regressor.predict(X_test_scaled)"
   ]
  },
  {
   "cell_type": "code",
   "execution_count": 31,
   "metadata": {},
   "outputs": [
    {
     "name": "stdout",
     "output_type": "stream",
     "text": [
      "Mean Absolute Error: 0.4618066106119676\n",
      "Mean Squared Error: 8.849501681995584\n",
      "Root Mean Squared Error: 2.9748112010673187\n"
     ]
    }
   ],
   "source": [
    "print('Mean Absolute Error:', metrics.mean_absolute_error(y_test, y_pred_))  \n",
    "print('Mean Squared Error:', metrics.mean_squared_error(y_test, y_pred_))  \n",
    "print('Root Mean Squared Error:', np.sqrt(metrics.mean_squared_error(y_test, y_pred_)))"
   ]
  },
  {
   "cell_type": "code",
   "execution_count": 32,
   "metadata": {},
   "outputs": [
    {
     "name": "stdout",
     "output_type": "stream",
     "text": [
      "Mean Absolute Error: 0.4606202683322037\n",
      "Mean Squared Error: 7.637308802027652\n",
      "Root Mean Squared Error: 2.7635681287110785\n"
     ]
    }
   ],
   "source": [
    "print('Mean Absolute Error:', metrics.mean_absolute_error(y_train, y_pred_train_))  \n",
    "print('Mean Squared Error:', metrics.mean_squared_error(y_train, y_pred_train_))  \n",
    "print('Root Mean Squared Error:', np.sqrt(metrics.mean_squared_error(y_train, y_pred_train_)))"
   ]
  },
  {
   "cell_type": "markdown",
   "metadata": {},
   "source": [
    "#### Save models "
   ]
  },
  {
   "cell_type": "code",
   "execution_count": 53,
   "metadata": {},
   "outputs": [],
   "source": [
    "import pickle\n",
    "file_name = \"xgb_reg.pkl\"\n",
    "pickle.dump(bst, open(file_name, \"wb\"))\n",
    "\n",
    "file_name = \"linreg.pkl\"\n",
    "pickle.dump(regressor, open(file_name, \"wb\"))\n",
    "\n",
    "file_name = \"labelencoder.pkl\"\n",
    "pickle.dump(labelencoder, open(file_name, \"wb\"))"
   ]
  },
  {
   "cell_type": "markdown",
   "metadata": {},
   "source": [
    "#### Blending"
   ]
  },
  {
   "cell_type": "code",
   "execution_count": 41,
   "metadata": {},
   "outputs": [],
   "source": [
    "yyy = (y_pred_ + y_pred) / 2"
   ]
  },
  {
   "cell_type": "code",
   "execution_count": 42,
   "metadata": {},
   "outputs": [
    {
     "name": "stdout",
     "output_type": "stream",
     "text": [
      "Mean Absolute Error: 0.41120349505248077\n",
      "Mean Squared Error: 8.187834497628097\n",
      "Root Mean Squared Error: 2.8614392353548412\n"
     ]
    }
   ],
   "source": [
    "print('Mean Absolute Error:', metrics.mean_absolute_error(y_test, yyy))  \n",
    "print('Mean Squared Error:', metrics.mean_squared_error(y_test, yyy))  \n",
    "print('Root Mean Squared Error:', np.sqrt(metrics.mean_squared_error(y_test, yyy)))"
   ]
  },
  {
   "cell_type": "markdown",
   "metadata": {},
   "source": [
    "# Preparing TEST data"
   ]
  },
  {
   "cell_type": "code",
   "execution_count": 43,
   "metadata": {},
   "outputs": [
    {
     "name": "stdout",
     "output_type": "stream",
     "text": [
      "\n"
     ]
    }
   ],
   "source": [
    "test = pd.read_csv('test.csv')\n",
    "test.head()"
   ]
  },
  {
   "cell_type": "code",
   "execution_count": 44,
   "metadata": {},
   "outputs": [
    {
     "name": "stdout",
     "output_type": "stream",
     "text": [
      "\n"
     ]
    }
   ],
   "source": [
    "test = pd.merge(test, items, on='item_id', how='left')\n",
    "for lag in tqdm_notebook(lags):\n",
    "    block_stat_new = block_stat.copy()\n",
    "    block_stat_new.date_block_num += lag\n",
    "    block_stat_new = block_stat_new[['date_block_num','shop_id','item_id'] + lag_variables]\n",
    "    block_stat_new.columns = ['date_block_num','shop_id','item_id'] + \n",
    "                            [lag_feat + '_lag_' + str(lag) for lag_feat in lag_variables]\n",
    "    test = pd.merge(test, block_stat_new, on=['date_block_num', 'shop_id','item_id'], how='left')\n",
    "\n",
    "test = test.drop(['ID', 'item_name'], axis=1)\n",
    "test = test.fillna(0)\n",
    "test[['shop_id', 'item_id'] + ['item_cnt_day_lag_' + str(x) for x in [1, 2, 3]]].head()\n",
    "test['date_block_num'] = 34\n",
    "test = test.merge(cities)\n",
    "\n",
    "for i in obj:\n",
    "    test[i] = labelencoder.transform(test[i]) "
   ]
  },
  {
   "cell_type": "markdown",
   "metadata": {},
   "source": [
    "#### prediction xgboost"
   ]
  },
  {
   "cell_type": "code",
   "execution_count": 45,
   "metadata": {},
   "outputs": [
    {
     "name": "stdout",
     "output_type": "stream",
     "text": [
      "\n"
     ]
    }
   ],
   "source": [
    "for_pred = xgb.DMatrix(test.values)\n",
    "y_pred = bst.predict(for_pred)\n",
    "y_pred = pred.clip(0, 20)"
   ]
  },
  {
   "cell_type": "markdown",
   "metadata": {},
   "source": [
    "#### prediction linear reg"
   ]
  },
  {
   "cell_type": "code",
   "execution_count": 46,
   "metadata": {},
   "outputs": [
    {
     "name": "stdout",
     "output_type": "stream",
     "text": [
      "\n"
     ]
    }
   ],
   "source": [
    "y_pred_ = regressor.predict(test)\n",
    "y_pred_ = y_pred_.clip(0, 20)"
   ]
  },
  {
   "cell_type": "markdown",
   "metadata": {},
   "source": [
    "### blending of final sub"
   ]
  },
  {
   "cell_type": "code",
   "execution_count": 47,
   "metadata": {},
   "outputs": [
    {
     "name": "stdout",
     "output_type": "stream",
     "text": [
      "\n"
     ]
    }
   ],
   "source": [
    "pred = (y_pred_ + y_pred) / 2"
   ]
  },
  {
   "cell_type": "code",
   "execution_count": 48,
   "metadata": {},
   "outputs": [
    {
     "name": "stdout",
     "output_type": "stream",
     "text": [
      "\n"
     ]
    }
   ],
   "source": [
    "sub_df = pd.DataFrame({'ID':test.index,'item_cnt_month': pred })\n",
    "sub_df.to_csv('submission.csv',index=False)"
   ]
  }
 ],
 "metadata": {
  "kernelspec": {
   "display_name": "Python 3",
   "language": "python",
   "name": "python3"
  },
  "language_info": {
   "codemirror_mode": {
    "name": "ipython",
    "version": 3
   },
   "file_extension": ".py",
   "mimetype": "text/x-python",
   "name": "python",
   "nbconvert_exporter": "python",
   "pygments_lexer": "ipython3",
   "version": "3.6.4"
  }
 },
 "nbformat": 4,
 "nbformat_minor": 2
}

{
 "cells": [
  {
   "cell_type": "code",
   "execution_count": 50,
   "metadata": {},
   "outputs": [],
   "source": [
    "%matplotlib inline\n",
    "import cv2\n",
    "import keras\n",
    "import numpy as np\n",
    "import matplotlib.pyplot as plt"
   ]
  },
  {
   "cell_type": "code",
   "execution_count": 51,
   "metadata": {},
   "outputs": [],
   "source": [
    "train = np.loadtxt('train.csv', delimiter=',', skiprows=1)\n",
    "test = np.loadtxt('test.csv', delimiter=',', skiprows=1)"
   ]
  },
  {
   "cell_type": "code",
   "execution_count": 61,
   "metadata": {},
   "outputs": [],
   "source": [
    "# сохраняем разметку в отдельную переменную\n",
    "train_label = train[:, 0]\n",
    "# приводим размерность к удобному для обаботки виду\n",
    "train_img = np.resize(train[:, 1:], (train.shape[0], 28, 28))\n",
    "test_img = np.resize(test, (test.shape[0], 28, 28))"
   ]
  },
  {
   "cell_type": "markdown",
   "metadata": {},
   "source": [
    "## Визуализируем исходные данные"
   ]
  },
  {
   "cell_type": "code",
   "execution_count": 62,
   "metadata": {
    "scrolled": true
   },
   "outputs": [
    {
     "data": {
      "image/png": "[encoded data removed]",
      "text/plain": [
       "<matplotlib.figure.Figure at 0x207041320>"
      ]
     },
     "metadata": {},
     "output_type": "display_data"
    }
   ],
   "source": [
    "fig = plt.figure(figsize=(20, 10))\n",
    "for i, img in enumerate(train_img[0:5], 1):\n",
    "    subplot = fig.add_subplot(1, 7, i)\n",
    "    plt.imshow(img, cmap='gray');\n",
    "    subplot.set_title('%s' % train_label[i - 1]);"
   ]
  },
  {
   "cell_type": "code",
   "execution_count": 77,
   "metadata": {},
   "outputs": [],
   "source": [
    "from sklearn.model_selection import train_test_split\n",
    "from sklearn.linear_model import LogisticRegression\n",
    "from sklearn.preprocessing import StandardScaler\n",
    "from sklearn.metrics import classification_report, accuracy_score\n",
    "from sklearn.metrics import confusion_matrix\n",
    "\n",
    "y_train, y_val, x_train, x_val = train_test_split(\n",
    "    train_label, train_img, test_size=0.1,\n",
    "    random_state=420)"
   ]
  },
  {
   "cell_type": "code",
   "execution_count": 78,
   "metadata": {},
   "outputs": [],
   "source": [
    "X = x_train.reshape(-1, 28 * 28).astype(np.float32)\n",
    "X_mean = X.mean(axis=0)\n",
    "X -= X_mean\n",
    "cov = np.dot(X.T, X) / X.shape[0]\n",
    "U, S, _ = np.linalg.svd(cov)\n",
    "S_cumsum = np.cumsum(S) / np.sum(S)"
   ]
  },
  {
   "cell_type": "code",
   "execution_count": 79,
   "metadata": {},
   "outputs": [],
   "source": [
    "S_thr = 0.8\n",
    "n_comp = np.argmax(np.where(S_cumsum > S_thr, 1, 0))\n",
    "X_train_reduced = np.dot(X, U[:, :n_comp])"
   ]
  },
  {
   "cell_type": "code",
   "execution_count": 80,
   "metadata": {},
   "outputs": [],
   "source": [
    "X = x_val.reshape(-1, 28 * 28).astype(np.float32)\n",
    "X_mean = X.mean(axis=0)\n",
    "X_val_reduced = np.dot(X, U[:, :n_comp])"
   ]
  },
  {
   "cell_type": "code",
   "execution_count": 81,
   "metadata": {},
   "outputs": [
    {
     "name": "stdout",
     "output_type": "stream",
     "text": [
      "(37800, 42)\n",
      "(4200, 42)\n"
     ]
    }
   ],
   "source": [
    "print(X_train_reduced.shape)\n",
    "print(X_val_reduced.shape)"
   ]
  },
  {
   "cell_type": "code",
   "execution_count": 82,
   "metadata": {},
   "outputs": [
    {
     "name": "stdout",
     "output_type": "stream",
     "text": [
      "Accuracy: 0.58\n",
      "             precision    recall  f1-score   support\n",
      "\n",
      "        0.0       0.97      0.92      0.94       412\n",
      "        1.0       1.00      0.00      0.00       474\n",
      "        2.0       0.88      0.77      0.82       418\n",
      "        3.0       0.84      0.82      0.83       422\n",
      "        4.0       0.98      0.42      0.59       392\n",
      "        5.0       0.97      0.18      0.31       419\n",
      "        6.0       0.99      0.70      0.82       385\n",
      "        7.0       0.99      0.49      0.65       455\n",
      "        8.0       0.21      0.99      0.34       402\n",
      "        9.0       0.74      0.61      0.67       421\n",
      "\n",
      "avg / total       0.86      0.58      0.59      4200\n",
      "\n",
      "[[380   0   0   1   2   1   0   0  28   0]\n",
      " [  0   1   3   6   0   0   0   0 464   0]\n",
      " [  1   0 321   8   1   0   2   3  81   1]\n",
      " [  0   0   8 346   0   0   0   0  68   0]\n",
      " [  0   0   5   2 166   0   0   0 196  23]\n",
      " [  1   0   2  30   0  76   2   0 302   6]\n",
      " [  3   0   5   2   1   1 268   0 105   0]\n",
      " [  6   0  16  11   0   0   0 223 140  59]\n",
      " [  0   0   1   1   0   0   0   0 398   2]\n",
      " [  2   0   4   7   0   0   0   0 151 257]]\n"
     ]
    }
   ],
   "source": [
    "clf = LogisticRegression()\n",
    "\n",
    "scl = StandardScaler()\n",
    "\n",
    "clf.fit(scl.fit_transform(X_train_reduced), y_train)\n",
    "pred_val = clf.predict(scl.transform(X_val_reduced))\n",
    "\n",
    "print('Accuracy: %s' % accuracy_score(y_val, pred_val))\n",
    "\n",
    "print(classification_report(y_val, pred_val))\n",
    "\n",
    "print(confusion_matrix(y_val, pred_val))"
   ]
  },
  {
   "cell_type": "code",
   "execution_count": 83,
   "metadata": {},
   "outputs": [
    {
     "data": {
      "image/png": "[encoded data removed]",
      "text/plain": [
       "<matplotlib.figure.Figure at 0x13f052198>"
      ]
     },
     "metadata": {},
     "output_type": "display_data"
    }
   ],
   "source": [
    "X = test_img.reshape(-1, 28 * 28).astype(np.float32)\n",
    "X_mean = X.mean(axis=0)\n",
    "X_test_reduced = np.dot(X, U[:, :n_comp])\n",
    "pred_test = clf.predict(scl.transform(X_test_reduced))\n",
    "\n",
    "fig = plt.figure(figsize=(20, 10))\n",
    "for i, img in enumerate(test_img[0:5], 1):\n",
    "    subplot = fig.add_subplot(1, 7, i)\n",
    "    plt.imshow(img, cmap='gray');\n",
    "    subplot.set_title('%s' % pred_test[i - 1]);\n",
    "    \n",
    "with open('submit1.txt', 'w') as dst:\n",
    "    dst.write('ImageId,Label\\n')\n",
    "    for i, p in enumerate(pred_test, 1):\n",
    "        dst.write('%s,%s\\n' % (i, int(p)))"
   ]
  },
  {
   "cell_type": "code",
   "execution_count": null,
   "metadata": {},
   "outputs": [],
   "source": []
  },
  {
   "cell_type": "code",
   "execution_count": null,
   "metadata": {},
   "outputs": [],
   "source": []
  },
  {
   "cell_type": "markdown",
   "metadata": {},
   "source": [
    "# C базовым случайным лесом предсказание вышло лучше"
   ]
  },
  {
   "cell_type": "code",
   "execution_count": 84,
   "metadata": {},
   "outputs": [],
   "source": [
    "from sklearn.ensemble import RandomForestClassifier"
   ]
  },
  {
   "cell_type": "code",
   "execution_count": 85,
   "metadata": {},
   "outputs": [],
   "source": [
    "clf = RandomForestClassifier()"
   ]
  },
  {
   "cell_type": "code",
   "execution_count": 86,
   "metadata": {},
   "outputs": [
    {
     "name": "stdout",
     "output_type": "stream",
     "text": [
      "Accuracy: 0.6504761904761904\n",
      "             precision    recall  f1-score   support\n",
      "\n",
      "        0.0       0.71      0.68      0.70       412\n",
      "        1.0       0.92      0.29      0.44       474\n",
      "        2.0       0.64      0.70      0.67       418\n",
      "        3.0       0.63      0.83      0.72       422\n",
      "        4.0       0.86      0.57      0.68       392\n",
      "        5.0       0.72      0.53      0.61       419\n",
      "        6.0       0.91      0.65      0.76       385\n",
      "        7.0       0.74      0.70      0.72       455\n",
      "        8.0       0.40      0.89      0.55       402\n",
      "        9.0       0.65      0.71      0.68       421\n",
      "\n",
      "avg / total       0.72      0.65      0.65      4200\n",
      "\n",
      "[[282   0  38  17   0  18   7   5  40   5]\n",
      " [  1 139  23  50   0   8   0  12 234   7]\n",
      " [ 18   1 291  39   2   3   5  12  43   4]\n",
      " [  5   1  16 351   2  14   0   7  24   2]\n",
      " [ 12   1   7   7 223   5   3  16  33  85]\n",
      " [ 17   1  21  46   2 221   2   7  90  12]\n",
      " [ 38   5  14  12   9  22 251   3  28   3]\n",
      " [ 15   2  24  14   5   1   4 319  31  40]\n",
      " [  5   0   5  13   1  11   3   4 358   2]\n",
      " [  5   1  17   9  16   4   0  48  24 297]]\n"
     ]
    }
   ],
   "source": [
    "clf.fit(scl.fit_transform(X_train_reduced), y_train)\n",
    "pred_val = clf.predict(scl.transform(X_val_reduced))\n",
    "\n",
    "print('Accuracy: %s' % accuracy_score(y_val, pred_val))\n",
    "\n",
    "print(classification_report(y_val, pred_val))\n",
    "\n",
    "print(confusion_matrix(y_val, pred_val))"
   ]
  },
  {
   "cell_type": "code",
   "execution_count": 87,
   "metadata": {},
   "outputs": [
    {
     "data": {
      "image/png": "[encoded data removed]",
      "text/plain": [
       "<matplotlib.figure.Figure at 0x141148a90>"
      ]
     },
     "metadata": {},
     "output_type": "display_data"
    }
   ],
   "source": [
    "X = test_img.reshape(-1, 28 * 28).astype(np.float32)\n",
    "X_mean = X.mean(axis=0)\n",
    "X_test_reduced = np.dot(X, U[:, :n_comp])\n",
    "pred_test = clf.predict(scl.transform(X_test_reduced))\n",
    "\n",
    "fig = plt.figure(figsize=(20, 10))\n",
    "for i, img in enumerate(test_img[0:5], 1):\n",
    "    subplot = fig.add_subplot(1, 7, i)\n",
    "    plt.imshow(img, cmap='gray');\n",
    "    subplot.set_title('%s' % pred_test[i - 1]);\n",
    "    \n",
    "with open('submit1.txt', 'w') as dst:\n",
    "    dst.write('ImageId,Label\\n')\n",
    "    for i, p in enumerate(pred_test, 1):\n",
    "        dst.write('%s,%s\\n' % (i, int(p)))"
   ]
  },
  {
   "cell_type": "code",
   "execution_count": null,
   "metadata": {},
   "outputs": [],
   "source": []
  }
 ],
 "metadata": {
  "kernelspec": {
   "display_name": "Python 3",
   "language": "python",
   "name": "python3"
  },
  "language_info": {
   "codemirror_mode": {
    "name": "ipython",
    "version": 3
   },
   "file_extension": ".py",
   "mimetype": "text/x-python",
   "name": "python",
   "nbconvert_exporter": "python",
   "pygments_lexer": "ipython3",
   "version": "3.6.4"
  }
 },
 "nbformat": 4,
 "nbformat_minor": 2
}

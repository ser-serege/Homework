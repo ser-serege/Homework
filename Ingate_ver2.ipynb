{
 "cells": [
  {
   "cell_type": "code",
   "execution_count": 1,
   "metadata": {},
   "outputs": [],
   "source": [
    "import pandas as pd\n",
    "import numpy as np\n",
    "import warnings\n",
    "warnings.filterwarnings(\"ignore\")\n",
    "from sklearn.model_selection import cross_val_score, KFold\n",
    "from sklearn.metrics import mean_squared_error\n",
    "from sklearn import linear_model\n",
    "from sklearn.linear_model import Lasso\n",
    "from sklearn.model_selection import train_test_split"
   ]
  },
  {
   "cell_type": "markdown",
   "metadata": {},
   "source": [
    "Задача: предполагается что есть зависимость отношения числа показов в блоках Premium (над результатами поиска) и Other (под результатами поиска) в зависимости от нашей ставки Bid и цен конкурентов p11,p12,p13,p21,p22,p23,p24, но это не точно. Нужно эту зависимость найти, либо обосновать ее отсутствие."
   ]
  },
  {
   "cell_type": "code",
   "execution_count": 2,
   "metadata": {},
   "outputs": [],
   "source": [
    "data=pd.read_csv('ShowsAndPrices.csv', delimiter=';' ,error_bad_lines=False)"
   ]
  },
  {
   "cell_type": "code",
   "execution_count": 3,
   "metadata": {},
   "outputs": [],
   "source": [
    "# Переведем все значения в числовой формат\n",
    "for i in data.columns:\n",
    "    try:\n",
    "        data[i]=data[i].astype(str)\n",
    "        data[i] = [x.replace(',', '.') for x in data[i]]\n",
    "        data[i]=data[i].astype(float)\n",
    "    except:\n",
    "        next\n",
    "# В Bid tcmn незначительное количество пропусков. Просто уберем их\n",
    "data=data[data['Bid'] >0 ]"
   ]
  },
  {
   "cell_type": "code",
   "execution_count": 4,
   "metadata": {},
   "outputs": [],
   "source": [
    "data['agg']=data['p11']*data['p12']*data['p13']*data['p21']*data['p22']*data['p23']*data['p24']\n",
    "data['mean']=(data['p11']+data['p12']+data['p13']+data['p21']+data['p22']+data['p23']+data['p24'])/7\n",
    "y = data['Premium'] / (data['Premium'] + data['Other'])\n",
    "nd=np.log(data)\n",
    "y=np.log(y)\n",
    "del nd['Premium']\n",
    "del nd['Other']"
   ]
  },
  {
   "cell_type": "code",
   "execution_count": 5,
   "metadata": {},
   "outputs": [],
   "source": [
    "X_train, X_test, y_train, y_test = train_test_split(nd, y, test_size=0.30, random_state=42)"
   ]
  },
  {
   "cell_type": "code",
   "execution_count": 6,
   "metadata": {},
   "outputs": [
    {
     "name": "stdout",
     "output_type": "stream",
     "text": [
      "cross_val_score [0.1003014  0.09830538 0.09385849]\n",
      "mean_squared_error 0.27046857543329234\n"
     ]
    },
    {
     "data": {
      "text/html": [
       "<div>\n",
       "<style scoped>\n",
       "    .dataframe tbody tr th:only-of-type {\n",
       "        vertical-align: middle;\n",
       "    }\n",
       "\n",
       "    .dataframe tbody tr th {\n",
       "        vertical-align: top;\n",
       "    }\n",
       "\n",
       "    .dataframe thead th {\n",
       "        text-align: right;\n",
       "    }\n",
       "</style>\n",
       "<table border=\"1\" class=\"dataframe\">\n",
       "  <thead>\n",
       "    <tr style=\"text-align: right;\">\n",
       "      <th></th>\n",
       "      <th>name</th>\n",
       "      <th>coef</th>\n",
       "    </tr>\n",
       "  </thead>\n",
       "  <tbody>\n",
       "    <tr>\n",
       "      <th>1</th>\n",
       "      <td>p11</td>\n",
       "      <td>5.129685e+10</td>\n",
       "    </tr>\n",
       "    <tr>\n",
       "      <th>2</th>\n",
       "      <td>p12</td>\n",
       "      <td>5.129685e+10</td>\n",
       "    </tr>\n",
       "    <tr>\n",
       "      <th>7</th>\n",
       "      <td>p24</td>\n",
       "      <td>5.129685e+10</td>\n",
       "    </tr>\n",
       "    <tr>\n",
       "      <th>3</th>\n",
       "      <td>p13</td>\n",
       "      <td>5.129685e+10</td>\n",
       "    </tr>\n",
       "    <tr>\n",
       "      <th>5</th>\n",
       "      <td>p22</td>\n",
       "      <td>5.129685e+10</td>\n",
       "    </tr>\n",
       "    <tr>\n",
       "      <th>6</th>\n",
       "      <td>p23</td>\n",
       "      <td>5.129685e+10</td>\n",
       "    </tr>\n",
       "    <tr>\n",
       "      <th>4</th>\n",
       "      <td>p21</td>\n",
       "      <td>5.129685e+10</td>\n",
       "    </tr>\n",
       "    <tr>\n",
       "      <th>0</th>\n",
       "      <td>Bid</td>\n",
       "      <td>1.860096e-01</td>\n",
       "    </tr>\n",
       "    <tr>\n",
       "      <th>9</th>\n",
       "      <td>mean</td>\n",
       "      <td>-1.726561e-01</td>\n",
       "    </tr>\n",
       "    <tr>\n",
       "      <th>8</th>\n",
       "      <td>agg</td>\n",
       "      <td>-5.129685e+10</td>\n",
       "    </tr>\n",
       "  </tbody>\n",
       "</table>\n",
       "</div>"
      ],
      "text/plain": [
       "   name          coef\n",
       "1   p11  5.129685e+10\n",
       "2   p12  5.129685e+10\n",
       "7   p24  5.129685e+10\n",
       "3   p13  5.129685e+10\n",
       "5   p22  5.129685e+10\n",
       "6   p23  5.129685e+10\n",
       "4   p21  5.129685e+10\n",
       "0   Bid  1.860096e-01\n",
       "9  mean -1.726561e-01\n",
       "8   agg -5.129685e+10"
      ]
     },
     "execution_count": 6,
     "metadata": {},
     "output_type": "execute_result"
    }
   ],
   "source": [
    "# обучимся\n",
    "model = linear_model.LinearRegression()\n",
    "model.fit(X_train, y_train)\n",
    "# Предскажем\n",
    "y_pred=model.predict(X_test)\n",
    "print('cross_val_score', cross_val_score(model, X_train, y_train))\n",
    "print('mean_squared_error' , mean_squared_error(y_test, y_pred))\n",
    "# Посмотрим на коэфициенты регрессии\n",
    "coefs=pd.DataFrame(columns=['name','coef'])\n",
    "coefs['coef'], coefs['name'] = list(model.coef_), X_train.columns\n",
    "coefs.sort_values(by='coef' , ascending=False )"
   ]
  },
  {
   "cell_type": "markdown",
   "metadata": {},
   "source": [
    "### Видна зависимость фичей от таргета, но уравнение регрессии получается некрасивое, поэтому предложим модели самой отобрать важные фичи"
   ]
  },
  {
   "cell_type": "code",
   "execution_count": 7,
   "metadata": {
    "scrolled": true
   },
   "outputs": [
    {
     "name": "stdout",
     "output_type": "stream",
     "text": [
      "cross_val_score [0.09988439 0.09762704 0.09329511]\n",
      "mean_squared_error 0.270576482746287\n"
     ]
    },
    {
     "data": {
      "text/html": [
       "<div>\n",
       "<style scoped>\n",
       "    .dataframe tbody tr th:only-of-type {\n",
       "        vertical-align: middle;\n",
       "    }\n",
       "\n",
       "    .dataframe tbody tr th {\n",
       "        vertical-align: top;\n",
       "    }\n",
       "\n",
       "    .dataframe thead th {\n",
       "        text-align: right;\n",
       "    }\n",
       "</style>\n",
       "<table border=\"1\" class=\"dataframe\">\n",
       "  <thead>\n",
       "    <tr style=\"text-align: right;\">\n",
       "      <th></th>\n",
       "      <th>name</th>\n",
       "      <th>coef</th>\n",
       "    </tr>\n",
       "  </thead>\n",
       "  <tbody>\n",
       "    <tr>\n",
       "      <th>0</th>\n",
       "      <td>Bid</td>\n",
       "      <td>0.182538</td>\n",
       "    </tr>\n",
       "    <tr>\n",
       "      <th>2</th>\n",
       "      <td>p12</td>\n",
       "      <td>0.030147</td>\n",
       "    </tr>\n",
       "    <tr>\n",
       "      <th>7</th>\n",
       "      <td>p24</td>\n",
       "      <td>0.024187</td>\n",
       "    </tr>\n",
       "    <tr>\n",
       "      <th>1</th>\n",
       "      <td>p11</td>\n",
       "      <td>0.016930</td>\n",
       "    </tr>\n",
       "    <tr>\n",
       "      <th>8</th>\n",
       "      <td>agg</td>\n",
       "      <td>0.008730</td>\n",
       "    </tr>\n",
       "    <tr>\n",
       "      <th>3</th>\n",
       "      <td>p13</td>\n",
       "      <td>0.000000</td>\n",
       "    </tr>\n",
       "    <tr>\n",
       "      <th>6</th>\n",
       "      <td>p23</td>\n",
       "      <td>-0.000000</td>\n",
       "    </tr>\n",
       "    <tr>\n",
       "      <th>5</th>\n",
       "      <td>p22</td>\n",
       "      <td>-0.012856</td>\n",
       "    </tr>\n",
       "    <tr>\n",
       "      <th>9</th>\n",
       "      <td>mean</td>\n",
       "      <td>-0.089750</td>\n",
       "    </tr>\n",
       "    <tr>\n",
       "      <th>4</th>\n",
       "      <td>p21</td>\n",
       "      <td>-0.175884</td>\n",
       "    </tr>\n",
       "  </tbody>\n",
       "</table>\n",
       "</div>"
      ],
      "text/plain": [
       "   name      coef\n",
       "0   Bid  0.182538\n",
       "2   p12  0.030147\n",
       "7   p24  0.024187\n",
       "1   p11  0.016930\n",
       "8   agg  0.008730\n",
       "3   p13  0.000000\n",
       "6   p23 -0.000000\n",
       "5   p22 -0.012856\n",
       "9  mean -0.089750\n",
       "4   p21 -0.175884"
      ]
     },
     "execution_count": 7,
     "metadata": {},
     "output_type": "execute_result"
    }
   ],
   "source": [
    "clf = Lasso(alpha=0.001)\n",
    "clf.fit(X_train, y_train)\n",
    "y_pred=clf.predict(X_test)\n",
    "print('cross_val_score',cross_val_score(clf, X_train, y_train))\n",
    "print('mean_squared_error' ,mean_squared_error(y_test, y_pred))\n",
    "\n",
    "coefs=pd.DataFrame(columns=['name','coef'])\n",
    "coefs['coef'], coefs['name'] = list(clf.coef_), X_train.columns\n",
    "coefs.sort_values(by='coef' , ascending=False )"
   ]
  },
  {
   "cell_type": "markdown",
   "metadata": {},
   "source": [
    "### Уберем фичи, которые модель посчитала лишними."
   ]
  },
  {
   "cell_type": "code",
   "execution_count": 8,
   "metadata": {},
   "outputs": [],
   "source": [
    "del nd['p11']\n",
    "del nd['p24']"
   ]
  },
  {
   "cell_type": "markdown",
   "metadata": {},
   "source": [
    "#### Повторим"
   ]
  },
  {
   "cell_type": "code",
   "execution_count": 9,
   "metadata": {},
   "outputs": [],
   "source": [
    "X_train, X_test, y_train, y_test = train_test_split(nd, y, test_size=0.30, random_state=42)"
   ]
  },
  {
   "cell_type": "code",
   "execution_count": 10,
   "metadata": {
    "scrolled": true
   },
   "outputs": [
    {
     "name": "stdout",
     "output_type": "stream",
     "text": [
      "cross_val_score [0.10024153 0.09828324 0.0938094 ]\n",
      "mean_squared_error 0.27048641172670185\n"
     ]
    },
    {
     "data": {
      "text/html": [
       "<div>\n",
       "<style scoped>\n",
       "    .dataframe tbody tr th:only-of-type {\n",
       "        vertical-align: middle;\n",
       "    }\n",
       "\n",
       "    .dataframe tbody tr th {\n",
       "        vertical-align: top;\n",
       "    }\n",
       "\n",
       "    .dataframe thead th {\n",
       "        text-align: right;\n",
       "    }\n",
       "</style>\n",
       "<table border=\"1\" class=\"dataframe\">\n",
       "  <thead>\n",
       "    <tr style=\"text-align: right;\">\n",
       "      <th></th>\n",
       "      <th>name</th>\n",
       "      <th>coef</th>\n",
       "    </tr>\n",
       "  </thead>\n",
       "  <tbody>\n",
       "    <tr>\n",
       "      <th>0</th>\n",
       "      <td>Bid</td>\n",
       "      <td>0.185608</td>\n",
       "    </tr>\n",
       "    <tr>\n",
       "      <th>6</th>\n",
       "      <td>agg</td>\n",
       "      <td>0.049778</td>\n",
       "    </tr>\n",
       "    <tr>\n",
       "      <th>1</th>\n",
       "      <td>p12</td>\n",
       "      <td>0.000678</td>\n",
       "    </tr>\n",
       "    <tr>\n",
       "      <th>2</th>\n",
       "      <td>p13</td>\n",
       "      <td>-0.010624</td>\n",
       "    </tr>\n",
       "    <tr>\n",
       "      <th>4</th>\n",
       "      <td>p22</td>\n",
       "      <td>-0.045839</td>\n",
       "    </tr>\n",
       "    <tr>\n",
       "      <th>5</th>\n",
       "      <td>p23</td>\n",
       "      <td>-0.056300</td>\n",
       "    </tr>\n",
       "    <tr>\n",
       "      <th>7</th>\n",
       "      <td>mean</td>\n",
       "      <td>-0.150342</td>\n",
       "    </tr>\n",
       "    <tr>\n",
       "      <th>3</th>\n",
       "      <td>p21</td>\n",
       "      <td>-0.236044</td>\n",
       "    </tr>\n",
       "  </tbody>\n",
       "</table>\n",
       "</div>"
      ],
      "text/plain": [
       "   name      coef\n",
       "0   Bid  0.185608\n",
       "6   agg  0.049778\n",
       "1   p12  0.000678\n",
       "2   p13 -0.010624\n",
       "4   p22 -0.045839\n",
       "5   p23 -0.056300\n",
       "7  mean -0.150342\n",
       "3   p21 -0.236044"
      ]
     },
     "execution_count": 10,
     "metadata": {},
     "output_type": "execute_result"
    }
   ],
   "source": [
    "model = linear_model.LinearRegression()\n",
    "model.fit(X_train, y_train)\n",
    "\n",
    "y_pred=model.predict(X_test)\n",
    "print('cross_val_score', cross_val_score(model, X_train, y_train))\n",
    "print('mean_squared_error' , mean_squared_error(y_test, y_pred))\n",
    "\n",
    "coefs=pd.DataFrame(columns=['name','coef'])\n",
    "coefs['coef'], coefs['name'] = list(model.coef_), X_train.columns\n",
    "coefs.sort_values(by='coef' , ascending=False )"
   ]
  },
  {
   "cell_type": "markdown",
   "metadata": {},
   "source": [
    "### Проверим все ли фичи остались важны"
   ]
  },
  {
   "cell_type": "code",
   "execution_count": 11,
   "metadata": {
    "scrolled": true
   },
   "outputs": [
    {
     "name": "stdout",
     "output_type": "stream",
     "text": [
      "cross_val_score [0.09990344 0.09743729 0.09314349]\n",
      "mean_squared_error 0.27057971094631544\n"
     ]
    },
    {
     "data": {
      "text/html": [
       "<div>\n",
       "<style scoped>\n",
       "    .dataframe tbody tr th:only-of-type {\n",
       "        vertical-align: middle;\n",
       "    }\n",
       "\n",
       "    .dataframe tbody tr th {\n",
       "        vertical-align: top;\n",
       "    }\n",
       "\n",
       "    .dataframe thead th {\n",
       "        text-align: right;\n",
       "    }\n",
       "</style>\n",
       "<table border=\"1\" class=\"dataframe\">\n",
       "  <thead>\n",
       "    <tr style=\"text-align: right;\">\n",
       "      <th></th>\n",
       "      <th>name</th>\n",
       "      <th>coef</th>\n",
       "    </tr>\n",
       "  </thead>\n",
       "  <tbody>\n",
       "    <tr>\n",
       "      <th>0</th>\n",
       "      <td>Bid</td>\n",
       "      <td>0.182383</td>\n",
       "    </tr>\n",
       "    <tr>\n",
       "      <th>6</th>\n",
       "      <td>agg</td>\n",
       "      <td>0.022872</td>\n",
       "    </tr>\n",
       "    <tr>\n",
       "      <th>1</th>\n",
       "      <td>p12</td>\n",
       "      <td>0.010402</td>\n",
       "    </tr>\n",
       "    <tr>\n",
       "      <th>2</th>\n",
       "      <td>p13</td>\n",
       "      <td>0.000000</td>\n",
       "    </tr>\n",
       "    <tr>\n",
       "      <th>5</th>\n",
       "      <td>p23</td>\n",
       "      <td>-0.001253</td>\n",
       "    </tr>\n",
       "    <tr>\n",
       "      <th>4</th>\n",
       "      <td>p22</td>\n",
       "      <td>-0.030637</td>\n",
       "    </tr>\n",
       "    <tr>\n",
       "      <th>7</th>\n",
       "      <td>mean</td>\n",
       "      <td>-0.084777</td>\n",
       "    </tr>\n",
       "    <tr>\n",
       "      <th>3</th>\n",
       "      <td>p21</td>\n",
       "      <td>-0.200040</td>\n",
       "    </tr>\n",
       "  </tbody>\n",
       "</table>\n",
       "</div>"
      ],
      "text/plain": [
       "   name      coef\n",
       "0   Bid  0.182383\n",
       "6   agg  0.022872\n",
       "1   p12  0.010402\n",
       "2   p13  0.000000\n",
       "5   p23 -0.001253\n",
       "4   p22 -0.030637\n",
       "7  mean -0.084777\n",
       "3   p21 -0.200040"
      ]
     },
     "execution_count": 11,
     "metadata": {},
     "output_type": "execute_result"
    }
   ],
   "source": [
    "clf = Lasso(alpha=0.001)\n",
    "clf.fit(X_train, y_train)\n",
    "y_pred=clf.predict(X_test)\n",
    "print('cross_val_score',cross_val_score(clf, X_train, y_train))\n",
    "print('mean_squared_error' ,mean_squared_error(y_test, y_pred))\n",
    "\n",
    "coefs=pd.DataFrame(columns=['name','coef'])\n",
    "coefs['coef'], coefs['name'] = list(clf.coef_), X_train.columns\n",
    "coefs.sort_values(by='coef' , ascending=False )"
   ]
  },
  {
   "cell_type": "markdown",
   "metadata": {},
   "source": [
    "### Удалим лишнюю фичу и повторим"
   ]
  },
  {
   "cell_type": "code",
   "execution_count": 12,
   "metadata": {},
   "outputs": [],
   "source": [
    "del nd['p13']\n",
    "X_train, X_test, y_train, y_test = train_test_split(nd, y, test_size=0.30, random_state=42)"
   ]
  },
  {
   "cell_type": "code",
   "execution_count": 13,
   "metadata": {},
   "outputs": [
    {
     "name": "stdout",
     "output_type": "stream",
     "text": [
      "cross_val_score [0.10025664 0.09826356 0.09380412]\n",
      "mean_squared_error 0.2704805438987709\n"
     ]
    },
    {
     "data": {
      "text/html": [
       "<div>\n",
       "<style scoped>\n",
       "    .dataframe tbody tr th:only-of-type {\n",
       "        vertical-align: middle;\n",
       "    }\n",
       "\n",
       "    .dataframe tbody tr th {\n",
       "        vertical-align: top;\n",
       "    }\n",
       "\n",
       "    .dataframe thead th {\n",
       "        text-align: right;\n",
       "    }\n",
       "</style>\n",
       "<table border=\"1\" class=\"dataframe\">\n",
       "  <thead>\n",
       "    <tr style=\"text-align: right;\">\n",
       "      <th></th>\n",
       "      <th>name</th>\n",
       "      <th>coef</th>\n",
       "    </tr>\n",
       "  </thead>\n",
       "  <tbody>\n",
       "    <tr>\n",
       "      <th>0</th>\n",
       "      <td>Bid</td>\n",
       "      <td>0.185589</td>\n",
       "    </tr>\n",
       "    <tr>\n",
       "      <th>5</th>\n",
       "      <td>agg</td>\n",
       "      <td>0.048489</td>\n",
       "    </tr>\n",
       "    <tr>\n",
       "      <th>1</th>\n",
       "      <td>p12</td>\n",
       "      <td>-0.001499</td>\n",
       "    </tr>\n",
       "    <tr>\n",
       "      <th>3</th>\n",
       "      <td>p22</td>\n",
       "      <td>-0.044938</td>\n",
       "    </tr>\n",
       "    <tr>\n",
       "      <th>4</th>\n",
       "      <td>p23</td>\n",
       "      <td>-0.053692</td>\n",
       "    </tr>\n",
       "    <tr>\n",
       "      <th>6</th>\n",
       "      <td>mean</td>\n",
       "      <td>-0.148200</td>\n",
       "    </tr>\n",
       "    <tr>\n",
       "      <th>2</th>\n",
       "      <td>p21</td>\n",
       "      <td>-0.241223</td>\n",
       "    </tr>\n",
       "  </tbody>\n",
       "</table>\n",
       "</div>"
      ],
      "text/plain": [
       "   name      coef\n",
       "0   Bid  0.185589\n",
       "5   agg  0.048489\n",
       "1   p12 -0.001499\n",
       "3   p22 -0.044938\n",
       "4   p23 -0.053692\n",
       "6  mean -0.148200\n",
       "2   p21 -0.241223"
      ]
     },
     "execution_count": 13,
     "metadata": {},
     "output_type": "execute_result"
    }
   ],
   "source": [
    "model = linear_model.LinearRegression()\n",
    "model.fit(X_train, y_train)\n",
    "\n",
    "y_pred=model.predict(X_test)\n",
    "print('cross_val_score', cross_val_score(model, X_train, y_train))\n",
    "print('mean_squared_error' , mean_squared_error(y_test, y_pred))\n",
    "\n",
    "coefs=pd.DataFrame(columns=['name','coef'])\n",
    "coefs['coef'], coefs['name'] = list(model.coef_), X_train.columns\n",
    "coefs.sort_values(by='coef' , ascending=False )"
   ]
  },
  {
   "cell_type": "code",
   "execution_count": 14,
   "metadata": {},
   "outputs": [
    {
     "name": "stdout",
     "output_type": "stream",
     "text": [
      "cross_val_score [0.09990299 0.09743729 0.09314349]\n",
      "mean_squared_error 0.27057971487245314\n",
      "Intercept -0.3983220754686642\n"
     ]
    }
   ],
   "source": [
    "clf = Lasso(alpha=0.001)\n",
    "clf.fit(X_train, y_train)\n",
    "y_pred=clf.predict(X_test)\n",
    "print('cross_val_score',cross_val_score(clf, X_train, y_train))\n",
    "print('mean_squared_error' ,mean_squared_error(y_test, y_pred))\n",
    "\n",
    "coefs=pd.DataFrame(columns=['name','coef'])\n",
    "coefs['coef'], coefs['name'] = list(clf.coef_), X_train.columns\n",
    "coefs.sort_values(by='coef' , ascending=False )\n",
    "print('Intercept', model.intercept_)"
   ]
  },
  {
   "cell_type": "markdown",
   "metadata": {},
   "source": [
    "Таким образом, все неважные фичи удалены. При дальнейших корректировках возрастает среднеквадратичная ошибка.\n",
    "Будем считать, что найдено оптимальное уравнение регресии.\n",
    "Наиболее влияющие коэфициенты: ставка Bid (0.182), p21 (-0.199) и mean (-0.084)\n",
    "Финальная модель будет выглядеть следующим образом \n"
   ]
  },
  {
   "cell_type": "code",
   "execution_count": null,
   "metadata": {},
   "outputs": [],
   "source": [
    "target = -0.398 + 0.182 * data['bid'] - 0.199*data['p21'] - 0.084*data['mean'] + \\\n",
    "0.0223*data['agg'] + 0.011*p12 - 0.030*data['p22']"
   ]
  },
  {
   "cell_type": "markdown",
   "metadata": {},
   "source": [
    "Для упрощения модели и небольшой потере в качесве (0.06%) но ускорении времени обучения в дальнейшем уберем все кореллирующие признаки и (или признаки с ннзкими коэфициентами). Построим регрессию"
   ]
  },
  {
   "cell_type": "code",
   "execution_count": 15,
   "metadata": {},
   "outputs": [],
   "source": [
    "del nd['p12']\n",
    "del nd['agg']\n",
    "del nd['p22']\n",
    "del nd['p23']\n",
    "del nd['mean']\n",
    "X_train, X_test, y_train, y_test = train_test_split(nd, y, test_size=0.30, random_state=42)"
   ]
  },
  {
   "cell_type": "code",
   "execution_count": 16,
   "metadata": {},
   "outputs": [
    {
     "name": "stdout",
     "output_type": "stream",
     "text": [
      "cross_val_score [0.09441036 0.09231992 0.08780369]\n",
      "mean_squared_error 0.2722267462262108\n",
      "Intercept -0.41338064438160355\n"
     ]
    }
   ],
   "source": [
    "model = linear_model.LinearRegression()\n",
    "model.fit(X_train, y_train)\n",
    "\n",
    "y_pred=model.predict(X_test)\n",
    "print('cross_val_score', cross_val_score(model, X_train, y_train))\n",
    "print('mean_squared_error' , mean_squared_error(y_test, y_pred))\n",
    "\n",
    "coefs=pd.DataFrame(columns=['name','coef'])\n",
    "coefs['coef'], coefs['name'] = list(model.coef_), X_train.columns\n",
    "coefs.sort_values(by='coef' , ascending=False )\n",
    "print('Intercept', model.intercept_)"
   ]
  },
  {
   "cell_type": "code",
   "execution_count": null,
   "metadata": {},
   "outputs": [],
   "source": [
    "Тогда уравнение будет вида\n",
    "target = -0.41 + 0.178*data['Bid'] -0.141*data['p21']"
   ]
  },
  {
   "cell_type": "code",
   "execution_count": null,
   "metadata": {},
   "outputs": [],
   "source": []
  }
 ],
 "metadata": {
  "kernelspec": {
   "display_name": "Python 3",
   "language": "python",
   "name": "python3"
  },
  "language_info": {
   "codemirror_mode": {
    "name": "ipython",
    "version": 3
   },
   "file_extension": ".py",
   "mimetype": "text/x-python",
   "name": "python",
   "nbconvert_exporter": "python",
   "pygments_lexer": "ipython3",
   "version": "3.6.4"
  }
 },
 "nbformat": 4,
 "nbformat_minor": 2
}

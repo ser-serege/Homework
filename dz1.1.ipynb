{
 "cells": [
  {
   "cell_type": "code",
   "execution_count": 690,
   "metadata": {
    "raw_mimetype": "text/x-python"
   },
   "outputs": [
    {
     "name": "stdout",
     "output_type": "stream",
     "text": [
      "['starlife', 8, 'world', 5, 'latest', 6, 'incidents', 9, 'politics', 8, 'business', 8, 'moscow_city', 11, 'head', 4, 'politics', 8, 'world', 5, 'science', 7, 'video', 5, 'world', 5, 'science', 7, 'sport', 5, 'middleeast', 10, 'economics', 9, 'politics', 8, 'travel', 6, 'politics', 8, 'video', 5, 'starlife', 8, 'health', 6, 'science', 7, 'cis', 3, 'incidents', 9, 'politics', 8, 'world', 5, 'politics', 8, 'world', 5, 'politics', 8, 'middleeast', 10, 'sport', 5, 'crazy-world', 11, 'crazy-world', 11, 'incidents', 9, 'video', 5, 'auto', 4, 'health', 6, 'scitech', 7, 'business', 8, 'video', 5, 'lifestyle', 9, 'head', 4, 'latest', 6, 'head', 4, 'cis', 3, 'video', 5, 'video', 5, 'incidents', 9, 'video', 5, 'business', 8, 'articles', 8, 'science', 7, 'world', 5, 'science', 7, 'politics', 8, 'cis', 3, 'starlife', 8, 'finances', 8, 'starlife', 8, 'starlife', 8, 'starlife', 8, 'politics', 8, 'articles', 8, 'articles', 8, 'starlife', 8, 'starlife', 8, 'business', 8, 'world', 5, 'starlife', 8, 'europe', 6, 'middleeast', 10, 'video', 5, 'articles', 8, 'business', 8, 'politics', 8, 'kinomusic', 9, 'starlife', 8, 'lifestyle', 9, 'articles', 8, 'politics', 8, 'economics', 9, 'incidents', 9, 'starlife', 8, 'sport', 5, 'articles', 8, 'video', 5, 'world', 5, 'articles', 8, 'starlife', 8, 'economics', 9, 'starlife', 8, 'cis', 3, 'video', 5, 'science', 7, 'incidents', 9, 'world', 5]\n"
     ]
    }
   ],
   "source": [
    "import pandas as pd\n",
    "import re\n",
    "pattern = '/.*/'\n",
    "prog = re.compile( pattern )\n",
    "\n",
    "def table(data):\n",
    "    datatable = {}\n",
    "    for i in data:\n",
    "        if i in datatable:\n",
    "            datatable[i] += 1\n",
    "        else:\n",
    "            datatable[i] = 1\n",
    "    return datatable\n",
    "\n",
    "\n",
    "Ds = open('URLs.txt', 'r')\n",
    "a = []\n",
    "for raw in Ds:\n",
    "    if prog.match(raw) :\n",
    "        line_name = raw.split('/')[1]\n",
    "        tab = table(line_name)\n",
    "        summ_po_temam = sum(tab.values())\n",
    "        a += (line_name, int(summ_po_temam))\n",
    "print(a)"
   ]
  },
  {
   "cell_type": "code",
   "execution_count": 691,
   "metadata": {
    "scrolled": true
   },
   "outputs": [],
   "source": [
    "quantity = [ x for x in a if type(x) == int]\n",
    "quality = [ y for y in a  if type(y) == str ]"
   ]
  },
  {
   "cell_type": "code",
   "execution_count": 692,
   "metadata": {},
   "outputs": [
    {
     "name": "stdout",
     "output_type": "stream",
     "text": [
      "{'starlife': 8, 'world': 5, 'latest': 6, 'incidents': 9, 'politics': 8, 'business': 8, 'moscow_city': 11, 'head': 4, 'science': 7, 'video': 5, 'sport': 5, 'middleeast': 10, 'economics': 9, 'travel': 6, 'health': 6, 'cis': 3, 'crazy-world': 11, 'auto': 4, 'scitech': 7, 'lifestyle': 9, 'articles': 8, 'finances': 8, 'europe': 6, 'kinomusic': 9}\n"
     ]
    }
   ],
   "source": [
    "categoriesDict = dict( zip(quality, quantity) )\n",
    "print( categoriesDict )"
   ]
  },
  {
   "cell_type": "code",
   "execution_count": 693,
   "metadata": {},
   "outputs": [],
   "source": [
    "datadict = {\n",
    "    'Название': quality,\n",
    "    'Количество': quantity\n",
    "}\n",
    "hello = pd.DataFrame.from_dict(datadict)"
   ]
  },
  {
   "cell_type": "code",
   "execution_count": 694,
   "metadata": {},
   "outputs": [],
   "source": [
    "yo = hello.groupby( 'Название' ).mean()"
   ]
  },
  {
   "cell_type": "code",
   "execution_count": 695,
   "metadata": {},
   "outputs": [
    {
     "data": {
      "text/html": [
       "<div>\n",
       "<style scoped>\n",
       "    .dataframe tbody tr th:only-of-type {\n",
       "        vertical-align: middle;\n",
       "    }\n",
       "\n",
       "    .dataframe tbody tr th {\n",
       "        vertical-align: top;\n",
       "    }\n",
       "\n",
       "    .dataframe thead th {\n",
       "        text-align: right;\n",
       "    }\n",
       "</style>\n",
       "<table border=\"1\" class=\"dataframe\">\n",
       "  <thead>\n",
       "    <tr style=\"text-align: right;\">\n",
       "      <th></th>\n",
       "      <th>Название</th>\n",
       "      <th>Количество</th>\n",
       "    </tr>\n",
       "  </thead>\n",
       "  <tbody>\n",
       "    <tr>\n",
       "      <th>0</th>\n",
       "      <td>moscow_city</td>\n",
       "      <td>11</td>\n",
       "    </tr>\n",
       "    <tr>\n",
       "      <th>1</th>\n",
       "      <td>crazy-world</td>\n",
       "      <td>11</td>\n",
       "    </tr>\n",
       "    <tr>\n",
       "      <th>2</th>\n",
       "      <td>middleeast</td>\n",
       "      <td>10</td>\n",
       "    </tr>\n",
       "    <tr>\n",
       "      <th>3</th>\n",
       "      <td>economics</td>\n",
       "      <td>9</td>\n",
       "    </tr>\n",
       "    <tr>\n",
       "      <th>4</th>\n",
       "      <td>incidents</td>\n",
       "      <td>9</td>\n",
       "    </tr>\n",
       "    <tr>\n",
       "      <th>5</th>\n",
       "      <td>kinomusic</td>\n",
       "      <td>9</td>\n",
       "    </tr>\n",
       "    <tr>\n",
       "      <th>6</th>\n",
       "      <td>lifestyle</td>\n",
       "      <td>9</td>\n",
       "    </tr>\n",
       "    <tr>\n",
       "      <th>7</th>\n",
       "      <td>articles</td>\n",
       "      <td>8</td>\n",
       "    </tr>\n",
       "    <tr>\n",
       "      <th>8</th>\n",
       "      <td>business</td>\n",
       "      <td>8</td>\n",
       "    </tr>\n",
       "    <tr>\n",
       "      <th>9</th>\n",
       "      <td>starlife</td>\n",
       "      <td>8</td>\n",
       "    </tr>\n",
       "    <tr>\n",
       "      <th>10</th>\n",
       "      <td>finances</td>\n",
       "      <td>8</td>\n",
       "    </tr>\n",
       "    <tr>\n",
       "      <th>11</th>\n",
       "      <td>politics</td>\n",
       "      <td>8</td>\n",
       "    </tr>\n",
       "    <tr>\n",
       "      <th>12</th>\n",
       "      <td>scitech</td>\n",
       "      <td>7</td>\n",
       "    </tr>\n",
       "    <tr>\n",
       "      <th>13</th>\n",
       "      <td>science</td>\n",
       "      <td>7</td>\n",
       "    </tr>\n",
       "    <tr>\n",
       "      <th>14</th>\n",
       "      <td>travel</td>\n",
       "      <td>6</td>\n",
       "    </tr>\n",
       "    <tr>\n",
       "      <th>15</th>\n",
       "      <td>latest</td>\n",
       "      <td>6</td>\n",
       "    </tr>\n",
       "    <tr>\n",
       "      <th>16</th>\n",
       "      <td>health</td>\n",
       "      <td>6</td>\n",
       "    </tr>\n",
       "    <tr>\n",
       "      <th>17</th>\n",
       "      <td>europe</td>\n",
       "      <td>6</td>\n",
       "    </tr>\n",
       "    <tr>\n",
       "      <th>18</th>\n",
       "      <td>sport</td>\n",
       "      <td>5</td>\n",
       "    </tr>\n",
       "    <tr>\n",
       "      <th>19</th>\n",
       "      <td>video</td>\n",
       "      <td>5</td>\n",
       "    </tr>\n",
       "    <tr>\n",
       "      <th>20</th>\n",
       "      <td>world</td>\n",
       "      <td>5</td>\n",
       "    </tr>\n",
       "    <tr>\n",
       "      <th>21</th>\n",
       "      <td>auto</td>\n",
       "      <td>4</td>\n",
       "    </tr>\n",
       "    <tr>\n",
       "      <th>22</th>\n",
       "      <td>head</td>\n",
       "      <td>4</td>\n",
       "    </tr>\n",
       "    <tr>\n",
       "      <th>23</th>\n",
       "      <td>cis</td>\n",
       "      <td>3</td>\n",
       "    </tr>\n",
       "  </tbody>\n",
       "</table>\n",
       "</div>"
      ],
      "text/plain": [
       "       Название  Количество\n",
       "0   moscow_city          11\n",
       "1   crazy-world          11\n",
       "2    middleeast          10\n",
       "3     economics           9\n",
       "4     incidents           9\n",
       "5     kinomusic           9\n",
       "6     lifestyle           9\n",
       "7      articles           8\n",
       "8      business           8\n",
       "9      starlife           8\n",
       "10     finances           8\n",
       "11     politics           8\n",
       "12      scitech           7\n",
       "13      science           7\n",
       "14       travel           6\n",
       "15       latest           6\n",
       "16       health           6\n",
       "17       europe           6\n",
       "18        sport           5\n",
       "19        video           5\n",
       "20        world           5\n",
       "21         auto           4\n",
       "22         head           4\n",
       "23          cis           3"
      ]
     },
     "execution_count": 695,
     "metadata": {},
     "output_type": "execute_result"
    }
   ],
   "source": [
    "yo.sort_values(by = 'Количество', ascending = False ).reset_index()"
   ]
  },
  {
   "cell_type": "code",
   "execution_count": null,
   "metadata": {},
   "outputs": [],
   "source": []
  }
 ],
 "metadata": {
  "celltoolbar": "Raw Cell Format",
  "kernelspec": {
   "display_name": "Python 3",
   "language": "python",
   "name": "python3"
  },
  "language_info": {
   "codemirror_mode": {
    "name": "ipython",
    "version": 3
   },
   "file_extension": ".py",
   "mimetype": "text/x-python",
   "name": "python",
   "nbconvert_exporter": "python",
   "pygments_lexer": "ipython3",
   "version": "3.6.4"
  }
 },
 "nbformat": 4,
 "nbformat_minor": 2
}
